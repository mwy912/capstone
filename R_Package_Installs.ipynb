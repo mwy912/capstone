{
 "cells": [
  {
   "cell_type": "raw",
   "id": "administrative-share",
   "metadata": {},
   "source": [
    "Installing R packages"
   ]
  },
  {
   "cell_type": "code",
   "execution_count": 1,
   "id": "known-torture",
   "metadata": {},
   "outputs": [
    {
     "name": "stderr",
     "output_type": "stream",
     "text": [
      "Installing package into ‘/Users/mwy/Library/R/4.0/library’\n",
      "(as ‘lib’ is unspecified)\n",
      "\n",
      "also installing the dependencies ‘generics’, ‘blob’, ‘DBI’, ‘tidyselect’, ‘vctrs’, ‘cellranger’, ‘broom’, ‘dbplyr’, ‘dplyr’, ‘forcats’, ‘haven’, ‘lubridate’, ‘modelr’, ‘readr’, ‘readxl’, ‘reprex’, ‘tidyr’\n",
      "\n",
      "\n"
     ]
    },
    {
     "name": "stdout",
     "output_type": "stream",
     "text": [
      "\n",
      "The downloaded binary packages are in\n",
      "\t/var/folders/h5/kr39x19d7qq0zt0p7796y40w0000gn/T//RtmpBLE3X1/downloaded_packages\n"
     ]
    }
   ],
   "source": [
    "install.packages(\"tidyverse\")"
   ]
  },
  {
   "cell_type": "code",
   "execution_count": 4,
   "id": "martial-springfield",
   "metadata": {},
   "outputs": [
    {
     "name": "stderr",
     "output_type": "stream",
     "text": [
      "Installing packages into ‘/Users/mwy/Library/R/4.0/library’\n",
      "(as ‘lib’ is unspecified)\n",
      "\n",
      "Warning message:\n",
      "“package ‘libwgeom’ is not available for this version of R\n",
      "\n",
      "A version of this package for your version of R might be available elsewhere,\n",
      "see the ideas at\n",
      "https://cran.r-project.org/doc/manuals/r-patched/R-admin.html#Installing-packages”\n",
      "also installing the dependencies ‘proxy’, ‘rgdal’, ‘rjson’, ‘prettymapr’, ‘e1071’, ‘jpeg’, ‘jqr’, ‘googlePolylines’, ‘rosm’, ‘abind’, ‘classInt’, ‘units’\n",
      "\n",
      "\n"
     ]
    },
    {
     "name": "stdout",
     "output_type": "stream",
     "text": [
      "\n",
      "The downloaded binary packages are in\n",
      "\t/var/folders/h5/kr39x19d7qq0zt0p7796y40w0000gn/T//RtmpBLE3X1/downloaded_packages\n"
     ]
    }
   ],
   "source": [
    "install.packages(c(\"cowplot\",\n",
    "                   \"googleway\",\n",
    "                   \"ggplot2\", \n",
    "                   \"ggrepel\", \n",
    "                   \"ggspatial\", \n",
    "                   \"libwgeom\", \n",
    "                   \"sf\", \n",
    "                   \"rnaturalearth\", \n",
    "                   \"rnaturalearthdata\"))"
   ]
  },
  {
   "cell_type": "code",
   "execution_count": 6,
   "id": "legitimate-charleston",
   "metadata": {},
   "outputs": [
    {
     "name": "stderr",
     "output_type": "stream",
     "text": [
      "Installing package into ‘/Users/mwy/Library/R/4.0/library’\n",
      "(as ‘lib’ is unspecified)\n",
      "\n"
     ]
    },
    {
     "name": "stdout",
     "output_type": "stream",
     "text": [
      "\n",
      "The downloaded binary packages are in\n",
      "\t/var/folders/h5/kr39x19d7qq0zt0p7796y40w0000gn/T//RtmpBLE3X1/downloaded_packages\n"
     ]
    }
   ],
   "source": [
    "install.packages('sp')"
   ]
  },
  {
   "cell_type": "code",
   "execution_count": 7,
   "id": "numerical-detroit",
   "metadata": {},
   "outputs": [
    {
     "name": "stderr",
     "output_type": "stream",
     "text": [
      "Installing package into ‘/Users/mwy/Library/R/4.0/library’\n",
      "(as ‘lib’ is unspecified)\n",
      "\n"
     ]
    },
    {
     "name": "stdout",
     "output_type": "stream",
     "text": [
      "\n",
      "The downloaded binary packages are in\n",
      "\t/var/folders/h5/kr39x19d7qq0zt0p7796y40w0000gn/T//RtmpBLE3X1/downloaded_packages\n"
     ]
    }
   ],
   "source": [
    "install.packages('rgeos')"
   ]
  },
  {
   "cell_type": "code",
   "execution_count": null,
   "id": "outdoor-milan",
   "metadata": {},
   "outputs": [],
   "source": []
  }
 ],
 "metadata": {
  "kernelspec": {
   "display_name": "R",
   "language": "R",
   "name": "ir"
  },
  "language_info": {
   "codemirror_mode": "r",
   "file_extension": ".r",
   "mimetype": "text/x-r-source",
   "name": "R",
   "pygments_lexer": "r",
   "version": "4.0.4"
  }
 },
 "nbformat": 4,
 "nbformat_minor": 5
}
