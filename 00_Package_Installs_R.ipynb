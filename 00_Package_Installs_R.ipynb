{
 "cells": [
  {
   "cell_type": "markdown",
   "id": "86e941af",
   "metadata": {},
   "source": [
    "## Installing R packages"
   ]
  },
  {
   "cell_type": "code",
   "execution_count": 1,
   "id": "known-torture",
   "metadata": {
    "scrolled": true
   },
   "outputs": [
    {
     "name": "stderr",
     "output_type": "stream",
     "text": [
      "Installing package into ‘/Volumes/Marble/Users/mwy/Library/R/4.0/library’\n",
      "(as ‘lib’ is unspecified)\n",
      "\n",
      "also installing the dependencies ‘data.table’, ‘ids’, ‘broom’, ‘cli’, ‘dbplyr’, ‘dtplyr’, ‘googledrive’, ‘googlesheets4’, ‘hms’, ‘magrittr’, ‘pillar’, ‘reprex’, ‘rstudioapi’, ‘tibble’\n",
      "\n",
      "\n"
     ]
    },
    {
     "name": "stdout",
     "output_type": "stream",
     "text": [
      "\n",
      "  There is a binary version available but the source version is later:\n",
      "          binary source needs_compilation\n",
      "tidyverse  1.3.0  1.3.1             FALSE\n",
      "\n",
      "\n",
      "The downloaded binary packages are in\n",
      "\t/var/folders/h5/kr39x19d7qq0zt0p7796y40w0000gn/T//RtmpgIGdkg/downloaded_packages\n"
     ]
    },
    {
     "name": "stderr",
     "output_type": "stream",
     "text": [
      "installing the source package ‘tidyverse’\n",
      "\n",
      "\n"
     ]
    }
   ],
   "source": [
    "install.packages(\"tidyverse\")"
   ]
  },
  {
   "cell_type": "code",
   "execution_count": 2,
   "id": "martial-springfield",
   "metadata": {},
   "outputs": [
    {
     "name": "stderr",
     "output_type": "stream",
     "text": [
      "Installing packages into ‘/Volumes/Marble/Users/mwy/Library/R/4.0/library’\n",
      "(as ‘lib’ is unspecified)\n",
      "\n",
      "Warning message:\n",
      "“package ‘libwgeom’ is not available for this version of R\n",
      "\n",
      "A version of this package for your version of R might be available elsewhere,\n",
      "see the ideas at\n",
      "https://cran.r-project.org/doc/manuals/r-patched/R-admin.html#Installing-packages”\n"
     ]
    },
    {
     "name": "stdout",
     "output_type": "stream",
     "text": [
      "\n",
      "The downloaded binary packages are in\n",
      "\t/var/folders/h5/kr39x19d7qq0zt0p7796y40w0000gn/T//RtmpgIGdkg/downloaded_packages\n"
     ]
    }
   ],
   "source": [
    "install.packages(c(\"cowplot\",\n",
    "                   \"googleway\",\n",
    "                   \"ggplot2\", \n",
    "                   \"ggrepel\", \n",
    "                   \"ggspatial\", \n",
    "                   \"libwgeom\", \n",
    "                   \"sf\", \n",
    "                   \"rnaturalearth\", \n",
    "                   \"rnaturalearthdata\"))"
   ]
  },
  {
   "cell_type": "code",
   "execution_count": 3,
   "id": "legitimate-charleston",
   "metadata": {},
   "outputs": [
    {
     "name": "stderr",
     "output_type": "stream",
     "text": [
      "Installing package into ‘/Volumes/Marble/Users/mwy/Library/R/4.0/library’\n",
      "(as ‘lib’ is unspecified)\n",
      "\n"
     ]
    },
    {
     "name": "stdout",
     "output_type": "stream",
     "text": [
      "\n",
      "The downloaded binary packages are in\n",
      "\t/var/folders/h5/kr39x19d7qq0zt0p7796y40w0000gn/T//RtmpgIGdkg/downloaded_packages\n"
     ]
    }
   ],
   "source": [
    "install.packages('sp')"
   ]
  },
  {
   "cell_type": "code",
   "execution_count": 4,
   "id": "numerical-detroit",
   "metadata": {},
   "outputs": [
    {
     "name": "stderr",
     "output_type": "stream",
     "text": [
      "Installing package into ‘/Volumes/Marble/Users/mwy/Library/R/4.0/library’\n",
      "(as ‘lib’ is unspecified)\n",
      "\n"
     ]
    },
    {
     "name": "stdout",
     "output_type": "stream",
     "text": [
      "\n",
      "The downloaded binary packages are in\n",
      "\t/var/folders/h5/kr39x19d7qq0zt0p7796y40w0000gn/T//RtmpgIGdkg/downloaded_packages\n"
     ]
    }
   ],
   "source": [
    "install.packages('rgeos')"
   ]
  },
  {
   "cell_type": "code",
   "execution_count": 5,
   "id": "outdoor-milan",
   "metadata": {},
   "outputs": [
    {
     "name": "stderr",
     "output_type": "stream",
     "text": [
      "Installing package into ‘/Volumes/Marble/Users/mwy/Library/R/4.0/library’\n",
      "(as ‘lib’ is unspecified)\n",
      "\n"
     ]
    },
    {
     "name": "stdout",
     "output_type": "stream",
     "text": [
      "\n",
      "The downloaded binary packages are in\n",
      "\t/var/folders/h5/kr39x19d7qq0zt0p7796y40w0000gn/T//RtmpgIGdkg/downloaded_packages\n"
     ]
    }
   ],
   "source": [
    "install.packages('rsvg')"
   ]
  },
  {
   "cell_type": "code",
   "execution_count": 3,
   "id": "incoming-church",
   "metadata": {},
   "outputs": [
    {
     "name": "stderr",
     "output_type": "stream",
     "text": [
      "Installing package into ‘/Volumes/Marble/Users/mwy/Library/R/4.0/library’\n",
      "(as ‘lib’ is unspecified)\n",
      "\n",
      "also installing the dependencies ‘gtools’, ‘gdata’, ‘spData’, ‘deldir’, ‘LearnBayes’, ‘coda’, ‘expm’, ‘gmodels’\n",
      "\n",
      "\n"
     ]
    },
    {
     "name": "stdout",
     "output_type": "stream",
     "text": [
      "\n",
      "The downloaded binary packages are in\n",
      "\t/var/folders/h5/kr39x19d7qq0zt0p7796y40w0000gn/T//RtmpD8SWm2/downloaded_packages\n"
     ]
    }
   ],
   "source": [
    "install.packages('spdep')"
   ]
  },
  {
   "cell_type": "code",
   "execution_count": 1,
   "id": "b0c12d3f",
   "metadata": {},
   "outputs": [
    {
     "name": "stderr",
     "output_type": "stream",
     "text": [
      "Installing package into ‘/Volumes/Marble/Users/mwy/Library/R/4.0/library’\n",
      "(as ‘lib’ is unspecified)\n",
      "\n",
      "also installing the dependencies ‘triebeard’, ‘geometries’, ‘jsonify’, ‘rapidjsonr’, ‘sfheaders’, ‘urltools’, ‘httpcode’, ‘protolite’, ‘geojsonsf’, ‘crul’, ‘maptools’, ‘V8’, ‘geojson’\n",
      "\n",
      "\n"
     ]
    },
    {
     "name": "stdout",
     "output_type": "stream",
     "text": [
      "\n",
      "The downloaded binary packages are in\n",
      "\t/var/folders/h5/kr39x19d7qq0zt0p7796y40w0000gn/T//RtmpRX6NZp/downloaded_packages\n"
     ]
    }
   ],
   "source": [
    "install.packages('geojsonio')"
   ]
  },
  {
   "cell_type": "code",
   "execution_count": 1,
   "id": "cc355dad",
   "metadata": {},
   "outputs": [
    {
     "name": "stderr",
     "output_type": "stream",
     "text": [
      "Installing package into ‘/Volumes/Marble/Users/mwy/Library/R/4.0/library’\n",
      "(as ‘lib’ is unspecified)\n",
      "\n"
     ]
    },
    {
     "name": "stdout",
     "output_type": "stream",
     "text": [
      "\n",
      "The downloaded binary packages are in\n",
      "\t/var/folders/h5/kr39x19d7qq0zt0p7796y40w0000gn/T//RtmpLpdpZF/downloaded_packages\n"
     ]
    }
   ],
   "source": [
    "install.packages(\"FNN\")"
   ]
  },
  {
   "cell_type": "code",
   "execution_count": 1,
   "id": "e90b9299",
   "metadata": {},
   "outputs": [
    {
     "name": "stderr",
     "output_type": "stream",
     "text": [
      "Installing package into ‘/Volumes/Marble/Users/mwy/Library/R/4.0/library’\n",
      "(as ‘lib’ is unspecified)\n",
      "\n",
      "also installing the dependencies ‘lwgeom’, ‘dichromat’, ‘XML’, ‘tmaptools’, ‘stars’, ‘widgetframe’, ‘leafsync’, ‘colourvalues’, ‘GenSA’, ‘geohashTools’, ‘leafem’, ‘leafgl’, ‘RcppProgress’, ‘tmap’\n",
      "\n",
      "\n"
     ]
    },
    {
     "name": "stdout",
     "output_type": "stream",
     "text": [
      "\n",
      "The downloaded binary packages are in\n",
      "\t/var/folders/h5/kr39x19d7qq0zt0p7796y40w0000gn/T//Rtmp955bKL/downloaded_packages\n"
     ]
    }
   ],
   "source": [
    "install.packages(\"spatialrisk\")"
   ]
  },
  {
   "cell_type": "code",
   "execution_count": 1,
   "id": "83e111b1",
   "metadata": {},
   "outputs": [
    {
     "name": "stderr",
     "output_type": "stream",
     "text": [
      "Installing package into ‘/Volumes/Marble/Users/mwy/Library/R/4.0/library’\n",
      "(as ‘lib’ is unspecified)\n",
      "\n",
      "also installing the dependencies ‘norm’, ‘visdat’, ‘UpSetR’\n",
      "\n",
      "\n"
     ]
    },
    {
     "name": "stdout",
     "output_type": "stream",
     "text": [
      "\n",
      "The downloaded binary packages are in\n",
      "\t/var/folders/h5/kr39x19d7qq0zt0p7796y40w0000gn/T//RtmpN4SwY4/downloaded_packages\n"
     ]
    }
   ],
   "source": [
    "install.packages(\"naniar\")"
   ]
  },
  {
   "cell_type": "code",
   "execution_count": 1,
   "id": "8dd5e884",
   "metadata": {},
   "outputs": [
    {
     "name": "stderr",
     "output_type": "stream",
     "text": [
      "Installing package into ‘/Volumes/Marble/Users/mwy/Library/R/4.0/library’\n",
      "(as ‘lib’ is unspecified)\n",
      "\n"
     ]
    },
    {
     "name": "stdout",
     "output_type": "stream",
     "text": [
      "\n",
      "The downloaded binary packages are in\n",
      "\t/var/folders/h5/kr39x19d7qq0zt0p7796y40w0000gn/T//RtmpPG3Lsa/downloaded_packages\n"
     ]
    }
   ],
   "source": [
    "install.packages(\"randomForest\")"
   ]
  },
  {
   "cell_type": "code",
   "execution_count": 3,
   "id": "6fc767e1",
   "metadata": {},
   "outputs": [
    {
     "name": "stderr",
     "output_type": "stream",
     "text": [
      "Installing package into ‘/Volumes/Marble/Users/mwy/Library/R/4.0/library’\n",
      "(as ‘lib’ is unspecified)\n",
      "\n",
      "also installing the dependency ‘bitops’\n",
      "\n",
      "\n"
     ]
    },
    {
     "name": "stdout",
     "output_type": "stream",
     "text": [
      "\n",
      "The downloaded binary packages are in\n",
      "\t/var/folders/h5/kr39x19d7qq0zt0p7796y40w0000gn/T//RtmpPG3Lsa/downloaded_packages\n"
     ]
    }
   ],
   "source": [
    "install.packages(\"caTools\")"
   ]
  },
  {
   "cell_type": "code",
   "execution_count": 1,
   "id": "feae81fd",
   "metadata": {},
   "outputs": [
    {
     "name": "stderr",
     "output_type": "stream",
     "text": [
      "Installing package into ‘/Volumes/Marble/Users/mwy/Library/R/4.0/library’\n",
      "(as ‘lib’ is unspecified)\n",
      "\n",
      "also installing the dependencies ‘xts’, ‘intervals’, ‘zoo’, ‘spacetime’\n",
      "\n",
      "\n"
     ]
    },
    {
     "name": "stdout",
     "output_type": "stream",
     "text": [
      "\n",
      "The downloaded binary packages are in\n",
      "\t/var/folders/h5/kr39x19d7qq0zt0p7796y40w0000gn/T//Rtmp7YaKNj/downloaded_packages\n"
     ]
    }
   ],
   "source": [
    "install.packages(\"gstat\")"
   ]
  },
  {
   "cell_type": "code",
   "execution_count": 2,
   "id": "0e58bb10",
   "metadata": {},
   "outputs": [
    {
     "name": "stderr",
     "output_type": "stream",
     "text": [
      "Installing packages into ‘/Volumes/Marble/Users/mwy/Library/R/4.0/library’\n",
      "(as ‘lib’ is unspecified)\n",
      "\n"
     ]
    },
    {
     "name": "stdout",
     "output_type": "stream",
     "text": [
      "\n",
      "The downloaded binary packages are in\n",
      "\t/var/folders/h5/kr39x19d7qq0zt0p7796y40w0000gn/T//Rtmp7YaKNj/downloaded_packages\n"
     ]
    }
   ],
   "source": [
    "install.packages(c('sp','spdep','rgeos','maptools','RColorBrewer','classInt','raster'))"
   ]
  },
  {
   "cell_type": "code",
   "execution_count": 4,
   "id": "46ae714d",
   "metadata": {},
   "outputs": [
    {
     "name": "stderr",
     "output_type": "stream",
     "text": [
      "Installing packages into ‘/Volumes/Marble/Users/mwy/Library/R/4.0/library’\n",
      "(as ‘lib’ is unspecified)\n",
      "\n"
     ]
    },
    {
     "name": "stdout",
     "output_type": "stream",
     "text": [
      "\n",
      "The downloaded binary packages are in\n",
      "\t/var/folders/h5/kr39x19d7qq0zt0p7796y40w0000gn/T//Rtmp7YaKNj/downloaded_packages\n"
     ]
    }
   ],
   "source": [
    "install.packages(c(\"rnaturalearth\", \"rnaturalearthdata\"))"
   ]
  },
  {
   "cell_type": "code",
   "execution_count": 6,
   "id": "a4737da5",
   "metadata": {},
   "outputs": [
    {
     "name": "stderr",
     "output_type": "stream",
     "text": [
      "Installing package into ‘/Volumes/Marble/Users/mwy/Library/R/4.0/library’\n",
      "(as ‘lib’ is unspecified)\n",
      "\n",
      "also installing the dependencies ‘minqa’, ‘numDeriv’, ‘mitools’\n",
      "\n",
      "\n"
     ]
    },
    {
     "name": "stdout",
     "output_type": "stream",
     "text": [
      "\n",
      "The downloaded binary packages are in\n",
      "\t/var/folders/h5/kr39x19d7qq0zt0p7796y40w0000gn/T//Rtmp7YaKNj/downloaded_packages\n"
     ]
    }
   ],
   "source": [
    "install.packages('survey')"
   ]
  },
  {
   "cell_type": "code",
   "execution_count": 7,
   "id": "87876faf",
   "metadata": {},
   "outputs": [
    {
     "name": "stderr",
     "output_type": "stream",
     "text": [
      "Installing package into ‘/Volumes/Marble/Users/mwy/Library/R/4.0/library’\n",
      "(as ‘lib’ is unspecified)\n",
      "\n",
      "also installing the dependencies ‘estimability’, ‘mvtnorm’, ‘nloptr’, ‘RcppEigen’, ‘bayestestR’, ‘effectsize’, ‘emmeans’, ‘insight’, ‘lme4’, ‘parameters’, ‘performance’, ‘sjlabelled’, ‘sjmisc’\n",
      "\n",
      "\n"
     ]
    },
    {
     "name": "stdout",
     "output_type": "stream",
     "text": [
      "\n",
      "The downloaded binary packages are in\n",
      "\t/var/folders/h5/kr39x19d7qq0zt0p7796y40w0000gn/T//Rtmp7YaKNj/downloaded_packages\n"
     ]
    }
   ],
   "source": [
    "install.packages('sjstats')"
   ]
  },
  {
   "cell_type": "code",
   "execution_count": 9,
   "id": "4eb7f8f2",
   "metadata": {},
   "outputs": [
    {
     "name": "stderr",
     "output_type": "stream",
     "text": [
      "Installing package into ‘/Volumes/Marble/Users/mwy/Library/R/4.0/library’\n",
      "(as ‘lib’ is unspecified)\n",
      "\n"
     ]
    },
    {
     "name": "stdout",
     "output_type": "stream",
     "text": [
      "\n",
      "The downloaded binary packages are in\n",
      "\t/var/folders/h5/kr39x19d7qq0zt0p7796y40w0000gn/T//Rtmp7YaKNj/downloaded_packages\n"
     ]
    }
   ],
   "source": [
    "install.packages('pricesensitivitymeter')\n"
   ]
  },
  {
   "cell_type": "code",
   "execution_count": null,
   "id": "bb855c9f",
   "metadata": {},
   "outputs": [],
   "source": []
  }
 ],
 "metadata": {
  "kernelspec": {
   "display_name": "R",
   "language": "R",
   "name": "ir"
  },
  "language_info": {
   "codemirror_mode": "r",
   "file_extension": ".r",
   "mimetype": "text/x-r-source",
   "name": "R",
   "pygments_lexer": "r",
   "version": "4.0.4"
  }
 },
 "nbformat": 4,
 "nbformat_minor": 5
}
