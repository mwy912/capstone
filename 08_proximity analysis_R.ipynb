{
 "cells": [
  {
   "cell_type": "code",
   "execution_count": 1,
   "id": "a53d385d",
   "metadata": {},
   "outputs": [
    {
     "name": "stderr",
     "output_type": "stream",
     "text": [
      "Registered S3 method overwritten by 'geojsonsf':\n",
      "  method        from   \n",
      "  print.geojson geojson\n",
      "\n",
      "\n",
      "Attaching package: ‘geojsonio’\n",
      "\n",
      "\n",
      "The following object is masked from ‘package:base’:\n",
      "\n",
      "    pretty\n",
      "\n",
      "\n",
      "\n",
      "Attaching package: ‘dplyr’\n",
      "\n",
      "\n",
      "The following objects are masked from ‘package:rgeos’:\n",
      "\n",
      "    intersect, setdiff, union\n",
      "\n",
      "\n",
      "The following objects are masked from ‘package:raster’:\n",
      "\n",
      "    intersect, select, union\n",
      "\n",
      "\n",
      "The following objects are masked from ‘package:stats’:\n",
      "\n",
      "    filter, lag\n",
      "\n",
      "\n",
      "The following objects are masked from ‘package:base’:\n",
      "\n",
      "    intersect, setdiff, setequal, union\n",
      "\n",
      "\n"
     ]
    }
   ],
   "source": [
    "## Load relevant R packages.\n",
    "\n",
    "inLibraries = list('repr','spdep','raster','rgdal','rgeos')\n",
    "for (rpack in inLibraries) {\n",
    "  if (is.element(rpack,installed.packages()[,1])){\n",
    "      #Load the library into R\n",
    "      suppressMessages(library(rpack,character.only = TRUE))\n",
    "    }\n",
    "    else {\n",
    "        print(paste(\"Warning:  \",rpack,\" is not an installed package\"))\n",
    "    }\n",
    "}\n",
    "\n",
    "##  Resize plot area.\n",
    "\n",
    "options(repr.plot.width=6, repr.plot.height=6)\n",
    "\n",
    "library(geojsonio)\n",
    "library(dplyr)\n"
   ]
  },
  {
   "cell_type": "code",
   "execution_count": 2,
   "id": "929901ba",
   "metadata": {},
   "outputs": [
    {
     "data": {
      "text/plain": [
       "Coordinate Reference System: NA"
      ]
     },
     "metadata": {},
     "output_type": "display_data"
    }
   ],
   "source": [
    "hist_urban <- read.csv(\"data/urban/urbanpop.csv\",stringsAsFactors=FALSE)\n",
    "\n",
    "coordinates(hist_urban)<- ~Longitude+Latitude\n",
    "\n",
    "st_crs(hist_urban, 4326)"
   ]
  },
  {
   "cell_type": "code",
   "execution_count": 3,
   "id": "8de2b025",
   "metadata": {},
   "outputs": [
    {
     "ename": "ERROR",
     "evalue": "Error in writeOGR(hist_urban, \"data/results/\", \"hist_urban_sf\", driver = \"ESRI Shapefile\"): layer exists, use a new layer name\n",
     "output_type": "error",
     "traceback": [
      "Error in writeOGR(hist_urban, \"data/results/\", \"hist_urban_sf\", driver = \"ESRI Shapefile\"): layer exists, use a new layer name\nTraceback:\n",
      "1. writeOGR(hist_urban, \"data/results/\", \"hist_urban_sf\", driver = \"ESRI Shapefile\")",
      "2. stop(\"layer exists, use a new layer name\")"
     ]
    }
   ],
   "source": [
    "writeOGR(hist_urban, \"data/results/\", \"hist_urban_sf\", driver = \"ESRI Shapefile\")"
   ]
  },
  {
   "cell_type": "code",
   "execution_count": 4,
   "id": "a2962024",
   "metadata": {
    "scrolled": true
   },
   "outputs": [
    {
     "data": {
      "text/plain": [
       "Coordinate Reference System: NA"
      ]
     },
     "metadata": {},
     "output_type": "display_data"
    }
   ],
   "source": [
    "meteorites <- read.csv(\"data/results/meteorites.csv\")\n",
    "\n",
    "coordinates(meteorites)=~longitude+latitude\n",
    "\n",
    "st_crs(meteorites, 4326)"
   ]
  },
  {
   "cell_type": "code",
   "execution_count": null,
   "id": "adf5070e",
   "metadata": {},
   "outputs": [],
   "source": [
    "writeOGR(meteorites, \"data/results/\", \"meteorites_sf\", driver = \"ESRI Shapefile\")"
   ]
  },
  {
   "cell_type": "code",
   "execution_count": 5,
   "id": "4b78bd2f",
   "metadata": {},
   "outputs": [
    {
     "data": {
      "text/html": [
       "<table class=\"dataframe\">\n",
       "<caption>A data.frame: 6 × 14</caption>\n",
       "<thead>\n",
       "\t<tr><th></th><th scope=col>X</th><th scope=col>name</th><th scope=col>id</th><th scope=col>nametype</th><th scope=col>recclass</th><th scope=col>mass_in_grams</th><th scope=col>fell_or_found</th><th scope=col>year</th><th scope=col>GeoLocation</th><th scope=col>group_name</th><th scope=col>Chondrite.Achondrite</th><th scope=col>type</th><th scope=col>L3</th><th scope=col>L4</th></tr>\n",
       "\t<tr><th></th><th scope=col>&lt;int&gt;</th><th scope=col>&lt;chr&gt;</th><th scope=col>&lt;int&gt;</th><th scope=col>&lt;chr&gt;</th><th scope=col>&lt;chr&gt;</th><th scope=col>&lt;dbl&gt;</th><th scope=col>&lt;chr&gt;</th><th scope=col>&lt;int&gt;</th><th scope=col>&lt;chr&gt;</th><th scope=col>&lt;chr&gt;</th><th scope=col>&lt;chr&gt;</th><th scope=col>&lt;chr&gt;</th><th scope=col>&lt;chr&gt;</th><th scope=col>&lt;chr&gt;</th></tr>\n",
       "</thead>\n",
       "<tbody>\n",
       "\t<tr><th scope=row>1</th><td>5625</td><td>Aachen   </td><td>1</td><td>Valid</td><td>L5  </td><td>    21</td><td>Fell </td><td>1880</td><td>(50.775, 6.08333)   </td><td>L </td><td>Chondrite</td><td>Stony</td><td>Ordinary </td><td>L    </td></tr>\n",
       "\t<tr><th scope=row>2</th><td> 568</td><td>Aarhus   </td><td>2</td><td>Valid</td><td>H6  </td><td>   720</td><td>Fell </td><td>1951</td><td>(56.18333, 10.23333)</td><td>H </td><td>Chondrite</td><td>Stony</td><td>Ordinary </td><td>H    </td></tr>\n",
       "\t<tr><th scope=row>3</th><td> 916</td><td>Abajo    </td><td>4</td><td>Valid</td><td>H5  </td><td>   331</td><td>Found</td><td>1982</td><td>(26.8, -105.41667)  </td><td>H </td><td>Chondrite</td><td>Stony</td><td>Ordinary </td><td>H    </td></tr>\n",
       "\t<tr><th scope=row>4</th><td> 918</td><td>Abbott   </td><td>5</td><td>Valid</td><td>H3-6</td><td> 21100</td><td>Found</td><td>1951</td><td>(36.3, -104.28333)  </td><td>H </td><td>Chondrite</td><td>Stony</td><td>Ordinary </td><td>H    </td></tr>\n",
       "\t<tr><th scope=row>5</th><td> 399</td><td>Abee     </td><td>6</td><td>Valid</td><td>EH4 </td><td>107000</td><td>Fell </td><td>1952</td><td>(54.21667, -113.0)  </td><td>EH</td><td>Chondrite</td><td>Stony</td><td>Enstatite</td><td>EH-EL</td></tr>\n",
       "\t<tr><th scope=row>6</th><td>6004</td><td>Abernathy</td><td>7</td><td>Valid</td><td>L6  </td><td>  2914</td><td>Found</td><td>1941</td><td>(33.85, -101.8)     </td><td>L </td><td>Chondrite</td><td>Stony</td><td>Ordinary </td><td>L    </td></tr>\n",
       "</tbody>\n",
       "</table>\n"
      ],
      "text/latex": [
       "A data.frame: 6 × 14\n",
       "\\begin{tabular}{r|llllllllllllll}\n",
       "  & X & name & id & nametype & recclass & mass\\_in\\_grams & fell\\_or\\_found & year & GeoLocation & group\\_name & Chondrite.Achondrite & type & L3 & L4\\\\\n",
       "  & <int> & <chr> & <int> & <chr> & <chr> & <dbl> & <chr> & <int> & <chr> & <chr> & <chr> & <chr> & <chr> & <chr>\\\\\n",
       "\\hline\n",
       "\t1 & 5625 & Aachen    & 1 & Valid & L5   &     21 & Fell  & 1880 & (50.775, 6.08333)    & L  & Chondrite & Stony & Ordinary  & L    \\\\\n",
       "\t2 &  568 & Aarhus    & 2 & Valid & H6   &    720 & Fell  & 1951 & (56.18333, 10.23333) & H  & Chondrite & Stony & Ordinary  & H    \\\\\n",
       "\t3 &  916 & Abajo     & 4 & Valid & H5   &    331 & Found & 1982 & (26.8, -105.41667)   & H  & Chondrite & Stony & Ordinary  & H    \\\\\n",
       "\t4 &  918 & Abbott    & 5 & Valid & H3-6 &  21100 & Found & 1951 & (36.3, -104.28333)   & H  & Chondrite & Stony & Ordinary  & H    \\\\\n",
       "\t5 &  399 & Abee      & 6 & Valid & EH4  & 107000 & Fell  & 1952 & (54.21667, -113.0)   & EH & Chondrite & Stony & Enstatite & EH-EL\\\\\n",
       "\t6 & 6004 & Abernathy & 7 & Valid & L6   &   2914 & Found & 1941 & (33.85, -101.8)      & L  & Chondrite & Stony & Ordinary  & L    \\\\\n",
       "\\end{tabular}\n"
      ],
      "text/markdown": [
       "\n",
       "A data.frame: 6 × 14\n",
       "\n",
       "| <!--/--> | X &lt;int&gt; | name &lt;chr&gt; | id &lt;int&gt; | nametype &lt;chr&gt; | recclass &lt;chr&gt; | mass_in_grams &lt;dbl&gt; | fell_or_found &lt;chr&gt; | year &lt;int&gt; | GeoLocation &lt;chr&gt; | group_name &lt;chr&gt; | Chondrite.Achondrite &lt;chr&gt; | type &lt;chr&gt; | L3 &lt;chr&gt; | L4 &lt;chr&gt; |\n",
       "|---|---|---|---|---|---|---|---|---|---|---|---|---|---|---|\n",
       "| 1 | 5625 | Aachen    | 1 | Valid | L5   |     21 | Fell  | 1880 | (50.775, 6.08333)    | L  | Chondrite | Stony | Ordinary  | L     |\n",
       "| 2 |  568 | Aarhus    | 2 | Valid | H6   |    720 | Fell  | 1951 | (56.18333, 10.23333) | H  | Chondrite | Stony | Ordinary  | H     |\n",
       "| 3 |  916 | Abajo     | 4 | Valid | H5   |    331 | Found | 1982 | (26.8, -105.41667)   | H  | Chondrite | Stony | Ordinary  | H     |\n",
       "| 4 |  918 | Abbott    | 5 | Valid | H3-6 |  21100 | Found | 1951 | (36.3, -104.28333)   | H  | Chondrite | Stony | Ordinary  | H     |\n",
       "| 5 |  399 | Abee      | 6 | Valid | EH4  | 107000 | Fell  | 1952 | (54.21667, -113.0)   | EH | Chondrite | Stony | Enstatite | EH-EL |\n",
       "| 6 | 6004 | Abernathy | 7 | Valid | L6   |   2914 | Found | 1941 | (33.85, -101.8)      | L  | Chondrite | Stony | Ordinary  | L     |\n",
       "\n"
      ],
      "text/plain": [
       "  X    name      id nametype recclass mass_in_grams fell_or_found year\n",
       "1 5625 Aachen    1  Valid    L5           21        Fell          1880\n",
       "2  568 Aarhus    2  Valid    H6          720        Fell          1951\n",
       "3  916 Abajo     4  Valid    H5          331        Found         1982\n",
       "4  918 Abbott    5  Valid    H3-6      21100        Found         1951\n",
       "5  399 Abee      6  Valid    EH4      107000        Fell          1952\n",
       "6 6004 Abernathy 7  Valid    L6         2914        Found         1941\n",
       "  GeoLocation          group_name Chondrite.Achondrite type  L3        L4   \n",
       "1 (50.775, 6.08333)    L          Chondrite            Stony Ordinary  L    \n",
       "2 (56.18333, 10.23333) H          Chondrite            Stony Ordinary  H    \n",
       "3 (26.8, -105.41667)   H          Chondrite            Stony Ordinary  H    \n",
       "4 (36.3, -104.28333)   H          Chondrite            Stony Ordinary  H    \n",
       "5 (54.21667, -113.0)   EH         Chondrite            Stony Enstatite EH-EL\n",
       "6 (33.85, -101.8)      L          Chondrite            Stony Ordinary  L    "
      ]
     },
     "metadata": {},
     "output_type": "display_data"
    }
   ],
   "source": [
    "head(meteorites)"
   ]
  },
  {
   "cell_type": "code",
   "execution_count": 7,
   "id": "c73757a2",
   "metadata": {
    "scrolled": true
   },
   "outputs": [
    {
     "name": "stderr",
     "output_type": "stream",
     "text": [
      "Warning message in data.frame(coordinates(meteorite_sample), meteorite_sample$name, :\n",
      "“row names were found from a short variable and have been discarded”\n",
      "Warning message in data.frame(coordinates(meteorite_sample), meteorite_sample$name, :\n",
      "“row names were found from a short variable and have been discarded”\n",
      "Warning message in data.frame(coordinates(meteorite_sample), meteorite_sample$name, :\n",
      "“row names were found from a short variable and have been discarded”\n",
      "Warning message in data.frame(coordinates(meteorite_sample), meteorite_sample$name, :\n",
      "“row names were found from a short variable and have been discarded”\n",
      "Warning message in data.frame(coordinates(meteorite_sample), meteorite_sample$name, :\n",
      "“row names were found from a short variable and have been discarded”\n",
      "Warning message in data.frame(coordinates(meteorite_sample), meteorite_sample$name, :\n",
      "“row names were found from a short variable and have been discarded”\n",
      "Warning message in data.frame(coordinates(meteorite_sample), meteorite_sample$name, :\n",
      "“row names were found from a short variable and have been discarded”\n",
      "Warning message in data.frame(coordinates(meteorite_sample), meteorite_sample$name, :\n",
      "“row names were found from a short variable and have been discarded”\n",
      "Warning message in data.frame(coordinates(meteorite_sample), meteorite_sample$name, :\n",
      "“row names were found from a short variable and have been discarded”\n",
      "Warning message in data.frame(coordinates(meteorite_sample), meteorite_sample$name, :\n",
      "“row names were found from a short variable and have been discarded”\n"
     ]
    }
   ],
   "source": [
    "i<-1 \n",
    "\n",
    "meteorite_sample <- (meteorites[i,])                # Make a variable with just the line of the meteorite under study\n",
    "sample_year <- meteorite_sample@data$year           # Get the year of impact/find\n",
    "\n",
    "meteorite_sample.buf <- gBuffer(meteorite_sample,   # Create a .25 degree buffer around the impact/find site.\n",
    "                                byid=TRUE, \n",
    "                                id=NULL, \n",
    "                                width=.25, \n",
    "                                quadsegs=5, \n",
    "                                capStyle=\"ROUND\", \n",
    "                                joinStyle=\"ROUND\", \n",
    "                                mitreLimit=1.0)\n",
    "\n",
    "hist_urban_sample <- hist_urban[hist_urban$year < sample_year,]         #pull the pop data for the 500 years before impact/find\n",
    "hist_urban_sample <- hist_urban_sample[hist_urban_sample$year > (sample_year-500),]\n",
    "\n",
    "selPts <- overGeomGeom(meteorite_sample.buf, hist_urban_sample, returnList = TRUE, fn = NULL)    # Get the cities that are inside the bufffer\n",
    "intPtSet = unlist(selPts)\n",
    "intersect <- hist_urban_sample[intPtSet,]\n",
    "\n",
    "if(length(intersect) != 0){                           # If a city was found, find the one closest in time to current\n",
    "    closest_year <- max(intersect@data$year)\n",
    "    sample_city <- intersect@data$City[intersect@data$year == closest_year]\n",
    "    sample_population <- intersect@data$pop[intersect@data$year == closest_year]\n",
    "    } else {                                          # If no city was found, put NAs in the table\n",
    "    closest_year <- NA\n",
    "    sample_city <- NA\n",
    "    sample_population <- NA\n",
    "    }\n",
    "\n",
    "\n",
    "population_table <- data.frame(coordinates(meteorite_sample),\n",
    "                               meteorite_sample$name, \n",
    "                               meteorite_sample$id,\n",
    "                               meteorite_sample$year,\n",
    "                               sample_city,\n",
    "                               sample_population,\n",
    "                               closest_year)\n",
    "\n",
    "names(population_table) <- c(\"x\", \"y\", \"name\", \"id\", \"year\",\"closest_city\",\"pop\",\"pop_year\")\n",
    "\n",
    "\n",
    "# There's probably a better way to do this, but at the time, it made sense to \n",
    "# run it through once to create the table,then start the loop with the 2nd entry.\n",
    "\n",
    "l <- length(meteorites)\n",
    "\n",
    "for (i in 2:l){\n",
    "    meteorite_sample <- (meteorites[i,])                # Make a variable with just the line of the meteorite under study\n",
    "    sample_year <- meteorite_sample@data$year           # Get the year of impact/find\n",
    "\n",
    "    meteorite_sample.buf <- gBuffer(meteorite_sample,   # Create a .25 degree buffer around the impact/find site.\n",
    "                                    byid=TRUE, \n",
    "                                    id=NULL, \n",
    "                                    width=.25, \n",
    "                                    quadsegs=5, \n",
    "                                    capStyle=\"ROUND\", \n",
    "                                    joinStyle=\"ROUND\", \n",
    "                                    mitreLimit=1.0)\n",
    "\n",
    "    hist_urban_sample <- hist_urban[hist_urban$year < sample_year,]         #pull the pop data for the 500 years before impact/find\n",
    "    hist_urban_sample <- hist_urban_sample[hist_urban_sample$year > (sample_year-500),]\n",
    "\n",
    "    selPts <- overGeomGeom(meteorite_sample.buf, hist_urban_sample, returnList = TRUE, fn = NULL)    # Get the cities that are inside the bufffer\n",
    "    intPtSet = unlist(selPts)\n",
    "    intersect <- hist_urban_sample[intPtSet,]\n",
    "\n",
    "    if(length(intersect) != 0){                           # If a city was found, find the one closest in time to current\n",
    "        closest_year <- max(intersect@data$year)\n",
    "        sample_city <- intersect@data$City[intersect@data$year == closest_year]\n",
    "        sample_population <- intersect@data$pop[intersect@data$year == closest_year]\n",
    "        } else {                                          # If no city was found, put NAs in the table\n",
    "        closest_year <- NA\n",
    "        sample_city <- NA\n",
    "        sample_population <- NA\n",
    "        }\n",
    "\n",
    "    new_population_table <- data.frame(coordinates(meteorite_sample),\n",
    "            write.csv(meteorite_LCs,'data/results/meteorites_landcover.csv')                   meteorite_sample$name, \n",
    "                               meteorite_sample$id,\n",
    "                               meteorite_sample$year,\n",
    "                               sample_city,\n",
    "                               sample_population,\n",
    "                               closest_year)\n",
    "\n",
    "    names(new_population_table) <- c(\"x\", \"y\", \"name\", \"id\", \"year\",\"closest_city\",\"pop\",\"pop_year\")\n",
    "    population_table <- rbind(population_table, new_population_table)\n",
    "}"
   ]
  },
  {
   "cell_type": "code",
   "execution_count": 8,
   "id": "a1c38520",
   "metadata": {},
   "outputs": [
    {
     "data": {
      "text/html": [
       "<table class=\"dataframe\">\n",
       "<caption>A data.frame: 6 × 8</caption>\n",
       "<thead>\n",
       "\t<tr><th></th><th scope=col>x</th><th scope=col>y</th><th scope=col>name</th><th scope=col>id</th><th scope=col>year</th><th scope=col>closest_city</th><th scope=col>pop</th><th scope=col>pop_year</th></tr>\n",
       "\t<tr><th></th><th scope=col>&lt;dbl&gt;</th><th scope=col>&lt;dbl&gt;</th><th scope=col>&lt;chr&gt;</th><th scope=col>&lt;int&gt;</th><th scope=col>&lt;int&gt;</th><th scope=col>&lt;chr&gt;</th><th scope=col>&lt;int&gt;</th><th scope=col>&lt;int&gt;</th></tr>\n",
       "</thead>\n",
       "<tbody>\n",
       "\t<tr><th scope=row>1</th><td>   6.08333</td><td>50.77500</td><td>Aachen   </td><td>1</td><td>1880</td><td>Aachen</td><td>48688</td><td>1851</td></tr>\n",
       "\t<tr><th scope=row>2</th><td>  10.23333</td><td>56.18333</td><td>Aarhus   </td><td>2</td><td>1951</td><td>Aarhus</td><td>51000</td><td>1900</td></tr>\n",
       "\t<tr><th scope=row>3</th><td>-105.41667</td><td>26.80000</td><td>Abajo    </td><td>4</td><td>1982</td><td>NA    </td><td>   NA</td><td>  NA</td></tr>\n",
       "\t<tr><th scope=row>4</th><td>-104.28333</td><td>36.30000</td><td>Abbott   </td><td>5</td><td>1951</td><td>NA    </td><td>   NA</td><td>  NA</td></tr>\n",
       "\t<tr><th scope=row>5</th><td>-113.00000</td><td>54.21667</td><td>Abee     </td><td>6</td><td>1952</td><td>NA    </td><td>   NA</td><td>  NA</td></tr>\n",
       "\t<tr><th scope=row>6</th><td>-101.80000</td><td>33.85000</td><td>Abernathy</td><td>7</td><td>1941</td><td>NA    </td><td>   NA</td><td>  NA</td></tr>\n",
       "</tbody>\n",
       "</table>\n"
      ],
      "text/latex": [
       "A data.frame: 6 × 8\n",
       "\\begin{tabular}{r|llllllll}\n",
       "  & x & y & name & id & year & closest\\_city & pop & pop\\_year\\\\\n",
       "  & <dbl> & <dbl> & <chr> & <int> & <int> & <chr> & <int> & <int>\\\\\n",
       "\\hline\n",
       "\t1 &    6.08333 & 50.77500 & Aachen    & 1 & 1880 & Aachen & 48688 & 1851\\\\\n",
       "\t2 &   10.23333 & 56.18333 & Aarhus    & 2 & 1951 & Aarhus & 51000 & 1900\\\\\n",
       "\t3 & -105.41667 & 26.80000 & Abajo     & 4 & 1982 & NA     &    NA &   NA\\\\\n",
       "\t4 & -104.28333 & 36.30000 & Abbott    & 5 & 1951 & NA     &    NA &   NA\\\\\n",
       "\t5 & -113.00000 & 54.21667 & Abee      & 6 & 1952 & NA     &    NA &   NA\\\\\n",
       "\t6 & -101.80000 & 33.85000 & Abernathy & 7 & 1941 & NA     &    NA &   NA\\\\\n",
       "\\end{tabular}\n"
      ],
      "text/markdown": [
       "\n",
       "A data.frame: 6 × 8\n",
       "\n",
       "| <!--/--> | x &lt;dbl&gt; | y &lt;dbl&gt; | name &lt;chr&gt; | id &lt;int&gt; | year &lt;int&gt; | closest_city &lt;chr&gt; | pop &lt;int&gt; | pop_year &lt;int&gt; |\n",
       "|---|---|---|---|---|---|---|---|---|\n",
       "| 1 |    6.08333 | 50.77500 | Aachen    | 1 | 1880 | Aachen | 48688 | 1851 |\n",
       "| 2 |   10.23333 | 56.18333 | Aarhus    | 2 | 1951 | Aarhus | 51000 | 1900 |\n",
       "| 3 | -105.41667 | 26.80000 | Abajo     | 4 | 1982 | NA     |    NA |   NA |\n",
       "| 4 | -104.28333 | 36.30000 | Abbott    | 5 | 1951 | NA     |    NA |   NA |\n",
       "| 5 | -113.00000 | 54.21667 | Abee      | 6 | 1952 | NA     |    NA |   NA |\n",
       "| 6 | -101.80000 | 33.85000 | Abernathy | 7 | 1941 | NA     |    NA |   NA |\n",
       "\n"
      ],
      "text/plain": [
       "  x          y        name      id year closest_city pop   pop_year\n",
       "1    6.08333 50.77500 Aachen    1  1880 Aachen       48688 1851    \n",
       "2   10.23333 56.18333 Aarhus    2  1951 Aarhus       51000 1900    \n",
       "3 -105.41667 26.80000 Abajo     4  1982 NA              NA   NA    \n",
       "4 -104.28333 36.30000 Abbott    5  1951 NA              NA   NA    \n",
       "5 -113.00000 54.21667 Abee      6  1952 NA              NA   NA    \n",
       "6 -101.80000 33.85000 Abernathy 7  1941 NA              NA   NA    "
      ]
     },
     "metadata": {},
     "output_type": "display_data"
    }
   ],
   "source": [
    "head(population_table)"
   ]
  },
  {
   "cell_type": "code",
   "execution_count": 9,
   "id": "496d2333",
   "metadata": {},
   "outputs": [],
   "source": [
    "write.csv(population_table,'data/results/meteorites_population.csv')"
   ]
  },
  {
   "cell_type": "code",
   "execution_count": null,
   "id": "ae2099e5",
   "metadata": {},
   "outputs": [],
   "source": []
  }
 ],
 "metadata": {
  "kernelspec": {
   "display_name": "R",
   "language": "R",
   "name": "ir"
  },
  "language_info": {
   "codemirror_mode": "r",
   "file_extension": ".r",
   "mimetype": "text/x-r-source",
   "name": "R",
   "pygments_lexer": "r",
   "version": "4.0.4"
  }
 },
 "nbformat": 4,
 "nbformat_minor": 5
}
