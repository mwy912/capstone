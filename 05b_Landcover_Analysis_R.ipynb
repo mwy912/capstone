{
 "cells": [
  {
   "cell_type": "code",
   "execution_count": 1,
   "id": "24961355",
   "metadata": {},
   "outputs": [],
   "source": [
    "## Load relevant R packages.\n",
    "\n",
    "inLibraries = list('repr','spdep','raster','rgdal','rgeos')\n",
    "for (rpack in inLibraries) {\n",
    "  if (is.element(rpack,installed.packages()[,1])){\n",
    "      #Load the library into R\n",
    "      suppressMessages(library(rpack,character.only = TRUE))\n",
    "    }\n",
    "    else {\n",
    "        print(paste(\"Warning:  \",rpack,\" is not an installed package\"))\n",
    "    }\n",
    "}\n",
    "\n",
    "##  Resize plot area.\n",
    "\n",
    "options(repr.plot.width=6, repr.plot.height=6)"
   ]
  },
  {
   "cell_type": "code",
   "execution_count": 2,
   "id": "d3c75db0",
   "metadata": {},
   "outputs": [
    {
     "name": "stdout",
     "output_type": "stream",
     "text": [
      "OGR data source with driver: ESRI Shapefile \n",
      "Source: \"/Volumes/Marble/Users/mwy/Documents/PSDS/capstone/data/results\", layer: \"meteorites_sf\"\n",
      "with 9796 features\n",
      "It has 14 fields\n"
     ]
    },
    {
     "data": {
      "text/html": [
       "<table class=\"dataframe\">\n",
       "<caption>A data.frame: 6 × 14</caption>\n",
       "<thead>\n",
       "\t<tr><th></th><th scope=col>X</th><th scope=col>name</th><th scope=col>id</th><th scope=col>nametyp</th><th scope=col>recclss</th><th scope=col>mss_n_g</th><th scope=col>fll_r_f</th><th scope=col>year</th><th scope=col>GeoLctn</th><th scope=col>grop_nm</th><th scope=col>Chndr_A</th><th scope=col>type</th><th scope=col>L3</th><th scope=col>L4</th></tr>\n",
       "\t<tr><th></th><th scope=col>&lt;int&gt;</th><th scope=col>&lt;chr&gt;</th><th scope=col>&lt;int&gt;</th><th scope=col>&lt;chr&gt;</th><th scope=col>&lt;chr&gt;</th><th scope=col>&lt;dbl&gt;</th><th scope=col>&lt;chr&gt;</th><th scope=col>&lt;int&gt;</th><th scope=col>&lt;chr&gt;</th><th scope=col>&lt;chr&gt;</th><th scope=col>&lt;chr&gt;</th><th scope=col>&lt;chr&gt;</th><th scope=col>&lt;chr&gt;</th><th scope=col>&lt;chr&gt;</th></tr>\n",
       "</thead>\n",
       "<tbody>\n",
       "\t<tr><th scope=row>1</th><td>5625</td><td>Aachen   </td><td>1</td><td>Valid</td><td>L5  </td><td>    21</td><td>Fell </td><td>1880</td><td>(50.775, 6.08333)   </td><td>L </td><td>Chondrite</td><td>Stony</td><td>Ordinary </td><td>L    </td></tr>\n",
       "\t<tr><th scope=row>2</th><td> 568</td><td>Aarhus   </td><td>2</td><td>Valid</td><td>H6  </td><td>   720</td><td>Fell </td><td>1951</td><td>(56.18333, 10.23333)</td><td>H </td><td>Chondrite</td><td>Stony</td><td>Ordinary </td><td>H    </td></tr>\n",
       "\t<tr><th scope=row>3</th><td> 916</td><td>Abajo    </td><td>4</td><td>Valid</td><td>H5  </td><td>   331</td><td>Found</td><td>1982</td><td>(26.8, -105.41667)  </td><td>H </td><td>Chondrite</td><td>Stony</td><td>Ordinary </td><td>H    </td></tr>\n",
       "\t<tr><th scope=row>4</th><td> 918</td><td>Abbott   </td><td>5</td><td>Valid</td><td>H3-6</td><td> 21100</td><td>Found</td><td>1951</td><td>(36.3, -104.28333)  </td><td>H </td><td>Chondrite</td><td>Stony</td><td>Ordinary </td><td>H    </td></tr>\n",
       "\t<tr><th scope=row>5</th><td> 399</td><td>Abee     </td><td>6</td><td>Valid</td><td>EH4 </td><td>107000</td><td>Fell </td><td>1952</td><td>(54.21667, -113.0)  </td><td>EH</td><td>Chondrite</td><td>Stony</td><td>Enstatite</td><td>EH-EL</td></tr>\n",
       "\t<tr><th scope=row>6</th><td>6004</td><td>Abernathy</td><td>7</td><td>Valid</td><td>L6  </td><td>  2914</td><td>Found</td><td>1941</td><td>(33.85, -101.8)     </td><td>L </td><td>Chondrite</td><td>Stony</td><td>Ordinary </td><td>L    </td></tr>\n",
       "</tbody>\n",
       "</table>\n"
      ],
      "text/latex": [
       "A data.frame: 6 × 14\n",
       "\\begin{tabular}{r|llllllllllllll}\n",
       "  & X & name & id & nametyp & recclss & mss\\_n\\_g & fll\\_r\\_f & year & GeoLctn & grop\\_nm & Chndr\\_A & type & L3 & L4\\\\\n",
       "  & <int> & <chr> & <int> & <chr> & <chr> & <dbl> & <chr> & <int> & <chr> & <chr> & <chr> & <chr> & <chr> & <chr>\\\\\n",
       "\\hline\n",
       "\t1 & 5625 & Aachen    & 1 & Valid & L5   &     21 & Fell  & 1880 & (50.775, 6.08333)    & L  & Chondrite & Stony & Ordinary  & L    \\\\\n",
       "\t2 &  568 & Aarhus    & 2 & Valid & H6   &    720 & Fell  & 1951 & (56.18333, 10.23333) & H  & Chondrite & Stony & Ordinary  & H    \\\\\n",
       "\t3 &  916 & Abajo     & 4 & Valid & H5   &    331 & Found & 1982 & (26.8, -105.41667)   & H  & Chondrite & Stony & Ordinary  & H    \\\\\n",
       "\t4 &  918 & Abbott    & 5 & Valid & H3-6 &  21100 & Found & 1951 & (36.3, -104.28333)   & H  & Chondrite & Stony & Ordinary  & H    \\\\\n",
       "\t5 &  399 & Abee      & 6 & Valid & EH4  & 107000 & Fell  & 1952 & (54.21667, -113.0)   & EH & Chondrite & Stony & Enstatite & EH-EL\\\\\n",
       "\t6 & 6004 & Abernathy & 7 & Valid & L6   &   2914 & Found & 1941 & (33.85, -101.8)      & L  & Chondrite & Stony & Ordinary  & L    \\\\\n",
       "\\end{tabular}\n"
      ],
      "text/markdown": [
       "\n",
       "A data.frame: 6 × 14\n",
       "\n",
       "| <!--/--> | X &lt;int&gt; | name &lt;chr&gt; | id &lt;int&gt; | nametyp &lt;chr&gt; | recclss &lt;chr&gt; | mss_n_g &lt;dbl&gt; | fll_r_f &lt;chr&gt; | year &lt;int&gt; | GeoLctn &lt;chr&gt; | grop_nm &lt;chr&gt; | Chndr_A &lt;chr&gt; | type &lt;chr&gt; | L3 &lt;chr&gt; | L4 &lt;chr&gt; |\n",
       "|---|---|---|---|---|---|---|---|---|---|---|---|---|---|---|\n",
       "| 1 | 5625 | Aachen    | 1 | Valid | L5   |     21 | Fell  | 1880 | (50.775, 6.08333)    | L  | Chondrite | Stony | Ordinary  | L     |\n",
       "| 2 |  568 | Aarhus    | 2 | Valid | H6   |    720 | Fell  | 1951 | (56.18333, 10.23333) | H  | Chondrite | Stony | Ordinary  | H     |\n",
       "| 3 |  916 | Abajo     | 4 | Valid | H5   |    331 | Found | 1982 | (26.8, -105.41667)   | H  | Chondrite | Stony | Ordinary  | H     |\n",
       "| 4 |  918 | Abbott    | 5 | Valid | H3-6 |  21100 | Found | 1951 | (36.3, -104.28333)   | H  | Chondrite | Stony | Ordinary  | H     |\n",
       "| 5 |  399 | Abee      | 6 | Valid | EH4  | 107000 | Fell  | 1952 | (54.21667, -113.0)   | EH | Chondrite | Stony | Enstatite | EH-EL |\n",
       "| 6 | 6004 | Abernathy | 7 | Valid | L6   |   2914 | Found | 1941 | (33.85, -101.8)      | L  | Chondrite | Stony | Ordinary  | L     |\n",
       "\n"
      ],
      "text/plain": [
       "  X    name      id nametyp recclss mss_n_g fll_r_f year GeoLctn             \n",
       "1 5625 Aachen    1  Valid   L5          21  Fell    1880 (50.775, 6.08333)   \n",
       "2  568 Aarhus    2  Valid   H6         720  Fell    1951 (56.18333, 10.23333)\n",
       "3  916 Abajo     4  Valid   H5         331  Found   1982 (26.8, -105.41667)  \n",
       "4  918 Abbott    5  Valid   H3-6     21100  Found   1951 (36.3, -104.28333)  \n",
       "5  399 Abee      6  Valid   EH4     107000  Fell    1952 (54.21667, -113.0)  \n",
       "6 6004 Abernathy 7  Valid   L6        2914  Found   1941 (33.85, -101.8)     \n",
       "  grop_nm Chndr_A   type  L3        L4   \n",
       "1 L       Chondrite Stony Ordinary  L    \n",
       "2 H       Chondrite Stony Ordinary  H    \n",
       "3 H       Chondrite Stony Ordinary  H    \n",
       "4 H       Chondrite Stony Ordinary  H    \n",
       "5 EH      Chondrite Stony Enstatite EH-EL\n",
       "6 L       Chondrite Stony Ordinary  L    "
      ]
     },
     "metadata": {},
     "output_type": "display_data"
    }
   ],
   "source": [
    "lc1700name <- 'data/lc/historic_landcover_hd_1700.asc' \n",
    "lc1700 <- raster(lc1700name,values=TRUE)\n",
    "\n",
    "lc1750name <- \"data/lc/historic_landcover_hd_1750.asc\"\n",
    "lc1750 <- raster(lc1750name,values=TRUE)\n",
    "\n",
    "lc1800name <- \"data/lc/historic_landcover_hd_1800.asc\"\n",
    "lc1800 <- raster(lc1800name,values=TRUE)\n",
    "\n",
    "lc1850name <- \"data/lc/historic_landcover_hd_1850.asc\"\n",
    "lc1850 <- raster(lc1850name,values=TRUE)\n",
    "\n",
    "lc1900name <- \"data/lc/historic_landcover_hd_1900.asc\"\n",
    "lc1900 <- raster(lc1900name,values=TRUE)\n",
    "\n",
    "lc1950name <- \"data/lc/historic_landcover_hd_1950.asc\"\n",
    "lc1950  <- raster(lc1950name,values=TRUE)\n",
    "\n",
    "lc1970name <- \"data/lc/historic_landcover_hd_1970.asc\"\n",
    "lc1970 <- raster(lc1970name,values=TRUE)\n",
    "\n",
    "lc1990name <- \"data/lc/historic_landcover_hd_1990.asc\"\n",
    "lc1990 <- raster(lc1990name,values=TRUE)\n",
    "\n",
    "\n",
    "meteorites <- readOGR(\"data/results\", \"meteorites_sf\")\n",
    "\n",
    "head(meteorites)"
   ]
  },
  {
   "cell_type": "code",
   "execution_count": 3,
   "id": "080ed375",
   "metadata": {},
   "outputs": [
    {
     "name": "stderr",
     "output_type": "stream",
     "text": [
      "Warning message in proj4string(x):\n",
      "“CRS object has comment, which is lost in output”\n",
      "Warning message in proj4string(x):\n",
      "“CRS object has comment, which is lost in output”\n",
      "Warning message in proj4string(x):\n",
      "“CRS object has comment, which is lost in output”\n",
      "Warning message in proj4string(x):\n",
      "“CRS object has comment, which is lost in output”\n",
      "Warning message in proj4string(x):\n",
      "“CRS object has comment, which is lost in output”\n",
      "Warning message in proj4string(x):\n",
      "“CRS object has comment, which is lost in output”\n",
      "Warning message in proj4string(x):\n",
      "“CRS object has comment, which is lost in output”\n",
      "Warning message in proj4string(x):\n",
      "“CRS object has comment, which is lost in output”\n"
     ]
    },
    {
     "data": {
      "text/html": [
       "<table class=\"dataframe\">\n",
       "<caption>A data.frame: 6 × 13</caption>\n",
       "<thead>\n",
       "\t<tr><th></th><th scope=col>x</th><th scope=col>y</th><th scope=col>name</th><th scope=col>id</th><th scope=col>year</th><th scope=col>lc1700</th><th scope=col>lc1750</th><th scope=col>lc1800</th><th scope=col>lc1850</th><th scope=col>lc1900</th><th scope=col>lc1950</th><th scope=col>lc1970</th><th scope=col>lc1990</th></tr>\n",
       "\t<tr><th></th><th scope=col>&lt;dbl&gt;</th><th scope=col>&lt;dbl&gt;</th><th scope=col>&lt;chr&gt;</th><th scope=col>&lt;int&gt;</th><th scope=col>&lt;int&gt;</th><th scope=col>&lt;dbl&gt;</th><th scope=col>&lt;dbl&gt;</th><th scope=col>&lt;dbl&gt;</th><th scope=col>&lt;dbl&gt;</th><th scope=col>&lt;dbl&gt;</th><th scope=col>&lt;dbl&gt;</th><th scope=col>&lt;dbl&gt;</th><th scope=col>&lt;dbl&gt;</th></tr>\n",
       "</thead>\n",
       "<tbody>\n",
       "\t<tr><th scope=row>1</th><td>   6.08333</td><td>50.77500</td><td>Aachen   </td><td>1</td><td>1880</td><td>11</td><td>11</td><td>11</td><td>11</td><td>11</td><td>11</td><td>11</td><td>11</td></tr>\n",
       "\t<tr><th scope=row>2</th><td>  10.23333</td><td>56.18333</td><td>Aarhus   </td><td>2</td><td>1951</td><td> 1</td><td> 1</td><td> 1</td><td> 1</td><td> 1</td><td> 1</td><td> 1</td><td> 1</td></tr>\n",
       "\t<tr><th scope=row>3</th><td>-105.41667</td><td>26.80000</td><td>Abajo    </td><td>4</td><td>1982</td><td>15</td><td>15</td><td>15</td><td>15</td><td>15</td><td>15</td><td> 2</td><td> 2</td></tr>\n",
       "\t<tr><th scope=row>4</th><td>-104.28333</td><td>36.30000</td><td>Abbott   </td><td>5</td><td>1951</td><td>13</td><td>13</td><td>13</td><td>13</td><td>13</td><td>13</td><td>13</td><td>13</td></tr>\n",
       "\t<tr><th scope=row>5</th><td>-113.00000</td><td>54.21667</td><td>Abee     </td><td>6</td><td>1952</td><td> 9</td><td> 9</td><td> 9</td><td> 9</td><td> 9</td><td> 2</td><td> 1</td><td> 1</td></tr>\n",
       "\t<tr><th scope=row>6</th><td>-101.80000</td><td>33.85000</td><td>Abernathy</td><td>7</td><td>1941</td><td>13</td><td>13</td><td>13</td><td>13</td><td> 1</td><td> 1</td><td> 1</td><td> 1</td></tr>\n",
       "</tbody>\n",
       "</table>\n"
      ],
      "text/latex": [
       "A data.frame: 6 × 13\n",
       "\\begin{tabular}{r|lllllllllllll}\n",
       "  & x & y & name & id & year & lc1700 & lc1750 & lc1800 & lc1850 & lc1900 & lc1950 & lc1970 & lc1990\\\\\n",
       "  & <dbl> & <dbl> & <chr> & <int> & <int> & <dbl> & <dbl> & <dbl> & <dbl> & <dbl> & <dbl> & <dbl> & <dbl>\\\\\n",
       "\\hline\n",
       "\t1 &    6.08333 & 50.77500 & Aachen    & 1 & 1880 & 11 & 11 & 11 & 11 & 11 & 11 & 11 & 11\\\\\n",
       "\t2 &   10.23333 & 56.18333 & Aarhus    & 2 & 1951 &  1 &  1 &  1 &  1 &  1 &  1 &  1 &  1\\\\\n",
       "\t3 & -105.41667 & 26.80000 & Abajo     & 4 & 1982 & 15 & 15 & 15 & 15 & 15 & 15 &  2 &  2\\\\\n",
       "\t4 & -104.28333 & 36.30000 & Abbott    & 5 & 1951 & 13 & 13 & 13 & 13 & 13 & 13 & 13 & 13\\\\\n",
       "\t5 & -113.00000 & 54.21667 & Abee      & 6 & 1952 &  9 &  9 &  9 &  9 &  9 &  2 &  1 &  1\\\\\n",
       "\t6 & -101.80000 & 33.85000 & Abernathy & 7 & 1941 & 13 & 13 & 13 & 13 &  1 &  1 &  1 &  1\\\\\n",
       "\\end{tabular}\n"
      ],
      "text/markdown": [
       "\n",
       "A data.frame: 6 × 13\n",
       "\n",
       "| <!--/--> | x &lt;dbl&gt; | y &lt;dbl&gt; | name &lt;chr&gt; | id &lt;int&gt; | year &lt;int&gt; | lc1700 &lt;dbl&gt; | lc1750 &lt;dbl&gt; | lc1800 &lt;dbl&gt; | lc1850 &lt;dbl&gt; | lc1900 &lt;dbl&gt; | lc1950 &lt;dbl&gt; | lc1970 &lt;dbl&gt; | lc1990 &lt;dbl&gt; |\n",
       "|---|---|---|---|---|---|---|---|---|---|---|---|---|---|\n",
       "| 1 |    6.08333 | 50.77500 | Aachen    | 1 | 1880 | 11 | 11 | 11 | 11 | 11 | 11 | 11 | 11 |\n",
       "| 2 |   10.23333 | 56.18333 | Aarhus    | 2 | 1951 |  1 |  1 |  1 |  1 |  1 |  1 |  1 |  1 |\n",
       "| 3 | -105.41667 | 26.80000 | Abajo     | 4 | 1982 | 15 | 15 | 15 | 15 | 15 | 15 |  2 |  2 |\n",
       "| 4 | -104.28333 | 36.30000 | Abbott    | 5 | 1951 | 13 | 13 | 13 | 13 | 13 | 13 | 13 | 13 |\n",
       "| 5 | -113.00000 | 54.21667 | Abee      | 6 | 1952 |  9 |  9 |  9 |  9 |  9 |  2 |  1 |  1 |\n",
       "| 6 | -101.80000 | 33.85000 | Abernathy | 7 | 1941 | 13 | 13 | 13 | 13 |  1 |  1 |  1 |  1 |\n",
       "\n"
      ],
      "text/plain": [
       "  x          y        name      id year lc1700 lc1750 lc1800 lc1850 lc1900\n",
       "1    6.08333 50.77500 Aachen    1  1880 11     11     11     11     11    \n",
       "2   10.23333 56.18333 Aarhus    2  1951  1      1      1      1      1    \n",
       "3 -105.41667 26.80000 Abajo     4  1982 15     15     15     15     15    \n",
       "4 -104.28333 36.30000 Abbott    5  1951 13     13     13     13     13    \n",
       "5 -113.00000 54.21667 Abee      6  1952  9      9      9      9      9    \n",
       "6 -101.80000 33.85000 Abernathy 7  1941 13     13     13     13      1    \n",
       "  lc1950 lc1970 lc1990\n",
       "1 11     11     11    \n",
       "2  1      1      1    \n",
       "3 15      2      2    \n",
       "4 13     13     13    \n",
       "5  2      1      1    \n",
       "6  1      1      1    "
      ]
     },
     "metadata": {},
     "output_type": "display_data"
    }
   ],
   "source": [
    "landcover_table <- data.frame(coordinates(meteorites),\n",
    "                              meteorites$name, \n",
    "                              meteorites$id,\n",
    "                              meteorites$year,\n",
    "                              extract(lc1700, meteorites),\n",
    "                              extract(lc1750, meteorites),\n",
    "                              extract(lc1800, meteorites),\n",
    "                              extract(lc1850, meteorites),\n",
    "                              extract(lc1900, meteorites),\n",
    "                              extract(lc1950, meteorites),\n",
    "                              extract(lc1970, meteorites),\n",
    "                              extract(lc1990, meteorites))\n",
    "\n",
    "names(landcover_table) <- c(\"x\", \"y\", \"name\", \"id\", \"year\",\"lc1700\",\"lc1750\",\"lc1800\",\"lc1850\",\"lc1900\",\"lc1950\",\"lc1970\",\"lc1990\")\n",
    "\n",
    "head(landcover_table)"
   ]
  },
  {
   "cell_type": "code",
   "execution_count": 23,
   "id": "7f6537cb",
   "metadata": {},
   "outputs": [
    {
     "data": {
      "text/html": [
       "<table class=\"dataframe\">\n",
       "<caption>A data.frame: 6 × 3</caption>\n",
       "<thead>\n",
       "\t<tr><th></th><th scope=col>id</th><th scope=col>name</th><th scope=col>lc_sample</th></tr>\n",
       "\t<tr><th></th><th scope=col>&lt;int&gt;</th><th scope=col>&lt;chr&gt;</th><th scope=col>&lt;dbl&gt;</th></tr>\n",
       "</thead>\n",
       "<tbody>\n",
       "\t<tr><th scope=row>1</th><td>1</td><td>Aachen   </td><td>11</td></tr>\n",
       "\t<tr><th scope=row>2</th><td>2</td><td>Aarhus   </td><td> 1</td></tr>\n",
       "\t<tr><th scope=row>3</th><td>4</td><td>Abajo    </td><td> 2</td></tr>\n",
       "\t<tr><th scope=row>4</th><td>5</td><td>Abbott   </td><td>13</td></tr>\n",
       "\t<tr><th scope=row>5</th><td>6</td><td>Abee     </td><td> 1</td></tr>\n",
       "\t<tr><th scope=row>6</th><td>7</td><td>Abernathy</td><td> 1</td></tr>\n",
       "</tbody>\n",
       "</table>\n"
      ],
      "text/latex": [
       "A data.frame: 6 × 3\n",
       "\\begin{tabular}{r|lll}\n",
       "  & id & name & lc\\_sample\\\\\n",
       "  & <int> & <chr> & <dbl>\\\\\n",
       "\\hline\n",
       "\t1 & 1 & Aachen    & 11\\\\\n",
       "\t2 & 2 & Aarhus    &  1\\\\\n",
       "\t3 & 4 & Abajo     &  2\\\\\n",
       "\t4 & 5 & Abbott    & 13\\\\\n",
       "\t5 & 6 & Abee      &  1\\\\\n",
       "\t6 & 7 & Abernathy &  1\\\\\n",
       "\\end{tabular}\n"
      ],
      "text/markdown": [
       "\n",
       "A data.frame: 6 × 3\n",
       "\n",
       "| <!--/--> | id &lt;int&gt; | name &lt;chr&gt; | lc_sample &lt;dbl&gt; |\n",
       "|---|---|---|---|\n",
       "| 1 | 1 | Aachen    | 11 |\n",
       "| 2 | 2 | Aarhus    |  1 |\n",
       "| 3 | 4 | Abajo     |  2 |\n",
       "| 4 | 5 | Abbott    | 13 |\n",
       "| 5 | 6 | Abee      |  1 |\n",
       "| 6 | 7 | Abernathy |  1 |\n",
       "\n"
      ],
      "text/plain": [
       "  id name      lc_sample\n",
       "1 1  Aachen    11       \n",
       "2 2  Aarhus     1       \n",
       "3 4  Abajo      2       \n",
       "4 5  Abbott    13       \n",
       "5 6  Abee       1       \n",
       "6 7  Abernathy  1       "
      ]
     },
     "metadata": {},
     "output_type": "display_data"
    }
   ],
   "source": [
    "l <- length(meteorites)\n",
    "\n",
    "for (i in 1:l){\n",
    "    \n",
    "    sample_year <- landcover_table$year[i]\n",
    "    \n",
    "    if(sample_year<1700){\n",
    "        landcover_table$lc_sample[i] <- landcover_table$lc1700[i]\n",
    "        } else if (sample_year<1750){\n",
    "        landcover_table$lc_sample[i] <- landcover_table$lc1750[i]\n",
    "        } else if (sample_year<1800){\n",
    "        landcover_table$lc_sample[i] <- landcover_table$lc1800[i]\n",
    "        } else if (sample_year<1850){\n",
    "        landcover_table$lc_sample[i] <- landcover_table$lc1850[i]\n",
    "        } else if (sample_year<1900){\n",
    "        landcover_table$lc_sample[i] <- landcover_table$lc1900[i]\n",
    "        } else if (sample_year<1950){\n",
    "        landcover_table$lc_sample[i] <- landcover_table$lc1950[i]\n",
    "        } else if (sample_year<1970){\n",
    "        landcover_table$lc_sample[i] <- landcover_table$lc1970[i]\n",
    "        } else if (sample_year<1990){\n",
    "        landcover_table$lc_sample[i] <- landcover_table$lc1990[i]\n",
    "    }\n",
    "}\n",
    "\n",
    "meteorite_LCs <- landcover_table[c(4,3,14)]\n",
    "                                 \n",
    "head(meteorite_LCs)"
   ]
  },
  {
   "cell_type": "code",
   "execution_count": 25,
   "id": "2252cbe4",
   "metadata": {},
   "outputs": [],
   "source": [
    "write.csv(meteorite_LCs,'data/results/meteorites_landcover.csv')"
   ]
  }
 ],
 "metadata": {
  "kernelspec": {
   "display_name": "R",
   "language": "R",
   "name": "ir"
  },
  "language_info": {
   "codemirror_mode": "r",
   "file_extension": ".r",
   "mimetype": "text/x-r-source",
   "name": "R",
   "pygments_lexer": "r",
   "version": "4.0.4"
  }
 },
 "nbformat": 4,
 "nbformat_minor": 5
}
