{
 "cells": [
  {
   "cell_type": "code",
   "execution_count": 5,
   "id": "7f9792d7",
   "metadata": {},
   "outputs": [],
   "source": [
    "import pandas as pd\n",
    "import numpy as np\n",
    "\n",
    "import matplotlib.pyplot as plt\n",
    "%matplotlib inline"
   ]
  },
  {
   "cell_type": "code",
   "execution_count": 20,
   "id": "d1a0f380",
   "metadata": {},
   "outputs": [],
   "source": [
    "cluster0 = pd.read_csv('data/results/kmodes_cluster0.csv', index_col=0)\n",
    "cluster1 = pd.read_csv('data/results/kmodes_cluster1.csv', index_col=0)\n",
    "cluster2 = pd.read_csv('data/results/kmodes_cluster2.csv', index_col=0)\n",
    "cluster3 = pd.read_csv('data/results/kmodes_cluster3.csv', index_col=0)\n",
    "cluster4 = pd.read_csv('data/results/kmodes_cluster4.csv', index_col=0)\n",
    "cluster5 = pd.read_csv('data/results/kmodes_cluster5.csv', index_col=0)\n",
    "cluster6 = pd.read_csv('data/results/kmodes_cluster6.csv', index_col=0)\n",
    "\n",
    "allclusters = pd.read_csv('data/results/meteorites_clustered.csv', index_col=0)\n",
    "\n",
    "\n"
   ]
  },
  {
   "cell_type": "markdown",
   "id": "04ffb252",
   "metadata": {},
   "source": [
    "# All Meteorites"
   ]
  },
  {
   "cell_type": "code",
   "execution_count": 21,
   "id": "44c9fc33",
   "metadata": {
    "scrolled": true
   },
   "outputs": [
    {
     "data": {
      "text/html": [
       "<div>\n",
       "<style scoped>\n",
       "    .dataframe tbody tr th:only-of-type {\n",
       "        vertical-align: middle;\n",
       "    }\n",
       "\n",
       "    .dataframe tbody tr th {\n",
       "        vertical-align: top;\n",
       "    }\n",
       "\n",
       "    .dataframe thead th {\n",
       "        text-align: right;\n",
       "    }\n",
       "</style>\n",
       "<table border=\"1\" class=\"dataframe\">\n",
       "  <thead>\n",
       "    <tr style=\"text-align: right;\">\n",
       "      <th></th>\n",
       "      <th>Cluster</th>\n",
       "      <th>mass</th>\n",
       "      <th>year</th>\n",
       "      <th>latitude</th>\n",
       "      <th>longitude</th>\n",
       "      <th>lc_sample</th>\n",
       "    </tr>\n",
       "  </thead>\n",
       "  <tbody>\n",
       "    <tr>\n",
       "      <th>count</th>\n",
       "      <td>9847.000000</td>\n",
       "      <td>9.847000e+03</td>\n",
       "      <td>9847.000000</td>\n",
       "      <td>9847.000000</td>\n",
       "      <td>9847.000000</td>\n",
       "      <td>9847.000000</td>\n",
       "    </tr>\n",
       "    <tr>\n",
       "      <th>mean</th>\n",
       "      <td>3.180156</td>\n",
       "      <td>5.438344e+04</td>\n",
       "      <td>1979.105921</td>\n",
       "      <td>20.483057</td>\n",
       "      <td>12.194281</td>\n",
       "      <td>9.510917</td>\n",
       "    </tr>\n",
       "    <tr>\n",
       "      <th>std</th>\n",
       "      <td>1.723127</td>\n",
       "      <td>1.088070e+06</td>\n",
       "      <td>44.799477</td>\n",
       "      <td>21.069679</td>\n",
       "      <td>69.720014</td>\n",
       "      <td>3.927985</td>\n",
       "    </tr>\n",
       "    <tr>\n",
       "      <th>min</th>\n",
       "      <td>0.000000</td>\n",
       "      <td>1.000000e-01</td>\n",
       "      <td>860.000000</td>\n",
       "      <td>-57.786670</td>\n",
       "      <td>-163.166670</td>\n",
       "      <td>0.000000</td>\n",
       "    </tr>\n",
       "    <tr>\n",
       "      <th>25%</th>\n",
       "      <td>2.000000</td>\n",
       "      <td>9.500000e+01</td>\n",
       "      <td>1975.000000</td>\n",
       "      <td>19.045300</td>\n",
       "      <td>-9.500000</td>\n",
       "      <td>11.000000</td>\n",
       "    </tr>\n",
       "    <tr>\n",
       "      <th>50%</th>\n",
       "      <td>4.000000</td>\n",
       "      <td>3.700000e+02</td>\n",
       "      <td>1998.000000</td>\n",
       "      <td>25.526110</td>\n",
       "      <td>16.388330</td>\n",
       "      <td>11.000000</td>\n",
       "    </tr>\n",
       "    <tr>\n",
       "      <th>75%</th>\n",
       "      <td>5.000000</td>\n",
       "      <td>2.157130e+03</td>\n",
       "      <td>2002.000000</td>\n",
       "      <td>31.833330</td>\n",
       "      <td>55.646325</td>\n",
       "      <td>11.000000</td>\n",
       "    </tr>\n",
       "    <tr>\n",
       "      <th>max</th>\n",
       "      <td>6.000000</td>\n",
       "      <td>6.000000e+07</td>\n",
       "      <td>2013.000000</td>\n",
       "      <td>66.400000</td>\n",
       "      <td>178.083330</td>\n",
       "      <td>18.000000</td>\n",
       "    </tr>\n",
       "  </tbody>\n",
       "</table>\n",
       "</div>"
      ],
      "text/plain": [
       "           Cluster          mass         year     latitude    longitude  \\\n",
       "count  9847.000000  9.847000e+03  9847.000000  9847.000000  9847.000000   \n",
       "mean      3.180156  5.438344e+04  1979.105921    20.483057    12.194281   \n",
       "std       1.723127  1.088070e+06    44.799477    21.069679    69.720014   \n",
       "min       0.000000  1.000000e-01   860.000000   -57.786670  -163.166670   \n",
       "25%       2.000000  9.500000e+01  1975.000000    19.045300    -9.500000   \n",
       "50%       4.000000  3.700000e+02  1998.000000    25.526110    16.388330   \n",
       "75%       5.000000  2.157130e+03  2002.000000    31.833330    55.646325   \n",
       "max       6.000000  6.000000e+07  2013.000000    66.400000   178.083330   \n",
       "\n",
       "         lc_sample  \n",
       "count  9847.000000  \n",
       "mean      9.510917  \n",
       "std       3.927985  \n",
       "min       0.000000  \n",
       "25%      11.000000  \n",
       "50%      11.000000  \n",
       "75%      11.000000  \n",
       "max      18.000000  "
      ]
     },
     "execution_count": 21,
     "metadata": {},
     "output_type": "execute_result"
    }
   ],
   "source": [
    "allclusters.describe()"
   ]
  },
  {
   "cell_type": "code",
   "execution_count": 24,
   "id": "dbb19673",
   "metadata": {
    "scrolled": true
   },
   "outputs": [
    {
     "data": {
      "text/plain": [
       "<matplotlib.collections.PathCollection at 0x7f81716610a0>"
      ]
     },
     "execution_count": 24,
     "metadata": {},
     "output_type": "execute_result"
    },
    {
     "data": {
      "image/png": "[encoded data removed]",
      "text/plain": [
       "<Figure size 432x288 with 1 Axes>"
      ]
     },
     "metadata": {
      "needs_background": "light"
     },
     "output_type": "display_data"
    }
   ],
   "source": [
    "plt.scatter(allclusters.longitude,allclusters.latitude, c = allclusters.Cluster)\n"
   ]
  },
  {
   "cell_type": "markdown",
   "id": "67a7bb74",
   "metadata": {},
   "source": [
    "# Cluster 0"
   ]
  },
  {
   "cell_type": "code",
   "execution_count": 7,
   "id": "974ed394",
   "metadata": {
    "scrolled": true
   },
   "outputs": [
    {
     "data": {
      "text/html": [
       "<div>\n",
       "<style scoped>\n",
       "    .dataframe tbody tr th:only-of-type {\n",
       "        vertical-align: middle;\n",
       "    }\n",
       "\n",
       "    .dataframe tbody tr th {\n",
       "        vertical-align: top;\n",
       "    }\n",
       "\n",
       "    .dataframe thead th {\n",
       "        text-align: right;\n",
       "    }\n",
       "</style>\n",
       "<table border=\"1\" class=\"dataframe\">\n",
       "  <thead>\n",
       "    <tr style=\"text-align: right;\">\n",
       "      <th></th>\n",
       "      <th>Cluster</th>\n",
       "      <th>mass</th>\n",
       "      <th>year</th>\n",
       "      <th>latitude</th>\n",
       "      <th>longitude</th>\n",
       "      <th>lc_sample</th>\n",
       "    </tr>\n",
       "  </thead>\n",
       "  <tbody>\n",
       "    <tr>\n",
       "      <th>count</th>\n",
       "      <td>962.0</td>\n",
       "      <td>9.620000e+02</td>\n",
       "      <td>962.000000</td>\n",
       "      <td>962.000000</td>\n",
       "      <td>962.000000</td>\n",
       "      <td>962.000000</td>\n",
       "    </tr>\n",
       "    <tr>\n",
       "      <th>mean</th>\n",
       "      <td>0.0</td>\n",
       "      <td>1.887225e+04</td>\n",
       "      <td>1917.739085</td>\n",
       "      <td>30.656773</td>\n",
       "      <td>7.291849</td>\n",
       "      <td>5.223493</td>\n",
       "    </tr>\n",
       "    <tr>\n",
       "      <th>std</th>\n",
       "      <td>0.0</td>\n",
       "      <td>8.683449e+04</td>\n",
       "      <td>65.453413</td>\n",
       "      <td>22.852712</td>\n",
       "      <td>74.678904</td>\n",
       "      <td>5.541345</td>\n",
       "    </tr>\n",
       "    <tr>\n",
       "      <th>min</th>\n",
       "      <td>0.0</td>\n",
       "      <td>1.000000e-01</td>\n",
       "      <td>860.000000</td>\n",
       "      <td>-44.116670</td>\n",
       "      <td>-157.866670</td>\n",
       "      <td>0.000000</td>\n",
       "    </tr>\n",
       "    <tr>\n",
       "      <th>25%</th>\n",
       "      <td>0.0</td>\n",
       "      <td>5.425000e+02</td>\n",
       "      <td>1880.000000</td>\n",
       "      <td>24.308332</td>\n",
       "      <td>-72.667708</td>\n",
       "      <td>1.000000</td>\n",
       "    </tr>\n",
       "    <tr>\n",
       "      <th>50%</th>\n",
       "      <td>0.0</td>\n",
       "      <td>2.260000e+03</td>\n",
       "      <td>1929.500000</td>\n",
       "      <td>35.766665</td>\n",
       "      <td>13.928750</td>\n",
       "      <td>2.000000</td>\n",
       "    </tr>\n",
       "    <tr>\n",
       "      <th>75%</th>\n",
       "      <td>0.0</td>\n",
       "      <td>8.176250e+03</td>\n",
       "      <td>1963.000000</td>\n",
       "      <td>46.062503</td>\n",
       "      <td>72.245833</td>\n",
       "      <td>11.000000</td>\n",
       "    </tr>\n",
       "    <tr>\n",
       "      <th>max</th>\n",
       "      <td>0.0</td>\n",
       "      <td>2.000000e+06</td>\n",
       "      <td>2012.000000</td>\n",
       "      <td>66.348330</td>\n",
       "      <td>174.400000</td>\n",
       "      <td>18.000000</td>\n",
       "    </tr>\n",
       "  </tbody>\n",
       "</table>\n",
       "</div>"
      ],
      "text/plain": [
       "       Cluster          mass         year    latitude   longitude   lc_sample\n",
       "count    962.0  9.620000e+02   962.000000  962.000000  962.000000  962.000000\n",
       "mean       0.0  1.887225e+04  1917.739085   30.656773    7.291849    5.223493\n",
       "std        0.0  8.683449e+04    65.453413   22.852712   74.678904    5.541345\n",
       "min        0.0  1.000000e-01   860.000000  -44.116670 -157.866670    0.000000\n",
       "25%        0.0  5.425000e+02  1880.000000   24.308332  -72.667708    1.000000\n",
       "50%        0.0  2.260000e+03  1929.500000   35.766665   13.928750    2.000000\n",
       "75%        0.0  8.176250e+03  1963.000000   46.062503   72.245833   11.000000\n",
       "max        0.0  2.000000e+06  2012.000000   66.348330  174.400000   18.000000"
      ]
     },
     "execution_count": 7,
     "metadata": {},
     "output_type": "execute_result"
    }
   ],
   "source": [
    "cluster0.describe()"
   ]
  },
  {
   "cell_type": "code",
   "execution_count": 8,
   "id": "5201fabb",
   "metadata": {
    "scrolled": true
   },
   "outputs": [
    {
     "data": {
      "text/plain": [
       "<matplotlib.collections.PathCollection at 0x7f8170c80c40>"
      ]
     },
     "execution_count": 8,
     "metadata": {},
     "output_type": "execute_result"
    },
    {
     "data": {
      "image/png": "[encoded data removed]",
      "text/plain": [
       "<Figure size 432x288 with 1 Axes>"
      ]
     },
     "metadata": {
      "needs_background": "light"
     },
     "output_type": "display_data"
    }
   ],
   "source": [
    "plt.scatter(cluster0.longitude,cluster0.latitude)\n"
   ]
  },
  {
   "cell_type": "markdown",
   "id": "19a06a13",
   "metadata": {},
   "source": [
    "# Cluster 1"
   ]
  },
  {
   "cell_type": "code",
   "execution_count": 9,
   "id": "f7a0fd67",
   "metadata": {
    "scrolled": true
   },
   "outputs": [
    {
     "data": {
      "text/html": [
       "<div>\n",
       "<style scoped>\n",
       "    .dataframe tbody tr th:only-of-type {\n",
       "        vertical-align: middle;\n",
       "    }\n",
       "\n",
       "    .dataframe tbody tr th {\n",
       "        vertical-align: top;\n",
       "    }\n",
       "\n",
       "    .dataframe thead th {\n",
       "        text-align: right;\n",
       "    }\n",
       "</style>\n",
       "<table border=\"1\" class=\"dataframe\">\n",
       "  <thead>\n",
       "    <tr style=\"text-align: right;\">\n",
       "      <th></th>\n",
       "      <th>Cluster</th>\n",
       "      <th>mass</th>\n",
       "      <th>year</th>\n",
       "      <th>latitude</th>\n",
       "      <th>longitude</th>\n",
       "      <th>lc_sample</th>\n",
       "    </tr>\n",
       "  </thead>\n",
       "  <tbody>\n",
       "    <tr>\n",
       "      <th>count</th>\n",
       "      <td>1273.0</td>\n",
       "      <td>1.273000e+03</td>\n",
       "      <td>1273.000000</td>\n",
       "      <td>1273.000000</td>\n",
       "      <td>1273.000000</td>\n",
       "      <td>1273.000000</td>\n",
       "    </tr>\n",
       "    <tr>\n",
       "      <th>mean</th>\n",
       "      <td>1.0</td>\n",
       "      <td>3.778765e+05</td>\n",
       "      <td>1940.915947</td>\n",
       "      <td>21.160598</td>\n",
       "      <td>-8.166759</td>\n",
       "      <td>8.269442</td>\n",
       "    </tr>\n",
       "    <tr>\n",
       "      <th>std</th>\n",
       "      <td>0.0</td>\n",
       "      <td>3.002993e+06</td>\n",
       "      <td>58.060178</td>\n",
       "      <td>27.225607</td>\n",
       "      <td>86.797344</td>\n",
       "      <td>5.058508</td>\n",
       "    </tr>\n",
       "    <tr>\n",
       "      <th>min</th>\n",
       "      <td>1.0</td>\n",
       "      <td>1.000000e+00</td>\n",
       "      <td>1399.000000</td>\n",
       "      <td>-57.786670</td>\n",
       "      <td>-163.166670</td>\n",
       "      <td>0.000000</td>\n",
       "    </tr>\n",
       "    <tr>\n",
       "      <th>25%</th>\n",
       "      <td>1.0</td>\n",
       "      <td>4.850000e+02</td>\n",
       "      <td>1900.000000</td>\n",
       "      <td>18.533330</td>\n",
       "      <td>-92.786940</td>\n",
       "      <td>2.000000</td>\n",
       "    </tr>\n",
       "    <tr>\n",
       "      <th>50%</th>\n",
       "      <td>1.0</td>\n",
       "      <td>7.000000e+03</td>\n",
       "      <td>1950.000000</td>\n",
       "      <td>29.500000</td>\n",
       "      <td>-3.183330</td>\n",
       "      <td>11.000000</td>\n",
       "    </tr>\n",
       "    <tr>\n",
       "      <th>75%</th>\n",
       "      <td>1.0</td>\n",
       "      <td>4.100000e+04</td>\n",
       "      <td>1994.000000</td>\n",
       "      <td>38.200000</td>\n",
       "      <td>56.416280</td>\n",
       "      <td>11.000000</td>\n",
       "    </tr>\n",
       "    <tr>\n",
       "      <th>max</th>\n",
       "      <td>1.0</td>\n",
       "      <td>6.000000e+07</td>\n",
       "      <td>2012.000000</td>\n",
       "      <td>66.400000</td>\n",
       "      <td>178.083330</td>\n",
       "      <td>18.000000</td>\n",
       "    </tr>\n",
       "  </tbody>\n",
       "</table>\n",
       "</div>"
      ],
      "text/plain": [
       "       Cluster          mass         year     latitude    longitude  \\\n",
       "count   1273.0  1.273000e+03  1273.000000  1273.000000  1273.000000   \n",
       "mean       1.0  3.778765e+05  1940.915947    21.160598    -8.166759   \n",
       "std        0.0  3.002993e+06    58.060178    27.225607    86.797344   \n",
       "min        1.0  1.000000e+00  1399.000000   -57.786670  -163.166670   \n",
       "25%        1.0  4.850000e+02  1900.000000    18.533330   -92.786940   \n",
       "50%        1.0  7.000000e+03  1950.000000    29.500000    -3.183330   \n",
       "75%        1.0  4.100000e+04  1994.000000    38.200000    56.416280   \n",
       "max        1.0  6.000000e+07  2012.000000    66.400000   178.083330   \n",
       "\n",
       "         lc_sample  \n",
       "count  1273.000000  \n",
       "mean      8.269442  \n",
       "std       5.058508  \n",
       "min       0.000000  \n",
       "25%       2.000000  \n",
       "50%      11.000000  \n",
       "75%      11.000000  \n",
       "max      18.000000  "
      ]
     },
     "execution_count": 9,
     "metadata": {},
     "output_type": "execute_result"
    }
   ],
   "source": [
    "cluster1.describe()"
   ]
  },
  {
   "cell_type": "code",
   "execution_count": 10,
   "id": "707b3326",
   "metadata": {
    "scrolled": true
   },
   "outputs": [
    {
     "data": {
      "text/plain": [
       "<matplotlib.collections.PathCollection at 0x7f8170eb73d0>"
      ]
     },
     "execution_count": 10,
     "metadata": {},
     "output_type": "execute_result"
    },
    {
     "data": {
      "image/png": "[encoded data removed]",
      "text/plain": [
       "<Figure size 432x288 with 1 Axes>"
      ]
     },
     "metadata": {
      "needs_background": "light"
     },
     "output_type": "display_data"
    }
   ],
   "source": [
    "plt.scatter(cluster1.longitude,cluster1.latitude)\n"
   ]
  },
  {
   "cell_type": "markdown",
   "id": "f66d143d",
   "metadata": {},
   "source": [
    "# Cluster 2"
   ]
  },
  {
   "cell_type": "code",
   "execution_count": 7,
   "id": "11c225ad",
   "metadata": {
    "scrolled": true
   },
   "outputs": [
    {
     "data": {
      "text/html": [
       "<div>\n",
       "<style scoped>\n",
       "    .dataframe tbody tr th:only-of-type {\n",
       "        vertical-align: middle;\n",
       "    }\n",
       "\n",
       "    .dataframe tbody tr th {\n",
       "        vertical-align: top;\n",
       "    }\n",
       "\n",
       "    .dataframe thead th {\n",
       "        text-align: right;\n",
       "    }\n",
       "</style>\n",
       "<table border=\"1\" class=\"dataframe\">\n",
       "  <thead>\n",
       "    <tr style=\"text-align: right;\">\n",
       "      <th></th>\n",
       "      <th>Cluster</th>\n",
       "      <th>mass</th>\n",
       "      <th>year</th>\n",
       "      <th>latitude</th>\n",
       "      <th>longitude</th>\n",
       "      <th>lc_sample</th>\n",
       "    </tr>\n",
       "  </thead>\n",
       "  <tbody>\n",
       "    <tr>\n",
       "      <th>count</th>\n",
       "      <td>962.0</td>\n",
       "      <td>9.620000e+02</td>\n",
       "      <td>962.000000</td>\n",
       "      <td>962.000000</td>\n",
       "      <td>962.000000</td>\n",
       "      <td>962.000000</td>\n",
       "    </tr>\n",
       "    <tr>\n",
       "      <th>mean</th>\n",
       "      <td>0.0</td>\n",
       "      <td>1.887225e+04</td>\n",
       "      <td>1917.739085</td>\n",
       "      <td>30.656773</td>\n",
       "      <td>7.291849</td>\n",
       "      <td>5.223493</td>\n",
       "    </tr>\n",
       "    <tr>\n",
       "      <th>std</th>\n",
       "      <td>0.0</td>\n",
       "      <td>8.683449e+04</td>\n",
       "      <td>65.453413</td>\n",
       "      <td>22.852712</td>\n",
       "      <td>74.678904</td>\n",
       "      <td>5.541345</td>\n",
       "    </tr>\n",
       "    <tr>\n",
       "      <th>min</th>\n",
       "      <td>0.0</td>\n",
       "      <td>1.000000e-01</td>\n",
       "      <td>860.000000</td>\n",
       "      <td>-44.116670</td>\n",
       "      <td>-157.866670</td>\n",
       "      <td>0.000000</td>\n",
       "    </tr>\n",
       "    <tr>\n",
       "      <th>25%</th>\n",
       "      <td>0.0</td>\n",
       "      <td>5.425000e+02</td>\n",
       "      <td>1880.000000</td>\n",
       "      <td>24.308332</td>\n",
       "      <td>-72.667708</td>\n",
       "      <td>1.000000</td>\n",
       "    </tr>\n",
       "    <tr>\n",
       "      <th>50%</th>\n",
       "      <td>0.0</td>\n",
       "      <td>2.260000e+03</td>\n",
       "      <td>1929.500000</td>\n",
       "      <td>35.766665</td>\n",
       "      <td>13.928750</td>\n",
       "      <td>2.000000</td>\n",
       "    </tr>\n",
       "    <tr>\n",
       "      <th>75%</th>\n",
       "      <td>0.0</td>\n",
       "      <td>8.176250e+03</td>\n",
       "      <td>1963.000000</td>\n",
       "      <td>46.062503</td>\n",
       "      <td>72.245833</td>\n",
       "      <td>11.000000</td>\n",
       "    </tr>\n",
       "    <tr>\n",
       "      <th>max</th>\n",
       "      <td>0.0</td>\n",
       "      <td>2.000000e+06</td>\n",
       "      <td>2012.000000</td>\n",
       "      <td>66.348330</td>\n",
       "      <td>174.400000</td>\n",
       "      <td>18.000000</td>\n",
       "    </tr>\n",
       "  </tbody>\n",
       "</table>\n",
       "</div>"
      ],
      "text/plain": [
       "       Cluster          mass         year    latitude   longitude   lc_sample\n",
       "count    962.0  9.620000e+02   962.000000  962.000000  962.000000  962.000000\n",
       "mean       0.0  1.887225e+04  1917.739085   30.656773    7.291849    5.223493\n",
       "std        0.0  8.683449e+04    65.453413   22.852712   74.678904    5.541345\n",
       "min        0.0  1.000000e-01   860.000000  -44.116670 -157.866670    0.000000\n",
       "25%        0.0  5.425000e+02  1880.000000   24.308332  -72.667708    1.000000\n",
       "50%        0.0  2.260000e+03  1929.500000   35.766665   13.928750    2.000000\n",
       "75%        0.0  8.176250e+03  1963.000000   46.062503   72.245833   11.000000\n",
       "max        0.0  2.000000e+06  2012.000000   66.348330  174.400000   18.000000"
      ]
     },
     "execution_count": 7,
     "metadata": {},
     "output_type": "execute_result"
    }
   ],
   "source": [
    "cluster2.describe()"
   ]
  },
  {
   "cell_type": "code",
   "execution_count": 11,
   "id": "0dc1c2b6",
   "metadata": {
    "scrolled": true
   },
   "outputs": [
    {
     "data": {
      "text/plain": [
       "<matplotlib.collections.PathCollection at 0x7f817103b790>"
      ]
     },
     "execution_count": 11,
     "metadata": {},
     "output_type": "execute_result"
    },
    {
     "data": {
      "image/png": "[encoded data removed]",
      "text/plain": [
       "<Figure size 432x288 with 1 Axes>"
      ]
     },
     "metadata": {
      "needs_background": "light"
     },
     "output_type": "display_data"
    }
   ],
   "source": [
    "plt.scatter(cluster2.longitude,cluster2.latitude)\n"
   ]
  },
  {
   "cell_type": "markdown",
   "id": "0166a3ae",
   "metadata": {},
   "source": [
    "# Cluster 3"
   ]
  },
  {
   "cell_type": "code",
   "execution_count": 12,
   "id": "163249c9",
   "metadata": {
    "scrolled": true
   },
   "outputs": [
    {
     "data": {
      "text/html": [
       "<div>\n",
       "<style scoped>\n",
       "    .dataframe tbody tr th:only-of-type {\n",
       "        vertical-align: middle;\n",
       "    }\n",
       "\n",
       "    .dataframe tbody tr th {\n",
       "        vertical-align: top;\n",
       "    }\n",
       "\n",
       "    .dataframe thead th {\n",
       "        text-align: right;\n",
       "    }\n",
       "</style>\n",
       "<table border=\"1\" class=\"dataframe\">\n",
       "  <thead>\n",
       "    <tr style=\"text-align: right;\">\n",
       "      <th></th>\n",
       "      <th>Cluster</th>\n",
       "      <th>mass</th>\n",
       "      <th>year</th>\n",
       "      <th>latitude</th>\n",
       "      <th>longitude</th>\n",
       "      <th>lc_sample</th>\n",
       "    </tr>\n",
       "  </thead>\n",
       "  <tbody>\n",
       "    <tr>\n",
       "      <th>count</th>\n",
       "      <td>1241.0</td>\n",
       "      <td>1241.000000</td>\n",
       "      <td>1241.000000</td>\n",
       "      <td>1241.000000</td>\n",
       "      <td>1241.000000</td>\n",
       "      <td>1241.000000</td>\n",
       "    </tr>\n",
       "    <tr>\n",
       "      <th>mean</th>\n",
       "      <td>3.0</td>\n",
       "      <td>2298.622811</td>\n",
       "      <td>1998.117647</td>\n",
       "      <td>22.111072</td>\n",
       "      <td>25.491074</td>\n",
       "      <td>10.962127</td>\n",
       "    </tr>\n",
       "    <tr>\n",
       "      <th>std</th>\n",
       "      <td>0.0</td>\n",
       "      <td>17718.447221</td>\n",
       "      <td>18.569417</td>\n",
       "      <td>13.461979</td>\n",
       "      <td>49.000834</td>\n",
       "      <td>0.933783</td>\n",
       "    </tr>\n",
       "    <tr>\n",
       "      <th>min</th>\n",
       "      <td>3.0</td>\n",
       "      <td>0.100000</td>\n",
       "      <td>1491.000000</td>\n",
       "      <td>-39.066670</td>\n",
       "      <td>-146.266670</td>\n",
       "      <td>0.000000</td>\n",
       "    </tr>\n",
       "    <tr>\n",
       "      <th>25%</th>\n",
       "      <td>3.0</td>\n",
       "      <td>93.000000</td>\n",
       "      <td>1999.000000</td>\n",
       "      <td>18.980000</td>\n",
       "      <td>12.886830</td>\n",
       "      <td>11.000000</td>\n",
       "    </tr>\n",
       "    <tr>\n",
       "      <th>50%</th>\n",
       "      <td>3.0</td>\n",
       "      <td>232.000000</td>\n",
       "      <td>2000.000000</td>\n",
       "      <td>25.392220</td>\n",
       "      <td>16.494330</td>\n",
       "      <td>11.000000</td>\n",
       "    </tr>\n",
       "    <tr>\n",
       "      <th>75%</th>\n",
       "      <td>3.0</td>\n",
       "      <td>686.000000</td>\n",
       "      <td>2000.000000</td>\n",
       "      <td>27.504720</td>\n",
       "      <td>54.714780</td>\n",
       "      <td>11.000000</td>\n",
       "    </tr>\n",
       "    <tr>\n",
       "      <th>max</th>\n",
       "      <td>3.0</td>\n",
       "      <td>450000.000000</td>\n",
       "      <td>2013.000000</td>\n",
       "      <td>65.383330</td>\n",
       "      <td>174.500430</td>\n",
       "      <td>14.000000</td>\n",
       "    </tr>\n",
       "  </tbody>\n",
       "</table>\n",
       "</div>"
      ],
      "text/plain": [
       "       Cluster           mass         year     latitude    longitude  \\\n",
       "count   1241.0    1241.000000  1241.000000  1241.000000  1241.000000   \n",
       "mean       3.0    2298.622811  1998.117647    22.111072    25.491074   \n",
       "std        0.0   17718.447221    18.569417    13.461979    49.000834   \n",
       "min        3.0       0.100000  1491.000000   -39.066670  -146.266670   \n",
       "25%        3.0      93.000000  1999.000000    18.980000    12.886830   \n",
       "50%        3.0     232.000000  2000.000000    25.392220    16.494330   \n",
       "75%        3.0     686.000000  2000.000000    27.504720    54.714780   \n",
       "max        3.0  450000.000000  2013.000000    65.383330   174.500430   \n",
       "\n",
       "         lc_sample  \n",
       "count  1241.000000  \n",
       "mean     10.962127  \n",
       "std       0.933783  \n",
       "min       0.000000  \n",
       "25%      11.000000  \n",
       "50%      11.000000  \n",
       "75%      11.000000  \n",
       "max      14.000000  "
      ]
     },
     "execution_count": 12,
     "metadata": {},
     "output_type": "execute_result"
    }
   ],
   "source": [
    "cluster3.describe()"
   ]
  },
  {
   "cell_type": "code",
   "execution_count": 13,
   "id": "9b8d14dd",
   "metadata": {
    "scrolled": true
   },
   "outputs": [
    {
     "data": {
      "text/plain": [
       "<matplotlib.collections.PathCollection at 0x7f81710026a0>"
      ]
     },
     "execution_count": 13,
     "metadata": {},
     "output_type": "execute_result"
    },
    {
     "data": {
      "image/png": "[encoded data removed]",
      "text/plain": [
       "<Figure size 432x288 with 1 Axes>"
      ]
     },
     "metadata": {
      "needs_background": "light"
     },
     "output_type": "display_data"
    }
   ],
   "source": [
    "plt.scatter(cluster3.longitude,cluster3.latitude)\n"
   ]
  },
  {
   "cell_type": "markdown",
   "id": "ca4ecd02",
   "metadata": {},
   "source": [
    "# Cluster 4"
   ]
  },
  {
   "cell_type": "code",
   "execution_count": 14,
   "id": "2e33e364",
   "metadata": {
    "scrolled": true
   },
   "outputs": [
    {
     "data": {
      "text/html": [
       "<div>\n",
       "<style scoped>\n",
       "    .dataframe tbody tr th:only-of-type {\n",
       "        vertical-align: middle;\n",
       "    }\n",
       "\n",
       "    .dataframe tbody tr th {\n",
       "        vertical-align: top;\n",
       "    }\n",
       "\n",
       "    .dataframe thead th {\n",
       "        text-align: right;\n",
       "    }\n",
       "</style>\n",
       "<table border=\"1\" class=\"dataframe\">\n",
       "  <thead>\n",
       "    <tr style=\"text-align: right;\">\n",
       "      <th></th>\n",
       "      <th>Cluster</th>\n",
       "      <th>mass</th>\n",
       "      <th>year</th>\n",
       "      <th>latitude</th>\n",
       "      <th>longitude</th>\n",
       "      <th>lc_sample</th>\n",
       "    </tr>\n",
       "  </thead>\n",
       "  <tbody>\n",
       "    <tr>\n",
       "      <th>count</th>\n",
       "      <td>2388.0</td>\n",
       "      <td>2.388000e+03</td>\n",
       "      <td>2388.000000</td>\n",
       "      <td>2388.000000</td>\n",
       "      <td>2388.000000</td>\n",
       "      <td>2388.000000</td>\n",
       "    </tr>\n",
       "    <tr>\n",
       "      <th>mean</th>\n",
       "      <td>4.0</td>\n",
       "      <td>3.735885e+03</td>\n",
       "      <td>1998.568677</td>\n",
       "      <td>16.422736</td>\n",
       "      <td>21.734924</td>\n",
       "      <td>11.202261</td>\n",
       "    </tr>\n",
       "    <tr>\n",
       "      <th>std</th>\n",
       "      <td>0.0</td>\n",
       "      <td>4.673996e+04</td>\n",
       "      <td>15.779160</td>\n",
       "      <td>19.795295</td>\n",
       "      <td>60.052558</td>\n",
       "      <td>1.002993</td>\n",
       "    </tr>\n",
       "    <tr>\n",
       "      <th>min</th>\n",
       "      <td>4.0</td>\n",
       "      <td>1.800000e-01</td>\n",
       "      <td>1838.000000</td>\n",
       "      <td>-40.800000</td>\n",
       "      <td>-121.405000</td>\n",
       "      <td>0.000000</td>\n",
       "    </tr>\n",
       "    <tr>\n",
       "      <th>25%</th>\n",
       "      <td>4.0</td>\n",
       "      <td>6.295000e+01</td>\n",
       "      <td>1997.000000</td>\n",
       "      <td>18.921688</td>\n",
       "      <td>4.245832</td>\n",
       "      <td>11.000000</td>\n",
       "    </tr>\n",
       "    <tr>\n",
       "      <th>50%</th>\n",
       "      <td>4.0</td>\n",
       "      <td>2.230000e+02</td>\n",
       "      <td>2001.000000</td>\n",
       "      <td>20.494450</td>\n",
       "      <td>53.994615</td>\n",
       "      <td>11.000000</td>\n",
       "    </tr>\n",
       "    <tr>\n",
       "      <th>75%</th>\n",
       "      <td>4.0</td>\n",
       "      <td>7.527500e+02</td>\n",
       "      <td>2008.000000</td>\n",
       "      <td>27.561045</td>\n",
       "      <td>55.884565</td>\n",
       "      <td>11.000000</td>\n",
       "    </tr>\n",
       "    <tr>\n",
       "      <th>max</th>\n",
       "      <td>4.0</td>\n",
       "      <td>1.750000e+06</td>\n",
       "      <td>2012.000000</td>\n",
       "      <td>63.300000</td>\n",
       "      <td>144.783330</td>\n",
       "      <td>17.000000</td>\n",
       "    </tr>\n",
       "  </tbody>\n",
       "</table>\n",
       "</div>"
      ],
      "text/plain": [
       "       Cluster          mass         year     latitude    longitude  \\\n",
       "count   2388.0  2.388000e+03  2388.000000  2388.000000  2388.000000   \n",
       "mean       4.0  3.735885e+03  1998.568677    16.422736    21.734924   \n",
       "std        0.0  4.673996e+04    15.779160    19.795295    60.052558   \n",
       "min        4.0  1.800000e-01  1838.000000   -40.800000  -121.405000   \n",
       "25%        4.0  6.295000e+01  1997.000000    18.921688     4.245832   \n",
       "50%        4.0  2.230000e+02  2001.000000    20.494450    53.994615   \n",
       "75%        4.0  7.527500e+02  2008.000000    27.561045    55.884565   \n",
       "max        4.0  1.750000e+06  2012.000000    63.300000   144.783330   \n",
       "\n",
       "         lc_sample  \n",
       "count  2388.000000  \n",
       "mean     11.202261  \n",
       "std       1.002993  \n",
       "min       0.000000  \n",
       "25%      11.000000  \n",
       "50%      11.000000  \n",
       "75%      11.000000  \n",
       "max      17.000000  "
      ]
     },
     "execution_count": 14,
     "metadata": {},
     "output_type": "execute_result"
    }
   ],
   "source": [
    "cluster4.describe()"
   ]
  },
  {
   "cell_type": "code",
   "execution_count": 15,
   "id": "75fa579d",
   "metadata": {
    "scrolled": true
   },
   "outputs": [
    {
     "data": {
      "text/plain": [
       "<matplotlib.collections.PathCollection at 0x7f81711d4e20>"
      ]
     },
     "execution_count": 15,
     "metadata": {},
     "output_type": "execute_result"
    },
    {
     "data": {
      "image/png": "[encoded data removed]",
      "text/plain": [
       "<Figure size 432x288 with 1 Axes>"
      ]
     },
     "metadata": {
      "needs_background": "light"
     },
     "output_type": "display_data"
    }
   ],
   "source": [
    "plt.scatter(cluster4.longitude,cluster4.latitude)\n"
   ]
  },
  {
   "cell_type": "markdown",
   "id": "65698cf9",
   "metadata": {},
   "source": [
    "# Cluster 5"
   ]
  },
  {
   "cell_type": "code",
   "execution_count": 16,
   "id": "50358aca",
   "metadata": {
    "scrolled": true
   },
   "outputs": [
    {
     "data": {
      "text/html": [
       "<div>\n",
       "<style scoped>\n",
       "    .dataframe tbody tr th:only-of-type {\n",
       "        vertical-align: middle;\n",
       "    }\n",
       "\n",
       "    .dataframe tbody tr th {\n",
       "        vertical-align: top;\n",
       "    }\n",
       "\n",
       "    .dataframe thead th {\n",
       "        text-align: right;\n",
       "    }\n",
       "</style>\n",
       "<table border=\"1\" class=\"dataframe\">\n",
       "  <thead>\n",
       "    <tr style=\"text-align: right;\">\n",
       "      <th></th>\n",
       "      <th>Cluster</th>\n",
       "      <th>mass</th>\n",
       "      <th>year</th>\n",
       "      <th>latitude</th>\n",
       "      <th>longitude</th>\n",
       "      <th>lc_sample</th>\n",
       "    </tr>\n",
       "  </thead>\n",
       "  <tbody>\n",
       "    <tr>\n",
       "      <th>count</th>\n",
       "      <td>2723.0</td>\n",
       "      <td>2.723000e+03</td>\n",
       "      <td>2723.000000</td>\n",
       "      <td>2723.000000</td>\n",
       "      <td>2723.000000</td>\n",
       "      <td>2723.0</td>\n",
       "    </tr>\n",
       "    <tr>\n",
       "      <th>mean</th>\n",
       "      <td>5.0</td>\n",
       "      <td>2.364768e+03</td>\n",
       "      <td>1999.474477</td>\n",
       "      <td>19.497684</td>\n",
       "      <td>22.899585</td>\n",
       "      <td>11.0</td>\n",
       "    </tr>\n",
       "    <tr>\n",
       "      <th>std</th>\n",
       "      <td>0.0</td>\n",
       "      <td>2.400988e+04</td>\n",
       "      <td>17.114248</td>\n",
       "      <td>16.630526</td>\n",
       "      <td>56.061253</td>\n",
       "      <td>0.0</td>\n",
       "    </tr>\n",
       "    <tr>\n",
       "      <th>min</th>\n",
       "      <td>5.0</td>\n",
       "      <td>2.000000e-01</td>\n",
       "      <td>1741.000000</td>\n",
       "      <td>-40.533330</td>\n",
       "      <td>-123.500000</td>\n",
       "      <td>11.0</td>\n",
       "    </tr>\n",
       "    <tr>\n",
       "      <th>25%</th>\n",
       "      <td>5.0</td>\n",
       "      <td>6.155000e+01</td>\n",
       "      <td>1997.000000</td>\n",
       "      <td>19.044065</td>\n",
       "      <td>4.483330</td>\n",
       "      <td>11.0</td>\n",
       "    </tr>\n",
       "    <tr>\n",
       "      <th>50%</th>\n",
       "      <td>5.0</td>\n",
       "      <td>1.900000e+02</td>\n",
       "      <td>2001.000000</td>\n",
       "      <td>20.599470</td>\n",
       "      <td>53.994370</td>\n",
       "      <td>11.0</td>\n",
       "    </tr>\n",
       "    <tr>\n",
       "      <th>75%</th>\n",
       "      <td>5.0</td>\n",
       "      <td>6.367000e+02</td>\n",
       "      <td>2006.000000</td>\n",
       "      <td>27.520140</td>\n",
       "      <td>55.563200</td>\n",
       "      <td>11.0</td>\n",
       "    </tr>\n",
       "    <tr>\n",
       "      <th>max</th>\n",
       "      <td>5.0</td>\n",
       "      <td>1.100000e+06</td>\n",
       "      <td>2012.000000</td>\n",
       "      <td>57.533330</td>\n",
       "      <td>142.444670</td>\n",
       "      <td>11.0</td>\n",
       "    </tr>\n",
       "  </tbody>\n",
       "</table>\n",
       "</div>"
      ],
      "text/plain": [
       "       Cluster          mass         year     latitude    longitude  lc_sample\n",
       "count   2723.0  2.723000e+03  2723.000000  2723.000000  2723.000000     2723.0\n",
       "mean       5.0  2.364768e+03  1999.474477    19.497684    22.899585       11.0\n",
       "std        0.0  2.400988e+04    17.114248    16.630526    56.061253        0.0\n",
       "min        5.0  2.000000e-01  1741.000000   -40.533330  -123.500000       11.0\n",
       "25%        5.0  6.155000e+01  1997.000000    19.044065     4.483330       11.0\n",
       "50%        5.0  1.900000e+02  2001.000000    20.599470    53.994370       11.0\n",
       "75%        5.0  6.367000e+02  2006.000000    27.520140    55.563200       11.0\n",
       "max        5.0  1.100000e+06  2012.000000    57.533330   142.444670       11.0"
      ]
     },
     "execution_count": 16,
     "metadata": {},
     "output_type": "execute_result"
    }
   ],
   "source": [
    "cluster5.describe()"
   ]
  },
  {
   "cell_type": "code",
   "execution_count": 17,
   "id": "3e5c5c99",
   "metadata": {
    "scrolled": true
   },
   "outputs": [
    {
     "data": {
      "text/plain": [
       "<matplotlib.collections.PathCollection at 0x7f81714198e0>"
      ]
     },
     "execution_count": 17,
     "metadata": {},
     "output_type": "execute_result"
    },
    {
     "data": {
      "image/png": "[encoded data removed]",
      "text/plain": [
       "<Figure size 432x288 with 1 Axes>"
      ]
     },
     "metadata": {
      "needs_background": "light"
     },
     "output_type": "display_data"
    }
   ],
   "source": [
    "plt.scatter(cluster5.longitude,cluster5.latitude)\n"
   ]
  },
  {
   "cell_type": "markdown",
   "id": "e7de198b",
   "metadata": {},
   "source": [
    "# Cluster 6"
   ]
  },
  {
   "cell_type": "code",
   "execution_count": 18,
   "id": "ff1844ec",
   "metadata": {
    "scrolled": false
   },
   "outputs": [
    {
     "data": {
      "text/html": [
       "<div>\n",
       "<style scoped>\n",
       "    .dataframe tbody tr th:only-of-type {\n",
       "        vertical-align: middle;\n",
       "    }\n",
       "\n",
       "    .dataframe tbody tr th {\n",
       "        vertical-align: top;\n",
       "    }\n",
       "\n",
       "    .dataframe thead th {\n",
       "        text-align: right;\n",
       "    }\n",
       "</style>\n",
       "<table border=\"1\" class=\"dataframe\">\n",
       "  <thead>\n",
       "    <tr style=\"text-align: right;\">\n",
       "      <th></th>\n",
       "      <th>Cluster</th>\n",
       "      <th>mass</th>\n",
       "      <th>year</th>\n",
       "      <th>latitude</th>\n",
       "      <th>longitude</th>\n",
       "      <th>lc_sample</th>\n",
       "    </tr>\n",
       "  </thead>\n",
       "  <tbody>\n",
       "    <tr>\n",
       "      <th>count</th>\n",
       "      <td>158.0</td>\n",
       "      <td>158.000000</td>\n",
       "      <td>158.000000</td>\n",
       "      <td>158.000000</td>\n",
       "      <td>158.000000</td>\n",
       "      <td>158.000000</td>\n",
       "    </tr>\n",
       "    <tr>\n",
       "      <th>mean</th>\n",
       "      <td>6.0</td>\n",
       "      <td>1406.474937</td>\n",
       "      <td>2002.594937</td>\n",
       "      <td>19.975361</td>\n",
       "      <td>28.047255</td>\n",
       "      <td>10.943038</td>\n",
       "    </tr>\n",
       "    <tr>\n",
       "      <th>std</th>\n",
       "      <td>0.0</td>\n",
       "      <td>4719.003756</td>\n",
       "      <td>3.645149</td>\n",
       "      <td>13.981677</td>\n",
       "      <td>56.865415</td>\n",
       "      <td>0.716002</td>\n",
       "    </tr>\n",
       "    <tr>\n",
       "      <th>min</th>\n",
       "      <td>6.0</td>\n",
       "      <td>2.500000</td>\n",
       "      <td>1959.000000</td>\n",
       "      <td>-41.066670</td>\n",
       "      <td>-119.183520</td>\n",
       "      <td>2.000000</td>\n",
       "    </tr>\n",
       "    <tr>\n",
       "      <th>25%</th>\n",
       "      <td>6.0</td>\n",
       "      <td>54.375000</td>\n",
       "      <td>2003.000000</td>\n",
       "      <td>19.167190</td>\n",
       "      <td>12.946470</td>\n",
       "      <td>11.000000</td>\n",
       "    </tr>\n",
       "    <tr>\n",
       "      <th>50%</th>\n",
       "      <td>6.0</td>\n",
       "      <td>238.330000</td>\n",
       "      <td>2003.000000</td>\n",
       "      <td>19.475265</td>\n",
       "      <td>54.672900</td>\n",
       "      <td>11.000000</td>\n",
       "    </tr>\n",
       "    <tr>\n",
       "      <th>75%</th>\n",
       "      <td>6.0</td>\n",
       "      <td>916.050000</td>\n",
       "      <td>2003.000000</td>\n",
       "      <td>20.699945</td>\n",
       "      <td>55.982640</td>\n",
       "      <td>11.000000</td>\n",
       "    </tr>\n",
       "    <tr>\n",
       "      <th>max</th>\n",
       "      <td>6.0</td>\n",
       "      <td>50400.000000</td>\n",
       "      <td>2003.000000</td>\n",
       "      <td>53.616670</td>\n",
       "      <td>152.833330</td>\n",
       "      <td>11.000000</td>\n",
       "    </tr>\n",
       "  </tbody>\n",
       "</table>\n",
       "</div>"
      ],
      "text/plain": [
       "       Cluster          mass         year    latitude   longitude   lc_sample\n",
       "count    158.0    158.000000   158.000000  158.000000  158.000000  158.000000\n",
       "mean       6.0   1406.474937  2002.594937   19.975361   28.047255   10.943038\n",
       "std        0.0   4719.003756     3.645149   13.981677   56.865415    0.716002\n",
       "min        6.0      2.500000  1959.000000  -41.066670 -119.183520    2.000000\n",
       "25%        6.0     54.375000  2003.000000   19.167190   12.946470   11.000000\n",
       "50%        6.0    238.330000  2003.000000   19.475265   54.672900   11.000000\n",
       "75%        6.0    916.050000  2003.000000   20.699945   55.982640   11.000000\n",
       "max        6.0  50400.000000  2003.000000   53.616670  152.833330   11.000000"
      ]
     },
     "execution_count": 18,
     "metadata": {},
     "output_type": "execute_result"
    }
   ],
   "source": [
    "cluster6.describe()"
   ]
  },
  {
   "cell_type": "code",
   "execution_count": 19,
   "id": "c5454b6d",
   "metadata": {
    "scrolled": false
   },
   "outputs": [
    {
     "data": {
      "text/plain": [
       "<matplotlib.collections.PathCollection at 0x7f81714f30d0>"
      ]
     },
     "execution_count": 19,
     "metadata": {},
     "output_type": "execute_result"
    },
    {
     "data": {
      "image/png": "[encoded data removed]",
      "text/plain": [
       "<Figure size 432x288 with 1 Axes>"
      ]
     },
     "metadata": {
      "needs_background": "light"
     },
     "output_type": "display_data"
    }
   ],
   "source": [
    "plt.scatter(cluster6.longitude,cluster6.latitude)\n"
   ]
  },
  {
   "cell_type": "code",
   "execution_count": null,
   "id": "22ab64ac",
   "metadata": {},
   "outputs": [],
   "source": []
  }
 ],
 "metadata": {
  "kernelspec": {
   "display_name": "Python 3",
   "language": "python",
   "name": "python3"
  },
  "language_info": {
   "codemirror_mode": {
    "name": "ipython",
    "version": 3
   },
   "file_extension": ".py",
   "mimetype": "text/x-python",
   "name": "python",
   "nbconvert_exporter": "python",
   "pygments_lexer": "ipython3",
   "version": "3.8.2"
  }
 },
 "nbformat": 4,
 "nbformat_minor": 5
}
