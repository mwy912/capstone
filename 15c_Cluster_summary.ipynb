{
 "cells": [
  {
   "cell_type": "code",
   "execution_count": 1,
   "id": "7f9792d7",
   "metadata": {},
   "outputs": [],
   "source": [
    "import pandas as pd\n",
    "import numpy as np\n",
    "\n",
    "import matplotlib.pyplot as plt\n",
    "%matplotlib inline"
   ]
  },
  {
   "cell_type": "code",
   "execution_count": 2,
   "id": "d1a0f380",
   "metadata": {},
   "outputs": [],
   "source": [
    "cluster0 = pd.read_csv('data/results/kmodes_cluster0.csv', index_col=0)\n",
    "cluster1 = pd.read_csv('data/results/kmodes_cluster1.csv', index_col=0)\n",
    "cluster2 = pd.read_csv('data/results/kmodes_cluster2.csv', index_col=0)\n",
    "cluster3 = pd.read_csv('data/results/kmodes_cluster3.csv', index_col=0)\n",
    "cluster4 = pd.read_csv('data/results/kmodes_cluster4.csv', index_col=0)\n",
    "cluster5 = pd.read_csv('data/results/kmodes_cluster5.csv', index_col=0)\n",
    "cluster6 = pd.read_csv('data/results/kmodes_cluster6.csv', index_col=0)\n",
    "\n",
    "allclusters = pd.read_csv('data/results/meteorites_clustered.csv', index_col=0)\n",
    "\n",
    "\n"
   ]
  },
  {
   "cell_type": "markdown",
   "id": "04ffb252",
   "metadata": {},
   "source": [
    "# All Meteorites"
   ]
  },
  {
   "cell_type": "code",
   "execution_count": 3,
   "id": "44c9fc33",
   "metadata": {
    "scrolled": true
   },
   "outputs": [
    {
     "data": {
      "text/html": [
       "<div>\n",
       "<style scoped>\n",
       "    .dataframe tbody tr th:only-of-type {\n",
       "        vertical-align: middle;\n",
       "    }\n",
       "\n",
       "    .dataframe tbody tr th {\n",
       "        vertical-align: top;\n",
       "    }\n",
       "\n",
       "    .dataframe thead th {\n",
       "        text-align: right;\n",
       "    }\n",
       "</style>\n",
       "<table border=\"1\" class=\"dataframe\">\n",
       "  <thead>\n",
       "    <tr style=\"text-align: right;\">\n",
       "      <th></th>\n",
       "      <th>Cluster</th>\n",
       "      <th>mass</th>\n",
       "      <th>year</th>\n",
       "      <th>latitude</th>\n",
       "      <th>longitude</th>\n",
       "      <th>lc_sample</th>\n",
       "    </tr>\n",
       "  </thead>\n",
       "  <tbody>\n",
       "    <tr>\n",
       "      <th>count</th>\n",
       "      <td>9847.000000</td>\n",
       "      <td>9.847000e+03</td>\n",
       "      <td>9847.000000</td>\n",
       "      <td>9847.000000</td>\n",
       "      <td>9847.000000</td>\n",
       "      <td>9847.000000</td>\n",
       "    </tr>\n",
       "    <tr>\n",
       "      <th>mean</th>\n",
       "      <td>1.778410</td>\n",
       "      <td>5.438344e+04</td>\n",
       "      <td>1979.105921</td>\n",
       "      <td>20.483057</td>\n",
       "      <td>12.194281</td>\n",
       "      <td>9.510917</td>\n",
       "    </tr>\n",
       "    <tr>\n",
       "      <th>std</th>\n",
       "      <td>2.152062</td>\n",
       "      <td>1.088070e+06</td>\n",
       "      <td>44.799477</td>\n",
       "      <td>21.069679</td>\n",
       "      <td>69.720014</td>\n",
       "      <td>3.927985</td>\n",
       "    </tr>\n",
       "    <tr>\n",
       "      <th>min</th>\n",
       "      <td>0.000000</td>\n",
       "      <td>1.000000e-01</td>\n",
       "      <td>860.000000</td>\n",
       "      <td>-57.786670</td>\n",
       "      <td>-163.166670</td>\n",
       "      <td>0.000000</td>\n",
       "    </tr>\n",
       "    <tr>\n",
       "      <th>25%</th>\n",
       "      <td>0.000000</td>\n",
       "      <td>9.500000e+01</td>\n",
       "      <td>1975.000000</td>\n",
       "      <td>19.045300</td>\n",
       "      <td>-9.500000</td>\n",
       "      <td>11.000000</td>\n",
       "    </tr>\n",
       "    <tr>\n",
       "      <th>50%</th>\n",
       "      <td>0.000000</td>\n",
       "      <td>3.700000e+02</td>\n",
       "      <td>1998.000000</td>\n",
       "      <td>25.526110</td>\n",
       "      <td>16.388330</td>\n",
       "      <td>11.000000</td>\n",
       "    </tr>\n",
       "    <tr>\n",
       "      <th>75%</th>\n",
       "      <td>4.000000</td>\n",
       "      <td>2.157130e+03</td>\n",
       "      <td>2002.000000</td>\n",
       "      <td>31.833330</td>\n",
       "      <td>55.646325</td>\n",
       "      <td>11.000000</td>\n",
       "    </tr>\n",
       "    <tr>\n",
       "      <th>max</th>\n",
       "      <td>6.000000</td>\n",
       "      <td>6.000000e+07</td>\n",
       "      <td>2013.000000</td>\n",
       "      <td>66.400000</td>\n",
       "      <td>178.083330</td>\n",
       "      <td>18.000000</td>\n",
       "    </tr>\n",
       "  </tbody>\n",
       "</table>\n",
       "</div>"
      ],
      "text/plain": [
       "           Cluster          mass         year     latitude    longitude  \\\n",
       "count  9847.000000  9.847000e+03  9847.000000  9847.000000  9847.000000   \n",
       "mean      1.778410  5.438344e+04  1979.105921    20.483057    12.194281   \n",
       "std       2.152062  1.088070e+06    44.799477    21.069679    69.720014   \n",
       "min       0.000000  1.000000e-01   860.000000   -57.786670  -163.166670   \n",
       "25%       0.000000  9.500000e+01  1975.000000    19.045300    -9.500000   \n",
       "50%       0.000000  3.700000e+02  1998.000000    25.526110    16.388330   \n",
       "75%       4.000000  2.157130e+03  2002.000000    31.833330    55.646325   \n",
       "max       6.000000  6.000000e+07  2013.000000    66.400000   178.083330   \n",
       "\n",
       "         lc_sample  \n",
       "count  9847.000000  \n",
       "mean      9.510917  \n",
       "std       3.927985  \n",
       "min       0.000000  \n",
       "25%      11.000000  \n",
       "50%      11.000000  \n",
       "75%      11.000000  \n",
       "max      18.000000  "
      ]
     },
     "execution_count": 3,
     "metadata": {},
     "output_type": "execute_result"
    }
   ],
   "source": [
    "allclusters.describe()"
   ]
  },
  {
   "cell_type": "code",
   "execution_count": 4,
   "id": "dbb19673",
   "metadata": {
    "scrolled": true
   },
   "outputs": [
    {
     "data": {
      "text/plain": [
       "<matplotlib.collections.PathCollection at 0x7fc959f38b20>"
      ]
     },
     "execution_count": 4,
     "metadata": {},
     "output_type": "execute_result"
    },
    {
     "data": {
      "image/png": "[encoded data removed]",
      "text/plain": [
       "<Figure size 432x288 with 1 Axes>"
      ]
     },
     "metadata": {
      "needs_background": "light"
     },
     "output_type": "display_data"
    }
   ],
   "source": [
    "plt.scatter(allclusters.longitude,allclusters.latitude, c = allclusters.Cluster)\n"
   ]
  },
  {
   "cell_type": "markdown",
   "id": "67a7bb74",
   "metadata": {},
   "source": [
    "# Cluster 0"
   ]
  },
  {
   "cell_type": "code",
   "execution_count": 5,
   "id": "974ed394",
   "metadata": {
    "scrolled": true
   },
   "outputs": [
    {
     "data": {
      "text/html": [
       "<div>\n",
       "<style scoped>\n",
       "    .dataframe tbody tr th:only-of-type {\n",
       "        vertical-align: middle;\n",
       "    }\n",
       "\n",
       "    .dataframe tbody tr th {\n",
       "        vertical-align: top;\n",
       "    }\n",
       "\n",
       "    .dataframe thead th {\n",
       "        text-align: right;\n",
       "    }\n",
       "</style>\n",
       "<table border=\"1\" class=\"dataframe\">\n",
       "  <thead>\n",
       "    <tr style=\"text-align: right;\">\n",
       "      <th></th>\n",
       "      <th>Cluster</th>\n",
       "      <th>mass</th>\n",
       "      <th>year</th>\n",
       "      <th>latitude</th>\n",
       "      <th>longitude</th>\n",
       "      <th>lc_sample</th>\n",
       "    </tr>\n",
       "  </thead>\n",
       "  <tbody>\n",
       "    <tr>\n",
       "      <th>count</th>\n",
       "      <td>5015.0</td>\n",
       "      <td>5.015000e+03</td>\n",
       "      <td>5015.000000</td>\n",
       "      <td>5015.000000</td>\n",
       "      <td>5015.000000</td>\n",
       "      <td>5015.000000</td>\n",
       "    </tr>\n",
       "    <tr>\n",
       "      <th>mean</th>\n",
       "      <td>0.0</td>\n",
       "      <td>5.561604e+03</td>\n",
       "      <td>1991.891326</td>\n",
       "      <td>19.668440</td>\n",
       "      <td>14.202153</td>\n",
       "      <td>10.147358</td>\n",
       "    </tr>\n",
       "    <tr>\n",
       "      <th>std</th>\n",
       "      <td>0.0</td>\n",
       "      <td>7.578890e+04</td>\n",
       "      <td>29.989673</td>\n",
       "      <td>19.117518</td>\n",
       "      <td>64.722263</td>\n",
       "      <td>2.867229</td>\n",
       "    </tr>\n",
       "    <tr>\n",
       "      <th>min</th>\n",
       "      <td>0.0</td>\n",
       "      <td>1.000000e-01</td>\n",
       "      <td>1491.000000</td>\n",
       "      <td>-44.816670</td>\n",
       "      <td>-157.783330</td>\n",
       "      <td>0.000000</td>\n",
       "    </tr>\n",
       "    <tr>\n",
       "      <th>25%</th>\n",
       "      <td>0.0</td>\n",
       "      <td>6.705000e+01</td>\n",
       "      <td>1995.000000</td>\n",
       "      <td>18.913330</td>\n",
       "      <td>0.145140</td>\n",
       "      <td>11.000000</td>\n",
       "    </tr>\n",
       "    <tr>\n",
       "      <th>50%</th>\n",
       "      <td>0.0</td>\n",
       "      <td>2.384000e+02</td>\n",
       "      <td>2001.000000</td>\n",
       "      <td>21.043950</td>\n",
       "      <td>16.487670</td>\n",
       "      <td>11.000000</td>\n",
       "    </tr>\n",
       "    <tr>\n",
       "      <th>75%</th>\n",
       "      <td>0.0</td>\n",
       "      <td>9.990000e+02</td>\n",
       "      <td>2004.000000</td>\n",
       "      <td>28.462080</td>\n",
       "      <td>54.876900</td>\n",
       "      <td>11.000000</td>\n",
       "    </tr>\n",
       "    <tr>\n",
       "      <th>max</th>\n",
       "      <td>0.0</td>\n",
       "      <td>4.000000e+06</td>\n",
       "      <td>2013.000000</td>\n",
       "      <td>66.000000</td>\n",
       "      <td>175.730280</td>\n",
       "      <td>18.000000</td>\n",
       "    </tr>\n",
       "  </tbody>\n",
       "</table>\n",
       "</div>"
      ],
      "text/plain": [
       "       Cluster          mass         year     latitude    longitude  \\\n",
       "count   5015.0  5.015000e+03  5015.000000  5015.000000  5015.000000   \n",
       "mean       0.0  5.561604e+03  1991.891326    19.668440    14.202153   \n",
       "std        0.0  7.578890e+04    29.989673    19.117518    64.722263   \n",
       "min        0.0  1.000000e-01  1491.000000   -44.816670  -157.783330   \n",
       "25%        0.0  6.705000e+01  1995.000000    18.913330     0.145140   \n",
       "50%        0.0  2.384000e+02  2001.000000    21.043950    16.487670   \n",
       "75%        0.0  9.990000e+02  2004.000000    28.462080    54.876900   \n",
       "max        0.0  4.000000e+06  2013.000000    66.000000   175.730280   \n",
       "\n",
       "         lc_sample  \n",
       "count  5015.000000  \n",
       "mean     10.147358  \n",
       "std       2.867229  \n",
       "min       0.000000  \n",
       "25%      11.000000  \n",
       "50%      11.000000  \n",
       "75%      11.000000  \n",
       "max      18.000000  "
      ]
     },
     "execution_count": 5,
     "metadata": {},
     "output_type": "execute_result"
    }
   ],
   "source": [
    "cluster0.describe()"
   ]
  },
  {
   "cell_type": "code",
   "execution_count": 6,
   "id": "5201fabb",
   "metadata": {
    "scrolled": true
   },
   "outputs": [
    {
     "data": {
      "text/plain": [
       "<matplotlib.collections.PathCollection at 0x7fc95a11d910>"
      ]
     },
     "execution_count": 6,
     "metadata": {},
     "output_type": "execute_result"
    },
    {
     "data": {
      "image/png": "[encoded data removed]",
      "text/plain": [
       "<Figure size 432x288 with 1 Axes>"
      ]
     },
     "metadata": {
      "needs_background": "light"
     },
     "output_type": "display_data"
    }
   ],
   "source": [
    "plt.scatter(cluster0.longitude,cluster0.latitude)\n"
   ]
  },
  {
   "cell_type": "markdown",
   "id": "19a06a13",
   "metadata": {},
   "source": [
    "# Cluster 1"
   ]
  },
  {
   "cell_type": "code",
   "execution_count": 7,
   "id": "f7a0fd67",
   "metadata": {
    "scrolled": true
   },
   "outputs": [
    {
     "data": {
      "text/html": [
       "<div>\n",
       "<style scoped>\n",
       "    .dataframe tbody tr th:only-of-type {\n",
       "        vertical-align: middle;\n",
       "    }\n",
       "\n",
       "    .dataframe tbody tr th {\n",
       "        vertical-align: top;\n",
       "    }\n",
       "\n",
       "    .dataframe thead th {\n",
       "        text-align: right;\n",
       "    }\n",
       "</style>\n",
       "<table border=\"1\" class=\"dataframe\">\n",
       "  <thead>\n",
       "    <tr style=\"text-align: right;\">\n",
       "      <th></th>\n",
       "      <th>Cluster</th>\n",
       "      <th>mass</th>\n",
       "      <th>year</th>\n",
       "      <th>latitude</th>\n",
       "      <th>longitude</th>\n",
       "      <th>lc_sample</th>\n",
       "    </tr>\n",
       "  </thead>\n",
       "  <tbody>\n",
       "    <tr>\n",
       "      <th>count</th>\n",
       "      <td>1023.0</td>\n",
       "      <td>1.023000e+03</td>\n",
       "      <td>1023.000000</td>\n",
       "      <td>1023.000000</td>\n",
       "      <td>1023.000000</td>\n",
       "      <td>1023.000000</td>\n",
       "    </tr>\n",
       "    <tr>\n",
       "      <th>mean</th>\n",
       "      <td>1.0</td>\n",
       "      <td>4.666907e+05</td>\n",
       "      <td>1924.369501</td>\n",
       "      <td>21.151690</td>\n",
       "      <td>-18.259852</td>\n",
       "      <td>7.173021</td>\n",
       "    </tr>\n",
       "    <tr>\n",
       "      <th>std</th>\n",
       "      <td>0.0</td>\n",
       "      <td>3.342913e+06</td>\n",
       "      <td>54.342020</td>\n",
       "      <td>29.823658</td>\n",
       "      <td>91.999586</td>\n",
       "      <td>5.485827</td>\n",
       "    </tr>\n",
       "    <tr>\n",
       "      <th>min</th>\n",
       "      <td>1.0</td>\n",
       "      <td>1.500000e-01</td>\n",
       "      <td>1399.000000</td>\n",
       "      <td>-57.786670</td>\n",
       "      <td>-163.166670</td>\n",
       "      <td>0.000000</td>\n",
       "    </tr>\n",
       "    <tr>\n",
       "      <th>25%</th>\n",
       "      <td>1.0</td>\n",
       "      <td>2.350000e+03</td>\n",
       "      <td>1891.000000</td>\n",
       "      <td>2.758335</td>\n",
       "      <td>-97.900000</td>\n",
       "      <td>2.000000</td>\n",
       "    </tr>\n",
       "    <tr>\n",
       "      <th>50%</th>\n",
       "      <td>1.0</td>\n",
       "      <td>1.260000e+04</td>\n",
       "      <td>1927.000000</td>\n",
       "      <td>33.700000</td>\n",
       "      <td>-69.333330</td>\n",
       "      <td>9.000000</td>\n",
       "    </tr>\n",
       "    <tr>\n",
       "      <th>75%</th>\n",
       "      <td>1.0</td>\n",
       "      <td>6.000000e+04</td>\n",
       "      <td>1965.000000</td>\n",
       "      <td>40.666670</td>\n",
       "      <td>56.683330</td>\n",
       "      <td>13.000000</td>\n",
       "    </tr>\n",
       "    <tr>\n",
       "      <th>max</th>\n",
       "      <td>1.0</td>\n",
       "      <td>6.000000e+07</td>\n",
       "      <td>2009.000000</td>\n",
       "      <td>66.400000</td>\n",
       "      <td>178.083330</td>\n",
       "      <td>18.000000</td>\n",
       "    </tr>\n",
       "  </tbody>\n",
       "</table>\n",
       "</div>"
      ],
      "text/plain": [
       "       Cluster          mass         year     latitude    longitude  \\\n",
       "count   1023.0  1.023000e+03  1023.000000  1023.000000  1023.000000   \n",
       "mean       1.0  4.666907e+05  1924.369501    21.151690   -18.259852   \n",
       "std        0.0  3.342913e+06    54.342020    29.823658    91.999586   \n",
       "min        1.0  1.500000e-01  1399.000000   -57.786670  -163.166670   \n",
       "25%        1.0  2.350000e+03  1891.000000     2.758335   -97.900000   \n",
       "50%        1.0  1.260000e+04  1927.000000    33.700000   -69.333330   \n",
       "75%        1.0  6.000000e+04  1965.000000    40.666670    56.683330   \n",
       "max        1.0  6.000000e+07  2009.000000    66.400000   178.083330   \n",
       "\n",
       "         lc_sample  \n",
       "count  1023.000000  \n",
       "mean      7.173021  \n",
       "std       5.485827  \n",
       "min       0.000000  \n",
       "25%       2.000000  \n",
       "50%       9.000000  \n",
       "75%      13.000000  \n",
       "max      18.000000  "
      ]
     },
     "execution_count": 7,
     "metadata": {},
     "output_type": "execute_result"
    }
   ],
   "source": [
    "cluster1.describe()"
   ]
  },
  {
   "cell_type": "code",
   "execution_count": 8,
   "id": "707b3326",
   "metadata": {
    "scrolled": true
   },
   "outputs": [
    {
     "data": {
      "text/plain": [
       "<matplotlib.collections.PathCollection at 0x7fc95a2abdc0>"
      ]
     },
     "execution_count": 8,
     "metadata": {},
     "output_type": "execute_result"
    },
    {
     "data": {
      "image/png": "[encoded data removed]",
      "text/plain": [
       "<Figure size 432x288 with 1 Axes>"
      ]
     },
     "metadata": {
      "needs_background": "light"
     },
     "output_type": "display_data"
    }
   ],
   "source": [
    "plt.scatter(cluster1.longitude,cluster1.latitude)\n"
   ]
  },
  {
   "cell_type": "markdown",
   "id": "f66d143d",
   "metadata": {},
   "source": [
    "# Cluster 2"
   ]
  },
  {
   "cell_type": "code",
   "execution_count": 9,
   "id": "11c225ad",
   "metadata": {
    "scrolled": true
   },
   "outputs": [
    {
     "data": {
      "text/html": [
       "<div>\n",
       "<style scoped>\n",
       "    .dataframe tbody tr th:only-of-type {\n",
       "        vertical-align: middle;\n",
       "    }\n",
       "\n",
       "    .dataframe tbody tr th {\n",
       "        vertical-align: top;\n",
       "    }\n",
       "\n",
       "    .dataframe thead th {\n",
       "        text-align: right;\n",
       "    }\n",
       "</style>\n",
       "<table border=\"1\" class=\"dataframe\">\n",
       "  <thead>\n",
       "    <tr style=\"text-align: right;\">\n",
       "      <th></th>\n",
       "      <th>Cluster</th>\n",
       "      <th>mass</th>\n",
       "      <th>year</th>\n",
       "      <th>latitude</th>\n",
       "      <th>longitude</th>\n",
       "      <th>lc_sample</th>\n",
       "    </tr>\n",
       "  </thead>\n",
       "  <tbody>\n",
       "    <tr>\n",
       "      <th>count</th>\n",
       "      <td>238.0</td>\n",
       "      <td>238.000000</td>\n",
       "      <td>238.0</td>\n",
       "      <td>238.000000</td>\n",
       "      <td>238.000000</td>\n",
       "      <td>238.0</td>\n",
       "    </tr>\n",
       "    <tr>\n",
       "      <th>mean</th>\n",
       "      <td>2.0</td>\n",
       "      <td>1484.680252</td>\n",
       "      <td>2005.0</td>\n",
       "      <td>20.459072</td>\n",
       "      <td>44.444696</td>\n",
       "      <td>11.0</td>\n",
       "    </tr>\n",
       "    <tr>\n",
       "      <th>std</th>\n",
       "      <td>0.0</td>\n",
       "      <td>5859.176262</td>\n",
       "      <td>0.0</td>\n",
       "      <td>8.365518</td>\n",
       "      <td>39.449629</td>\n",
       "      <td>0.0</td>\n",
       "    </tr>\n",
       "    <tr>\n",
       "      <th>min</th>\n",
       "      <td>2.0</td>\n",
       "      <td>0.540000</td>\n",
       "      <td>2005.0</td>\n",
       "      <td>-40.533330</td>\n",
       "      <td>-117.666170</td>\n",
       "      <td>11.0</td>\n",
       "    </tr>\n",
       "    <tr>\n",
       "      <th>25%</th>\n",
       "      <td>2.0</td>\n",
       "      <td>65.002500</td>\n",
       "      <td>2005.0</td>\n",
       "      <td>19.704405</td>\n",
       "      <td>54.510646</td>\n",
       "      <td>11.0</td>\n",
       "    </tr>\n",
       "    <tr>\n",
       "      <th>50%</th>\n",
       "      <td>2.0</td>\n",
       "      <td>214.140000</td>\n",
       "      <td>2005.0</td>\n",
       "      <td>19.975950</td>\n",
       "      <td>56.357045</td>\n",
       "      <td>11.0</td>\n",
       "    </tr>\n",
       "    <tr>\n",
       "      <th>75%</th>\n",
       "      <td>2.0</td>\n",
       "      <td>729.050000</td>\n",
       "      <td>2005.0</td>\n",
       "      <td>20.310260</td>\n",
       "      <td>56.476327</td>\n",
       "      <td>11.0</td>\n",
       "    </tr>\n",
       "    <tr>\n",
       "      <th>max</th>\n",
       "      <td>2.0</td>\n",
       "      <td>77000.000000</td>\n",
       "      <td>2005.0</td>\n",
       "      <td>54.240280</td>\n",
       "      <td>126.434440</td>\n",
       "      <td>11.0</td>\n",
       "    </tr>\n",
       "  </tbody>\n",
       "</table>\n",
       "</div>"
      ],
      "text/plain": [
       "       Cluster          mass    year    latitude   longitude  lc_sample\n",
       "count    238.0    238.000000   238.0  238.000000  238.000000      238.0\n",
       "mean       2.0   1484.680252  2005.0   20.459072   44.444696       11.0\n",
       "std        0.0   5859.176262     0.0    8.365518   39.449629        0.0\n",
       "min        2.0      0.540000  2005.0  -40.533330 -117.666170       11.0\n",
       "25%        2.0     65.002500  2005.0   19.704405   54.510646       11.0\n",
       "50%        2.0    214.140000  2005.0   19.975950   56.357045       11.0\n",
       "75%        2.0    729.050000  2005.0   20.310260   56.476327       11.0\n",
       "max        2.0  77000.000000  2005.0   54.240280  126.434440       11.0"
      ]
     },
     "execution_count": 9,
     "metadata": {},
     "output_type": "execute_result"
    }
   ],
   "source": [
    "cluster2.describe()"
   ]
  },
  {
   "cell_type": "code",
   "execution_count": 10,
   "id": "0dc1c2b6",
   "metadata": {
    "scrolled": true
   },
   "outputs": [
    {
     "data": {
      "text/plain": [
       "<matplotlib.collections.PathCollection at 0x7fc95a3882b0>"
      ]
     },
     "execution_count": 10,
     "metadata": {},
     "output_type": "execute_result"
    },
    {
     "data": {
      "image/png": "[encoded data removed]",
      "text/plain": [
       "<Figure size 432x288 with 1 Axes>"
      ]
     },
     "metadata": {
      "needs_background": "light"
     },
     "output_type": "display_data"
    }
   ],
   "source": [
    "plt.scatter(cluster2.longitude,cluster2.latitude)\n"
   ]
  },
  {
   "cell_type": "markdown",
   "id": "0166a3ae",
   "metadata": {},
   "source": [
    "# Cluster 3"
   ]
  },
  {
   "cell_type": "code",
   "execution_count": 11,
   "id": "163249c9",
   "metadata": {
    "scrolled": true
   },
   "outputs": [
    {
     "data": {
      "text/html": [
       "<div>\n",
       "<style scoped>\n",
       "    .dataframe tbody tr th:only-of-type {\n",
       "        vertical-align: middle;\n",
       "    }\n",
       "\n",
       "    .dataframe tbody tr th {\n",
       "        vertical-align: top;\n",
       "    }\n",
       "\n",
       "    .dataframe thead th {\n",
       "        text-align: right;\n",
       "    }\n",
       "</style>\n",
       "<table border=\"1\" class=\"dataframe\">\n",
       "  <thead>\n",
       "    <tr style=\"text-align: right;\">\n",
       "      <th></th>\n",
       "      <th>Cluster</th>\n",
       "      <th>mass</th>\n",
       "      <th>year</th>\n",
       "      <th>latitude</th>\n",
       "      <th>longitude</th>\n",
       "      <th>lc_sample</th>\n",
       "    </tr>\n",
       "  </thead>\n",
       "  <tbody>\n",
       "    <tr>\n",
       "      <th>count</th>\n",
       "      <td>784.0</td>\n",
       "      <td>7.840000e+02</td>\n",
       "      <td>784.000000</td>\n",
       "      <td>784.000000</td>\n",
       "      <td>784.000000</td>\n",
       "      <td>784.000000</td>\n",
       "    </tr>\n",
       "    <tr>\n",
       "      <th>mean</th>\n",
       "      <td>3.0</td>\n",
       "      <td>1.751672e+04</td>\n",
       "      <td>1916.974490</td>\n",
       "      <td>30.589313</td>\n",
       "      <td>6.160411</td>\n",
       "      <td>4.635204</td>\n",
       "    </tr>\n",
       "    <tr>\n",
       "      <th>std</th>\n",
       "      <td>0.0</td>\n",
       "      <td>8.351817e+04</td>\n",
       "      <td>67.070268</td>\n",
       "      <td>23.097774</td>\n",
       "      <td>73.902422</td>\n",
       "      <td>5.291945</td>\n",
       "    </tr>\n",
       "    <tr>\n",
       "      <th>min</th>\n",
       "      <td>3.0</td>\n",
       "      <td>1.000000e-01</td>\n",
       "      <td>860.000000</td>\n",
       "      <td>-44.116670</td>\n",
       "      <td>-157.866670</td>\n",
       "      <td>0.000000</td>\n",
       "    </tr>\n",
       "    <tr>\n",
       "      <th>25%</th>\n",
       "      <td>3.0</td>\n",
       "      <td>4.962500e+02</td>\n",
       "      <td>1880.000000</td>\n",
       "      <td>24.537500</td>\n",
       "      <td>-73.166664</td>\n",
       "      <td>1.000000</td>\n",
       "    </tr>\n",
       "    <tr>\n",
       "      <th>50%</th>\n",
       "      <td>3.0</td>\n",
       "      <td>2.000000e+03</td>\n",
       "      <td>1929.000000</td>\n",
       "      <td>35.916665</td>\n",
       "      <td>13.150000</td>\n",
       "      <td>1.000000</td>\n",
       "    </tr>\n",
       "    <tr>\n",
       "      <th>75%</th>\n",
       "      <td>3.0</td>\n",
       "      <td>8.000000e+03</td>\n",
       "      <td>1962.000000</td>\n",
       "      <td>46.275000</td>\n",
       "      <td>72.137497</td>\n",
       "      <td>10.000000</td>\n",
       "    </tr>\n",
       "    <tr>\n",
       "      <th>max</th>\n",
       "      <td>3.0</td>\n",
       "      <td>2.000000e+06</td>\n",
       "      <td>2012.000000</td>\n",
       "      <td>66.348330</td>\n",
       "      <td>174.400000</td>\n",
       "      <td>18.000000</td>\n",
       "    </tr>\n",
       "  </tbody>\n",
       "</table>\n",
       "</div>"
      ],
      "text/plain": [
       "       Cluster          mass         year    latitude   longitude   lc_sample\n",
       "count    784.0  7.840000e+02   784.000000  784.000000  784.000000  784.000000\n",
       "mean       3.0  1.751672e+04  1916.974490   30.589313    6.160411    4.635204\n",
       "std        0.0  8.351817e+04    67.070268   23.097774   73.902422    5.291945\n",
       "min        3.0  1.000000e-01   860.000000  -44.116670 -157.866670    0.000000\n",
       "25%        3.0  4.962500e+02  1880.000000   24.537500  -73.166664    1.000000\n",
       "50%        3.0  2.000000e+03  1929.000000   35.916665   13.150000    1.000000\n",
       "75%        3.0  8.000000e+03  1962.000000   46.275000   72.137497   10.000000\n",
       "max        3.0  2.000000e+06  2012.000000   66.348330  174.400000   18.000000"
      ]
     },
     "execution_count": 11,
     "metadata": {},
     "output_type": "execute_result"
    }
   ],
   "source": [
    "cluster3.describe()"
   ]
  },
  {
   "cell_type": "code",
   "execution_count": 12,
   "id": "9b8d14dd",
   "metadata": {
    "scrolled": true
   },
   "outputs": [
    {
     "data": {
      "text/plain": [
       "<matplotlib.collections.PathCollection at 0x7fc95a13e910>"
      ]
     },
     "execution_count": 12,
     "metadata": {},
     "output_type": "execute_result"
    },
    {
     "data": {
      "image/png": "[encoded data removed]",
      "text/plain": [
       "<Figure size 432x288 with 1 Axes>"
      ]
     },
     "metadata": {
      "needs_background": "light"
     },
     "output_type": "display_data"
    }
   ],
   "source": [
    "plt.scatter(cluster3.longitude,cluster3.latitude)\n"
   ]
  },
  {
   "cell_type": "markdown",
   "id": "ca4ecd02",
   "metadata": {},
   "source": [
    "# Cluster 4"
   ]
  },
  {
   "cell_type": "code",
   "execution_count": 13,
   "id": "2e33e364",
   "metadata": {
    "scrolled": true
   },
   "outputs": [
    {
     "data": {
      "text/html": [
       "<div>\n",
       "<style scoped>\n",
       "    .dataframe tbody tr th:only-of-type {\n",
       "        vertical-align: middle;\n",
       "    }\n",
       "\n",
       "    .dataframe tbody tr th {\n",
       "        vertical-align: top;\n",
       "    }\n",
       "\n",
       "    .dataframe thead th {\n",
       "        text-align: right;\n",
       "    }\n",
       "</style>\n",
       "<table border=\"1\" class=\"dataframe\">\n",
       "  <thead>\n",
       "    <tr style=\"text-align: right;\">\n",
       "      <th></th>\n",
       "      <th>Cluster</th>\n",
       "      <th>mass</th>\n",
       "      <th>year</th>\n",
       "      <th>latitude</th>\n",
       "      <th>longitude</th>\n",
       "      <th>lc_sample</th>\n",
       "    </tr>\n",
       "  </thead>\n",
       "  <tbody>\n",
       "    <tr>\n",
       "      <th>count</th>\n",
       "      <td>526.0</td>\n",
       "      <td>5.260000e+02</td>\n",
       "      <td>526.000000</td>\n",
       "      <td>526.000000</td>\n",
       "      <td>526.000000</td>\n",
       "      <td>526.000000</td>\n",
       "    </tr>\n",
       "    <tr>\n",
       "      <th>mean</th>\n",
       "      <td>4.0</td>\n",
       "      <td>1.823073e+04</td>\n",
       "      <td>1961.140684</td>\n",
       "      <td>18.357466</td>\n",
       "      <td>-18.202045</td>\n",
       "      <td>6.859316</td>\n",
       "    </tr>\n",
       "    <tr>\n",
       "      <th>std</th>\n",
       "      <td>0.0</td>\n",
       "      <td>1.014755e+05</td>\n",
       "      <td>27.490660</td>\n",
       "      <td>27.453295</td>\n",
       "      <td>96.300084</td>\n",
       "      <td>5.818458</td>\n",
       "    </tr>\n",
       "    <tr>\n",
       "      <th>min</th>\n",
       "      <td>4.0</td>\n",
       "      <td>2.100000e+00</td>\n",
       "      <td>1838.000000</td>\n",
       "      <td>-46.316670</td>\n",
       "      <td>-118.500000</td>\n",
       "      <td>0.000000</td>\n",
       "    </tr>\n",
       "    <tr>\n",
       "      <th>25%</th>\n",
       "      <td>4.0</td>\n",
       "      <td>1.191250e+02</td>\n",
       "      <td>1949.500000</td>\n",
       "      <td>19.644930</td>\n",
       "      <td>-102.748750</td>\n",
       "      <td>2.000000</td>\n",
       "    </tr>\n",
       "    <tr>\n",
       "      <th>50%</th>\n",
       "      <td>4.0</td>\n",
       "      <td>9.505000e+02</td>\n",
       "      <td>1970.000000</td>\n",
       "      <td>32.901665</td>\n",
       "      <td>-97.478890</td>\n",
       "      <td>2.000000</td>\n",
       "    </tr>\n",
       "    <tr>\n",
       "      <th>75%</th>\n",
       "      <td>4.0</td>\n",
       "      <td>6.800000e+03</td>\n",
       "      <td>1979.000000</td>\n",
       "      <td>34.825415</td>\n",
       "      <td>56.461182</td>\n",
       "      <td>14.000000</td>\n",
       "    </tr>\n",
       "    <tr>\n",
       "      <th>max</th>\n",
       "      <td>4.0</td>\n",
       "      <td>1.750000e+06</td>\n",
       "      <td>1999.000000</td>\n",
       "      <td>63.300000</td>\n",
       "      <td>168.400000</td>\n",
       "      <td>17.000000</td>\n",
       "    </tr>\n",
       "  </tbody>\n",
       "</table>\n",
       "</div>"
      ],
      "text/plain": [
       "       Cluster          mass         year    latitude   longitude   lc_sample\n",
       "count    526.0  5.260000e+02   526.000000  526.000000  526.000000  526.000000\n",
       "mean       4.0  1.823073e+04  1961.140684   18.357466  -18.202045    6.859316\n",
       "std        0.0  1.014755e+05    27.490660   27.453295   96.300084    5.818458\n",
       "min        4.0  2.100000e+00  1838.000000  -46.316670 -118.500000    0.000000\n",
       "25%        4.0  1.191250e+02  1949.500000   19.644930 -102.748750    2.000000\n",
       "50%        4.0  9.505000e+02  1970.000000   32.901665  -97.478890    2.000000\n",
       "75%        4.0  6.800000e+03  1979.000000   34.825415   56.461182   14.000000\n",
       "max        4.0  1.750000e+06  1999.000000   63.300000  168.400000   17.000000"
      ]
     },
     "execution_count": 13,
     "metadata": {},
     "output_type": "execute_result"
    }
   ],
   "source": [
    "cluster4.describe()"
   ]
  },
  {
   "cell_type": "code",
   "execution_count": 14,
   "id": "75fa579d",
   "metadata": {
    "scrolled": true
   },
   "outputs": [
    {
     "data": {
      "text/plain": [
       "<matplotlib.collections.PathCollection at 0x7fc95a4b7b20>"
      ]
     },
     "execution_count": 14,
     "metadata": {},
     "output_type": "execute_result"
    },
    {
     "data": {
      "image/png": "[encoded data removed]",
      "text/plain": [
       "<Figure size 432x288 with 1 Axes>"
      ]
     },
     "metadata": {
      "needs_background": "light"
     },
     "output_type": "display_data"
    }
   ],
   "source": [
    "plt.scatter(cluster4.longitude,cluster4.latitude)\n"
   ]
  },
  {
   "cell_type": "markdown",
   "id": "65698cf9",
   "metadata": {},
   "source": [
    "# Cluster 5"
   ]
  },
  {
   "cell_type": "code",
   "execution_count": 15,
   "id": "50358aca",
   "metadata": {
    "scrolled": true
   },
   "outputs": [
    {
     "data": {
      "text/html": [
       "<div>\n",
       "<style scoped>\n",
       "    .dataframe tbody tr th:only-of-type {\n",
       "        vertical-align: middle;\n",
       "    }\n",
       "\n",
       "    .dataframe tbody tr th {\n",
       "        vertical-align: top;\n",
       "    }\n",
       "\n",
       "    .dataframe thead th {\n",
       "        text-align: right;\n",
       "    }\n",
       "</style>\n",
       "<table border=\"1\" class=\"dataframe\">\n",
       "  <thead>\n",
       "    <tr style=\"text-align: right;\">\n",
       "      <th></th>\n",
       "      <th>Cluster</th>\n",
       "      <th>mass</th>\n",
       "      <th>year</th>\n",
       "      <th>latitude</th>\n",
       "      <th>longitude</th>\n",
       "      <th>lc_sample</th>\n",
       "    </tr>\n",
       "  </thead>\n",
       "  <tbody>\n",
       "    <tr>\n",
       "      <th>count</th>\n",
       "      <td>2009.0</td>\n",
       "      <td>2.009000e+03</td>\n",
       "      <td>2009.000000</td>\n",
       "      <td>2009.000000</td>\n",
       "      <td>2009.000000</td>\n",
       "      <td>2009.0</td>\n",
       "    </tr>\n",
       "    <tr>\n",
       "      <th>mean</th>\n",
       "      <td>5.0</td>\n",
       "      <td>2.850083e+03</td>\n",
       "      <td>2000.774017</td>\n",
       "      <td>19.713184</td>\n",
       "      <td>25.881971</td>\n",
       "      <td>11.0</td>\n",
       "    </tr>\n",
       "    <tr>\n",
       "      <th>std</th>\n",
       "      <td>0.0</td>\n",
       "      <td>2.945860e+04</td>\n",
       "      <td>6.102437</td>\n",
       "      <td>16.700929</td>\n",
       "      <td>53.060804</td>\n",
       "      <td>0.0</td>\n",
       "    </tr>\n",
       "    <tr>\n",
       "      <th>min</th>\n",
       "      <td>5.0</td>\n",
       "      <td>2.600000e-01</td>\n",
       "      <td>1936.000000</td>\n",
       "      <td>-41.066670</td>\n",
       "      <td>-134.201390</td>\n",
       "      <td>11.0</td>\n",
       "    </tr>\n",
       "    <tr>\n",
       "      <th>25%</th>\n",
       "      <td>5.0</td>\n",
       "      <td>8.630000e+01</td>\n",
       "      <td>1997.000000</td>\n",
       "      <td>19.193330</td>\n",
       "      <td>12.565500</td>\n",
       "      <td>11.0</td>\n",
       "    </tr>\n",
       "    <tr>\n",
       "      <th>50%</th>\n",
       "      <td>5.0</td>\n",
       "      <td>2.400000e+02</td>\n",
       "      <td>2000.000000</td>\n",
       "      <td>21.229480</td>\n",
       "      <td>16.579500</td>\n",
       "      <td>11.0</td>\n",
       "    </tr>\n",
       "    <tr>\n",
       "      <th>75%</th>\n",
       "      <td>5.0</td>\n",
       "      <td>7.440000e+02</td>\n",
       "      <td>2004.000000</td>\n",
       "      <td>27.683330</td>\n",
       "      <td>55.725970</td>\n",
       "      <td>11.0</td>\n",
       "    </tr>\n",
       "    <tr>\n",
       "      <th>max</th>\n",
       "      <td>5.0</td>\n",
       "      <td>1.003000e+06</td>\n",
       "      <td>2012.000000</td>\n",
       "      <td>59.704440</td>\n",
       "      <td>142.600000</td>\n",
       "      <td>11.0</td>\n",
       "    </tr>\n",
       "  </tbody>\n",
       "</table>\n",
       "</div>"
      ],
      "text/plain": [
       "       Cluster          mass         year     latitude    longitude  lc_sample\n",
       "count   2009.0  2.009000e+03  2009.000000  2009.000000  2009.000000     2009.0\n",
       "mean       5.0  2.850083e+03  2000.774017    19.713184    25.881971       11.0\n",
       "std        0.0  2.945860e+04     6.102437    16.700929    53.060804        0.0\n",
       "min        5.0  2.600000e-01  1936.000000   -41.066670  -134.201390       11.0\n",
       "25%        5.0  8.630000e+01  1997.000000    19.193330    12.565500       11.0\n",
       "50%        5.0  2.400000e+02  2000.000000    21.229480    16.579500       11.0\n",
       "75%        5.0  7.440000e+02  2004.000000    27.683330    55.725970       11.0\n",
       "max        5.0  1.003000e+06  2012.000000    59.704440   142.600000       11.0"
      ]
     },
     "execution_count": 15,
     "metadata": {},
     "output_type": "execute_result"
    }
   ],
   "source": [
    "cluster5.describe()"
   ]
  },
  {
   "cell_type": "code",
   "execution_count": 16,
   "id": "3e5c5c99",
   "metadata": {
    "scrolled": true
   },
   "outputs": [
    {
     "data": {
      "text/plain": [
       "<matplotlib.collections.PathCollection at 0x7fc95a5e95b0>"
      ]
     },
     "execution_count": 16,
     "metadata": {},
     "output_type": "execute_result"
    },
    {
     "data": {
      "image/png": "[encoded data removed]",
      "text/plain": [
       "<Figure size 432x288 with 1 Axes>"
      ]
     },
     "metadata": {
      "needs_background": "light"
     },
     "output_type": "display_data"
    }
   ],
   "source": [
    "plt.scatter(cluster5.longitude,cluster5.latitude)\n"
   ]
  },
  {
   "cell_type": "markdown",
   "id": "e7de198b",
   "metadata": {},
   "source": [
    "# Cluster 6"
   ]
  },
  {
   "cell_type": "code",
   "execution_count": 17,
   "id": "ff1844ec",
   "metadata": {
    "scrolled": false
   },
   "outputs": [
    {
     "data": {
      "text/html": [
       "<div>\n",
       "<style scoped>\n",
       "    .dataframe tbody tr th:only-of-type {\n",
       "        vertical-align: middle;\n",
       "    }\n",
       "\n",
       "    .dataframe tbody tr th {\n",
       "        vertical-align: top;\n",
       "    }\n",
       "\n",
       "    .dataframe thead th {\n",
       "        text-align: right;\n",
       "    }\n",
       "</style>\n",
       "<table border=\"1\" class=\"dataframe\">\n",
       "  <thead>\n",
       "    <tr style=\"text-align: right;\">\n",
       "      <th></th>\n",
       "      <th>Cluster</th>\n",
       "      <th>mass</th>\n",
       "      <th>year</th>\n",
       "      <th>latitude</th>\n",
       "      <th>longitude</th>\n",
       "      <th>lc_sample</th>\n",
       "    </tr>\n",
       "  </thead>\n",
       "  <tbody>\n",
       "    <tr>\n",
       "      <th>count</th>\n",
       "      <td>252.0</td>\n",
       "      <td>252.000000</td>\n",
       "      <td>252.000000</td>\n",
       "      <td>252.000000</td>\n",
       "      <td>252.000000</td>\n",
       "      <td>252.000000</td>\n",
       "    </tr>\n",
       "    <tr>\n",
       "      <th>mean</th>\n",
       "      <td>6.0</td>\n",
       "      <td>3159.131627</td>\n",
       "      <td>1980.468254</td>\n",
       "      <td>13.135574</td>\n",
       "      <td>38.503635</td>\n",
       "      <td>13.761905</td>\n",
       "    </tr>\n",
       "    <tr>\n",
       "      <th>std</th>\n",
       "      <td>0.0</td>\n",
       "      <td>11739.039145</td>\n",
       "      <td>14.833303</td>\n",
       "      <td>23.473674</td>\n",
       "      <td>54.929598</td>\n",
       "      <td>1.719022</td>\n",
       "    </tr>\n",
       "    <tr>\n",
       "      <th>min</th>\n",
       "      <td>6.0</td>\n",
       "      <td>3.000000</td>\n",
       "      <td>1901.000000</td>\n",
       "      <td>-30.883330</td>\n",
       "      <td>-112.408890</td>\n",
       "      <td>1.000000</td>\n",
       "    </tr>\n",
       "    <tr>\n",
       "      <th>25%</th>\n",
       "      <td>6.0</td>\n",
       "      <td>122.025000</td>\n",
       "      <td>1979.000000</td>\n",
       "      <td>19.108612</td>\n",
       "      <td>3.916670</td>\n",
       "      <td>14.000000</td>\n",
       "    </tr>\n",
       "    <tr>\n",
       "      <th>50%</th>\n",
       "      <td>6.0</td>\n",
       "      <td>317.500000</td>\n",
       "      <td>1986.000000</td>\n",
       "      <td>24.983330</td>\n",
       "      <td>11.783330</td>\n",
       "      <td>14.000000</td>\n",
       "    </tr>\n",
       "    <tr>\n",
       "      <th>75%</th>\n",
       "      <td>6.0</td>\n",
       "      <td>1276.500000</td>\n",
       "      <td>1989.000000</td>\n",
       "      <td>27.700000</td>\n",
       "      <td>56.412498</td>\n",
       "      <td>14.000000</td>\n",
       "    </tr>\n",
       "    <tr>\n",
       "      <th>max</th>\n",
       "      <td>6.0</td>\n",
       "      <td>105000.000000</td>\n",
       "      <td>1989.000000</td>\n",
       "      <td>39.824670</td>\n",
       "      <td>142.016670</td>\n",
       "      <td>17.000000</td>\n",
       "    </tr>\n",
       "  </tbody>\n",
       "</table>\n",
       "</div>"
      ],
      "text/plain": [
       "       Cluster           mass         year    latitude   longitude   lc_sample\n",
       "count    252.0     252.000000   252.000000  252.000000  252.000000  252.000000\n",
       "mean       6.0    3159.131627  1980.468254   13.135574   38.503635   13.761905\n",
       "std        0.0   11739.039145    14.833303   23.473674   54.929598    1.719022\n",
       "min        6.0       3.000000  1901.000000  -30.883330 -112.408890    1.000000\n",
       "25%        6.0     122.025000  1979.000000   19.108612    3.916670   14.000000\n",
       "50%        6.0     317.500000  1986.000000   24.983330   11.783330   14.000000\n",
       "75%        6.0    1276.500000  1989.000000   27.700000   56.412498   14.000000\n",
       "max        6.0  105000.000000  1989.000000   39.824670  142.016670   17.000000"
      ]
     },
     "execution_count": 17,
     "metadata": {},
     "output_type": "execute_result"
    }
   ],
   "source": [
    "cluster6.describe()"
   ]
  },
  {
   "cell_type": "code",
   "execution_count": 18,
   "id": "c5454b6d",
   "metadata": {
    "scrolled": false
   },
   "outputs": [
    {
     "data": {
      "text/plain": [
       "<matplotlib.collections.PathCollection at 0x7fc95a6c6fd0>"
      ]
     },
     "execution_count": 18,
     "metadata": {},
     "output_type": "execute_result"
    },
    {
     "data": {
      "image/png": "[encoded data removed]",
      "text/plain": [
       "<Figure size 432x288 with 1 Axes>"
      ]
     },
     "metadata": {
      "needs_background": "light"
     },
     "output_type": "display_data"
    }
   ],
   "source": [
    "plt.scatter(cluster6.longitude,cluster6.latitude)\n"
   ]
  },
  {
   "cell_type": "code",
   "execution_count": 19,
   "id": "22ab64ac",
   "metadata": {},
   "outputs": [
    {
     "data": {
      "image/png": "[encoded data removed]",
      "text/plain": [
       "<Figure size 864x720 with 1 Axes>"
      ]
     },
     "metadata": {
      "needs_background": "light"
     },
     "output_type": "display_data"
    }
   ],
   "source": [
    "fig = plt.figure(figsize=(12, 10))\n",
    "ax1 = fig.add_subplot(111)\n",
    "\n",
    "ax1.scatter(cluster0.longitude,cluster0.latitude,c='r', label=\"0\", s=2)\n",
    "ax1.scatter(cluster1.longitude,cluster1.latitude,c='g', label=\"1\", s=2)\n",
    "ax1.scatter(cluster2.longitude,cluster2.latitude,c='b', label=\"2\", s=2)\n",
    "ax1.scatter(cluster3.longitude,cluster3.latitude,c='c', label=\"3\", s=2)\n",
    "ax1.scatter(cluster4.longitude,cluster4.latitude,c='m', label=\"4\", s=2)\n",
    "ax1.scatter(cluster5.longitude,cluster5.latitude,c='y', label=\"5\", s=2)\n",
    "ax1.scatter(cluster6.longitude,cluster6.latitude,c='k', label=\"6\", s=2)\n",
    "\n",
    "plt.legend()\n",
    "plt.show()"
   ]
  },
  {
   "cell_type": "code",
   "execution_count": null,
   "id": "fbf93a16",
   "metadata": {},
   "outputs": [],
   "source": []
  }
 ],
 "metadata": {
  "kernelspec": {
   "display_name": "Python 3",
   "language": "python",
   "name": "python3"
  },
  "language_info": {
   "codemirror_mode": {
    "name": "ipython",
    "version": 3
   },
   "file_extension": ".py",
   "mimetype": "text/x-python",
   "name": "python",
   "nbconvert_exporter": "python",
   "pygments_lexer": "ipython3",
   "version": "3.8.2"
  }
 },
 "nbformat": 4,
 "nbformat_minor": 5
}
