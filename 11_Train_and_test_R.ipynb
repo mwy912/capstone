{
 "cells": [
  {
   "cell_type": "code",
   "execution_count": 4,
   "id": "9ae2922c",
   "metadata": {},
   "outputs": [
    {
     "name": "stderr",
     "output_type": "stream",
     "text": [
      "Registered S3 method overwritten by 'geojsonsf':\n",
      "  method        from   \n",
      "  print.geojson geojson\n",
      "\n",
      "\n",
      "Attaching package: ‘geojsonio’\n",
      "\n",
      "\n",
      "The following object is masked from ‘package:base’:\n",
      "\n",
      "    pretty\n",
      "\n",
      "\n",
      "── \u001b[1mAttaching packages\u001b[22m ─────────────────────────────────────── tidyverse 1.3.1 ──\n",
      "\n",
      "\u001b[32m✔\u001b[39m \u001b[34mggplot2\u001b[39m 3.3.3     \u001b[32m✔\u001b[39m \u001b[34mpurrr  \u001b[39m 0.3.4\n",
      "\u001b[32m✔\u001b[39m \u001b[34mtibble \u001b[39m 3.1.0     \u001b[32m✔\u001b[39m \u001b[34mdplyr  \u001b[39m 1.0.5\n",
      "\u001b[32m✔\u001b[39m \u001b[34mtidyr  \u001b[39m 1.1.3     \u001b[32m✔\u001b[39m \u001b[34mstringr\u001b[39m 1.4.0\n",
      "\u001b[32m✔\u001b[39m \u001b[34mreadr  \u001b[39m 1.4.0     \u001b[32m✔\u001b[39m \u001b[34mforcats\u001b[39m 0.5.1\n",
      "\n",
      "── \u001b[1mConflicts\u001b[22m ────────────────────────────────────────── tidyverse_conflicts() ──\n",
      "\u001b[31m✖\u001b[39m \u001b[34mtidyr\u001b[39m::\u001b[32mextract()\u001b[39m masks \u001b[34mraster\u001b[39m::extract()\n",
      "\u001b[31m✖\u001b[39m \u001b[34mdplyr\u001b[39m::\u001b[32mfilter()\u001b[39m  masks \u001b[34mstats\u001b[39m::filter()\n",
      "\u001b[31m✖\u001b[39m \u001b[34mdplyr\u001b[39m::\u001b[32mlag()\u001b[39m     masks \u001b[34mstats\u001b[39m::lag()\n",
      "\u001b[31m✖\u001b[39m \u001b[34mdplyr\u001b[39m::\u001b[32mselect()\u001b[39m  masks \u001b[34mraster\u001b[39m::select()\n",
      "\n",
      "\n",
      "Attaching package: ‘sjstats’\n",
      "\n",
      "\n",
      "The following object is masked from ‘package:raster’:\n",
      "\n",
      "    cv\n",
      "\n",
      "\n"
     ]
    }
   ],
   "source": [
    "## Load R libraries.\n",
    "\n",
    "inLibraries = list('repr','rgdal','gstat','sp','spdep','rgeos','maptools','RColorBrewer','classInt','raster')\n",
    "for (rpack in inLibraries) {\n",
    "  if (is.element(rpack,installed.packages()[,1])){           \n",
    "      #Load the library into R\n",
    "      suppressMessages(library(rpack,character.only = TRUE))\n",
    "    }\n",
    "    else {\n",
    "        print(paste(\"Warning:  \",rpack,\" is not an installed package\"))\n",
    "    }\n",
    "}\n",
    "\n",
    "library(geojsonio)\n",
    "\n",
    "library(tidyverse)\n",
    "\n",
    "library(sjstats)\n",
    "\n",
    "\n",
    "options(repr.plot.width=15, repr.plot.height=15)"
   ]
  },
  {
   "cell_type": "code",
   "execution_count": 1,
   "id": "41daaf07",
   "metadata": {},
   "outputs": [],
   "source": [
    "all_falls <- read.csv('data/results/all_falls.csv')\n",
    "\n",
    "all <- read.csv('data/results/all.csv')\n",
    "\n",
    "\n"
   ]
  },
  {
   "cell_type": "code",
   "execution_count": 2,
   "id": "66f0aa5c",
   "metadata": {},
   "outputs": [
    {
     "data": {
      "text/html": [
       "<table class=\"dataframe\">\n",
       "<caption>A data.frame: 6 × 15</caption>\n",
       "<thead>\n",
       "\t<tr><th></th><th scope=col>X</th><th scope=col>id</th><th scope=col>recclass</th><th scope=col>mass</th><th scope=col>fell_or_found</th><th scope=col>year</th><th scope=col>latitude</th><th scope=col>longitude</th><th scope=col>group</th><th scope=col>chondrite</th><th scope=col>type</th><th scope=col>lvl3</th><th scope=col>lvl4</th><th scope=col>lc_sample</th><th scope=col>weights</th></tr>\n",
       "\t<tr><th></th><th scope=col>&lt;int&gt;</th><th scope=col>&lt;int&gt;</th><th scope=col>&lt;chr&gt;</th><th scope=col>&lt;dbl&gt;</th><th scope=col>&lt;chr&gt;</th><th scope=col>&lt;int&gt;</th><th scope=col>&lt;dbl&gt;</th><th scope=col>&lt;dbl&gt;</th><th scope=col>&lt;chr&gt;</th><th scope=col>&lt;chr&gt;</th><th scope=col>&lt;chr&gt;</th><th scope=col>&lt;chr&gt;</th><th scope=col>&lt;chr&gt;</th><th scope=col>&lt;int&gt;</th><th scope=col>&lt;dbl&gt;</th></tr>\n",
       "</thead>\n",
       "<tbody>\n",
       "\t<tr><th scope=row>503</th><td>4558</td><td>12465</td><td>L4</td><td> 7000</td><td>Fell</td><td>1925</td><td>47.75000</td><td> 16.23333</td><td>L</td><td>Chondrite</td><td>Stony</td><td>Ordinary</td><td>L</td><td> 2</td><td>0.463225691</td></tr>\n",
       "\t<tr><th scope=row>985</th><td>6750</td><td>24143</td><td>H6</td><td>   40</td><td>Fell</td><td>1668</td><td>45.41667</td><td> 11.13333</td><td>H</td><td>Chondrite</td><td>Stony</td><td>Ordinary</td><td>H</td><td> 1</td><td>0.297273742</td></tr>\n",
       "\t<tr><th scope=row>1004</th><td>6801</td><td>24189</td><td>H6</td><td>  594</td><td>Fell</td><td>1915</td><td>25.45000</td><td> 70.00000</td><td>H</td><td>Chondrite</td><td>Stony</td><td>Ordinary</td><td>H</td><td>14</td><td>0.498018660</td></tr>\n",
       "\t<tr><th scope=row>919</th><td>6444</td><td>23760</td><td>H6</td><td> 7235</td><td>Fell</td><td>1865</td><td>26.71667</td><td> 84.21667</td><td>H</td><td>Chondrite</td><td>Stony</td><td>Ordinary</td><td>H</td><td> 1</td><td>0.297273742</td></tr>\n",
       "\t<tr><th scope=row>470</th><td>4443</td><td>12342</td><td>L6</td><td>11510</td><td>Fell</td><td>1986</td><td>34.30000</td><td>133.95000</td><td>L</td><td>Chondrite</td><td>Stony</td><td>Ordinary</td><td>L</td><td>11</td><td>0.004857815</td></tr>\n",
       "\t<tr><th scope=row>823</th><td>5821</td><td>22792</td><td>H5</td><td> 1250</td><td>Fell</td><td>1855</td><td>27.43333</td><td> 82.08333</td><td>H</td><td>Chondrite</td><td>Stony</td><td>Ordinary</td><td>H</td><td> 1</td><td>0.297273742</td></tr>\n",
       "</tbody>\n",
       "</table>\n"
      ],
      "text/latex": [
       "A data.frame: 6 × 15\n",
       "\\begin{tabular}{r|lllllllllllllll}\n",
       "  & X & id & recclass & mass & fell\\_or\\_found & year & latitude & longitude & group & chondrite & type & lvl3 & lvl4 & lc\\_sample & weights\\\\\n",
       "  & <int> & <int> & <chr> & <dbl> & <chr> & <int> & <dbl> & <dbl> & <chr> & <chr> & <chr> & <chr> & <chr> & <int> & <dbl>\\\\\n",
       "\\hline\n",
       "\t503 & 4558 & 12465 & L4 &  7000 & Fell & 1925 & 47.75000 &  16.23333 & L & Chondrite & Stony & Ordinary & L &  2 & 0.463225691\\\\\n",
       "\t985 & 6750 & 24143 & H6 &    40 & Fell & 1668 & 45.41667 &  11.13333 & H & Chondrite & Stony & Ordinary & H &  1 & 0.297273742\\\\\n",
       "\t1004 & 6801 & 24189 & H6 &   594 & Fell & 1915 & 25.45000 &  70.00000 & H & Chondrite & Stony & Ordinary & H & 14 & 0.498018660\\\\\n",
       "\t919 & 6444 & 23760 & H6 &  7235 & Fell & 1865 & 26.71667 &  84.21667 & H & Chondrite & Stony & Ordinary & H &  1 & 0.297273742\\\\\n",
       "\t470 & 4443 & 12342 & L6 & 11510 & Fell & 1986 & 34.30000 & 133.95000 & L & Chondrite & Stony & Ordinary & L & 11 & 0.004857815\\\\\n",
       "\t823 & 5821 & 22792 & H5 &  1250 & Fell & 1855 & 27.43333 &  82.08333 & H & Chondrite & Stony & Ordinary & H &  1 & 0.297273742\\\\\n",
       "\\end{tabular}\n"
      ],
      "text/markdown": [
       "\n",
       "A data.frame: 6 × 15\n",
       "\n",
       "| <!--/--> | X &lt;int&gt; | id &lt;int&gt; | recclass &lt;chr&gt; | mass &lt;dbl&gt; | fell_or_found &lt;chr&gt; | year &lt;int&gt; | latitude &lt;dbl&gt; | longitude &lt;dbl&gt; | group &lt;chr&gt; | chondrite &lt;chr&gt; | type &lt;chr&gt; | lvl3 &lt;chr&gt; | lvl4 &lt;chr&gt; | lc_sample &lt;int&gt; | weights &lt;dbl&gt; |\n",
       "|---|---|---|---|---|---|---|---|---|---|---|---|---|---|---|---|\n",
       "| 503 | 4558 | 12465 | L4 |  7000 | Fell | 1925 | 47.75000 |  16.23333 | L | Chondrite | Stony | Ordinary | L |  2 | 0.463225691 |\n",
       "| 985 | 6750 | 24143 | H6 |    40 | Fell | 1668 | 45.41667 |  11.13333 | H | Chondrite | Stony | Ordinary | H |  1 | 0.297273742 |\n",
       "| 1004 | 6801 | 24189 | H6 |   594 | Fell | 1915 | 25.45000 |  70.00000 | H | Chondrite | Stony | Ordinary | H | 14 | 0.498018660 |\n",
       "| 919 | 6444 | 23760 | H6 |  7235 | Fell | 1865 | 26.71667 |  84.21667 | H | Chondrite | Stony | Ordinary | H |  1 | 0.297273742 |\n",
       "| 470 | 4443 | 12342 | L6 | 11510 | Fell | 1986 | 34.30000 | 133.95000 | L | Chondrite | Stony | Ordinary | L | 11 | 0.004857815 |\n",
       "| 823 | 5821 | 22792 | H5 |  1250 | Fell | 1855 | 27.43333 |  82.08333 | H | Chondrite | Stony | Ordinary | H |  1 | 0.297273742 |\n",
       "\n"
      ],
      "text/plain": [
       "     X    id    recclass mass  fell_or_found year latitude longitude group\n",
       "503  4558 12465 L4        7000 Fell          1925 47.75000  16.23333 L    \n",
       "985  6750 24143 H6          40 Fell          1668 45.41667  11.13333 H    \n",
       "1004 6801 24189 H6         594 Fell          1915 25.45000  70.00000 H    \n",
       "919  6444 23760 H6        7235 Fell          1865 26.71667  84.21667 H    \n",
       "470  4443 12342 L6       11510 Fell          1986 34.30000 133.95000 L    \n",
       "823  5821 22792 H5        1250 Fell          1855 27.43333  82.08333 H    \n",
       "     chondrite type  lvl3     lvl4 lc_sample weights    \n",
       "503  Chondrite Stony Ordinary L     2        0.463225691\n",
       "985  Chondrite Stony Ordinary H     1        0.297273742\n",
       "1004 Chondrite Stony Ordinary H    14        0.498018660\n",
       "919  Chondrite Stony Ordinary H     1        0.297273742\n",
       "470  Chondrite Stony Ordinary L    11        0.004857815\n",
       "823  Chondrite Stony Ordinary H     1        0.297273742"
      ]
     },
     "metadata": {},
     "output_type": "display_data"
    },
    {
     "data": {
      "text/html": [
       "<style>\n",
       ".list-inline {list-style: none; margin:0; padding: 0}\n",
       ".list-inline>li {display: inline-block}\n",
       ".list-inline>li:not(:last-child)::after {content: \"\\00b7\"; padding: 0 .5ex}\n",
       "</style>\n",
       "<ol class=list-inline><li>784</li><li>15</li></ol>\n"
      ],
      "text/latex": [
       "\\begin{enumerate*}\n",
       "\\item 784\n",
       "\\item 15\n",
       "\\end{enumerate*}\n"
      ],
      "text/markdown": [
       "1. 784\n",
       "2. 15\n",
       "\n",
       "\n"
      ],
      "text/plain": [
       "[1] 784  15"
      ]
     },
     "metadata": {},
     "output_type": "display_data"
    },
    {
     "data": {
      "text/html": [
       "<table class=\"dataframe\">\n",
       "<caption>A data.frame: 6 × 15</caption>\n",
       "<thead>\n",
       "\t<tr><th></th><th scope=col>X</th><th scope=col>id</th><th scope=col>recclass</th><th scope=col>mass</th><th scope=col>fell_or_found</th><th scope=col>year</th><th scope=col>latitude</th><th scope=col>longitude</th><th scope=col>group</th><th scope=col>chondrite</th><th scope=col>type</th><th scope=col>lvl3</th><th scope=col>lvl4</th><th scope=col>lc_sample</th><th scope=col>weights</th></tr>\n",
       "\t<tr><th></th><th scope=col>&lt;int&gt;</th><th scope=col>&lt;int&gt;</th><th scope=col>&lt;chr&gt;</th><th scope=col>&lt;dbl&gt;</th><th scope=col>&lt;chr&gt;</th><th scope=col>&lt;int&gt;</th><th scope=col>&lt;dbl&gt;</th><th scope=col>&lt;dbl&gt;</th><th scope=col>&lt;chr&gt;</th><th scope=col>&lt;chr&gt;</th><th scope=col>&lt;chr&gt;</th><th scope=col>&lt;chr&gt;</th><th scope=col>&lt;chr&gt;</th><th scope=col>&lt;int&gt;</th><th scope=col>&lt;dbl&gt;</th></tr>\n",
       "</thead>\n",
       "<tbody>\n",
       "\t<tr><th scope=row>3</th><td>  5</td><td>  6</td><td>EH4  </td><td>107000</td><td>Fell</td><td>1952</td><td> 54.21667</td><td>-113.00000</td><td>EH</td><td>Chondrite</td><td>Stony</td><td>Enstatite   </td><td>EH-EL</td><td> 1</td><td>0.297273742</td></tr>\n",
       "\t<tr><th scope=row>5</th><td>367</td><td>370</td><td>L6   </td><td>   780</td><td>Fell</td><td>1902</td><td>-33.16667</td><td> -64.95000</td><td>L </td><td>Chondrite</td><td>Stony</td><td>Ordinary    </td><td>L    </td><td> 2</td><td>0.463225691</td></tr>\n",
       "\t<tr><th scope=row>7</th><td>385</td><td>390</td><td>LL3-6</td><td>   910</td><td>Fell</td><td>1949</td><td> 44.83333</td><td>  95.16667</td><td>LL</td><td>Chondrite</td><td>Stony</td><td>Ordinary    </td><td>LL   </td><td> 2</td><td>0.463225691</td></tr>\n",
       "\t<tr><th scope=row>8</th><td>386</td><td>392</td><td>H5   </td><td> 30000</td><td>Fell</td><td>1814</td><td> 44.21667</td><td>   0.61667</td><td>H </td><td>Chondrite</td><td>Stony</td><td>Ordinary    </td><td>H    </td><td> 2</td><td>0.463225691</td></tr>\n",
       "\t<tr><th scope=row>20</th><td>438</td><td>448</td><td>CI1  </td><td>  6000</td><td>Fell</td><td>1806</td><td> 44.11667</td><td>   4.08333</td><td>CI</td><td>Chondrite</td><td>Stony</td><td>Carbonaceous</td><td>CI   </td><td>11</td><td>0.004857815</td></tr>\n",
       "\t<tr><th scope=row>25</th><td>451</td><td>462</td><td>L6   </td><td>  3200</td><td>Fell</td><td>1873</td><td> 36.23333</td><td>  37.13333</td><td>L </td><td>Chondrite</td><td>Stony</td><td>Ordinary    </td><td>L    </td><td> 2</td><td>0.463225691</td></tr>\n",
       "</tbody>\n",
       "</table>\n"
      ],
      "text/latex": [
       "A data.frame: 6 × 15\n",
       "\\begin{tabular}{r|lllllllllllllll}\n",
       "  & X & id & recclass & mass & fell\\_or\\_found & year & latitude & longitude & group & chondrite & type & lvl3 & lvl4 & lc\\_sample & weights\\\\\n",
       "  & <int> & <int> & <chr> & <dbl> & <chr> & <int> & <dbl> & <dbl> & <chr> & <chr> & <chr> & <chr> & <chr> & <int> & <dbl>\\\\\n",
       "\\hline\n",
       "\t3 &   5 &   6 & EH4   & 107000 & Fell & 1952 &  54.21667 & -113.00000 & EH & Chondrite & Stony & Enstatite    & EH-EL &  1 & 0.297273742\\\\\n",
       "\t5 & 367 & 370 & L6    &    780 & Fell & 1902 & -33.16667 &  -64.95000 & L  & Chondrite & Stony & Ordinary     & L     &  2 & 0.463225691\\\\\n",
       "\t7 & 385 & 390 & LL3-6 &    910 & Fell & 1949 &  44.83333 &   95.16667 & LL & Chondrite & Stony & Ordinary     & LL    &  2 & 0.463225691\\\\\n",
       "\t8 & 386 & 392 & H5    &  30000 & Fell & 1814 &  44.21667 &    0.61667 & H  & Chondrite & Stony & Ordinary     & H     &  2 & 0.463225691\\\\\n",
       "\t20 & 438 & 448 & CI1   &   6000 & Fell & 1806 &  44.11667 &    4.08333 & CI & Chondrite & Stony & Carbonaceous & CI    & 11 & 0.004857815\\\\\n",
       "\t25 & 451 & 462 & L6    &   3200 & Fell & 1873 &  36.23333 &   37.13333 & L  & Chondrite & Stony & Ordinary     & L     &  2 & 0.463225691\\\\\n",
       "\\end{tabular}\n"
      ],
      "text/markdown": [
       "\n",
       "A data.frame: 6 × 15\n",
       "\n",
       "| <!--/--> | X &lt;int&gt; | id &lt;int&gt; | recclass &lt;chr&gt; | mass &lt;dbl&gt; | fell_or_found &lt;chr&gt; | year &lt;int&gt; | latitude &lt;dbl&gt; | longitude &lt;dbl&gt; | group &lt;chr&gt; | chondrite &lt;chr&gt; | type &lt;chr&gt; | lvl3 &lt;chr&gt; | lvl4 &lt;chr&gt; | lc_sample &lt;int&gt; | weights &lt;dbl&gt; |\n",
       "|---|---|---|---|---|---|---|---|---|---|---|---|---|---|---|---|\n",
       "| 3 |   5 |   6 | EH4   | 107000 | Fell | 1952 |  54.21667 | -113.00000 | EH | Chondrite | Stony | Enstatite    | EH-EL |  1 | 0.297273742 |\n",
       "| 5 | 367 | 370 | L6    |    780 | Fell | 1902 | -33.16667 |  -64.95000 | L  | Chondrite | Stony | Ordinary     | L     |  2 | 0.463225691 |\n",
       "| 7 | 385 | 390 | LL3-6 |    910 | Fell | 1949 |  44.83333 |   95.16667 | LL | Chondrite | Stony | Ordinary     | LL    |  2 | 0.463225691 |\n",
       "| 8 | 386 | 392 | H5    |  30000 | Fell | 1814 |  44.21667 |    0.61667 | H  | Chondrite | Stony | Ordinary     | H     |  2 | 0.463225691 |\n",
       "| 20 | 438 | 448 | CI1   |   6000 | Fell | 1806 |  44.11667 |    4.08333 | CI | Chondrite | Stony | Carbonaceous | CI    | 11 | 0.004857815 |\n",
       "| 25 | 451 | 462 | L6    |   3200 | Fell | 1873 |  36.23333 |   37.13333 | L  | Chondrite | Stony | Ordinary     | L     |  2 | 0.463225691 |\n",
       "\n"
      ],
      "text/plain": [
       "   X   id  recclass mass   fell_or_found year latitude  longitude  group\n",
       "3    5   6 EH4      107000 Fell          1952  54.21667 -113.00000 EH   \n",
       "5  367 370 L6          780 Fell          1902 -33.16667  -64.95000 L    \n",
       "7  385 390 LL3-6       910 Fell          1949  44.83333   95.16667 LL   \n",
       "8  386 392 H5        30000 Fell          1814  44.21667    0.61667 H    \n",
       "20 438 448 CI1        6000 Fell          1806  44.11667    4.08333 CI   \n",
       "25 451 462 L6         3200 Fell          1873  36.23333   37.13333 L    \n",
       "   chondrite type  lvl3         lvl4  lc_sample weights    \n",
       "3  Chondrite Stony Enstatite    EH-EL  1        0.297273742\n",
       "5  Chondrite Stony Ordinary     L      2        0.463225691\n",
       "7  Chondrite Stony Ordinary     LL     2        0.463225691\n",
       "8  Chondrite Stony Ordinary     H      2        0.463225691\n",
       "20 Chondrite Stony Carbonaceous CI    11        0.004857815\n",
       "25 Chondrite Stony Ordinary     L      2        0.463225691"
      ]
     },
     "metadata": {},
     "output_type": "display_data"
    },
    {
     "data": {
      "text/html": [
       "<style>\n",
       ".list-inline {list-style: none; margin:0; padding: 0}\n",
       ".list-inline>li {display: inline-block}\n",
       ".list-inline>li:not(:last-child)::after {content: \"\\00b7\"; padding: 0 .5ex}\n",
       "</style>\n",
       "<ol class=list-inline><li>336</li><li>15</li></ol>\n"
      ],
      "text/latex": [
       "\\begin{enumerate*}\n",
       "\\item 336\n",
       "\\item 15\n",
       "\\end{enumerate*}\n"
      ],
      "text/markdown": [
       "1. 336\n",
       "2. 15\n",
       "\n",
       "\n"
      ],
      "text/plain": [
       "[1] 336  15"
      ]
     },
     "metadata": {},
     "output_type": "display_data"
    }
   ],
   "source": [
    "# Creating Train and Test datasets\n",
    "\n",
    "# all_falls\n",
    "\n",
    "set.seed(100)\n",
    "sample_size <- floor(0.7 * nrow(all_falls))\n",
    "\n",
    "train_ind <- sample(seq_len(nrow(all_falls)), size = sample_size)\n",
    "\n",
    "all_falls_train <- all_falls[train_ind, ]\n",
    "all_falls_test <- all_falls[-train_ind, ]\n",
    "\n",
    "head(all_falls_train)\n",
    "dim(all_falls_train)\n",
    "\n",
    "head(all_falls_test)\n",
    "dim(all_falls_test)"
   ]
  },
  {
   "cell_type": "code",
   "execution_count": 3,
   "id": "27de4c1b",
   "metadata": {},
   "outputs": [
    {
     "data": {
      "text/html": [
       "<table class=\"dataframe\">\n",
       "<caption>A data.frame: 6 × 15</caption>\n",
       "<thead>\n",
       "\t<tr><th></th><th scope=col>X</th><th scope=col>id</th><th scope=col>recclass</th><th scope=col>mass</th><th scope=col>fell_or_found</th><th scope=col>year</th><th scope=col>latitude</th><th scope=col>longitude</th><th scope=col>group</th><th scope=col>chondrite</th><th scope=col>type</th><th scope=col>lvl3</th><th scope=col>lvl4</th><th scope=col>lc_sample</th><th scope=col>weights</th></tr>\n",
       "\t<tr><th></th><th scope=col>&lt;int&gt;</th><th scope=col>&lt;int&gt;</th><th scope=col>&lt;chr&gt;</th><th scope=col>&lt;dbl&gt;</th><th scope=col>&lt;chr&gt;</th><th scope=col>&lt;int&gt;</th><th scope=col>&lt;dbl&gt;</th><th scope=col>&lt;dbl&gt;</th><th scope=col>&lt;chr&gt;</th><th scope=col>&lt;chr&gt;</th><th scope=col>&lt;chr&gt;</th><th scope=col>&lt;chr&gt;</th><th scope=col>&lt;chr&gt;</th><th scope=col>&lt;int&gt;</th><th scope=col>&lt;dbl&gt;</th></tr>\n",
       "</thead>\n",
       "<tbody>\n",
       "\t<tr><th scope=row>3786</th><td>3786</td><td>11632</td><td>L4           </td><td> 633.00</td><td>Found</td><td>1995</td><td> 28.69167</td><td> 13.21967</td><td>L      </td><td>Chondrite </td><td>Stony</td><td>Ordinary  </td><td>L          </td><td>11</td><td>0.004857815</td></tr>\n",
       "\t<tr><th scope=row>503</th><td> 503</td><td> 2320</td><td>L6           </td><td>3200.00</td><td>Fell </td><td>1803</td><td> 43.86667</td><td>  5.38333</td><td>L      </td><td>Chondrite </td><td>Stony</td><td>Ordinary  </td><td>L          </td><td>12</td><td>0.497990676</td></tr>\n",
       "\t<tr><th scope=row>3430</th><td>3430</td><td>10154</td><td>H4           </td><td>   0.83</td><td>Found</td><td>1992</td><td>-30.73783</td><td>127.95367</td><td>H      </td><td>Chondrite </td><td>Stony</td><td>Ordinary  </td><td>H          </td><td>11</td><td>0.004857815</td></tr>\n",
       "\t<tr><th scope=row>3696</th><td>3696</td><td>11542</td><td>Eucrite-mmict</td><td> 143.00</td><td>Found</td><td>1994</td><td> 28.94550</td><td> 13.06950</td><td>Eucrite</td><td>Achondrite</td><td>Stony</td><td>Asteroidal</td><td>H-E-D Vesta</td><td>11</td><td>0.004857815</td></tr>\n",
       "\t<tr><th scope=row>4090</th><td>4090</td><td>11944</td><td>L6           </td><td>  23.60</td><td>Found</td><td>1991</td><td>-30.27467</td><td>129.01850</td><td>L      </td><td>Chondrite </td><td>Stony</td><td>Ordinary  </td><td>L          </td><td>11</td><td>0.004857815</td></tr>\n",
       "\t<tr><th scope=row>7886</th><td>7886</td><td>45918</td><td>LL6          </td><td> 425.00</td><td>Found</td><td>2006</td><td> 20.01352</td><td> 56.40697</td><td>LL     </td><td>Chondrite </td><td>Stony</td><td>Ordinary  </td><td>LL         </td><td>11</td><td>0.004857815</td></tr>\n",
       "</tbody>\n",
       "</table>\n"
      ],
      "text/latex": [
       "A data.frame: 6 × 15\n",
       "\\begin{tabular}{r|lllllllllllllll}\n",
       "  & X & id & recclass & mass & fell\\_or\\_found & year & latitude & longitude & group & chondrite & type & lvl3 & lvl4 & lc\\_sample & weights\\\\\n",
       "  & <int> & <int> & <chr> & <dbl> & <chr> & <int> & <dbl> & <dbl> & <chr> & <chr> & <chr> & <chr> & <chr> & <int> & <dbl>\\\\\n",
       "\\hline\n",
       "\t3786 & 3786 & 11632 & L4            &  633.00 & Found & 1995 &  28.69167 &  13.21967 & L       & Chondrite  & Stony & Ordinary   & L           & 11 & 0.004857815\\\\\n",
       "\t503 &  503 &  2320 & L6            & 3200.00 & Fell  & 1803 &  43.86667 &   5.38333 & L       & Chondrite  & Stony & Ordinary   & L           & 12 & 0.497990676\\\\\n",
       "\t3430 & 3430 & 10154 & H4            &    0.83 & Found & 1992 & -30.73783 & 127.95367 & H       & Chondrite  & Stony & Ordinary   & H           & 11 & 0.004857815\\\\\n",
       "\t3696 & 3696 & 11542 & Eucrite-mmict &  143.00 & Found & 1994 &  28.94550 &  13.06950 & Eucrite & Achondrite & Stony & Asteroidal & H-E-D Vesta & 11 & 0.004857815\\\\\n",
       "\t4090 & 4090 & 11944 & L6            &   23.60 & Found & 1991 & -30.27467 & 129.01850 & L       & Chondrite  & Stony & Ordinary   & L           & 11 & 0.004857815\\\\\n",
       "\t7886 & 7886 & 45918 & LL6           &  425.00 & Found & 2006 &  20.01352 &  56.40697 & LL      & Chondrite  & Stony & Ordinary   & LL          & 11 & 0.004857815\\\\\n",
       "\\end{tabular}\n"
      ],
      "text/markdown": [
       "\n",
       "A data.frame: 6 × 15\n",
       "\n",
       "| <!--/--> | X &lt;int&gt; | id &lt;int&gt; | recclass &lt;chr&gt; | mass &lt;dbl&gt; | fell_or_found &lt;chr&gt; | year &lt;int&gt; | latitude &lt;dbl&gt; | longitude &lt;dbl&gt; | group &lt;chr&gt; | chondrite &lt;chr&gt; | type &lt;chr&gt; | lvl3 &lt;chr&gt; | lvl4 &lt;chr&gt; | lc_sample &lt;int&gt; | weights &lt;dbl&gt; |\n",
       "|---|---|---|---|---|---|---|---|---|---|---|---|---|---|---|---|\n",
       "| 3786 | 3786 | 11632 | L4            |  633.00 | Found | 1995 |  28.69167 |  13.21967 | L       | Chondrite  | Stony | Ordinary   | L           | 11 | 0.004857815 |\n",
       "| 503 |  503 |  2320 | L6            | 3200.00 | Fell  | 1803 |  43.86667 |   5.38333 | L       | Chondrite  | Stony | Ordinary   | L           | 12 | 0.497990676 |\n",
       "| 3430 | 3430 | 10154 | H4            |    0.83 | Found | 1992 | -30.73783 | 127.95367 | H       | Chondrite  | Stony | Ordinary   | H           | 11 | 0.004857815 |\n",
       "| 3696 | 3696 | 11542 | Eucrite-mmict |  143.00 | Found | 1994 |  28.94550 |  13.06950 | Eucrite | Achondrite | Stony | Asteroidal | H-E-D Vesta | 11 | 0.004857815 |\n",
       "| 4090 | 4090 | 11944 | L6            |   23.60 | Found | 1991 | -30.27467 | 129.01850 | L       | Chondrite  | Stony | Ordinary   | L           | 11 | 0.004857815 |\n",
       "| 7886 | 7886 | 45918 | LL6           |  425.00 | Found | 2006 |  20.01352 |  56.40697 | LL      | Chondrite  | Stony | Ordinary   | LL          | 11 | 0.004857815 |\n",
       "\n"
      ],
      "text/plain": [
       "     X    id    recclass      mass    fell_or_found year latitude  longitude\n",
       "3786 3786 11632 L4             633.00 Found         1995  28.69167  13.21967\n",
       "503   503  2320 L6            3200.00 Fell          1803  43.86667   5.38333\n",
       "3430 3430 10154 H4               0.83 Found         1992 -30.73783 127.95367\n",
       "3696 3696 11542 Eucrite-mmict  143.00 Found         1994  28.94550  13.06950\n",
       "4090 4090 11944 L6              23.60 Found         1991 -30.27467 129.01850\n",
       "7886 7886 45918 LL6            425.00 Found         2006  20.01352  56.40697\n",
       "     group   chondrite  type  lvl3       lvl4        lc_sample weights    \n",
       "3786 L       Chondrite  Stony Ordinary   L           11        0.004857815\n",
       "503  L       Chondrite  Stony Ordinary   L           12        0.497990676\n",
       "3430 H       Chondrite  Stony Ordinary   H           11        0.004857815\n",
       "3696 Eucrite Achondrite Stony Asteroidal H-E-D Vesta 11        0.004857815\n",
       "4090 L       Chondrite  Stony Ordinary   L           11        0.004857815\n",
       "7886 LL      Chondrite  Stony Ordinary   LL          11        0.004857815"
      ]
     },
     "metadata": {},
     "output_type": "display_data"
    },
    {
     "data": {
      "text/html": [
       "15"
      ],
      "text/latex": [
       "15"
      ],
      "text/markdown": [
       "15"
      ],
      "text/plain": [
       "[1] 15"
      ]
     },
     "metadata": {},
     "output_type": "display_data"
    },
    {
     "data": {
      "text/html": [
       "<table class=\"dataframe\">\n",
       "<caption>A data.frame: 6 × 15</caption>\n",
       "<thead>\n",
       "\t<tr><th></th><th scope=col>X</th><th scope=col>id</th><th scope=col>recclass</th><th scope=col>mass</th><th scope=col>fell_or_found</th><th scope=col>year</th><th scope=col>latitude</th><th scope=col>longitude</th><th scope=col>group</th><th scope=col>chondrite</th><th scope=col>type</th><th scope=col>lvl3</th><th scope=col>lvl4</th><th scope=col>lc_sample</th><th scope=col>weights</th></tr>\n",
       "\t<tr><th></th><th scope=col>&lt;int&gt;</th><th scope=col>&lt;int&gt;</th><th scope=col>&lt;chr&gt;</th><th scope=col>&lt;dbl&gt;</th><th scope=col>&lt;chr&gt;</th><th scope=col>&lt;int&gt;</th><th scope=col>&lt;dbl&gt;</th><th scope=col>&lt;dbl&gt;</th><th scope=col>&lt;chr&gt;</th><th scope=col>&lt;chr&gt;</th><th scope=col>&lt;chr&gt;</th><th scope=col>&lt;chr&gt;</th><th scope=col>&lt;chr&gt;</th><th scope=col>&lt;int&gt;</th><th scope=col>&lt;dbl&gt;</th></tr>\n",
       "</thead>\n",
       "<tbody>\n",
       "\t<tr><th scope=row>3</th><td> 3</td><td> 4</td><td>H5    </td><td> 331</td><td>Found</td><td>1982</td><td>26.80000</td><td>-105.41667</td><td>H</td><td>Chondrite</td><td>Stony</td><td>Ordinary</td><td>H</td><td> 2</td><td>0.463225691</td></tr>\n",
       "\t<tr><th scope=row>8</th><td> 8</td><td> 9</td><td>H4    </td><td>4500</td><td>Found</td><td>1997</td><td>27.23944</td><td>  29.83583</td><td>H</td><td>Chondrite</td><td>Stony</td><td>Ordinary</td><td>H</td><td>11</td><td>0.004857815</td></tr>\n",
       "\t<tr><th scope=row>11</th><td>11</td><td>12</td><td>H5    </td><td> 228</td><td>Found</td><td>1989</td><td>27.61667</td><td>   3.85000</td><td>H</td><td>Chondrite</td><td>Stony</td><td>Ordinary</td><td>H</td><td>14</td><td>0.498018660</td></tr>\n",
       "\t<tr><th scope=row>12</th><td>12</td><td>13</td><td>H5    </td><td> 145</td><td>Found</td><td>1989</td><td>27.81667</td><td>   4.03333</td><td>H</td><td>Chondrite</td><td>Stony</td><td>Ordinary</td><td>H</td><td>14</td><td>0.498018660</td></tr>\n",
       "\t<tr><th scope=row>15</th><td>15</td><td>16</td><td>H3.9/4</td><td> 561</td><td>Found</td><td>1989</td><td>27.63333</td><td>   3.96667</td><td>H</td><td>Chondrite</td><td>Stony</td><td>Ordinary</td><td>H</td><td>14</td><td>0.498018660</td></tr>\n",
       "\t<tr><th scope=row>16</th><td>16</td><td>17</td><td>L5    </td><td> 542</td><td>Found</td><td>1989</td><td>27.51667</td><td>   3.65000</td><td>L</td><td>Chondrite</td><td>Stony</td><td>Ordinary</td><td>L</td><td>14</td><td>0.498018660</td></tr>\n",
       "</tbody>\n",
       "</table>\n"
      ],
      "text/latex": [
       "A data.frame: 6 × 15\n",
       "\\begin{tabular}{r|lllllllllllllll}\n",
       "  & X & id & recclass & mass & fell\\_or\\_found & year & latitude & longitude & group & chondrite & type & lvl3 & lvl4 & lc\\_sample & weights\\\\\n",
       "  & <int> & <int> & <chr> & <dbl> & <chr> & <int> & <dbl> & <dbl> & <chr> & <chr> & <chr> & <chr> & <chr> & <int> & <dbl>\\\\\n",
       "\\hline\n",
       "\t3 &  3 &  4 & H5     &  331 & Found & 1982 & 26.80000 & -105.41667 & H & Chondrite & Stony & Ordinary & H &  2 & 0.463225691\\\\\n",
       "\t8 &  8 &  9 & H4     & 4500 & Found & 1997 & 27.23944 &   29.83583 & H & Chondrite & Stony & Ordinary & H & 11 & 0.004857815\\\\\n",
       "\t11 & 11 & 12 & H5     &  228 & Found & 1989 & 27.61667 &    3.85000 & H & Chondrite & Stony & Ordinary & H & 14 & 0.498018660\\\\\n",
       "\t12 & 12 & 13 & H5     &  145 & Found & 1989 & 27.81667 &    4.03333 & H & Chondrite & Stony & Ordinary & H & 14 & 0.498018660\\\\\n",
       "\t15 & 15 & 16 & H3.9/4 &  561 & Found & 1989 & 27.63333 &    3.96667 & H & Chondrite & Stony & Ordinary & H & 14 & 0.498018660\\\\\n",
       "\t16 & 16 & 17 & L5     &  542 & Found & 1989 & 27.51667 &    3.65000 & L & Chondrite & Stony & Ordinary & L & 14 & 0.498018660\\\\\n",
       "\\end{tabular}\n"
      ],
      "text/markdown": [
       "\n",
       "A data.frame: 6 × 15\n",
       "\n",
       "| <!--/--> | X &lt;int&gt; | id &lt;int&gt; | recclass &lt;chr&gt; | mass &lt;dbl&gt; | fell_or_found &lt;chr&gt; | year &lt;int&gt; | latitude &lt;dbl&gt; | longitude &lt;dbl&gt; | group &lt;chr&gt; | chondrite &lt;chr&gt; | type &lt;chr&gt; | lvl3 &lt;chr&gt; | lvl4 &lt;chr&gt; | lc_sample &lt;int&gt; | weights &lt;dbl&gt; |\n",
       "|---|---|---|---|---|---|---|---|---|---|---|---|---|---|---|---|\n",
       "| 3 |  3 |  4 | H5     |  331 | Found | 1982 | 26.80000 | -105.41667 | H | Chondrite | Stony | Ordinary | H |  2 | 0.463225691 |\n",
       "| 8 |  8 |  9 | H4     | 4500 | Found | 1997 | 27.23944 |   29.83583 | H | Chondrite | Stony | Ordinary | H | 11 | 0.004857815 |\n",
       "| 11 | 11 | 12 | H5     |  228 | Found | 1989 | 27.61667 |    3.85000 | H | Chondrite | Stony | Ordinary | H | 14 | 0.498018660 |\n",
       "| 12 | 12 | 13 | H5     |  145 | Found | 1989 | 27.81667 |    4.03333 | H | Chondrite | Stony | Ordinary | H | 14 | 0.498018660 |\n",
       "| 15 | 15 | 16 | H3.9/4 |  561 | Found | 1989 | 27.63333 |    3.96667 | H | Chondrite | Stony | Ordinary | H | 14 | 0.498018660 |\n",
       "| 16 | 16 | 17 | L5     |  542 | Found | 1989 | 27.51667 |    3.65000 | L | Chondrite | Stony | Ordinary | L | 14 | 0.498018660 |\n",
       "\n"
      ],
      "text/plain": [
       "   X  id recclass mass fell_or_found year latitude longitude  group chondrite\n",
       "3   3  4 H5        331 Found         1982 26.80000 -105.41667 H     Chondrite\n",
       "8   8  9 H4       4500 Found         1997 27.23944   29.83583 H     Chondrite\n",
       "11 11 12 H5        228 Found         1989 27.61667    3.85000 H     Chondrite\n",
       "12 12 13 H5        145 Found         1989 27.81667    4.03333 H     Chondrite\n",
       "15 15 16 H3.9/4    561 Found         1989 27.63333    3.96667 H     Chondrite\n",
       "16 16 17 L5        542 Found         1989 27.51667    3.65000 L     Chondrite\n",
       "   type  lvl3     lvl4 lc_sample weights    \n",
       "3  Stony Ordinary H     2        0.463225691\n",
       "8  Stony Ordinary H    11        0.004857815\n",
       "11 Stony Ordinary H    14        0.498018660\n",
       "12 Stony Ordinary H    14        0.498018660\n",
       "15 Stony Ordinary H    14        0.498018660\n",
       "16 Stony Ordinary L    14        0.498018660"
      ]
     },
     "metadata": {},
     "output_type": "display_data"
    },
    {
     "data": {
      "text/html": [
       "15"
      ],
      "text/latex": [
       "15"
      ],
      "text/markdown": [
       "15"
      ],
      "text/plain": [
       "[1] 15"
      ]
     },
     "metadata": {},
     "output_type": "display_data"
    }
   ],
   "source": [
    "# all\n",
    "\n",
    "set.seed(100)\n",
    "sample_size <- floor(0.7 * nrow(all))\n",
    "\n",
    "train_ind <- sample(seq_len(nrow(all)), size = sample_size)\n",
    "\n",
    "all_train <- all[train_ind, ]\n",
    "all_test <- all[-train_ind, ]\n",
    "\n",
    "head(all_train)\n",
    "length(all_train)\n",
    "\n",
    "head(all_test)\n",
    "length(all_test)"
   ]
  },
  {
   "cell_type": "code",
   "execution_count": null,
   "id": "c045a378",
   "metadata": {},
   "outputs": [],
   "source": []
  }
 ],
 "metadata": {
  "kernelspec": {
   "display_name": "R",
   "language": "R",
   "name": "ir"
  },
  "language_info": {
   "codemirror_mode": "r",
   "file_extension": ".r",
   "mimetype": "text/x-r-source",
   "name": "R",
   "pygments_lexer": "r",
   "version": "4.0.4"
  }
 },
 "nbformat": 4,
 "nbformat_minor": 5
}
