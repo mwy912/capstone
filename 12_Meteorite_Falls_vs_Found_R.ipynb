{
 "cells": [
  {
   "cell_type": "code",
   "execution_count": 3,
   "metadata": {},
   "outputs": [
    {
     "name": "stderr",
     "output_type": "stream",
     "text": [
      "Loading tidyverse: tibble\n",
      "Loading tidyverse: tidyr\n",
      "Loading tidyverse: readr\n",
      "Loading tidyverse: purrr\n",
      "Loading tidyverse: dplyr\n",
      "Conflicts with tidy packages ---------------------------------------------------\n",
      "filter(): dplyr, stats\n",
      "lag():    dplyr, stats\n"
     ]
    },
    {
     "ename": "ERROR",
     "evalue": "Error in library(ggpubr): there is no package called 'ggpubr'\n",
     "output_type": "error",
     "traceback": [
      "Error in library(ggpubr): there is no package called 'ggpubr'\nTraceback:\n",
      "1. library(ggpubr)",
      "2. stop(txt, domain = NA)"
     ]
    }
   ],
   "source": [
    "# library\n",
    "library(ggplot2)\n",
    "library(tidyverse)\n",
    "library(ggpubr)\n",
    "\n",
    "options(repr.plot.width=15, repr.plot.height=15)"
   ]
  },
  {
   "cell_type": "code",
   "execution_count": 4,
   "metadata": {},
   "outputs": [
    {
     "data": {
      "text/html": [
       "<table>\n",
       "<thead><tr><th scope=col>X</th><th scope=col>name</th><th scope=col>id</th><th scope=col>nametype</th><th scope=col>recclass</th><th scope=col>mass_in_grams</th><th scope=col>fell_or_found</th><th scope=col>year</th><th scope=col>latitude</th><th scope=col>longitude</th><th scope=col>GeoLocation</th><th scope=col>group_name</th><th scope=col>Chondrite.Achondrite</th><th scope=col>type</th><th scope=col>L3</th><th scope=col>L4</th></tr></thead>\n",
       "<tbody>\n",
       "\t<tr><td>5625                </td><td>Aachen              </td><td>1                   </td><td>Valid               </td><td>L5                  </td><td>    21              </td><td>Fell                </td><td>1880                </td><td>50.77500            </td><td>   6.08333          </td><td>(50.775, 6.08333)   </td><td>L                   </td><td>Chondrite           </td><td>Stony               </td><td>Ordinary            </td><td>L                   </td></tr>\n",
       "\t<tr><td> 568                </td><td>Aarhus              </td><td>2                   </td><td>Valid               </td><td>H6                  </td><td>   720              </td><td>Fell                </td><td>1951                </td><td>56.18333            </td><td>  10.23333          </td><td>(56.18333, 10.23333)</td><td>H                   </td><td>Chondrite           </td><td>Stony               </td><td>Ordinary            </td><td>H                   </td></tr>\n",
       "\t<tr><td> 916                </td><td>Abajo               </td><td>4                   </td><td>Valid               </td><td>H5                  </td><td>   331              </td><td>Found               </td><td>1982                </td><td>26.80000            </td><td>-105.41667          </td><td>(26.8, -105.41667)  </td><td>H                   </td><td>Chondrite           </td><td>Stony               </td><td>Ordinary            </td><td>H                   </td></tr>\n",
       "\t<tr><td> 918                </td><td>Abbott              </td><td>5                   </td><td>Valid               </td><td>H3-6                </td><td> 21100              </td><td>Found               </td><td>1951                </td><td>36.30000            </td><td>-104.28333          </td><td>(36.3, -104.28333)  </td><td>H                   </td><td>Chondrite           </td><td>Stony               </td><td>Ordinary            </td><td>H                   </td></tr>\n",
       "\t<tr><td> 399                </td><td>Abee                </td><td>6                   </td><td>Valid               </td><td>EH4                 </td><td>107000              </td><td>Fell                </td><td>1952                </td><td>54.21667            </td><td>-113.00000          </td><td>(54.21667, -113.0)  </td><td>EH                  </td><td>Chondrite           </td><td>Stony               </td><td>Enstatite           </td><td>EH-EL               </td></tr>\n",
       "\t<tr><td>6004                </td><td>Abernathy           </td><td>7                   </td><td>Valid               </td><td>L6                  </td><td>  2914              </td><td>Found               </td><td>1941                </td><td>33.85000            </td><td>-101.80000          </td><td>(33.85, -101.8)     </td><td>L                   </td><td>Chondrite           </td><td>Stony               </td><td>Ordinary            </td><td>L                   </td></tr>\n",
       "</tbody>\n",
       "</table>\n"
      ],
      "text/latex": [
       "\\begin{tabular}{r|llllllllllllllll}\n",
       " X & name & id & nametype & recclass & mass\\_in\\_grams & fell\\_or\\_found & year & latitude & longitude & GeoLocation & group\\_name & Chondrite.Achondrite & type & L3 & L4\\\\\n",
       "\\hline\n",
       "\t 5625                 & Aachen               & 1                    & Valid                & L5                   &     21               & Fell                 & 1880                 & 50.77500             &    6.08333           & (50.775, 6.08333)    & L                    & Chondrite            & Stony                & Ordinary             & L                   \\\\\n",
       "\t  568                 & Aarhus               & 2                    & Valid                & H6                   &    720               & Fell                 & 1951                 & 56.18333             &   10.23333           & (56.18333, 10.23333) & H                    & Chondrite            & Stony                & Ordinary             & H                   \\\\\n",
       "\t  916                 & Abajo                & 4                    & Valid                & H5                   &    331               & Found                & 1982                 & 26.80000             & -105.41667           & (26.8, -105.41667)   & H                    & Chondrite            & Stony                & Ordinary             & H                   \\\\\n",
       "\t  918                 & Abbott               & 5                    & Valid                & H3-6                 &  21100               & Found                & 1951                 & 36.30000             & -104.28333           & (36.3, -104.28333)   & H                    & Chondrite            & Stony                & Ordinary             & H                   \\\\\n",
       "\t  399                 & Abee                 & 6                    & Valid                & EH4                  & 107000               & Fell                 & 1952                 & 54.21667             & -113.00000           & (54.21667, -113.0)   & EH                   & Chondrite            & Stony                & Enstatite            & EH-EL               \\\\\n",
       "\t 6004                 & Abernathy            & 7                    & Valid                & L6                   &   2914               & Found                & 1941                 & 33.85000             & -101.80000           & (33.85, -101.8)      & L                    & Chondrite            & Stony                & Ordinary             & L                   \\\\\n",
       "\\end{tabular}\n"
      ],
      "text/markdown": [
       "\n",
       "X | name | id | nametype | recclass | mass_in_grams | fell_or_found | year | latitude | longitude | GeoLocation | group_name | Chondrite.Achondrite | type | L3 | L4 | \n",
       "|---|---|---|---|---|---|\n",
       "| 5625                 | Aachen               | 1                    | Valid                | L5                   |     21               | Fell                 | 1880                 | 50.77500             |    6.08333           | (50.775, 6.08333)    | L                    | Chondrite            | Stony                | Ordinary             | L                    | \n",
       "|  568                 | Aarhus               | 2                    | Valid                | H6                   |    720               | Fell                 | 1951                 | 56.18333             |   10.23333           | (56.18333, 10.23333) | H                    | Chondrite            | Stony                | Ordinary             | H                    | \n",
       "|  916                 | Abajo                | 4                    | Valid                | H5                   |    331               | Found                | 1982                 | 26.80000             | -105.41667           | (26.8, -105.41667)   | H                    | Chondrite            | Stony                | Ordinary             | H                    | \n",
       "|  918                 | Abbott               | 5                    | Valid                | H3-6                 |  21100               | Found                | 1951                 | 36.30000             | -104.28333           | (36.3, -104.28333)   | H                    | Chondrite            | Stony                | Ordinary             | H                    | \n",
       "|  399                 | Abee                 | 6                    | Valid                | EH4                  | 107000               | Fell                 | 1952                 | 54.21667             | -113.00000           | (54.21667, -113.0)   | EH                   | Chondrite            | Stony                | Enstatite            | EH-EL                | \n",
       "| 6004                 | Abernathy            | 7                    | Valid                | L6                   |   2914               | Found                | 1941                 | 33.85000             | -101.80000           | (33.85, -101.8)      | L                    | Chondrite            | Stony                | Ordinary             | L                    | \n",
       "\n",
       "\n"
      ],
      "text/plain": [
       "  X    name      id nametype recclass mass_in_grams fell_or_found year latitude\n",
       "1 5625 Aachen    1  Valid    L5           21        Fell          1880 50.77500\n",
       "2  568 Aarhus    2  Valid    H6          720        Fell          1951 56.18333\n",
       "3  916 Abajo     4  Valid    H5          331        Found         1982 26.80000\n",
       "4  918 Abbott    5  Valid    H3-6      21100        Found         1951 36.30000\n",
       "5  399 Abee      6  Valid    EH4      107000        Fell          1952 54.21667\n",
       "6 6004 Abernathy 7  Valid    L6         2914        Found         1941 33.85000\n",
       "  longitude  GeoLocation          group_name Chondrite.Achondrite type \n",
       "1    6.08333 (50.775, 6.08333)    L          Chondrite            Stony\n",
       "2   10.23333 (56.18333, 10.23333) H          Chondrite            Stony\n",
       "3 -105.41667 (26.8, -105.41667)   H          Chondrite            Stony\n",
       "4 -104.28333 (36.3, -104.28333)   H          Chondrite            Stony\n",
       "5 -113.00000 (54.21667, -113.0)   EH         Chondrite            Stony\n",
       "6 -101.80000 (33.85, -101.8)      L          Chondrite            Stony\n",
       "  L3        L4   \n",
       "1 Ordinary  L    \n",
       "2 Ordinary  H    \n",
       "3 Ordinary  H    \n",
       "4 Ordinary  H    \n",
       "5 Enstatite EH-EL\n",
       "6 Ordinary  L    "
      ]
     },
     "metadata": {},
     "output_type": "display_data"
    }
   ],
   "source": [
    "#Import CSV\n",
    "\n",
    "all <- read.csv(\"data/results/meteorites.csv\")\n",
    "\n",
    "head(all)"
   ]
  },
  {
   "cell_type": "code",
   "execution_count": 5,
   "metadata": {},
   "outputs": [
    {
     "data": {
      "text/html": [
       "<ol class=list-inline>\n",
       "\t<li>1097</li>\n",
       "\t<li>16</li>\n",
       "</ol>\n"
      ],
      "text/latex": [
       "\\begin{enumerate*}\n",
       "\\item 1097\n",
       "\\item 16\n",
       "\\end{enumerate*}\n"
      ],
      "text/markdown": [
       "1. 1097\n",
       "2. 16\n",
       "\n",
       "\n"
      ],
      "text/plain": [
       "[1] 1097   16"
      ]
     },
     "metadata": {},
     "output_type": "display_data"
    },
    {
     "data": {
      "text/html": [
       "<ol class=list-inline>\n",
       "\t<li>8699</li>\n",
       "\t<li>16</li>\n",
       "</ol>\n"
      ],
      "text/latex": [
       "\\begin{enumerate*}\n",
       "\\item 8699\n",
       "\\item 16\n",
       "\\end{enumerate*}\n"
      ],
      "text/markdown": [
       "1. 8699\n",
       "2. 16\n",
       "\n",
       "\n"
      ],
      "text/plain": [
       "[1] 8699   16"
      ]
     },
     "metadata": {},
     "output_type": "display_data"
    }
   ],
   "source": [
    "dim(subset(all, fell_or_found == 'Fell'))\n",
    "dim(subset(all, fell_or_found == 'Found'))"
   ]
  },
  {
   "cell_type": "code",
   "execution_count": 6,
   "metadata": {},
   "outputs": [],
   "source": [
    "# To investigate the comparison, I will make a grid. \n",
    "# If any number of falls occurred in a grid square, +1, any finds = -1.  \n",
    "# Then sum."
   ]
  },
  {
   "cell_type": "code",
   "execution_count": 7,
   "metadata": {},
   "outputs": [
    {
     "data": {
      "text/html": [
       "<table>\n",
       "<thead><tr><th scope=col>fell_or_found</th><th scope=col>latitude</th><th scope=col>longitude</th></tr></thead>\n",
       "<tbody>\n",
       "\t<tr><td>Fell      </td><td>50.77500  </td><td>   6.08333</td></tr>\n",
       "\t<tr><td>Fell      </td><td>56.18333  </td><td>  10.23333</td></tr>\n",
       "\t<tr><td>Found     </td><td>26.80000  </td><td>-105.41667</td></tr>\n",
       "\t<tr><td>Found     </td><td>36.30000  </td><td>-104.28333</td></tr>\n",
       "\t<tr><td>Fell      </td><td>54.21667  </td><td>-113.00000</td></tr>\n",
       "\t<tr><td>Found     </td><td>33.85000  </td><td>-101.80000</td></tr>\n",
       "</tbody>\n",
       "</table>\n"
      ],
      "text/latex": [
       "\\begin{tabular}{r|lll}\n",
       " fell\\_or\\_found & latitude & longitude\\\\\n",
       "\\hline\n",
       "\t Fell       & 50.77500   &    6.08333\\\\\n",
       "\t Fell       & 56.18333   &   10.23333\\\\\n",
       "\t Found      & 26.80000   & -105.41667\\\\\n",
       "\t Found      & 36.30000   & -104.28333\\\\\n",
       "\t Fell       & 54.21667   & -113.00000\\\\\n",
       "\t Found      & 33.85000   & -101.80000\\\\\n",
       "\\end{tabular}\n"
      ],
      "text/markdown": [
       "\n",
       "fell_or_found | latitude | longitude | \n",
       "|---|---|---|---|---|---|\n",
       "| Fell       | 50.77500   |    6.08333 | \n",
       "| Fell       | 56.18333   |   10.23333 | \n",
       "| Found      | 26.80000   | -105.41667 | \n",
       "| Found      | 36.30000   | -104.28333 | \n",
       "| Fell       | 54.21667   | -113.00000 | \n",
       "| Found      | 33.85000   | -101.80000 | \n",
       "\n",
       "\n"
      ],
      "text/plain": [
       "  fell_or_found latitude longitude \n",
       "1 Fell          50.77500    6.08333\n",
       "2 Fell          56.18333   10.23333\n",
       "3 Found         26.80000 -105.41667\n",
       "4 Found         36.30000 -104.28333\n",
       "5 Fell          54.21667 -113.00000\n",
       "6 Found         33.85000 -101.80000"
      ]
     },
     "metadata": {},
     "output_type": "display_data"
    }
   ],
   "source": [
    "# First, prep the dataset.\n",
    "\n",
    "all <- select(all, fell_or_found, latitude, longitude)\n",
    "head(all)"
   ]
  },
  {
   "cell_type": "code",
   "execution_count": 8,
   "metadata": {},
   "outputs": [
    {
     "data": {
      "text/html": [
       "<table>\n",
       "<thead><tr><th scope=col>fell_or_found</th><th scope=col>latitude</th><th scope=col>longitude</th><th scope=col>lat_gs</th><th scope=col>long_gs</th></tr></thead>\n",
       "<tbody>\n",
       "\t<tr><td>Fell      </td><td>50.77500  </td><td>   6.08333</td><td>50        </td><td>   6      </td></tr>\n",
       "\t<tr><td>Fell      </td><td>56.18333  </td><td>  10.23333</td><td>56        </td><td>  10      </td></tr>\n",
       "\t<tr><td>Found     </td><td>26.80000  </td><td>-105.41667</td><td>26        </td><td>-106      </td></tr>\n",
       "\t<tr><td>Found     </td><td>36.30000  </td><td>-104.28333</td><td>36        </td><td>-105      </td></tr>\n",
       "\t<tr><td>Fell      </td><td>54.21667  </td><td>-113.00000</td><td>54        </td><td>-113      </td></tr>\n",
       "\t<tr><td>Found     </td><td>33.85000  </td><td>-101.80000</td><td>33        </td><td>-102      </td></tr>\n",
       "</tbody>\n",
       "</table>\n"
      ],
      "text/latex": [
       "\\begin{tabular}{r|lllll}\n",
       " fell\\_or\\_found & latitude & longitude & lat\\_gs & long\\_gs\\\\\n",
       "\\hline\n",
       "\t Fell       & 50.77500   &    6.08333 & 50         &    6      \\\\\n",
       "\t Fell       & 56.18333   &   10.23333 & 56         &   10      \\\\\n",
       "\t Found      & 26.80000   & -105.41667 & 26         & -106      \\\\\n",
       "\t Found      & 36.30000   & -104.28333 & 36         & -105      \\\\\n",
       "\t Fell       & 54.21667   & -113.00000 & 54         & -113      \\\\\n",
       "\t Found      & 33.85000   & -101.80000 & 33         & -102      \\\\\n",
       "\\end{tabular}\n"
      ],
      "text/markdown": [
       "\n",
       "fell_or_found | latitude | longitude | lat_gs | long_gs | \n",
       "|---|---|---|---|---|---|\n",
       "| Fell       | 50.77500   |    6.08333 | 50         |    6       | \n",
       "| Fell       | 56.18333   |   10.23333 | 56         |   10       | \n",
       "| Found      | 26.80000   | -105.41667 | 26         | -106       | \n",
       "| Found      | 36.30000   | -104.28333 | 36         | -105       | \n",
       "| Fell       | 54.21667   | -113.00000 | 54         | -113       | \n",
       "| Found      | 33.85000   | -101.80000 | 33         | -102       | \n",
       "\n",
       "\n"
      ],
      "text/plain": [
       "  fell_or_found latitude longitude  lat_gs long_gs\n",
       "1 Fell          50.77500    6.08333 50        6   \n",
       "2 Fell          56.18333   10.23333 56       10   \n",
       "3 Found         26.80000 -105.41667 26     -106   \n",
       "4 Found         36.30000 -104.28333 36     -105   \n",
       "5 Fell          54.21667 -113.00000 54     -113   \n",
       "6 Found         33.85000 -101.80000 33     -102   "
      ]
     },
     "metadata": {},
     "output_type": "display_data"
    }
   ],
   "source": [
    "all$lat_gs <- floor(all$latitude)\n",
    "all$long_gs <- floor(all$longitude)\n",
    "head(all)"
   ]
  },
  {
   "cell_type": "code",
   "execution_count": 9,
   "metadata": {},
   "outputs": [],
   "source": [
    "all <- select(all, fell_or_found, lat_gs, long_gs)\n"
   ]
  },
  {
   "cell_type": "code",
   "execution_count": 10,
   "metadata": {},
   "outputs": [
    {
     "data": {
      "text/html": [
       "<table>\n",
       "<thead><tr><th></th><th scope=col>fell_or_found</th><th scope=col>lat_gs</th><th scope=col>long_gs</th></tr></thead>\n",
       "<tbody>\n",
       "\t<tr><th scope=row>1</th><td>Fell</td><td> 50 </td><td>   6</td></tr>\n",
       "\t<tr><th scope=row>2</th><td>Fell</td><td> 56 </td><td>  10</td></tr>\n",
       "\t<tr><th scope=row>5</th><td>Fell</td><td> 54 </td><td>-113</td></tr>\n",
       "\t<tr><th scope=row>9</th><td>Fell</td><td> 16 </td><td>-100</td></tr>\n",
       "\t<tr><th scope=row>367</th><td>Fell</td><td>-34 </td><td> -65</td></tr>\n",
       "\t<tr><th scope=row>374</th><td>Fell</td><td> 32 </td><td>  71</td></tr>\n",
       "</tbody>\n",
       "</table>\n"
      ],
      "text/latex": [
       "\\begin{tabular}{r|lll}\n",
       "  & fell\\_or\\_found & lat\\_gs & long\\_gs\\\\\n",
       "\\hline\n",
       "\t1 & Fell &  50  &    6\\\\\n",
       "\t2 & Fell &  56  &   10\\\\\n",
       "\t5 & Fell &  54  & -113\\\\\n",
       "\t9 & Fell &  16  & -100\\\\\n",
       "\t367 & Fell & -34  &  -65\\\\\n",
       "\t374 & Fell &  32  &   71\\\\\n",
       "\\end{tabular}\n"
      ],
      "text/markdown": [
       "\n",
       "| <!--/--> | fell_or_found | lat_gs | long_gs | \n",
       "|---|---|---|---|---|---|\n",
       "| 1 | Fell |  50  |    6 | \n",
       "| 2 | Fell |  56  |   10 | \n",
       "| 5 | Fell |  54  | -113 | \n",
       "| 9 | Fell |  16  | -100 | \n",
       "| 367 | Fell | -34  |  -65 | \n",
       "| 374 | Fell |  32  |   71 | \n",
       "\n",
       "\n"
      ],
      "text/plain": [
       "    fell_or_found lat_gs long_gs\n",
       "1   Fell           50       6   \n",
       "2   Fell           56      10   \n",
       "5   Fell           54    -113   \n",
       "9   Fell           16    -100   \n",
       "367 Fell          -34     -65   \n",
       "374 Fell           32      71   "
      ]
     },
     "metadata": {},
     "output_type": "display_data"
    },
    {
     "data": {
      "text/html": [
       "<ol class=list-inline>\n",
       "\t<li>893</li>\n",
       "\t<li>3</li>\n",
       "</ol>\n"
      ],
      "text/latex": [
       "\\begin{enumerate*}\n",
       "\\item 893\n",
       "\\item 3\n",
       "\\end{enumerate*}\n"
      ],
      "text/markdown": [
       "1. 893\n",
       "2. 3\n",
       "\n",
       "\n"
      ],
      "text/plain": [
       "[1] 893   3"
      ]
     },
     "metadata": {},
     "output_type": "display_data"
    },
    {
     "data": {
      "text/html": [
       "<table>\n",
       "<thead><tr><th></th><th scope=col>fell_or_found</th><th scope=col>lat_gs</th><th scope=col>long_gs</th></tr></thead>\n",
       "<tbody>\n",
       "\t<tr><th scope=row>3</th><td>Found</td><td>26   </td><td>-106 </td></tr>\n",
       "\t<tr><th scope=row>4</th><td>Found</td><td>36   </td><td>-105 </td></tr>\n",
       "\t<tr><th scope=row>6</th><td>Found</td><td>33   </td><td>-102 </td></tr>\n",
       "\t<tr><th scope=row>7</th><td>Found</td><td>60   </td><td>  22 </td></tr>\n",
       "\t<tr><th scope=row>8</th><td>Found</td><td>27   </td><td>  29 </td></tr>\n",
       "\t<tr><th scope=row>10</th><td>Found</td><td>27   </td><td>   3 </td></tr>\n",
       "</tbody>\n",
       "</table>\n"
      ],
      "text/latex": [
       "\\begin{tabular}{r|lll}\n",
       "  & fell\\_or\\_found & lat\\_gs & long\\_gs\\\\\n",
       "\\hline\n",
       "\t3 & Found & 26    & -106 \\\\\n",
       "\t4 & Found & 36    & -105 \\\\\n",
       "\t6 & Found & 33    & -102 \\\\\n",
       "\t7 & Found & 60    &   22 \\\\\n",
       "\t8 & Found & 27    &   29 \\\\\n",
       "\t10 & Found & 27    &    3 \\\\\n",
       "\\end{tabular}\n"
      ],
      "text/markdown": [
       "\n",
       "| <!--/--> | fell_or_found | lat_gs | long_gs | \n",
       "|---|---|---|---|---|---|\n",
       "| 3 | Found | 26    | -106  | \n",
       "| 4 | Found | 36    | -105  | \n",
       "| 6 | Found | 33    | -102  | \n",
       "| 7 | Found | 60    |   22  | \n",
       "| 8 | Found | 27    |   29  | \n",
       "| 10 | Found | 27    |    3  | \n",
       "\n",
       "\n"
      ],
      "text/plain": [
       "   fell_or_found lat_gs long_gs\n",
       "3  Found         26     -106   \n",
       "4  Found         36     -105   \n",
       "6  Found         33     -102   \n",
       "7  Found         60       22   \n",
       "8  Found         27       29   \n",
       "10 Found         27        3   "
      ]
     },
     "metadata": {},
     "output_type": "display_data"
    },
    {
     "data": {
      "text/html": [
       "<ol class=list-inline>\n",
       "\t<li>1244</li>\n",
       "\t<li>3</li>\n",
       "</ol>\n"
      ],
      "text/latex": [
       "\\begin{enumerate*}\n",
       "\\item 1244\n",
       "\\item 3\n",
       "\\end{enumerate*}\n"
      ],
      "text/markdown": [
       "1. 1244\n",
       "2. 3\n",
       "\n",
       "\n"
      ],
      "text/plain": [
       "[1] 1244    3"
      ]
     },
     "metadata": {},
     "output_type": "display_data"
    }
   ],
   "source": [
    "fell_u <- unique(all[all$fell_or_found == 'Fell',])\n",
    "found_u <- unique(all[all$fell_or_found == 'Found',])\n",
    "\n",
    "head(fell_u)\n",
    "dim(fell_u)\n",
    "\n",
    "head(found_u)\n",
    "dim(found_u)"
   ]
  },
  {
   "cell_type": "code",
   "execution_count": 11,
   "metadata": {},
   "outputs": [],
   "source": [
    "fell_u$ffscore <- 1\n",
    "found_u$ffscore <- -1"
   ]
  },
  {
   "cell_type": "code",
   "execution_count": 12,
   "metadata": {},
   "outputs": [],
   "source": [
    "all_u <- rbind(fell_u,found_u)"
   ]
  },
  {
   "cell_type": "code",
   "execution_count": 13,
   "metadata": {},
   "outputs": [
    {
     "data": {
      "text/html": [
       "<table>\n",
       "<thead><tr><th></th><th scope=col>fell_or_found</th><th scope=col>lat_gs</th><th scope=col>long_gs</th><th scope=col>ffscore</th></tr></thead>\n",
       "<tbody>\n",
       "\t<tr><th scope=row>1</th><td>Fell</td><td> 50 </td><td>   6</td><td>1   </td></tr>\n",
       "\t<tr><th scope=row>2</th><td>Fell</td><td> 56 </td><td>  10</td><td>1   </td></tr>\n",
       "\t<tr><th scope=row>5</th><td>Fell</td><td> 54 </td><td>-113</td><td>1   </td></tr>\n",
       "\t<tr><th scope=row>9</th><td>Fell</td><td> 16 </td><td>-100</td><td>1   </td></tr>\n",
       "\t<tr><th scope=row>367</th><td>Fell</td><td>-34 </td><td> -65</td><td>1   </td></tr>\n",
       "\t<tr><th scope=row>374</th><td>Fell</td><td> 32 </td><td>  71</td><td>1   </td></tr>\n",
       "</tbody>\n",
       "</table>\n"
      ],
      "text/latex": [
       "\\begin{tabular}{r|llll}\n",
       "  & fell\\_or\\_found & lat\\_gs & long\\_gs & ffscore\\\\\n",
       "\\hline\n",
       "\t1 & Fell &  50  &    6 & 1   \\\\\n",
       "\t2 & Fell &  56  &   10 & 1   \\\\\n",
       "\t5 & Fell &  54  & -113 & 1   \\\\\n",
       "\t9 & Fell &  16  & -100 & 1   \\\\\n",
       "\t367 & Fell & -34  &  -65 & 1   \\\\\n",
       "\t374 & Fell &  32  &   71 & 1   \\\\\n",
       "\\end{tabular}\n"
      ],
      "text/markdown": [
       "\n",
       "| <!--/--> | fell_or_found | lat_gs | long_gs | ffscore | \n",
       "|---|---|---|---|---|---|\n",
       "| 1 | Fell |  50  |    6 | 1    | \n",
       "| 2 | Fell |  56  |   10 | 1    | \n",
       "| 5 | Fell |  54  | -113 | 1    | \n",
       "| 9 | Fell |  16  | -100 | 1    | \n",
       "| 367 | Fell | -34  |  -65 | 1    | \n",
       "| 374 | Fell |  32  |   71 | 1    | \n",
       "\n",
       "\n"
      ],
      "text/plain": [
       "    fell_or_found lat_gs long_gs ffscore\n",
       "1   Fell           50       6    1      \n",
       "2   Fell           56      10    1      \n",
       "5   Fell           54    -113    1      \n",
       "9   Fell           16    -100    1      \n",
       "367 Fell          -34     -65    1      \n",
       "374 Fell           32      71    1      "
      ]
     },
     "metadata": {},
     "output_type": "display_data"
    }
   ],
   "source": [
    "head(all_u)"
   ]
  },
  {
   "cell_type": "code",
   "execution_count": 14,
   "metadata": {},
   "outputs": [],
   "source": [
    "all_u <- select(all_u, lat_gs, long_gs, ffscore)\n",
    "\n"
   ]
  },
  {
   "cell_type": "code",
   "execution_count": 20,
   "metadata": {},
   "outputs": [
    {
     "data": {
      "text/html": [
       "<table>\n",
       "<thead><tr><th scope=col>lat_gs</th><th scope=col>long_gs</th><th scope=col>ffscore</th></tr></thead>\n",
       "<tbody>\n",
       "\t<tr><td>64  </td><td>-164</td><td>-1  </td></tr>\n",
       "\t<tr><td>55  </td><td>-163</td><td>-1  </td></tr>\n",
       "\t<tr><td>21  </td><td>-158</td><td> 1  </td></tr>\n",
       "\t<tr><td>65  </td><td>-147</td><td>-1  </td></tr>\n",
       "\t<tr><td>63  </td><td>-140</td><td>-1  </td></tr>\n",
       "\t<tr><td>11  </td><td>-138</td><td>-1  </td></tr>\n",
       "\t<tr><td>12  </td><td>-138</td><td>-1  </td></tr>\n",
       "\t<tr><td>59  </td><td>-136</td><td>-1  </td></tr>\n",
       "\t<tr><td>59  </td><td>-135</td><td> 1  </td></tr>\n",
       "\t<tr><td>40  </td><td>-124</td><td>-1  </td></tr>\n",
       "\t<tr><td>41  </td><td>-124</td><td>-1  </td></tr>\n",
       "\t<tr><td>42  </td><td>-123</td><td>-1  </td></tr>\n",
       "\t<tr><td>44  </td><td>-123</td><td> 1  </td></tr>\n",
       "\t<tr><td>45  </td><td>-123</td><td> 0  </td></tr>\n",
       "\t<tr><td>47  </td><td>-123</td><td>-1  </td></tr>\n",
       "\t<tr><td>38  </td><td>-122</td><td>-1  </td></tr>\n",
       "\t<tr><td>39  </td><td>-122</td><td>-1  </td></tr>\n",
       "\t<tr><td>42  </td><td>-122</td><td>-1  </td></tr>\n",
       "\t<tr><td>38  </td><td>-121</td><td> 0  </td></tr>\n",
       "\t<tr><td>41  </td><td>-121</td><td>-1  </td></tr>\n",
       "\t<tr><td>42  </td><td>-121</td><td>-1  </td></tr>\n",
       "\t<tr><td>34  </td><td>-120</td><td>-1  </td></tr>\n",
       "\t<tr><td>38  </td><td>-120</td><td> 1  </td></tr>\n",
       "\t<tr><td>40  </td><td>-120</td><td>-1  </td></tr>\n",
       "\t<tr><td>45  </td><td>-120</td><td>-1  </td></tr>\n",
       "\t<tr><td>47  </td><td>-120</td><td>-1  </td></tr>\n",
       "\t<tr><td>66  </td><td>-120</td><td>-1  </td></tr>\n",
       "\t<tr><td>34  </td><td>-119</td><td>-1  </td></tr>\n",
       "\t<tr><td>35  </td><td>-119</td><td>-1  </td></tr>\n",
       "\t<tr><td>36  </td><td>-119</td><td>-1  </td></tr>\n",
       "\t<tr><td><U+22EE></td><td><U+22EE></td><td><U+22EE></td></tr>\n",
       "\t<tr><td> 62</td><td>148</td><td>-1 </td></tr>\n",
       "\t<tr><td> 63</td><td>148</td><td>-1 </td></tr>\n",
       "\t<tr><td>-37</td><td>149</td><td>-1 </td></tr>\n",
       "\t<tr><td>-35</td><td>149</td><td>-1 </td></tr>\n",
       "\t<tr><td>-32</td><td>149</td><td>-1 </td></tr>\n",
       "\t<tr><td> 63</td><td>149</td><td>-1 </td></tr>\n",
       "\t<tr><td>-35</td><td>150</td><td> 1 </td></tr>\n",
       "\t<tr><td>-30</td><td>150</td><td>-1 </td></tr>\n",
       "\t<tr><td>-28</td><td>150</td><td>-1 </td></tr>\n",
       "\t<tr><td>-24</td><td>150</td><td> 1 </td></tr>\n",
       "\t<tr><td>-33</td><td>151</td><td>-1 </td></tr>\n",
       "\t<tr><td>-31</td><td>151</td><td>-1 </td></tr>\n",
       "\t<tr><td>-30</td><td>151</td><td> 1 </td></tr>\n",
       "\t<tr><td>-24</td><td>151</td><td>-1 </td></tr>\n",
       "\t<tr><td> -3</td><td>151</td><td> 1 </td></tr>\n",
       "\t<tr><td>-32</td><td>152</td><td> 1 </td></tr>\n",
       "\t<tr><td>-31</td><td>152</td><td>-1 </td></tr>\n",
       "\t<tr><td> 62</td><td>152</td><td>-1 </td></tr>\n",
       "\t<tr><td> 64</td><td>161</td><td> 1 </td></tr>\n",
       "\t<tr><td>-22</td><td>165</td><td> 1 </td></tr>\n",
       "\t<tr><td>-47</td><td>168</td><td>-1 </td></tr>\n",
       "\t<tr><td>-45</td><td>171</td><td>-1 </td></tr>\n",
       "\t<tr><td>-43</td><td>171</td><td>-1 </td></tr>\n",
       "\t<tr><td>-44</td><td>172</td><td>-1 </td></tr>\n",
       "\t<tr><td> 64</td><td>172</td><td>-1 </td></tr>\n",
       "\t<tr><td>-40</td><td>174</td><td> 1 </td></tr>\n",
       "\t<tr><td> 62</td><td>174</td><td>-1 </td></tr>\n",
       "\t<tr><td>-42</td><td>175</td><td>-1 </td></tr>\n",
       "\t<tr><td>-41</td><td>175</td><td>-1 </td></tr>\n",
       "\t<tr><td>-39</td><td>178</td><td>-1 </td></tr>\n",
       "</tbody>\n",
       "</table>\n"
      ],
      "text/latex": [
       "\\begin{tabular}{r|lll}\n",
       " lat\\_gs & long\\_gs & ffscore\\\\\n",
       "\\hline\n",
       "\t 64   & -164 & -1  \\\\\n",
       "\t 55   & -163 & -1  \\\\\n",
       "\t 21   & -158 &  1  \\\\\n",
       "\t 65   & -147 & -1  \\\\\n",
       "\t 63   & -140 & -1  \\\\\n",
       "\t 11   & -138 & -1  \\\\\n",
       "\t 12   & -138 & -1  \\\\\n",
       "\t 59   & -136 & -1  \\\\\n",
       "\t 59   & -135 &  1  \\\\\n",
       "\t 40   & -124 & -1  \\\\\n",
       "\t 41   & -124 & -1  \\\\\n",
       "\t 42   & -123 & -1  \\\\\n",
       "\t 44   & -123 &  1  \\\\\n",
       "\t 45   & -123 &  0  \\\\\n",
       "\t 47   & -123 & -1  \\\\\n",
       "\t 38   & -122 & -1  \\\\\n",
       "\t 39   & -122 & -1  \\\\\n",
       "\t 42   & -122 & -1  \\\\\n",
       "\t 38   & -121 &  0  \\\\\n",
       "\t 41   & -121 & -1  \\\\\n",
       "\t 42   & -121 & -1  \\\\\n",
       "\t 34   & -120 & -1  \\\\\n",
       "\t 38   & -120 &  1  \\\\\n",
       "\t 40   & -120 & -1  \\\\\n",
       "\t 45   & -120 & -1  \\\\\n",
       "\t 47   & -120 & -1  \\\\\n",
       "\t 66   & -120 & -1  \\\\\n",
       "\t 34   & -119 & -1  \\\\\n",
       "\t 35   & -119 & -1  \\\\\n",
       "\t 36   & -119 & -1  \\\\\n",
       "\t <U+22EE> & <U+22EE> & <U+22EE>\\\\\n",
       "\t  62 & 148 & -1 \\\\\n",
       "\t  63 & 148 & -1 \\\\\n",
       "\t -37 & 149 & -1 \\\\\n",
       "\t -35 & 149 & -1 \\\\\n",
       "\t -32 & 149 & -1 \\\\\n",
       "\t  63 & 149 & -1 \\\\\n",
       "\t -35 & 150 &  1 \\\\\n",
       "\t -30 & 150 & -1 \\\\\n",
       "\t -28 & 150 & -1 \\\\\n",
       "\t -24 & 150 &  1 \\\\\n",
       "\t -33 & 151 & -1 \\\\\n",
       "\t -31 & 151 & -1 \\\\\n",
       "\t -30 & 151 &  1 \\\\\n",
       "\t -24 & 151 & -1 \\\\\n",
       "\t  -3 & 151 &  1 \\\\\n",
       "\t -32 & 152 &  1 \\\\\n",
       "\t -31 & 152 & -1 \\\\\n",
       "\t  62 & 152 & -1 \\\\\n",
       "\t  64 & 161 &  1 \\\\\n",
       "\t -22 & 165 &  1 \\\\\n",
       "\t -47 & 168 & -1 \\\\\n",
       "\t -45 & 171 & -1 \\\\\n",
       "\t -43 & 171 & -1 \\\\\n",
       "\t -44 & 172 & -1 \\\\\n",
       "\t  64 & 172 & -1 \\\\\n",
       "\t -40 & 174 &  1 \\\\\n",
       "\t  62 & 174 & -1 \\\\\n",
       "\t -42 & 175 & -1 \\\\\n",
       "\t -41 & 175 & -1 \\\\\n",
       "\t -39 & 178 & -1 \\\\\n",
       "\\end{tabular}\n"
      ],
      "text/markdown": [
       "\n",
       "lat_gs | long_gs | ffscore | \n",
       "|---|---|---|---|---|---|---|---|---|---|---|---|---|---|---|---|---|---|---|---|---|---|---|---|---|---|---|---|---|---|---|---|---|---|---|---|---|---|---|---|---|---|---|---|---|---|---|---|---|---|---|---|---|---|---|---|---|---|---|---|---|\n",
       "| 64   | -164 | -1   | \n",
       "| 55   | -163 | -1   | \n",
       "| 21   | -158 |  1   | \n",
       "| 65   | -147 | -1   | \n",
       "| 63   | -140 | -1   | \n",
       "| 11   | -138 | -1   | \n",
       "| 12   | -138 | -1   | \n",
       "| 59   | -136 | -1   | \n",
       "| 59   | -135 |  1   | \n",
       "| 40   | -124 | -1   | \n",
       "| 41   | -124 | -1   | \n",
       "| 42   | -123 | -1   | \n",
       "| 44   | -123 |  1   | \n",
       "| 45   | -123 |  0   | \n",
       "| 47   | -123 | -1   | \n",
       "| 38   | -122 | -1   | \n",
       "| 39   | -122 | -1   | \n",
       "| 42   | -122 | -1   | \n",
       "| 38   | -121 |  0   | \n",
       "| 41   | -121 | -1   | \n",
       "| 42   | -121 | -1   | \n",
       "| 34   | -120 | -1   | \n",
       "| 38   | -120 |  1   | \n",
       "| 40   | -120 | -1   | \n",
       "| 45   | -120 | -1   | \n",
       "| 47   | -120 | -1   | \n",
       "| 66   | -120 | -1   | \n",
       "| 34   | -119 | -1   | \n",
       "| 35   | -119 | -1   | \n",
       "| 36   | -119 | -1   | \n",
       "| <U+22EE> | <U+22EE> | <U+22EE> | \n",
       "|  62 | 148 | -1  | \n",
       "|  63 | 148 | -1  | \n",
       "| -37 | 149 | -1  | \n",
       "| -35 | 149 | -1  | \n",
       "| -32 | 149 | -1  | \n",
       "|  63 | 149 | -1  | \n",
       "| -35 | 150 |  1  | \n",
       "| -30 | 150 | -1  | \n",
       "| -28 | 150 | -1  | \n",
       "| -24 | 150 |  1  | \n",
       "| -33 | 151 | -1  | \n",
       "| -31 | 151 | -1  | \n",
       "| -30 | 151 |  1  | \n",
       "| -24 | 151 | -1  | \n",
       "|  -3 | 151 |  1  | \n",
       "| -32 | 152 |  1  | \n",
       "| -31 | 152 | -1  | \n",
       "|  62 | 152 | -1  | \n",
       "|  64 | 161 |  1  | \n",
       "| -22 | 165 |  1  | \n",
       "| -47 | 168 | -1  | \n",
       "| -45 | 171 | -1  | \n",
       "| -43 | 171 | -1  | \n",
       "| -44 | 172 | -1  | \n",
       "|  64 | 172 | -1  | \n",
       "| -40 | 174 |  1  | \n",
       "|  62 | 174 | -1  | \n",
       "| -42 | 175 | -1  | \n",
       "| -41 | 175 | -1  | \n",
       "| -39 | 178 | -1  | \n",
       "\n",
       "\n"
      ],
      "text/plain": [
       "       lat_gs long_gs ffscore\n",
       "1      64     -164    -1     \n",
       "2      55     -163    -1     \n",
       "3      21     -158     1     \n",
       "4      65     -147    -1     \n",
       "5      63     -140    -1     \n",
       "6      11     -138    -1     \n",
       "7      12     -138    -1     \n",
       "8      59     -136    -1     \n",
       "9      59     -135     1     \n",
       "10     40     -124    -1     \n",
       "11     41     -124    -1     \n",
       "12     42     -123    -1     \n",
       "13     44     -123     1     \n",
       "14     45     -123     0     \n",
       "15     47     -123    -1     \n",
       "16     38     -122    -1     \n",
       "17     39     -122    -1     \n",
       "18     42     -122    -1     \n",
       "19     38     -121     0     \n",
       "20     41     -121    -1     \n",
       "21     42     -121    -1     \n",
       "22     34     -120    -1     \n",
       "23     38     -120     1     \n",
       "24     40     -120    -1     \n",
       "25     45     -120    -1     \n",
       "26     47     -120    -1     \n",
       "27     66     -120    -1     \n",
       "28     34     -119    -1     \n",
       "29     35     -119    -1     \n",
       "30     36     -119    -1     \n",
       "<U+22EE> <U+22EE> <U+22EE> <U+22EE>\n",
       "1927    62    148     -1     \n",
       "1928    63    148     -1     \n",
       "1929   -37    149     -1     \n",
       "1930   -35    149     -1     \n",
       "1931   -32    149     -1     \n",
       "1932    63    149     -1     \n",
       "1933   -35    150      1     \n",
       "1934   -30    150     -1     \n",
       "1935   -28    150     -1     \n",
       "1936   -24    150      1     \n",
       "1937   -33    151     -1     \n",
       "1938   -31    151     -1     \n",
       "1939   -30    151      1     \n",
       "1940   -24    151     -1     \n",
       "1941    -3    151      1     \n",
       "1942   -32    152      1     \n",
       "1943   -31    152     -1     \n",
       "1944    62    152     -1     \n",
       "1945    64    161      1     \n",
       "1946   -22    165      1     \n",
       "1947   -47    168     -1     \n",
       "1948   -45    171     -1     \n",
       "1949   -43    171     -1     \n",
       "1950   -44    172     -1     \n",
       "1951    64    172     -1     \n",
       "1952   -40    174      1     \n",
       "1953    62    174     -1     \n",
       "1954   -42    175     -1     \n",
       "1955   -41    175     -1     \n",
       "1956   -39    178     -1     "
      ]
     },
     "metadata": {},
     "output_type": "display_data"
    }
   ],
   "source": [
    "all_u_agg <- aggregate(.~lat_gs+long_gs, all_u, sum)\n",
    "all_u_agg\n",
    "\n",
    "\n",
    "write.csv(all_u_agg, \"data/results/gridsquarefellfound.csv\")\n",
    "\n"
   ]
  },
  {
   "cell_type": "code",
   "execution_count": 16,
   "metadata": {},
   "outputs": [
    {
     "data": {
      "image/png": "[encoded data removed]",
      "text/plain": [
       "Plot with title \"Grid square contains FOUND only\""
      ]
     },
     "metadata": {},
     "output_type": "display_data"
    },
    {
     "data": {
      "image/png": "[encoded data removed]",
      "text/plain": [
       "Plot with title \"Grid square contains FALL only\""
      ]
     },
     "metadata": {},
     "output_type": "display_data"
    },
    {
     "data": {
      "image/png": "[encoded data removed]",
      "text/plain": [
       "Plot with title \"Grid square contains BOTH\""
      ]
     },
     "metadata": {},
     "output_type": "display_data"
    }
   ],
   "source": [
    "# 3 plots....\n",
    "\n",
    "plot(x=all_u_agg$long_gs,y=all_u_agg$lat_gs, pch=15, col=c('blue','white','white'), main=\"Grid square contains FOUND only\")\n",
    "plot(x=all_u_agg$long_gs,y=all_u_agg$lat_gs, pch=15, col=c('white','white','red'), main=\"Grid square contains FALL only\")\n",
    "plot(x=all_u_agg$long_gs,y=all_u_agg$lat_gs, pch=15, col=c('white','black','white'), main=\"Grid square contains BOTH\")"
   ]
  },
  {
   "cell_type": "code",
   "execution_count": 17,
   "metadata": {},
   "outputs": [
    {
     "data": {
      "text/html": [
       "<table>\n",
       "<thead><tr><th scope=col>ffscore</th><th scope=col>n</th></tr></thead>\n",
       "<tbody>\n",
       "\t<tr><td>-1  </td><td>1063</td></tr>\n",
       "\t<tr><td> 0  </td><td> 181</td></tr>\n",
       "\t<tr><td> 1  </td><td> 712</td></tr>\n",
       "</tbody>\n",
       "</table>\n"
      ],
      "text/latex": [
       "\\begin{tabular}{r|ll}\n",
       " ffscore & n\\\\\n",
       "\\hline\n",
       "\t -1   & 1063\\\\\n",
       "\t  0   &  181\\\\\n",
       "\t  1   &  712\\\\\n",
       "\\end{tabular}\n"
      ],
      "text/markdown": [
       "\n",
       "ffscore | n | \n",
       "|---|---|---|\n",
       "| -1   | 1063 | \n",
       "|  0   |  181 | \n",
       "|  1   |  712 | \n",
       "\n",
       "\n"
      ],
      "text/plain": [
       "  ffscore n   \n",
       "1 -1      1063\n",
       "2  0       181\n",
       "3  1       712"
      ]
     },
     "metadata": {},
     "output_type": "display_data"
    }
   ],
   "source": [
    "all_u_agg %>% count(ffscore)"
   ]
  },
  {
   "cell_type": "markdown",
   "metadata": {},
   "source": [
    "# Results\n",
    "\n",
    "## Only 181 grid squares had both.  \n",
    "## 712 were only falls\n",
    "## 1063 were only finds.\n",
    "\n",
    "## So, for the most part, falls are not witnessed in the same general location as finds."
   ]
  },
  {
   "cell_type": "code",
   "execution_count": 42,
   "metadata": {},
   "outputs": [
    {
     "data": {
      "text/html": [
       "<table>\n",
       "<thead><tr><th scope=col>lat_gs</th><th scope=col>long_gs</th><th scope=col>ffscore</th></tr></thead>\n",
       "<tbody>\n",
       "\t<tr><td>64  </td><td>-164</td><td>-1  </td></tr>\n",
       "\t<tr><td>55  </td><td>-163</td><td>-1  </td></tr>\n",
       "\t<tr><td>21  </td><td>-158</td><td> 1  </td></tr>\n",
       "\t<tr><td>65  </td><td>-147</td><td>-1  </td></tr>\n",
       "\t<tr><td>63  </td><td>-140</td><td>-1  </td></tr>\n",
       "\t<tr><td>11  </td><td>-138</td><td>-1  </td></tr>\n",
       "\t<tr><td>12  </td><td>-138</td><td>-1  </td></tr>\n",
       "\t<tr><td>59  </td><td>-136</td><td>-1  </td></tr>\n",
       "\t<tr><td>59  </td><td>-135</td><td> 1  </td></tr>\n",
       "\t<tr><td>40  </td><td>-124</td><td>-1  </td></tr>\n",
       "\t<tr><td>41  </td><td>-124</td><td>-1  </td></tr>\n",
       "\t<tr><td>42  </td><td>-123</td><td>-1  </td></tr>\n",
       "\t<tr><td>44  </td><td>-123</td><td> 1  </td></tr>\n",
       "\t<tr><td>45  </td><td>-123</td><td> 0  </td></tr>\n",
       "\t<tr><td>47  </td><td>-123</td><td>-1  </td></tr>\n",
       "\t<tr><td>38  </td><td>-122</td><td>-1  </td></tr>\n",
       "\t<tr><td>39  </td><td>-122</td><td>-1  </td></tr>\n",
       "\t<tr><td>42  </td><td>-122</td><td>-1  </td></tr>\n",
       "\t<tr><td>38  </td><td>-121</td><td> 0  </td></tr>\n",
       "\t<tr><td>41  </td><td>-121</td><td>-1  </td></tr>\n",
       "\t<tr><td>42  </td><td>-121</td><td>-1  </td></tr>\n",
       "\t<tr><td>34  </td><td>-120</td><td>-1  </td></tr>\n",
       "\t<tr><td>38  </td><td>-120</td><td> 1  </td></tr>\n",
       "\t<tr><td>40  </td><td>-120</td><td>-1  </td></tr>\n",
       "\t<tr><td>45  </td><td>-120</td><td>-1  </td></tr>\n",
       "\t<tr><td>47  </td><td>-120</td><td>-1  </td></tr>\n",
       "\t<tr><td>66  </td><td>-120</td><td>-1  </td></tr>\n",
       "\t<tr><td>34  </td><td>-119</td><td>-1  </td></tr>\n",
       "\t<tr><td>35  </td><td>-119</td><td>-1  </td></tr>\n",
       "\t<tr><td>36  </td><td>-119</td><td>-1  </td></tr>\n",
       "\t<tr><td><U+22EE></td><td><U+22EE></td><td><U+22EE></td></tr>\n",
       "\t<tr><td> 62</td><td>148</td><td>-1 </td></tr>\n",
       "\t<tr><td> 63</td><td>148</td><td>-1 </td></tr>\n",
       "\t<tr><td>-37</td><td>149</td><td>-1 </td></tr>\n",
       "\t<tr><td>-35</td><td>149</td><td>-1 </td></tr>\n",
       "\t<tr><td>-32</td><td>149</td><td>-1 </td></tr>\n",
       "\t<tr><td> 63</td><td>149</td><td>-1 </td></tr>\n",
       "\t<tr><td>-35</td><td>150</td><td> 1 </td></tr>\n",
       "\t<tr><td>-30</td><td>150</td><td>-1 </td></tr>\n",
       "\t<tr><td>-28</td><td>150</td><td>-1 </td></tr>\n",
       "\t<tr><td>-24</td><td>150</td><td> 1 </td></tr>\n",
       "\t<tr><td>-33</td><td>151</td><td>-1 </td></tr>\n",
       "\t<tr><td>-31</td><td>151</td><td>-1 </td></tr>\n",
       "\t<tr><td>-30</td><td>151</td><td> 1 </td></tr>\n",
       "\t<tr><td>-24</td><td>151</td><td>-1 </td></tr>\n",
       "\t<tr><td> -3</td><td>151</td><td> 1 </td></tr>\n",
       "\t<tr><td>-32</td><td>152</td><td> 1 </td></tr>\n",
       "\t<tr><td>-31</td><td>152</td><td>-1 </td></tr>\n",
       "\t<tr><td> 62</td><td>152</td><td>-1 </td></tr>\n",
       "\t<tr><td> 64</td><td>161</td><td> 1 </td></tr>\n",
       "\t<tr><td>-22</td><td>165</td><td> 1 </td></tr>\n",
       "\t<tr><td>-47</td><td>168</td><td>-1 </td></tr>\n",
       "\t<tr><td>-45</td><td>171</td><td>-1 </td></tr>\n",
       "\t<tr><td>-43</td><td>171</td><td>-1 </td></tr>\n",
       "\t<tr><td>-44</td><td>172</td><td>-1 </td></tr>\n",
       "\t<tr><td> 64</td><td>172</td><td>-1 </td></tr>\n",
       "\t<tr><td>-40</td><td>174</td><td> 1 </td></tr>\n",
       "\t<tr><td> 62</td><td>174</td><td>-1 </td></tr>\n",
       "\t<tr><td>-42</td><td>175</td><td>-1 </td></tr>\n",
       "\t<tr><td>-41</td><td>175</td><td>-1 </td></tr>\n",
       "\t<tr><td>-39</td><td>178</td><td>-1 </td></tr>\n",
       "</tbody>\n",
       "</table>\n"
      ],
      "text/latex": [
       "\\begin{tabular}{r|lll}\n",
       " lat\\_gs & long\\_gs & ffscore\\\\\n",
       "\\hline\n",
       "\t 64   & -164 & -1  \\\\\n",
       "\t 55   & -163 & -1  \\\\\n",
       "\t 21   & -158 &  1  \\\\\n",
       "\t 65   & -147 & -1  \\\\\n",
       "\t 63   & -140 & -1  \\\\\n",
       "\t 11   & -138 & -1  \\\\\n",
       "\t 12   & -138 & -1  \\\\\n",
       "\t 59   & -136 & -1  \\\\\n",
       "\t 59   & -135 &  1  \\\\\n",
       "\t 40   & -124 & -1  \\\\\n",
       "\t 41   & -124 & -1  \\\\\n",
       "\t 42   & -123 & -1  \\\\\n",
       "\t 44   & -123 &  1  \\\\\n",
       "\t 45   & -123 &  0  \\\\\n",
       "\t 47   & -123 & -1  \\\\\n",
       "\t 38   & -122 & -1  \\\\\n",
       "\t 39   & -122 & -1  \\\\\n",
       "\t 42   & -122 & -1  \\\\\n",
       "\t 38   & -121 &  0  \\\\\n",
       "\t 41   & -121 & -1  \\\\\n",
       "\t 42   & -121 & -1  \\\\\n",
       "\t 34   & -120 & -1  \\\\\n",
       "\t 38   & -120 &  1  \\\\\n",
       "\t 40   & -120 & -1  \\\\\n",
       "\t 45   & -120 & -1  \\\\\n",
       "\t 47   & -120 & -1  \\\\\n",
       "\t 66   & -120 & -1  \\\\\n",
       "\t 34   & -119 & -1  \\\\\n",
       "\t 35   & -119 & -1  \\\\\n",
       "\t 36   & -119 & -1  \\\\\n",
       "\t <U+22EE> & <U+22EE> & <U+22EE>\\\\\n",
       "\t  62 & 148 & -1 \\\\\n",
       "\t  63 & 148 & -1 \\\\\n",
       "\t -37 & 149 & -1 \\\\\n",
       "\t -35 & 149 & -1 \\\\\n",
       "\t -32 & 149 & -1 \\\\\n",
       "\t  63 & 149 & -1 \\\\\n",
       "\t -35 & 150 &  1 \\\\\n",
       "\t -30 & 150 & -1 \\\\\n",
       "\t -28 & 150 & -1 \\\\\n",
       "\t -24 & 150 &  1 \\\\\n",
       "\t -33 & 151 & -1 \\\\\n",
       "\t -31 & 151 & -1 \\\\\n",
       "\t -30 & 151 &  1 \\\\\n",
       "\t -24 & 151 & -1 \\\\\n",
       "\t  -3 & 151 &  1 \\\\\n",
       "\t -32 & 152 &  1 \\\\\n",
       "\t -31 & 152 & -1 \\\\\n",
       "\t  62 & 152 & -1 \\\\\n",
       "\t  64 & 161 &  1 \\\\\n",
       "\t -22 & 165 &  1 \\\\\n",
       "\t -47 & 168 & -1 \\\\\n",
       "\t -45 & 171 & -1 \\\\\n",
       "\t -43 & 171 & -1 \\\\\n",
       "\t -44 & 172 & -1 \\\\\n",
       "\t  64 & 172 & -1 \\\\\n",
       "\t -40 & 174 &  1 \\\\\n",
       "\t  62 & 174 & -1 \\\\\n",
       "\t -42 & 175 & -1 \\\\\n",
       "\t -41 & 175 & -1 \\\\\n",
       "\t -39 & 178 & -1 \\\\\n",
       "\\end{tabular}\n"
      ],
      "text/markdown": [
       "\n",
       "lat_gs | long_gs | ffscore | \n",
       "|---|---|---|---|---|---|---|---|---|---|---|---|---|---|---|---|---|---|---|---|---|---|---|---|---|---|---|---|---|---|---|---|---|---|---|---|---|---|---|---|---|---|---|---|---|---|---|---|---|---|---|---|---|---|---|---|---|---|---|---|---|\n",
       "| 64   | -164 | -1   | \n",
       "| 55   | -163 | -1   | \n",
       "| 21   | -158 |  1   | \n",
       "| 65   | -147 | -1   | \n",
       "| 63   | -140 | -1   | \n",
       "| 11   | -138 | -1   | \n",
       "| 12   | -138 | -1   | \n",
       "| 59   | -136 | -1   | \n",
       "| 59   | -135 |  1   | \n",
       "| 40   | -124 | -1   | \n",
       "| 41   | -124 | -1   | \n",
       "| 42   | -123 | -1   | \n",
       "| 44   | -123 |  1   | \n",
       "| 45   | -123 |  0   | \n",
       "| 47   | -123 | -1   | \n",
       "| 38   | -122 | -1   | \n",
       "| 39   | -122 | -1   | \n",
       "| 42   | -122 | -1   | \n",
       "| 38   | -121 |  0   | \n",
       "| 41   | -121 | -1   | \n",
       "| 42   | -121 | -1   | \n",
       "| 34   | -120 | -1   | \n",
       "| 38   | -120 |  1   | \n",
       "| 40   | -120 | -1   | \n",
       "| 45   | -120 | -1   | \n",
       "| 47   | -120 | -1   | \n",
       "| 66   | -120 | -1   | \n",
       "| 34   | -119 | -1   | \n",
       "| 35   | -119 | -1   | \n",
       "| 36   | -119 | -1   | \n",
       "| <U+22EE> | <U+22EE> | <U+22EE> | \n",
       "|  62 | 148 | -1  | \n",
       "|  63 | 148 | -1  | \n",
       "| -37 | 149 | -1  | \n",
       "| -35 | 149 | -1  | \n",
       "| -32 | 149 | -1  | \n",
       "|  63 | 149 | -1  | \n",
       "| -35 | 150 |  1  | \n",
       "| -30 | 150 | -1  | \n",
       "| -28 | 150 | -1  | \n",
       "| -24 | 150 |  1  | \n",
       "| -33 | 151 | -1  | \n",
       "| -31 | 151 | -1  | \n",
       "| -30 | 151 |  1  | \n",
       "| -24 | 151 | -1  | \n",
       "|  -3 | 151 |  1  | \n",
       "| -32 | 152 |  1  | \n",
       "| -31 | 152 | -1  | \n",
       "|  62 | 152 | -1  | \n",
       "|  64 | 161 |  1  | \n",
       "| -22 | 165 |  1  | \n",
       "| -47 | 168 | -1  | \n",
       "| -45 | 171 | -1  | \n",
       "| -43 | 171 | -1  | \n",
       "| -44 | 172 | -1  | \n",
       "|  64 | 172 | -1  | \n",
       "| -40 | 174 |  1  | \n",
       "|  62 | 174 | -1  | \n",
       "| -42 | 175 | -1  | \n",
       "| -41 | 175 | -1  | \n",
       "| -39 | 178 | -1  | \n",
       "\n",
       "\n"
      ],
      "text/plain": [
       "       lat_gs long_gs ffscore\n",
       "1      64     -164    -1     \n",
       "2      55     -163    -1     \n",
       "3      21     -158     1     \n",
       "4      65     -147    -1     \n",
       "5      63     -140    -1     \n",
       "6      11     -138    -1     \n",
       "7      12     -138    -1     \n",
       "8      59     -136    -1     \n",
       "9      59     -135     1     \n",
       "10     40     -124    -1     \n",
       "11     41     -124    -1     \n",
       "12     42     -123    -1     \n",
       "13     44     -123     1     \n",
       "14     45     -123     0     \n",
       "15     47     -123    -1     \n",
       "16     38     -122    -1     \n",
       "17     39     -122    -1     \n",
       "18     42     -122    -1     \n",
       "19     38     -121     0     \n",
       "20     41     -121    -1     \n",
       "21     42     -121    -1     \n",
       "22     34     -120    -1     \n",
       "23     38     -120     1     \n",
       "24     40     -120    -1     \n",
       "25     45     -120    -1     \n",
       "26     47     -120    -1     \n",
       "27     66     -120    -1     \n",
       "28     34     -119    -1     \n",
       "29     35     -119    -1     \n",
       "30     36     -119    -1     \n",
       "<U+22EE> <U+22EE> <U+22EE> <U+22EE>\n",
       "1927    62    148     -1     \n",
       "1928    63    148     -1     \n",
       "1929   -37    149     -1     \n",
       "1930   -35    149     -1     \n",
       "1931   -32    149     -1     \n",
       "1932    63    149     -1     \n",
       "1933   -35    150      1     \n",
       "1934   -30    150     -1     \n",
       "1935   -28    150     -1     \n",
       "1936   -24    150      1     \n",
       "1937   -33    151     -1     \n",
       "1938   -31    151     -1     \n",
       "1939   -30    151      1     \n",
       "1940   -24    151     -1     \n",
       "1941    -3    151      1     \n",
       "1942   -32    152      1     \n",
       "1943   -31    152     -1     \n",
       "1944    62    152     -1     \n",
       "1945    64    161      1     \n",
       "1946   -22    165      1     \n",
       "1947   -47    168     -1     \n",
       "1948   -45    171     -1     \n",
       "1949   -43    171     -1     \n",
       "1950   -44    172     -1     \n",
       "1951    64    172     -1     \n",
       "1952   -40    174      1     \n",
       "1953    62    174     -1     \n",
       "1954   -42    175     -1     \n",
       "1955   -41    175     -1     \n",
       "1956   -39    178     -1     "
      ]
     },
     "metadata": {},
     "output_type": "display_data"
    }
   ],
   "source": [
    "all_u_agg2"
   ]
  },
  {
   "cell_type": "code",
   "execution_count": null,
   "metadata": {},
   "outputs": [],
   "source": []
  },
  {
   "cell_type": "code",
   "execution_count": 44,
   "metadata": {},
   "outputs": [
    {
     "data": {
      "text/html": [
       "<table>\n",
       "<thead><tr><th scope=col>lat_gs</th><th scope=col>long_gs</th><th scope=col>ffscore</th><th scope=col>fallorfind</th></tr></thead>\n",
       "<tbody>\n",
       "\t<tr><td>64  </td><td>-164</td><td>-1  </td><td>find</td></tr>\n",
       "\t<tr><td>55  </td><td>-163</td><td>-1  </td><td>find</td></tr>\n",
       "\t<tr><td>21  </td><td>-158</td><td> 1  </td><td>fall</td></tr>\n",
       "\t<tr><td>65  </td><td>-147</td><td>-1  </td><td>find</td></tr>\n",
       "\t<tr><td>63  </td><td>-140</td><td>-1  </td><td>find</td></tr>\n",
       "\t<tr><td>11  </td><td>-138</td><td>-1  </td><td>find</td></tr>\n",
       "</tbody>\n",
       "</table>\n"
      ],
      "text/latex": [
       "\\begin{tabular}{r|llll}\n",
       " lat\\_gs & long\\_gs & ffscore & fallorfind\\\\\n",
       "\\hline\n",
       "\t 64   & -164 & -1   & find\\\\\n",
       "\t 55   & -163 & -1   & find\\\\\n",
       "\t 21   & -158 &  1   & fall\\\\\n",
       "\t 65   & -147 & -1   & find\\\\\n",
       "\t 63   & -140 & -1   & find\\\\\n",
       "\t 11   & -138 & -1   & find\\\\\n",
       "\\end{tabular}\n"
      ],
      "text/markdown": [
       "\n",
       "lat_gs | long_gs | ffscore | fallorfind | \n",
       "|---|---|---|---|---|---|\n",
       "| 64   | -164 | -1   | find | \n",
       "| 55   | -163 | -1   | find | \n",
       "| 21   | -158 |  1   | fall | \n",
       "| 65   | -147 | -1   | find | \n",
       "| 63   | -140 | -1   | find | \n",
       "| 11   | -138 | -1   | find | \n",
       "\n",
       "\n"
      ],
      "text/plain": [
       "  lat_gs long_gs ffscore fallorfind\n",
       "1 64     -164    -1      find      \n",
       "2 55     -163    -1      find      \n",
       "3 21     -158     1      fall      \n",
       "4 65     -147    -1      find      \n",
       "5 63     -140    -1      find      \n",
       "6 11     -138    -1      find      "
      ]
     },
     "metadata": {},
     "output_type": "display_data"
    }
   ],
   "source": [
    "library(tidyverse)\n",
    "\n",
    "all_u_agg2 <- all_u_agg\n",
    "\n",
    "final <- all_u_agg2 %>%\n",
    "  mutate(fallorfind = case_when(\n",
    "    (ffscore == -1) ~ \"find\",\n",
    "    (ffscore == 1) ~ \"fall\",\n",
    "    (ffscore == 0) ~ \"both\"      \n",
    "    ))\n",
    "\n",
    "head(final)\n",
    "write.csv(final, \"data/results/gridsquarefellfound.csv\")\n"
   ]
  },
  {
   "cell_type": "code",
   "execution_count": null,
   "metadata": {},
   "outputs": [],
   "source": []
  }
 ],
 "metadata": {
  "kernelspec": {
   "display_name": "R",
   "language": "R",
   "name": "ir"
  },
  "language_info": {
   "codemirror_mode": "r",
   "file_extension": ".r",
   "mimetype": "text/x-r-source",
   "name": "R",
   "pygments_lexer": "r",
   "version": "3.4.0"
  }
 },
 "nbformat": 4,
 "nbformat_minor": 5
}
