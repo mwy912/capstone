{
 "cells": [
  {
   "cell_type": "code",
   "execution_count": 1,
   "metadata": {},
   "outputs": [],
   "source": [
    "## Load relevant R packages.\n",
    "\n",
    "inLibraries = list('repr','spdep','raster','rgdal','rgeos')\n",
    "for (rpack in inLibraries) {\n",
    "  if (is.element(rpack,installed.packages()[,1])){\n",
    "      #Load the library into R\n",
    "      suppressMessages(library(rpack,character.only = TRUE))\n",
    "    }\n",
    "    else {\n",
    "        print(paste(\"Warning:  \",rpack,\" is not an installed package\"))\n",
    "    }\n",
    "}\n",
    "\n",
    "##  Resize plot area.\n",
    "\n",
    "options(repr.plot.width=6, repr.plot.height=6)"
   ]
  },
  {
   "cell_type": "code",
   "execution_count": 2,
   "metadata": {},
   "outputs": [
    {
     "name": "stdout",
     "output_type": "stream",
     "text": [
      "OGR data source with driver: ESRI Shapefile \n",
      "Source: \"data/results\", layer: \"meteorites_sf\"\n",
      "with 9796 features\n",
      "It has 14 fields\n"
     ]
    },
    {
     "data": {
      "text/html": [
       "<table>\n",
       "<thead><tr><th scope=col>X</th><th scope=col>name</th><th scope=col>id</th><th scope=col>nametyp</th><th scope=col>recclss</th><th scope=col>mss_n_g</th><th scope=col>fll_r_f</th><th scope=col>year</th><th scope=col>GeoLctn</th><th scope=col>grop_nm</th><th scope=col>Chndr_A</th><th scope=col>type</th><th scope=col>L3</th><th scope=col>L4</th></tr></thead>\n",
       "<tbody>\n",
       "\t<tr><td>5625                </td><td>Aachen              </td><td>1                   </td><td>Valid               </td><td>L5                  </td><td>    21              </td><td>Fell                </td><td>1880                </td><td>(50.775, 6.08333)   </td><td>L                   </td><td>Chondrite           </td><td>Stony               </td><td>Ordinary            </td><td>L                   </td></tr>\n",
       "\t<tr><td> 568                </td><td>Aarhus              </td><td>2                   </td><td>Valid               </td><td>H6                  </td><td>   720              </td><td>Fell                </td><td>1951                </td><td>(56.18333, 10.23333)</td><td>H                   </td><td>Chondrite           </td><td>Stony               </td><td>Ordinary            </td><td>H                   </td></tr>\n",
       "\t<tr><td> 916                </td><td>Abajo               </td><td>4                   </td><td>Valid               </td><td>H5                  </td><td>   331              </td><td>Found               </td><td>1982                </td><td>(26.8, -105.41667)  </td><td>H                   </td><td>Chondrite           </td><td>Stony               </td><td>Ordinary            </td><td>H                   </td></tr>\n",
       "\t<tr><td> 918                </td><td>Abbott              </td><td>5                   </td><td>Valid               </td><td>H3-6                </td><td> 21100              </td><td>Found               </td><td>1951                </td><td>(36.3, -104.28333)  </td><td>H                   </td><td>Chondrite           </td><td>Stony               </td><td>Ordinary            </td><td>H                   </td></tr>\n",
       "\t<tr><td> 399                </td><td>Abee                </td><td>6                   </td><td>Valid               </td><td>EH4                 </td><td>107000              </td><td>Fell                </td><td>1952                </td><td>(54.21667, -113.0)  </td><td>EH                  </td><td>Chondrite           </td><td>Stony               </td><td>Enstatite           </td><td>EH-EL               </td></tr>\n",
       "\t<tr><td>6004                </td><td>Abernathy           </td><td>7                   </td><td>Valid               </td><td>L6                  </td><td>  2914              </td><td>Found               </td><td>1941                </td><td>(33.85, -101.8)     </td><td>L                   </td><td>Chondrite           </td><td>Stony               </td><td>Ordinary            </td><td>L                   </td></tr>\n",
       "</tbody>\n",
       "</table>\n"
      ],
      "text/latex": [
       "\\begin{tabular}{r|llllllllllllll}\n",
       " X & name & id & nametyp & recclss & mss\\_n\\_g & fll\\_r\\_f & year & GeoLctn & grop\\_nm & Chndr\\_A & type & L3 & L4\\\\\n",
       "\\hline\n",
       "\t 5625                 & Aachen               & 1                    & Valid                & L5                   &     21               & Fell                 & 1880                 & (50.775, 6.08333)    & L                    & Chondrite            & Stony                & Ordinary             & L                   \\\\\n",
       "\t  568                 & Aarhus               & 2                    & Valid                & H6                   &    720               & Fell                 & 1951                 & (56.18333, 10.23333) & H                    & Chondrite            & Stony                & Ordinary             & H                   \\\\\n",
       "\t  916                 & Abajo                & 4                    & Valid                & H5                   &    331               & Found                & 1982                 & (26.8, -105.41667)   & H                    & Chondrite            & Stony                & Ordinary             & H                   \\\\\n",
       "\t  918                 & Abbott               & 5                    & Valid                & H3-6                 &  21100               & Found                & 1951                 & (36.3, -104.28333)   & H                    & Chondrite            & Stony                & Ordinary             & H                   \\\\\n",
       "\t  399                 & Abee                 & 6                    & Valid                & EH4                  & 107000               & Fell                 & 1952                 & (54.21667, -113.0)   & EH                   & Chondrite            & Stony                & Enstatite            & EH-EL               \\\\\n",
       "\t 6004                 & Abernathy            & 7                    & Valid                & L6                   &   2914               & Found                & 1941                 & (33.85, -101.8)      & L                    & Chondrite            & Stony                & Ordinary             & L                   \\\\\n",
       "\\end{tabular}\n"
      ],
      "text/markdown": [
       "\n",
       "X | name | id | nametyp | recclss | mss_n_g | fll_r_f | year | GeoLctn | grop_nm | Chndr_A | type | L3 | L4 | \n",
       "|---|---|---|---|---|---|\n",
       "| 5625                 | Aachen               | 1                    | Valid                | L5                   |     21               | Fell                 | 1880                 | (50.775, 6.08333)    | L                    | Chondrite            | Stony                | Ordinary             | L                    | \n",
       "|  568                 | Aarhus               | 2                    | Valid                | H6                   |    720               | Fell                 | 1951                 | (56.18333, 10.23333) | H                    | Chondrite            | Stony                | Ordinary             | H                    | \n",
       "|  916                 | Abajo                | 4                    | Valid                | H5                   |    331               | Found                | 1982                 | (26.8, -105.41667)   | H                    | Chondrite            | Stony                | Ordinary             | H                    | \n",
       "|  918                 | Abbott               | 5                    | Valid                | H3-6                 |  21100               | Found                | 1951                 | (36.3, -104.28333)   | H                    | Chondrite            | Stony                | Ordinary             | H                    | \n",
       "|  399                 | Abee                 | 6                    | Valid                | EH4                  | 107000               | Fell                 | 1952                 | (54.21667, -113.0)   | EH                   | Chondrite            | Stony                | Enstatite            | EH-EL                | \n",
       "| 6004                 | Abernathy            | 7                    | Valid                | L6                   |   2914               | Found                | 1941                 | (33.85, -101.8)      | L                    | Chondrite            | Stony                | Ordinary             | L                    | \n",
       "\n",
       "\n"
      ],
      "text/plain": [
       "  X    name      id nametyp recclss mss_n_g fll_r_f year GeoLctn             \n",
       "1 5625 Aachen    1  Valid   L5          21  Fell    1880 (50.775, 6.08333)   \n",
       "2  568 Aarhus    2  Valid   H6         720  Fell    1951 (56.18333, 10.23333)\n",
       "3  916 Abajo     4  Valid   H5         331  Found   1982 (26.8, -105.41667)  \n",
       "4  918 Abbott    5  Valid   H3-6     21100  Found   1951 (36.3, -104.28333)  \n",
       "5  399 Abee      6  Valid   EH4     107000  Fell    1952 (54.21667, -113.0)  \n",
       "6 6004 Abernathy 7  Valid   L6        2914  Found   1941 (33.85, -101.8)     \n",
       "  grop_nm Chndr_A   type  L3        L4   \n",
       "1 L       Chondrite Stony Ordinary  L    \n",
       "2 H       Chondrite Stony Ordinary  H    \n",
       "3 H       Chondrite Stony Ordinary  H    \n",
       "4 H       Chondrite Stony Ordinary  H    \n",
       "5 EH      Chondrite Stony Enstatite EH-EL\n",
       "6 L       Chondrite Stony Ordinary  L    "
      ]
     },
     "metadata": {},
     "output_type": "display_data"
    }
   ],
   "source": [
    "lc1700name <- 'data/lc/historic_landcover_hd_1700.asc' \n",
    "lc1700 <- raster(lc1700name,values=TRUE)\n",
    "\n",
    "lc1750name <- \"data/lc/historic_landcover_hd_1750.asc\"\n",
    "lc1750 <- raster(lc1750name,values=TRUE)\n",
    "\n",
    "lc1800name <- \"data/lc/historic_landcover_hd_1800.asc\"\n",
    "lc1800 <- raster(lc1800name,values=TRUE)\n",
    "\n",
    "lc1850name <- \"data/lc/historic_landcover_hd_1850.asc\"\n",
    "lc1850 <- raster(lc1850name,values=TRUE)\n",
    "\n",
    "lc1900name <- \"data/lc/historic_landcover_hd_1900.asc\"\n",
    "lc1900 <- raster(lc1900name,values=TRUE)\n",
    "\n",
    "lc1950name <- \"data/lc/historic_landcover_hd_1950.asc\"\n",
    "lc1950  <- raster(lc1950name,values=TRUE)\n",
    "\n",
    "lc1970name <- \"data/lc/historic_landcover_hd_1970.asc\"\n",
    "lc1970 <- raster(lc1970name,values=TRUE)\n",
    "\n",
    "lc1990name <- \"data/lc/historic_landcover_hd_1990.asc\"\n",
    "lc1990 <- raster(lc1990name,values=TRUE)\n",
    "\n",
    "\n",
    "meteorites <- readOGR(\"data/results\", \"meteorites_sf\")\n",
    "\n",
    "head(meteorites)"
   ]
  },
  {
   "cell_type": "code",
   "execution_count": 3,
   "metadata": {},
   "outputs": [
    {
     "data": {
      "text/html": [
       "<table>\n",
       "<thead><tr><th scope=col>x</th><th scope=col>y</th><th scope=col>name</th><th scope=col>id</th><th scope=col>year</th><th scope=col>lc1700</th><th scope=col>lc1750</th><th scope=col>lc1800</th><th scope=col>lc1850</th><th scope=col>lc1900</th><th scope=col>lc1950</th><th scope=col>lc1970</th><th scope=col>lc1990</th></tr></thead>\n",
       "<tbody>\n",
       "\t<tr><td>   6.08333</td><td>50.77500  </td><td>Aachen    </td><td>1         </td><td>1880      </td><td>11        </td><td>11        </td><td>11        </td><td>11        </td><td>11        </td><td>11        </td><td>11        </td><td>11        </td></tr>\n",
       "\t<tr><td>  10.23333</td><td>56.18333  </td><td>Aarhus    </td><td>2         </td><td>1951      </td><td> 1        </td><td> 1        </td><td> 1        </td><td> 1        </td><td> 1        </td><td> 1        </td><td> 1        </td><td> 1        </td></tr>\n",
       "\t<tr><td>-105.41667</td><td>26.80000  </td><td>Abajo     </td><td>4         </td><td>1982      </td><td>15        </td><td>15        </td><td>15        </td><td>15        </td><td>15        </td><td>15        </td><td> 2        </td><td> 2        </td></tr>\n",
       "\t<tr><td>-104.28333</td><td>36.30000  </td><td>Abbott    </td><td>5         </td><td>1951      </td><td>13        </td><td>13        </td><td>13        </td><td>13        </td><td>13        </td><td>13        </td><td>13        </td><td>13        </td></tr>\n",
       "\t<tr><td>-113.00000</td><td>54.21667  </td><td>Abee      </td><td>6         </td><td>1952      </td><td> 9        </td><td> 9        </td><td> 9        </td><td> 9        </td><td> 9        </td><td> 2        </td><td> 1        </td><td> 1        </td></tr>\n",
       "\t<tr><td>-101.80000</td><td>33.85000  </td><td>Abernathy </td><td>7         </td><td>1941      </td><td>13        </td><td>13        </td><td>13        </td><td>13        </td><td> 1        </td><td> 1        </td><td> 1        </td><td> 1        </td></tr>\n",
       "</tbody>\n",
       "</table>\n"
      ],
      "text/latex": [
       "\\begin{tabular}{r|lllllllllllll}\n",
       " x & y & name & id & year & lc1700 & lc1750 & lc1800 & lc1850 & lc1900 & lc1950 & lc1970 & lc1990\\\\\n",
       "\\hline\n",
       "\t    6.08333 & 50.77500   & Aachen     & 1          & 1880       & 11         & 11         & 11         & 11         & 11         & 11         & 11         & 11        \\\\\n",
       "\t   10.23333 & 56.18333   & Aarhus     & 2          & 1951       &  1         &  1         &  1         &  1         &  1         &  1         &  1         &  1        \\\\\n",
       "\t -105.41667 & 26.80000   & Abajo      & 4          & 1982       & 15         & 15         & 15         & 15         & 15         & 15         &  2         &  2        \\\\\n",
       "\t -104.28333 & 36.30000   & Abbott     & 5          & 1951       & 13         & 13         & 13         & 13         & 13         & 13         & 13         & 13        \\\\\n",
       "\t -113.00000 & 54.21667   & Abee       & 6          & 1952       &  9         &  9         &  9         &  9         &  9         &  2         &  1         &  1        \\\\\n",
       "\t -101.80000 & 33.85000   & Abernathy  & 7          & 1941       & 13         & 13         & 13         & 13         &  1         &  1         &  1         &  1        \\\\\n",
       "\\end{tabular}\n"
      ],
      "text/markdown": [
       "\n",
       "x | y | name | id | year | lc1700 | lc1750 | lc1800 | lc1850 | lc1900 | lc1950 | lc1970 | lc1990 | \n",
       "|---|---|---|---|---|---|\n",
       "|    6.08333 | 50.77500   | Aachen     | 1          | 1880       | 11         | 11         | 11         | 11         | 11         | 11         | 11         | 11         | \n",
       "|   10.23333 | 56.18333   | Aarhus     | 2          | 1951       |  1         |  1         |  1         |  1         |  1         |  1         |  1         |  1         | \n",
       "| -105.41667 | 26.80000   | Abajo      | 4          | 1982       | 15         | 15         | 15         | 15         | 15         | 15         |  2         |  2         | \n",
       "| -104.28333 | 36.30000   | Abbott     | 5          | 1951       | 13         | 13         | 13         | 13         | 13         | 13         | 13         | 13         | \n",
       "| -113.00000 | 54.21667   | Abee       | 6          | 1952       |  9         |  9         |  9         |  9         |  9         |  2         |  1         |  1         | \n",
       "| -101.80000 | 33.85000   | Abernathy  | 7          | 1941       | 13         | 13         | 13         | 13         |  1         |  1         |  1         |  1         | \n",
       "\n",
       "\n"
      ],
      "text/plain": [
       "  x          y        name      id year lc1700 lc1750 lc1800 lc1850 lc1900\n",
       "1    6.08333 50.77500 Aachen    1  1880 11     11     11     11     11    \n",
       "2   10.23333 56.18333 Aarhus    2  1951  1      1      1      1      1    \n",
       "3 -105.41667 26.80000 Abajo     4  1982 15     15     15     15     15    \n",
       "4 -104.28333 36.30000 Abbott    5  1951 13     13     13     13     13    \n",
       "5 -113.00000 54.21667 Abee      6  1952  9      9      9      9      9    \n",
       "6 -101.80000 33.85000 Abernathy 7  1941 13     13     13     13      1    \n",
       "  lc1950 lc1970 lc1990\n",
       "1 11     11     11    \n",
       "2  1      1      1    \n",
       "3 15      2      2    \n",
       "4 13     13     13    \n",
       "5  2      1      1    \n",
       "6  1      1      1    "
      ]
     },
     "metadata": {},
     "output_type": "display_data"
    }
   ],
   "source": [
    "landcover_table <- data.frame(coordinates(meteorites),\n",
    "                              meteorites$name, \n",
    "                              meteorites$id,\n",
    "                              meteorites$year,\n",
    "                              extract(lc1700, meteorites),\n",
    "                              extract(lc1750, meteorites),\n",
    "                              extract(lc1800, meteorites),\n",
    "                              extract(lc1850, meteorites),\n",
    "                              extract(lc1900, meteorites),\n",
    "                              extract(lc1950, meteorites),\n",
    "                              extract(lc1970, meteorites),\n",
    "                              extract(lc1990, meteorites))\n",
    "\n",
    "names(landcover_table) <- c(\"x\", \"y\", \"name\", \"id\", \"year\",\"lc1700\",\"lc1750\",\"lc1800\",\"lc1850\",\"lc1900\",\"lc1950\",\"lc1970\",\"lc1990\")\n",
    "\n",
    "head(landcover_table)"
   ]
  },
  {
   "cell_type": "code",
   "execution_count": 4,
   "metadata": {},
   "outputs": [
    {
     "data": {
      "text/html": [
       "<ol class=list-inline>\n",
       "\t<li>9796</li>\n",
       "\t<li>14</li>\n",
       "</ol>\n"
      ],
      "text/latex": [
       "\\begin{enumerate*}\n",
       "\\item 9796\n",
       "\\item 14\n",
       "\\end{enumerate*}\n"
      ],
      "text/markdown": [
       "1. 9796\n",
       "2. 14\n",
       "\n",
       "\n"
      ],
      "text/plain": [
       "[1] 9796   14"
      ]
     },
     "metadata": {},
     "output_type": "display_data"
    },
    {
     "data": {
      "text/html": [
       "<ol class=list-inline>\n",
       "\t<li>9774</li>\n",
       "\t<li>14</li>\n",
       "</ol>\n"
      ],
      "text/latex": [
       "\\begin{enumerate*}\n",
       "\\item 9774\n",
       "\\item 14\n",
       "\\end{enumerate*}\n"
      ],
      "text/markdown": [
       "1. 9774\n",
       "2. 14\n",
       "\n",
       "\n"
      ],
      "text/plain": [
       "[1] 9774   14"
      ]
     },
     "metadata": {},
     "output_type": "display_data"
    },
    {
     "data": {
      "text/html": [
       "<ol class=list-inline>\n",
       "\t<li>22</li>\n",
       "\t<li>14</li>\n",
       "</ol>\n"
      ],
      "text/latex": [
       "\\begin{enumerate*}\n",
       "\\item 22\n",
       "\\item 14\n",
       "\\end{enumerate*}\n"
      ],
      "text/markdown": [
       "1. 22\n",
       "2. 14\n",
       "\n",
       "\n"
      ],
      "text/plain": [
       "[1] 22 14"
      ]
     },
     "metadata": {},
     "output_type": "display_data"
    },
    {
     "data": {
      "text/plain": [
       "                coordinates    X             name    id nametyp      recclss\n",
       "847  (-60.58333, -27.46667) 4820  Campo del Cielo  5247   Valid Iron, IAB-MG\n",
       "888            (16.2, 39.8) 9660    Castrovillari  5295   Valid   Stone-uncl\n",
       "3275   (12.73333, 50.18333) 5070          Elbogen  7823   Valid    Iron, IID\n",
       "3302       (7.35, 47.86667) 8863        Ensisheim 10039   Valid          LL6\n",
       "3435   (10.33333, 55.33333) 9665     F\\303\\274nen 10838   Valid   Stone-uncl\n",
       "3969      (-1.51667, 51.65) 9668          Hatford 11855   Valid   Stone-uncl\n",
       "4166               (75, 31) 5390        Jalandhar 12069   Valid         Iron\n",
       "4787   (136.9333, 35.07833) 5848         Minamino 16692   Valid            L\n",
       "4832     (-105.4333, 27.05) 5278           Morito 16745   Valid  Iron, IIIAB\n",
       "4865    (6.86667, 44.08333) 9671      Mount Vaisi 16805   Valid   Stone-uncl\n",
       "4958   (12.51667, 42.51667) 9673            Narni 16914   Valid   Stone-uncl\n",
       "5020       (130.75, 33.725) 5873           Nogata 16988   Valid           L6\n",
       "5205      (31.33333, 58.55) 9675        Novy-Ergi 17934   Valid   Stone-uncl\n",
       "5258         (-0.03333, 39) 9676     Oliva-Gandia 18012   Valid   Stone-uncl\n",
       "5275              (8, 48.5) 9677          Ortenau 18033   Valid   Stone-uncl\n",
       "5596    (9.51667, 45.48333) 9684 Rivolta de Bassi 22614   Valid   Stone-uncl\n",
       "5762   (14.88333, 51.53333) 9687            Sagan 22796   Valid   Stone-uncl\n",
       "5846   (137.7833, 34.71667)  834         Sasagase 23187   Valid            H\n",
       "6347       (9.05, 52.53333) 9688        Stolzenau 23726   Valid   Stone-uncl\n",
       "6353      (-3.95, 50.38333) 9689     Stretchleigh 23732   Valid   Stone-uncl\n",
       "6674   (11.13333, 45.41667)  888             Vago 24143   Valid           H6\n",
       "6677       (12.1, 44.06667) 9692        Valdinoce 24146   Valid   Stone-uncl\n",
       "       mss_n_g fll_r_f year                GeoLctn    grop_nm    Chndr_A  type\n",
       "847  5.000e+07   Found 1575 (-27.46667, -60.58333)   Iron IAB Achondrite  Iron\n",
       "888  1.500e+04    Fell 1583           (39.8, 16.2)      Stony          - Stony\n",
       "3275 1.070e+05    Fell 1399   (50.18333, 12.73333)   Iron IID Achondrite  Iron\n",
       "3302 1.270e+05    Fell 1491       (47.86667, 7.35)         LL  Chondrite Stony\n",
       "3435 3.670e+02    Fell 1654   (55.33333, 10.33333)      Stony          - Stony\n",
       "3969 2.900e+04    Fell 1628      (51.65, -1.51667)      Stony          - Stony\n",
       "4166 1.967e+03    Fell 1621           (31.0, 75.0)       Iron Achondrite  Iron\n",
       "4787 1.040e+03    Fell 1632  (35.07833, 136.93333)          L  Chondrite Stony\n",
       "4832 1.010e+07   Found 1600    (27.05, -105.43333) Iron IIIAB Achondrite  Iron\n",
       "4865 1.700e+04    Fell 1637    (44.08333, 6.86667)      Stony          - Stony\n",
       "4958 3.670e+02    Fell  920   (42.51667, 12.51667)      Stony          - Stony\n",
       "5020 4.720e+02    Fell  860       (33.725, 130.75)          L  Chondrite Stony\n",
       "5205 3.670e+02    Fell 1662      (58.55, 31.33333)      Stony          - Stony\n",
       "5258 3.670e+02    Fell 1519       (39.0, -0.03333)      Stony          - Stony\n",
       "5275 4.500e+03    Fell 1671            (48.5, 8.0)      Stony          - Stony\n",
       "5596 1.033e+02    Fell 1490    (45.48333, 9.51667)      Stony          - Stony\n",
       "5762 3.670e+02    Fell 1636   (51.53333, 14.88333)      Stony          - Stony\n",
       "5846 6.950e+02    Fell 1688  (34.71667, 137.78333)          H  Chondrite Stony\n",
       "6347 3.670e+02    Fell 1647       (52.53333, 9.05)      Stony          - Stony\n",
       "6353 1.040e+04    Fell 1623      (50.38333, -3.95)      Stony          - Stony\n",
       "6674 4.000e+01    Fell 1668   (45.41667, 11.13333)          H  Chondrite Stony\n",
       "6677 3.670e+02    Fell 1495       (44.06667, 12.1)      Stony          - Stony\n",
       "               L3        L4\n",
       "847  Non-magmatic Primative\n",
       "888             -         -\n",
       "3275     Magmatic  Siderite\n",
       "3302     Ordinary        LL\n",
       "3435            -         -\n",
       "3969            -         -\n",
       "4166            -         -\n",
       "4787     Ordinary         L\n",
       "4832     Magmatic  Siderite\n",
       "4865            -         -\n",
       "4958            -         -\n",
       "5020     Ordinary         L\n",
       "5205            -         -\n",
       "5258            -         -\n",
       "5275            -         -\n",
       "5596            -         -\n",
       "5762            -         -\n",
       "5846     Ordinary         H\n",
       "6347            -         -\n",
       "6353            -         -\n",
       "6674     Ordinary         H\n",
       "6677            -         -"
      ]
     },
     "metadata": {},
     "output_type": "display_data"
    }
   ],
   "source": [
    "meteorites_pre1700  <- meteorites[meteorites$year < 1700,]\n",
    "meteorites_post1700  <- meteorites[meteorites$year > 1700,]\n",
    "\n",
    "dim(meteorites)\n",
    "dim(meteorites_post1700)\n",
    "dim(meteorites_pre1700)\n",
    "\n",
    "meteorites_pre1700"
   ]
  },
  {
   "cell_type": "code",
   "execution_count": 9,
   "metadata": {},
   "outputs": [],
   "source": [
    "# Only 22 meteorites (0.2%) are pre 1700 and could represent significantly different landcover from the 1700 raster.  \n",
    "# Not a major issue."
   ]
  },
  {
   "cell_type": "code",
   "execution_count": null,
   "metadata": {},
   "outputs": [],
   "source": []
  }
 ],
 "metadata": {
  "kernelspec": {
   "display_name": "R",
   "language": "R",
   "name": "ir"
  },
  "language_info": {
   "codemirror_mode": "r",
   "file_extension": ".r",
   "mimetype": "text/x-r-source",
   "name": "R",
   "pygments_lexer": "r",
   "version": "3.4.0"
  }
 },
 "nbformat": 4,
 "nbformat_minor": 5
}
