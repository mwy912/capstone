{
 "cells": [
  {
   "cell_type": "code",
   "execution_count": null,
   "metadata": {},
   "outputs": [],
   "source": [
    "#App.R\n",
    "\n",
    "## SETUP\n",
    "\n",
    "library(shiny)\n",
    "library(leaflet)\n",
    "library(ggplot2)\n",
    "library(dplyr)\n",
    "library(tidyr)\n",
    "\n",
    "options(scipen=999)\n",
    "\n",
    "# Data Import\n",
    "\n",
    "meteorites <- read.csv('data/results/meteorites.csv')\n",
    "\n",
    "\n",
    "#UI\n",
    "\n",
    "ui <- fluidPage(\n",
    "    \n",
    "    titlePanel(\"Meteorite Data Analysis\"),\n",
    "    \n",
    "    fluidRow(\n",
    "        column(2, selectInput(dataset,\n",
    "                              \"Data\",\n",
    "                              c(\"All Meteorites\"))),\n",
    "        column(10,leafletOutput('map'))),\n",
    "                   \n",
    "    fluidRow(\n",
    "          tabsetPanel(\n",
    "              tabPanel(\"All Meteorites\",tableOutput(\"meteoritetable\"))))\n",
    "               )\n",
    "\n",
    "\n",
    "##SERVER\n",
    "server <- function(input, output, session) {\n",
    "\n",
    "    output$map <- renderLeaflet({\n",
    "        map <- leaflet() %>%\n",
    "            addTiles() %>%\n",
    "            addMarkers(data = points())    \n",
    "}) \n",
    "    \n",
    "        }   \n",
    "\n",
    "## Run App\n",
    "\n",
    "shinyApp(ui = ui, server = server)"
   ]
  },
  {
   "cell_type": "code",
   "execution_count": null,
   "metadata": {},
   "outputs": [],
   "source": [
    "#DEPLOY TO SHINY SERVER\n",
    "dir <- getwd() #This gets the current Working Directory\n",
    "course <- \"PSDS4900\" #This is to specify the course path for the shiny server\n",
    "folder <- \"dashboard\" #This specifies the folder name to copy\n",
    "\n",
    "system(sprintf(\"/usr/local/bin/shiny_deploy %s %s %s\", course, dir,folder), \n",
    "       intern = TRUE,\n",
    "       ignore.stdout = FALSE, \n",
    "       ignore.stderr = FALSE,\n",
    "       wait = TRUE, \n",
    "       input = NULL)"
   ]
  },
  {
   "cell_type": "code",
   "execution_count": null,
   "metadata": {},
   "outputs": [],
   "source": []
  }
 ],
 "metadata": {
  "kernelspec": {
   "display_name": "R",
   "language": "R",
   "name": "ir"
  },
  "language_info": {
   "codemirror_mode": "r",
   "file_extension": ".r",
   "mimetype": "text/x-r-source",
   "name": "R",
   "pygments_lexer": "r",
   "version": "4.0.4"
  }
 },
 "nbformat": 4,
 "nbformat_minor": 4
}
