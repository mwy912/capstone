{
 "cells": [
  {
   "cell_type": "code",
   "execution_count": 35,
   "metadata": {},
   "outputs": [
    {
     "name": "stderr",
     "output_type": "stream",
     "text": [
      "/usr/local/lib64/python3.6/site-packages/sklearn/utils/deprecation.py:144: FutureWarning: The sklearn.datasets.samples_generator module is  deprecated in version 0.22 and will be removed in version 0.24. The corresponding classes / functions should instead be imported from sklearn.datasets. Anything that cannot be imported from sklearn.datasets is now part of the private API.\n",
      "  warnings.warn(message, FutureWarning)\n"
     ]
    }
   ],
   "source": [
    "%matplotlib inline\n",
    "import numpy as np\n",
    "import matplotlib.pyplot as plt\n",
    "\n",
    "from sklearn.cluster import DBSCAN\n",
    "from sklearn import metrics\n",
    "from sklearn.datasets.samples_generator import make_blobs\n",
    "from sklearn.preprocessing import StandardScaler"
   ]
  },
  {
   "cell_type": "code",
   "execution_count": 36,
   "metadata": {},
   "outputs": [
    {
     "data": {
      "text/html": [
       "<div>\n",
       "<style scoped>\n",
       "    .dataframe tbody tr th:only-of-type {\n",
       "        vertical-align: middle;\n",
       "    }\n",
       "\n",
       "    .dataframe tbody tr th {\n",
       "        vertical-align: top;\n",
       "    }\n",
       "\n",
       "    .dataframe thead th {\n",
       "        text-align: right;\n",
       "    }\n",
       "</style>\n",
       "<table border=\"1\" class=\"dataframe\">\n",
       "  <thead>\n",
       "    <tr style=\"text-align: right;\">\n",
       "      <th></th>\n",
       "      <th>id</th>\n",
       "      <th>recclass</th>\n",
       "      <th>mass</th>\n",
       "      <th>fell_found</th>\n",
       "      <th>year</th>\n",
       "      <th>latitude</th>\n",
       "      <th>longitude</th>\n",
       "      <th>group</th>\n",
       "      <th>chondrite</th>\n",
       "      <th>type</th>\n",
       "      <th>lvl3</th>\n",
       "      <th>lvl4</th>\n",
       "      <th>lc_sample</th>\n",
       "      <th>weights</th>\n",
       "    </tr>\n",
       "  </thead>\n",
       "  <tbody>\n",
       "    <tr>\n",
       "      <th>1</th>\n",
       "      <td>1</td>\n",
       "      <td>L5</td>\n",
       "      <td>21.0</td>\n",
       "      <td>Fell</td>\n",
       "      <td>1880</td>\n",
       "      <td>50.77500</td>\n",
       "      <td>6.08333</td>\n",
       "      <td>L</td>\n",
       "      <td>Chondrite</td>\n",
       "      <td>Stony</td>\n",
       "      <td>Ordinary</td>\n",
       "      <td>L</td>\n",
       "      <td>11</td>\n",
       "      <td>0.000000</td>\n",
       "    </tr>\n",
       "    <tr>\n",
       "      <th>2</th>\n",
       "      <td>2</td>\n",
       "      <td>H6</td>\n",
       "      <td>720.0</td>\n",
       "      <td>Fell</td>\n",
       "      <td>1951</td>\n",
       "      <td>56.18333</td>\n",
       "      <td>10.23333</td>\n",
       "      <td>H</td>\n",
       "      <td>Chondrite</td>\n",
       "      <td>Stony</td>\n",
       "      <td>Ordinary</td>\n",
       "      <td>H</td>\n",
       "      <td>1</td>\n",
       "      <td>0.029498</td>\n",
       "    </tr>\n",
       "    <tr>\n",
       "      <th>3</th>\n",
       "      <td>4</td>\n",
       "      <td>H5</td>\n",
       "      <td>331.0</td>\n",
       "      <td>Found</td>\n",
       "      <td>1982</td>\n",
       "      <td>26.80000</td>\n",
       "      <td>-105.41667</td>\n",
       "      <td>H</td>\n",
       "      <td>Chondrite</td>\n",
       "      <td>Stony</td>\n",
       "      <td>Ordinary</td>\n",
       "      <td>H</td>\n",
       "      <td>2</td>\n",
       "      <td>0.064345</td>\n",
       "    </tr>\n",
       "    <tr>\n",
       "      <th>4</th>\n",
       "      <td>5</td>\n",
       "      <td>H3-6</td>\n",
       "      <td>21100.0</td>\n",
       "      <td>Found</td>\n",
       "      <td>1951</td>\n",
       "      <td>36.30000</td>\n",
       "      <td>-104.28333</td>\n",
       "      <td>H</td>\n",
       "      <td>Chondrite</td>\n",
       "      <td>Stony</td>\n",
       "      <td>Ordinary</td>\n",
       "      <td>H</td>\n",
       "      <td>13</td>\n",
       "      <td>0.016629</td>\n",
       "    </tr>\n",
       "    <tr>\n",
       "      <th>5</th>\n",
       "      <td>6</td>\n",
       "      <td>EH4</td>\n",
       "      <td>107000.0</td>\n",
       "      <td>Fell</td>\n",
       "      <td>1952</td>\n",
       "      <td>54.21667</td>\n",
       "      <td>-113.00000</td>\n",
       "      <td>EH</td>\n",
       "      <td>Chondrite</td>\n",
       "      <td>Stony</td>\n",
       "      <td>Enstatite</td>\n",
       "      <td>EH-EL</td>\n",
       "      <td>1</td>\n",
       "      <td>0.029498</td>\n",
       "    </tr>\n",
       "  </tbody>\n",
       "</table>\n",
       "</div>"
      ],
      "text/plain": [
       "   id recclass      mass fell_found  year  latitude  longitude group  \\\n",
       "1   1       L5      21.0       Fell  1880  50.77500    6.08333     L   \n",
       "2   2       H6     720.0       Fell  1951  56.18333   10.23333     H   \n",
       "3   4       H5     331.0      Found  1982  26.80000 -105.41667     H   \n",
       "4   5     H3-6   21100.0      Found  1951  36.30000 -104.28333     H   \n",
       "5   6      EH4  107000.0       Fell  1952  54.21667 -113.00000    EH   \n",
       "\n",
       "   chondrite   type       lvl3   lvl4  lc_sample   weights  \n",
       "1  Chondrite  Stony   Ordinary      L         11  0.000000  \n",
       "2  Chondrite  Stony   Ordinary      H          1  0.029498  \n",
       "3  Chondrite  Stony   Ordinary      H          2  0.064345  \n",
       "4  Chondrite  Stony   Ordinary      H         13  0.016629  \n",
       "5  Chondrite  Stony  Enstatite  EH-EL          1  0.029498  "
      ]
     },
     "execution_count": 36,
     "metadata": {},
     "output_type": "execute_result"
    }
   ],
   "source": [
    "meteorites = pd.read_csv(\"data/results/meteorites_unweighted.csv\", index_col=0)\n",
    "meteorites.head()"
   ]
  },
  {
   "cell_type": "code",
   "execution_count": 37,
   "metadata": {},
   "outputs": [],
   "source": [
    "meteorites = meteorites.drop(columns=[\"id\",\"recclass\", \"weights\", 'lvl3', 'lvl4'])"
   ]
  },
  {
   "cell_type": "code",
   "execution_count": 38,
   "metadata": {},
   "outputs": [
    {
     "data": {
      "text/html": [
       "<div>\n",
       "<style scoped>\n",
       "    .dataframe tbody tr th:only-of-type {\n",
       "        vertical-align: middle;\n",
       "    }\n",
       "\n",
       "    .dataframe tbody tr th {\n",
       "        vertical-align: top;\n",
       "    }\n",
       "\n",
       "    .dataframe thead th {\n",
       "        text-align: right;\n",
       "    }\n",
       "</style>\n",
       "<table border=\"1\" class=\"dataframe\">\n",
       "  <thead>\n",
       "    <tr style=\"text-align: right;\">\n",
       "      <th></th>\n",
       "      <th>mass</th>\n",
       "      <th>fell_found</th>\n",
       "      <th>year</th>\n",
       "      <th>latitude</th>\n",
       "      <th>longitude</th>\n",
       "      <th>group</th>\n",
       "      <th>chondrite</th>\n",
       "      <th>type</th>\n",
       "      <th>lc_sample</th>\n",
       "    </tr>\n",
       "  </thead>\n",
       "  <tbody>\n",
       "    <tr>\n",
       "      <th>1</th>\n",
       "      <td>21.0</td>\n",
       "      <td>Fell</td>\n",
       "      <td>1880</td>\n",
       "      <td>50.77500</td>\n",
       "      <td>6.08333</td>\n",
       "      <td>L</td>\n",
       "      <td>Chondrite</td>\n",
       "      <td>Stony</td>\n",
       "      <td>11</td>\n",
       "    </tr>\n",
       "    <tr>\n",
       "      <th>2</th>\n",
       "      <td>720.0</td>\n",
       "      <td>Fell</td>\n",
       "      <td>1951</td>\n",
       "      <td>56.18333</td>\n",
       "      <td>10.23333</td>\n",
       "      <td>H</td>\n",
       "      <td>Chondrite</td>\n",
       "      <td>Stony</td>\n",
       "      <td>1</td>\n",
       "    </tr>\n",
       "    <tr>\n",
       "      <th>3</th>\n",
       "      <td>331.0</td>\n",
       "      <td>Found</td>\n",
       "      <td>1982</td>\n",
       "      <td>26.80000</td>\n",
       "      <td>-105.41667</td>\n",
       "      <td>H</td>\n",
       "      <td>Chondrite</td>\n",
       "      <td>Stony</td>\n",
       "      <td>2</td>\n",
       "    </tr>\n",
       "    <tr>\n",
       "      <th>4</th>\n",
       "      <td>21100.0</td>\n",
       "      <td>Found</td>\n",
       "      <td>1951</td>\n",
       "      <td>36.30000</td>\n",
       "      <td>-104.28333</td>\n",
       "      <td>H</td>\n",
       "      <td>Chondrite</td>\n",
       "      <td>Stony</td>\n",
       "      <td>13</td>\n",
       "    </tr>\n",
       "    <tr>\n",
       "      <th>5</th>\n",
       "      <td>107000.0</td>\n",
       "      <td>Fell</td>\n",
       "      <td>1952</td>\n",
       "      <td>54.21667</td>\n",
       "      <td>-113.00000</td>\n",
       "      <td>EH</td>\n",
       "      <td>Chondrite</td>\n",
       "      <td>Stony</td>\n",
       "      <td>1</td>\n",
       "    </tr>\n",
       "  </tbody>\n",
       "</table>\n",
       "</div>"
      ],
      "text/plain": [
       "       mass fell_found  year  latitude  longitude group  chondrite   type  \\\n",
       "1      21.0       Fell  1880  50.77500    6.08333     L  Chondrite  Stony   \n",
       "2     720.0       Fell  1951  56.18333   10.23333     H  Chondrite  Stony   \n",
       "3     331.0      Found  1982  26.80000 -105.41667     H  Chondrite  Stony   \n",
       "4   21100.0      Found  1951  36.30000 -104.28333     H  Chondrite  Stony   \n",
       "5  107000.0       Fell  1952  54.21667 -113.00000    EH  Chondrite  Stony   \n",
       "\n",
       "   lc_sample  \n",
       "1         11  \n",
       "2          1  \n",
       "3          2  \n",
       "4         13  \n",
       "5          1  "
      ]
     },
     "execution_count": 38,
     "metadata": {},
     "output_type": "execute_result"
    }
   ],
   "source": [
    "meteorites.head()"
   ]
  },
  {
   "cell_type": "code",
   "execution_count": 33,
   "metadata": {},
   "outputs": [],
   "source": [
    "#create dummy variables\n",
    "\n",
    "meteorite_dummy = pd.get_dummies(meteorites)"
   ]
  },
  {
   "cell_type": "code",
   "execution_count": 40,
   "metadata": {},
   "outputs": [
    {
     "data": {
      "text/plain": [
       "DBSCAN(algorithm='auto', eps=0.3, leaf_size=30, metric='euclidean',\n",
       "       metric_params=None, min_samples=10, n_jobs=None, p=None)"
      ]
     },
     "execution_count": 40,
     "metadata": {},
     "output_type": "execute_result"
    }
   ],
   "source": [
    "Data = StandardScaler().fit_transform(meteorite_dummy)\n",
    "\n",
    "db = DBSCAN(eps = .3, min_samples = 10).fit(Data)\n",
    "db"
   ]
  },
  {
   "cell_type": "code",
   "execution_count": 43,
   "metadata": {},
   "outputs": [
    {
     "data": {
      "text/plain": [
       "array([False, False, False, False, False, False, False, False, False])"
      ]
     },
     "execution_count": 43,
     "metadata": {},
     "output_type": "execute_result"
    }
   ],
   "source": [
    "core_samples_mask = np.zeros_like(db.labels_, dtype=bool)\n",
    "core_samples_mask[1:10]"
   ]
  },
  {
   "cell_type": "code",
   "execution_count": 44,
   "metadata": {},
   "outputs": [
    {
     "data": {
      "text/plain": [
       "array([ 5,  7,  9, 10, 11, 12, 13, 14, 15, 16, 17, 18, 19, 20, 21, 22, 23,\n",
       "       24, 25])"
      ]
     },
     "execution_count": 44,
     "metadata": {},
     "output_type": "execute_result"
    }
   ],
   "source": [
    "db.core_sample_indices_[1:20]"
   ]
  },
  {
   "cell_type": "code",
   "execution_count": 45,
   "metadata": {},
   "outputs": [
    {
     "data": {
      "text/plain": [
       "array([False, False,  True, False,  True, False,  True, False,  True])"
      ]
     },
     "execution_count": 45,
     "metadata": {},
     "output_type": "execute_result"
    }
   ],
   "source": [
    "core_samples_mask[db.core_sample_indices_] = True\n",
    "core_samples_mask[1:10]"
   ]
  },
  {
   "cell_type": "code",
   "execution_count": 46,
   "metadata": {},
   "outputs": [],
   "source": [
    "labels = db.labels_"
   ]
  },
  {
   "cell_type": "code",
   "execution_count": 47,
   "metadata": {},
   "outputs": [
    {
     "name": "stdout",
     "output_type": "stream",
     "text": [
      "Estimated number of clusters: 42\n"
     ]
    }
   ],
   "source": [
    "n_clusters_ = len(set(labels)) - (1 if -1 in labels else 0)\n",
    "print('Estimated number of clusters: %d' % n_clusters_)"
   ]
  },
  {
   "cell_type": "code",
   "execution_count": 49,
   "metadata": {},
   "outputs": [
    {
     "name": "stdout",
     "output_type": "stream",
     "text": [
      "Silhouette Coefficient: 0.462\n"
     ]
    }
   ],
   "source": [
    "print(\"Silhouette Coefficient: %0.3f\" % metrics.silhouette_score(Data, labels))"
   ]
  },
  {
   "cell_type": "code",
   "execution_count": 50,
   "metadata": {},
   "outputs": [],
   "source": [
    "unique_labels = set(labels)\n",
    "colors = plt.cm.Spectral(np.linspace(0, 1, len(unique_labels)))"
   ]
  },
  {
   "cell_type": "code",
   "execution_count": 51,
   "metadata": {},
   "outputs": [
    {
     "data": {
      "text/plain": [
       "[(0, array([0.61960784, 0.00392157, 0.25882353, 1.        ])),\n",
       " (1, array([0.67035755, 0.06020761, 0.27081892, 1.        ])),\n",
       " (2, array([0.72110727, 0.11649366, 0.2828143 , 1.        ])),\n",
       " (3, array([0.77185698, 0.1727797 , 0.29480969, 1.        ])),\n",
       " (4, array([0.82260669, 0.22906574, 0.30680507, 1.        ])),\n",
       " (5, array([0.8567474 , 0.27566321, 0.30149942, 1.        ])),\n",
       " (6, array([0.88535179, 0.31903114, 0.29042676, 1.        ])),\n",
       " (7, array([0.91395617, 0.36239908, 0.27935409, 1.        ])),\n",
       " (8, array([0.94256055, 0.40576701, 0.26828143, 1.        ])),\n",
       " (9, array([0.96101499, 0.45743945, 0.27658593, 1.        ])),\n",
       " (10, array([0.96931949, 0.51741638, 0.30426759, 1.        ])),\n",
       " (11, array([0.97900807, 0.58738947, 0.33656286, 1.        ])),\n",
       " (12, array([0.98731257, 0.6473664 , 0.36424452, 1.        ])),\n",
       " (13, array([0.99254133, 0.70157632, 0.39653979, 1.        ])),\n",
       " (14, array([0.99346405, 0.74771242, 0.43529412, 1.        ])),\n",
       " (15, array([0.99438677, 0.79384852, 0.47404844, 1.        ])),\n",
       " (16, array([0.9953095 , 0.83998462, 0.51280277, 1.        ])),\n",
       " (17, array([0.99623222, 0.88319877, 0.55309496, 1.        ])),\n",
       " (18, array([0.99715494, 0.91180315, 0.60107651, 1.        ])),\n",
       " (19, array([0.99807766, 0.94040754, 0.64905805, 1.        ])),\n",
       " (20, array([0.99900038, 0.96901192, 0.6970396 , 1.        ])),\n",
       " (21, array([0.99807766, 0.99923106, 0.74602076, 1.        ])),\n",
       " (22, array([0.97500961, 0.99000384, 0.7100346 , 1.        ])),\n",
       " (23, array([0.95194156, 0.98077662, 0.67404844, 1.        ])),\n",
       " (24, array([0.92887351, 0.9715494 , 0.63806228, 1.        ])),\n",
       " (25, array([0.90580546, 0.96232218, 0.60207612, 1.        ])),\n",
       " (26, array([0.85659362, 0.94232987, 0.60530565, 1.        ])),\n",
       " (27, array([0.80215302, 0.92018454, 0.61637832, 1.        ])),\n",
       " (28, array([0.74771242, 0.89803922, 0.62745098, 1.        ])),\n",
       " (29, array([0.69327182, 0.87589389, 0.63852364, 1.        ])),\n",
       " (30, array([0.63344867, 0.85213379, 0.64367551, 1.        ])),\n",
       " (31, array([0.56978085, 0.8272203 , 0.64459823, 1.        ])),\n",
       " (32, array([0.49550173, 0.79815456, 0.64567474, 1.        ])),\n",
       " (33, array([0.43183391, 0.77324106, 0.64659746, 1.        ])),\n",
       " (34, array([0.37600923, 0.73402537, 0.65813149, 1.        ])),\n",
       " (35, array([0.32802768, 0.6805075 , 0.68027682, 1.        ])),\n",
       " (36, array([0.28004614, 0.62698962, 0.70242215, 1.        ])),\n",
       " (37, array([0.23206459, 0.57347174, 0.72456747, 1.        ])),\n",
       " (38, array([0.20622837, 0.52018454, 0.7349481 , 1.        ])),\n",
       " (39, array([0.24682814, 0.46758939, 0.7100346 , 1.        ])),\n",
       " (40, array([0.28742791, 0.41499423, 0.68512111, 1.        ])),\n",
       " (41, array([0.32802768, 0.36239908, 0.66020761, 1.        ])),\n",
       " (-1, array([0.36862745, 0.30980392, 0.63529412, 1.        ]))]"
      ]
     },
     "execution_count": 51,
     "metadata": {},
     "output_type": "execute_result"
    }
   ],
   "source": [
    "indexes= zip(unique_labels, colors )\n",
    "list(indexes)"
   ]
  },
  {
   "cell_type": "code",
   "execution_count": 52,
   "metadata": {},
   "outputs": [
    {
     "data": {
      "image/png": "[encoded data removed]",
      "text/plain": [
       "<Figure size 432x288 with 1 Axes>"
      ]
     },
     "metadata": {
      "needs_background": "light"
     },
     "output_type": "display_data"
    }
   ],
   "source": [
    "import matplotlib.pyplot as plt\n",
    "colors=['red','yellow','orange','black']\n",
    "for k, col in zip(unique_labels, colors):\n",
    "    if k == -1:\n",
    "        # Black used for noise.\n",
    "        col = 'black'\n",
    "\n",
    "    class_member_mask = (labels == k)\n",
    "\n",
    "    match = Data[class_member_mask & core_samples_mask]\n",
    "    plt.plot(match[:, 0], match[:, 1], 'o', markerfacecolor=col, markeredgecolor='k', markersize=14)\n",
    "\n",
    "    nomatch = Data[class_member_mask & ~core_samples_mask]\n",
    "    plt.plot(nomatch[:, 0], nomatch[:, 1], 'o', markerfacecolor=col, markeredgecolor='k', markersize=6)\n",
    "\n",
    "plt.title('Estimated number of clusters: %d' % n_clusters_)\n",
    "plt.show()"
   ]
  },
  {
   "cell_type": "code",
   "execution_count": 53,
   "metadata": {},
   "outputs": [],
   "source": [
    "# DBScan Clustering didn't give much information of use."
   ]
  },
  {
   "cell_type": "code",
   "execution_count": null,
   "metadata": {},
   "outputs": [],
   "source": []
  }
 ],
 "metadata": {
  "kernelspec": {
   "display_name": "Python 3",
   "language": "python",
   "name": "python3"
  },
  "language_info": {
   "codemirror_mode": {
    "name": "ipython",
    "version": 3
   },
   "file_extension": ".py",
   "mimetype": "text/x-python",
   "name": "python",
   "nbconvert_exporter": "python",
   "pygments_lexer": "ipython3",
   "version": "3.6.8"
  }
 },
 "nbformat": 4,
 "nbformat_minor": 4
}
