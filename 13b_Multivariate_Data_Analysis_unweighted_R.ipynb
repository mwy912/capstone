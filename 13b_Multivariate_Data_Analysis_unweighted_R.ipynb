{
 "cells": [
  {
   "cell_type": "code",
   "execution_count": 1,
   "metadata": {},
   "outputs": [
    {
     "data": {
      "text/html": [
       "<table>\n",
       "<thead><tr><th scope=col>recclass</th><th scope=col>mass</th><th scope=col>fell_found</th><th scope=col>latitude</th><th scope=col>longitude</th><th scope=col>group</th><th scope=col>chondrite</th><th scope=col>type</th><th scope=col>lvl3</th><th scope=col>lvl4</th><th scope=col>lc_sample</th><th scope=col>weights</th></tr></thead>\n",
       "<tbody>\n",
       "\t<tr><td>L5        </td><td>    21    </td><td>Fell      </td><td>50.77500  </td><td>   6.08333</td><td>L         </td><td>Chondrite </td><td>Stony     </td><td>Ordinary  </td><td>L         </td><td>11        </td><td>0.00000000</td></tr>\n",
       "\t<tr><td>H6        </td><td>   720    </td><td>Fell      </td><td>56.18333  </td><td>  10.23333</td><td>H         </td><td>Chondrite </td><td>Stony     </td><td>Ordinary  </td><td>H         </td><td> 1        </td><td>0.02949758</td></tr>\n",
       "\t<tr><td>H5        </td><td>   331    </td><td>Found     </td><td>26.80000  </td><td>-105.41667</td><td>H         </td><td>Chondrite </td><td>Stony     </td><td>Ordinary  </td><td>H         </td><td> 2        </td><td>0.06434506</td></tr>\n",
       "\t<tr><td>H3-6      </td><td> 21100    </td><td>Found     </td><td>36.30000  </td><td>-104.28333</td><td>H         </td><td>Chondrite </td><td>Stony     </td><td>Ordinary  </td><td>H         </td><td>13        </td><td>0.01662856</td></tr>\n",
       "\t<tr><td>EH4       </td><td>107000    </td><td>Fell      </td><td>54.21667  </td><td>-113.00000</td><td>EH        </td><td>Chondrite </td><td>Stony     </td><td>Enstatite </td><td>EH-EL     </td><td> 1        </td><td>0.02949758</td></tr>\n",
       "\t<tr><td>L6        </td><td>  2914    </td><td>Found     </td><td>33.85000  </td><td>-101.80000</td><td>L         </td><td>Chondrite </td><td>Stony     </td><td>Ordinary  </td><td>L         </td><td> 1        </td><td>0.02949758</td></tr>\n",
       "</tbody>\n",
       "</table>\n"
      ],
      "text/latex": [
       "\\begin{tabular}{r|llllllllllll}\n",
       " recclass & mass & fell\\_found & latitude & longitude & group & chondrite & type & lvl3 & lvl4 & lc\\_sample & weights\\\\\n",
       "\\hline\n",
       "\t L5         &     21     & Fell       & 50.77500   &    6.08333 & L          & Chondrite  & Stony      & Ordinary   & L          & 11         & 0.00000000\\\\\n",
       "\t H6         &    720     & Fell       & 56.18333   &   10.23333 & H          & Chondrite  & Stony      & Ordinary   & H          &  1         & 0.02949758\\\\\n",
       "\t H5         &    331     & Found      & 26.80000   & -105.41667 & H          & Chondrite  & Stony      & Ordinary   & H          &  2         & 0.06434506\\\\\n",
       "\t H3-6       &  21100     & Found      & 36.30000   & -104.28333 & H          & Chondrite  & Stony      & Ordinary   & H          & 13         & 0.01662856\\\\\n",
       "\t EH4        & 107000     & Fell       & 54.21667   & -113.00000 & EH         & Chondrite  & Stony      & Enstatite  & EH-EL      &  1         & 0.02949758\\\\\n",
       "\t L6         &   2914     & Found      & 33.85000   & -101.80000 & L          & Chondrite  & Stony      & Ordinary   & L          &  1         & 0.02949758\\\\\n",
       "\\end{tabular}\n"
      ],
      "text/markdown": [
       "\n",
       "recclass | mass | fell_found | latitude | longitude | group | chondrite | type | lvl3 | lvl4 | lc_sample | weights | \n",
       "|---|---|---|---|---|---|\n",
       "| L5         |     21     | Fell       | 50.77500   |    6.08333 | L          | Chondrite  | Stony      | Ordinary   | L          | 11         | 0.00000000 | \n",
       "| H6         |    720     | Fell       | 56.18333   |   10.23333 | H          | Chondrite  | Stony      | Ordinary   | H          |  1         | 0.02949758 | \n",
       "| H5         |    331     | Found      | 26.80000   | -105.41667 | H          | Chondrite  | Stony      | Ordinary   | H          |  2         | 0.06434506 | \n",
       "| H3-6       |  21100     | Found      | 36.30000   | -104.28333 | H          | Chondrite  | Stony      | Ordinary   | H          | 13         | 0.01662856 | \n",
       "| EH4        | 107000     | Fell       | 54.21667   | -113.00000 | EH         | Chondrite  | Stony      | Enstatite  | EH-EL      |  1         | 0.02949758 | \n",
       "| L6         |   2914     | Found      | 33.85000   | -101.80000 | L          | Chondrite  | Stony      | Ordinary   | L          |  1         | 0.02949758 | \n",
       "\n",
       "\n"
      ],
      "text/plain": [
       "  recclass mass   fell_found latitude longitude  group chondrite type \n",
       "1 L5           21 Fell       50.77500    6.08333 L     Chondrite Stony\n",
       "2 H6          720 Fell       56.18333   10.23333 H     Chondrite Stony\n",
       "3 H5          331 Found      26.80000 -105.41667 H     Chondrite Stony\n",
       "4 H3-6      21100 Found      36.30000 -104.28333 H     Chondrite Stony\n",
       "5 EH4      107000 Fell       54.21667 -113.00000 EH    Chondrite Stony\n",
       "6 L6         2914 Found      33.85000 -101.80000 L     Chondrite Stony\n",
       "  lvl3      lvl4  lc_sample weights   \n",
       "1 Ordinary  L     11        0.00000000\n",
       "2 Ordinary  H      1        0.02949758\n",
       "3 Ordinary  H      2        0.06434506\n",
       "4 Ordinary  H     13        0.01662856\n",
       "5 Enstatite EH-EL  1        0.02949758\n",
       "6 Ordinary  L      1        0.02949758"
      ]
     },
     "metadata": {},
     "output_type": "display_data"
    }
   ],
   "source": [
    "meteorites_unwtd <- read.csv(\"data/results/meteorites_unweighted.csv\")\n",
    "meteorites_unwtd <- subset(meteorites_unwtd, select = -c(X) )\n",
    "meteorites_unwtd <- subset(meteorites_unwtd, select = -c(id, year))\n",
    "head(meteorites_unwtd)"
   ]
  },
  {
   "cell_type": "code",
   "execution_count": 2,
   "metadata": {},
   "outputs": [
    {
     "ename": "ERROR",
     "evalue": "Error in library(fastDummies): there is no package called 'fastDummies'\n",
     "output_type": "error",
     "traceback": [
      "Error in library(fastDummies): there is no package called 'fastDummies'\nTraceback:\n",
      "1. library(fastDummies)",
      "2. stop(txt, domain = NA)"
     ]
    }
   ],
   "source": [
    "#dummy variables\n",
    "\n",
    "library(fastDummies)\n",
    "\n",
    "meteorites_unwtd <- dummy_cols(meteorites_unwtd, select_columns = c('fell_found', 'group', 'chondrite','type','lc_sample'))\n",
    "meteorites_unwtd <- subset(meteorites_unwtd, select = -c(fell_found, group, chondrite,type,lc_sample, recclass, chondrite, type, fell_found, lvl3, lvl4, weights) )\n",
    "\n",
    "str(meteorites_unwtd)\n",
    "\n",
    "\n",
    "\n",
    "\n"
   ]
  },
  {
   "cell_type": "code",
   "execution_count": 62,
   "metadata": {},
   "outputs": [
    {
     "data": {
      "text/html": [
       "6959"
      ],
      "text/latex": [
       "6959"
      ],
      "text/markdown": [
       "6959"
      ],
      "text/plain": [
       "[1] 6959"
      ]
     },
     "metadata": {},
     "output_type": "display_data"
    },
    {
     "data": {
      "text/html": [
       "2938"
      ],
      "text/latex": [
       "2938"
      ],
      "text/markdown": [
       "2938"
      ],
      "text/plain": [
       "[1] 2938"
      ]
     },
     "metadata": {},
     "output_type": "display_data"
    }
   ],
   "source": [
    "#Dimensionality Reduction....\n",
    "\n",
    "#Split into Train and Test\n",
    "\n",
    "library(caTools)\n",
    "\n",
    "set.seed(1234)\n",
    "\n",
    "split = sample.split(meteorites_unwtd$mass, SplitRatio = 0.7)\n",
    "\n",
    "meteorite_train_data = subset(meteorites_unwtd, split == TRUE)\n",
    "meteorite_test_data = subset(meteorites_unwtd, split == FALSE)\n",
    "\n",
    "nrow(meteorite_train_data)\n",
    "nrow(meteorite_test_data)"
   ]
  },
  {
   "cell_type": "code",
   "execution_count": 63,
   "metadata": {},
   "outputs": [
    {
     "data": {
      "text/html": [
       "<table class=\"dataframe\">\n",
       "<caption>A data.frame: 6 × 76</caption>\n",
       "<thead>\n",
       "\t<tr><th></th><th scope=col>mass</th><th scope=col>latitude</th><th scope=col>longitude</th><th scope=col>fell_found_Fell</th><th scope=col>fell_found_Found</th><th scope=col>group_Acapulcoite</th><th scope=col>group_Achondrite</th><th scope=col>group_Angrite</th><th scope=col>group_Aubrite</th><th scope=col>group_Brachinite</th><th scope=col>⋯</th><th scope=col>lc_sample_8</th><th scope=col>lc_sample_9</th><th scope=col>lc_sample_10</th><th scope=col>lc_sample_12</th><th scope=col>lc_sample_13</th><th scope=col>lc_sample_14</th><th scope=col>lc_sample_15</th><th scope=col>lc_sample_16</th><th scope=col>lc_sample_17</th><th scope=col>lc_sample_18</th></tr>\n",
       "\t<tr><th></th><th scope=col>&lt;dbl&gt;</th><th scope=col>&lt;dbl&gt;</th><th scope=col>&lt;dbl&gt;</th><th scope=col>&lt;int&gt;</th><th scope=col>&lt;int&gt;</th><th scope=col>&lt;int&gt;</th><th scope=col>&lt;int&gt;</th><th scope=col>&lt;int&gt;</th><th scope=col>&lt;int&gt;</th><th scope=col>&lt;int&gt;</th><th scope=col>⋯</th><th scope=col>&lt;int&gt;</th><th scope=col>&lt;int&gt;</th><th scope=col>&lt;int&gt;</th><th scope=col>&lt;int&gt;</th><th scope=col>&lt;int&gt;</th><th scope=col>&lt;int&gt;</th><th scope=col>&lt;int&gt;</th><th scope=col>&lt;int&gt;</th><th scope=col>&lt;int&gt;</th><th scope=col>&lt;int&gt;</th></tr>\n",
       "</thead>\n",
       "<tbody>\n",
       "\t<tr><th scope=row>1</th><td>  334.0</td><td>-13.01667</td><td>  34.20000</td><td>0</td><td>1</td><td>0</td><td>0</td><td>0</td><td>0</td><td>0</td><td>⋯</td><td>0</td><td>0</td><td>0</td><td>0</td><td>0</td><td>0</td><td>0</td><td>0</td><td>0</td><td>0</td></tr>\n",
       "\t<tr><th scope=row>3</th><td> 7000.0</td><td> 47.75000</td><td>  16.23333</td><td>1</td><td>0</td><td>0</td><td>0</td><td>0</td><td>0</td><td>0</td><td>⋯</td><td>0</td><td>0</td><td>0</td><td>0</td><td>0</td><td>0</td><td>0</td><td>0</td><td>0</td><td>0</td></tr>\n",
       "\t<tr><th scope=row>4</th><td> 9600.0</td><td>-35.98333</td><td> 145.58333</td><td>0</td><td>1</td><td>0</td><td>0</td><td>0</td><td>0</td><td>0</td><td>⋯</td><td>0</td><td>0</td><td>0</td><td>0</td><td>0</td><td>0</td><td>0</td><td>0</td><td>0</td><td>0</td></tr>\n",
       "\t<tr><th scope=row>5</th><td>25000.0</td><td> 54.13667</td><td>  -0.41333</td><td>1</td><td>0</td><td>0</td><td>0</td><td>0</td><td>0</td><td>0</td><td>⋯</td><td>0</td><td>0</td><td>0</td><td>0</td><td>0</td><td>0</td><td>0</td><td>0</td><td>0</td><td>0</td></tr>\n",
       "\t<tr><th scope=row>7</th><td>   71.1</td><td> 34.08333</td><td>-103.50000</td><td>0</td><td>1</td><td>0</td><td>0</td><td>0</td><td>0</td><td>0</td><td>⋯</td><td>0</td><td>0</td><td>0</td><td>0</td><td>0</td><td>0</td><td>0</td><td>0</td><td>0</td><td>0</td></tr>\n",
       "\t<tr><th scope=row>8</th><td>  695.0</td><td> 34.71667</td><td> 137.78333</td><td>1</td><td>0</td><td>0</td><td>0</td><td>0</td><td>0</td><td>0</td><td>⋯</td><td>0</td><td>0</td><td>0</td><td>0</td><td>0</td><td>0</td><td>0</td><td>0</td><td>0</td><td>0</td></tr>\n",
       "</tbody>\n",
       "</table>\n"
      ],
      "text/latex": [
       "A data.frame: 6 × 76\n",
       "\\begin{tabular}{r|lllllllllllllllllllll}\n",
       "  & mass & latitude & longitude & fell\\_found\\_Fell & fell\\_found\\_Found & group\\_Acapulcoite & group\\_Achondrite & group\\_Angrite & group\\_Aubrite & group\\_Brachinite & ⋯ & lc\\_sample\\_8 & lc\\_sample\\_9 & lc\\_sample\\_10 & lc\\_sample\\_12 & lc\\_sample\\_13 & lc\\_sample\\_14 & lc\\_sample\\_15 & lc\\_sample\\_16 & lc\\_sample\\_17 & lc\\_sample\\_18\\\\\n",
       "  & <dbl> & <dbl> & <dbl> & <int> & <int> & <int> & <int> & <int> & <int> & <int> & ⋯ & <int> & <int> & <int> & <int> & <int> & <int> & <int> & <int> & <int> & <int>\\\\\n",
       "\\hline\n",
       "\t1 &   334.0 & -13.01667 &   34.20000 & 0 & 1 & 0 & 0 & 0 & 0 & 0 & ⋯ & 0 & 0 & 0 & 0 & 0 & 0 & 0 & 0 & 0 & 0\\\\\n",
       "\t3 &  7000.0 &  47.75000 &   16.23333 & 1 & 0 & 0 & 0 & 0 & 0 & 0 & ⋯ & 0 & 0 & 0 & 0 & 0 & 0 & 0 & 0 & 0 & 0\\\\\n",
       "\t4 &  9600.0 & -35.98333 &  145.58333 & 0 & 1 & 0 & 0 & 0 & 0 & 0 & ⋯ & 0 & 0 & 0 & 0 & 0 & 0 & 0 & 0 & 0 & 0\\\\\n",
       "\t5 & 25000.0 &  54.13667 &   -0.41333 & 1 & 0 & 0 & 0 & 0 & 0 & 0 & ⋯ & 0 & 0 & 0 & 0 & 0 & 0 & 0 & 0 & 0 & 0\\\\\n",
       "\t7 &    71.1 &  34.08333 & -103.50000 & 0 & 1 & 0 & 0 & 0 & 0 & 0 & ⋯ & 0 & 0 & 0 & 0 & 0 & 0 & 0 & 0 & 0 & 0\\\\\n",
       "\t8 &   695.0 &  34.71667 &  137.78333 & 1 & 0 & 0 & 0 & 0 & 0 & 0 & ⋯ & 0 & 0 & 0 & 0 & 0 & 0 & 0 & 0 & 0 & 0\\\\\n",
       "\\end{tabular}\n"
      ],
      "text/markdown": [
       "\n",
       "A data.frame: 6 × 76\n",
       "\n",
       "| <!--/--> | mass &lt;dbl&gt; | latitude &lt;dbl&gt; | longitude &lt;dbl&gt; | fell_found_Fell &lt;int&gt; | fell_found_Found &lt;int&gt; | group_Acapulcoite &lt;int&gt; | group_Achondrite &lt;int&gt; | group_Angrite &lt;int&gt; | group_Aubrite &lt;int&gt; | group_Brachinite &lt;int&gt; | ⋯ ⋯ | lc_sample_8 &lt;int&gt; | lc_sample_9 &lt;int&gt; | lc_sample_10 &lt;int&gt; | lc_sample_12 &lt;int&gt; | lc_sample_13 &lt;int&gt; | lc_sample_14 &lt;int&gt; | lc_sample_15 &lt;int&gt; | lc_sample_16 &lt;int&gt; | lc_sample_17 &lt;int&gt; | lc_sample_18 &lt;int&gt; |\n",
       "|---|---|---|---|---|---|---|---|---|---|---|---|---|---|---|---|---|---|---|---|---|---|\n",
       "| 1 |   334.0 | -13.01667 |   34.20000 | 0 | 1 | 0 | 0 | 0 | 0 | 0 | ⋯ | 0 | 0 | 0 | 0 | 0 | 0 | 0 | 0 | 0 | 0 |\n",
       "| 3 |  7000.0 |  47.75000 |   16.23333 | 1 | 0 | 0 | 0 | 0 | 0 | 0 | ⋯ | 0 | 0 | 0 | 0 | 0 | 0 | 0 | 0 | 0 | 0 |\n",
       "| 4 |  9600.0 | -35.98333 |  145.58333 | 0 | 1 | 0 | 0 | 0 | 0 | 0 | ⋯ | 0 | 0 | 0 | 0 | 0 | 0 | 0 | 0 | 0 | 0 |\n",
       "| 5 | 25000.0 |  54.13667 |   -0.41333 | 1 | 0 | 0 | 0 | 0 | 0 | 0 | ⋯ | 0 | 0 | 0 | 0 | 0 | 0 | 0 | 0 | 0 | 0 |\n",
       "| 7 |    71.1 |  34.08333 | -103.50000 | 0 | 1 | 0 | 0 | 0 | 0 | 0 | ⋯ | 0 | 0 | 0 | 0 | 0 | 0 | 0 | 0 | 0 | 0 |\n",
       "| 8 |   695.0 |  34.71667 |  137.78333 | 1 | 0 | 0 | 0 | 0 | 0 | 0 | ⋯ | 0 | 0 | 0 | 0 | 0 | 0 | 0 | 0 | 0 | 0 |\n",
       "\n"
      ],
      "text/plain": [
       "  mass    latitude  longitude  fell_found_Fell fell_found_Found\n",
       "1   334.0 -13.01667   34.20000 0               1               \n",
       "3  7000.0  47.75000   16.23333 1               0               \n",
       "4  9600.0 -35.98333  145.58333 0               1               \n",
       "5 25000.0  54.13667   -0.41333 1               0               \n",
       "7    71.1  34.08333 -103.50000 0               1               \n",
       "8   695.0  34.71667  137.78333 1               0               \n",
       "  group_Acapulcoite group_Achondrite group_Angrite group_Aubrite\n",
       "1 0                 0                0             0            \n",
       "3 0                 0                0             0            \n",
       "4 0                 0                0             0            \n",
       "5 0                 0                0             0            \n",
       "7 0                 0                0             0            \n",
       "8 0                 0                0             0            \n",
       "  group_Brachinite ⋯ lc_sample_8 lc_sample_9 lc_sample_10 lc_sample_12\n",
       "1 0                ⋯ 0           0           0            0           \n",
       "3 0                ⋯ 0           0           0            0           \n",
       "4 0                ⋯ 0           0           0            0           \n",
       "5 0                ⋯ 0           0           0            0           \n",
       "7 0                ⋯ 0           0           0            0           \n",
       "8 0                ⋯ 0           0           0            0           \n",
       "  lc_sample_13 lc_sample_14 lc_sample_15 lc_sample_16 lc_sample_17 lc_sample_18\n",
       "1 0            0            0            0            0            0           \n",
       "3 0            0            0            0            0            0           \n",
       "4 0            0            0            0            0            0           \n",
       "5 0            0            0            0            0            0           \n",
       "7 0            0            0            0            0            0           \n",
       "8 0            0            0            0            0            0           "
      ]
     },
     "metadata": {},
     "output_type": "display_data"
    },
    {
     "data": {
      "text/plain": [
       "      mass             latitude        longitude       fell_found_Fell \n",
       " Min.   :       0   Min.   :-57.79   Min.   :-163.17   Min.   :0.0000  \n",
       " 1st Qu.:     367   1st Qu.: 11.98   1st Qu.: -97.37   1st Qu.:0.0000  \n",
       " Median :    2270   Median : 33.12   Median :  12.22   Median :0.0000  \n",
       " Mean   :   91640   Mean   : 22.55   Mean   :   3.50   Mean   :0.3933  \n",
       " 3rd Qu.:   10820   3rd Qu.: 41.77   3rd Qu.:  79.75   3rd Qu.:1.0000  \n",
       " Max.   :60000000   Max.   : 66.35   Max.   : 178.08   Max.   :1.0000  \n",
       "                                                                       \n",
       " fell_found_Found group_Acapulcoite  group_Achondrite    group_Angrite      \n",
       " Min.   :0.0000   Min.   :0.000000   Min.   :0.0000000   Min.   :0.0000000  \n",
       " 1st Qu.:0.0000   1st Qu.:0.000000   1st Qu.:0.0000000   1st Qu.:0.0000000  \n",
       " Median :1.0000   Median :0.000000   Median :0.0000000   Median :0.0000000  \n",
       " Mean   :0.6067   Mean   :0.005892   Mean   :0.0004311   Mean   :0.0008622  \n",
       " 3rd Qu.:1.0000   3rd Qu.:0.000000   3rd Qu.:0.0000000   3rd Qu.:0.0000000  \n",
       " Max.   :1.0000   Max.   :1.000000   Max.   :1.0000000   Max.   :1.0000000  \n",
       "                                                                            \n",
       " group_Aubrite      group_Brachinite       group_CB         group_Chondrite  \n",
       " Min.   :0.000000   Min.   :0.0000000   Min.   :0.0000000   Min.   :0.00000  \n",
       " 1st Qu.:0.000000   1st Qu.:0.0000000   1st Qu.:0.0000000   1st Qu.:0.00000  \n",
       " Median :0.000000   Median :0.0000000   Median :0.0000000   Median :0.00000  \n",
       " Mean   :0.002299   Mean   :0.0001437   Mean   :0.0007185   Mean   :0.02802  \n",
       " 3rd Qu.:0.000000   3rd Qu.:0.0000000   3rd Qu.:0.0000000   3rd Qu.:0.00000  \n",
       " Max.   :1.000000   Max.   :1.0000000   Max.   :1.0000000   Max.   :1.00000  \n",
       "                                                                             \n",
       "    group_CI            group_CK           group_CM           group_CO        \n",
       " Min.   :0.0000000   Min.   :0.000000   Min.   :0.000000   Min.   :0.0000000  \n",
       " 1st Qu.:0.0000000   1st Qu.:0.000000   1st Qu.:0.000000   1st Qu.:0.0000000  \n",
       " Median :0.0000000   Median :0.000000   Median :0.000000   Median :0.0000000  \n",
       " Mean   :0.0005748   Mean   :0.001006   Mean   :0.008191   Mean   :0.0004311  \n",
       " 3rd Qu.:0.0000000   3rd Qu.:0.000000   3rd Qu.:0.000000   3rd Qu.:0.0000000  \n",
       " Max.   :1.0000000   Max.   :1.000000   Max.   :1.000000   Max.   :1.0000000  \n",
       "                                                                              \n",
       "    group_CR            group_CV        group_Diogenite   \n",
       " Min.   :0.0000000   Min.   :0.000000   Min.   :0.000000  \n",
       " 1st Qu.:0.0000000   1st Qu.:0.000000   1st Qu.:0.000000  \n",
       " Median :0.0000000   Median :0.000000   Median :0.000000  \n",
       " Mean   :0.0007185   Mean   :0.006754   Mean   :0.001006  \n",
       " 3rd Qu.:0.0000000   3rd Qu.:0.000000   3rd Qu.:0.000000  \n",
       " Max.   :1.0000000   Max.   :1.000000   Max.   :1.000000  \n",
       "                                                          \n",
       " group_Eagle Station Group    group_EH          group_EL       \n",
       " Min.   :0.000000          Min.   :0.00000   Min.   :0.000000  \n",
       " 1st Qu.:0.000000          1st Qu.:0.00000   1st Qu.:0.000000  \n",
       " Median :0.000000          Median :0.00000   Median :0.000000  \n",
       " Mean   :0.005173          Mean   :0.00661   Mean   :0.001581  \n",
       " 3rd Qu.:0.000000          3rd Qu.:0.00000   3rd Qu.:0.000000  \n",
       " Max.   :1.000000          Max.   :1.00000   Max.   :1.000000  \n",
       "                                                               \n",
       " group_Eucrite         group_H       group_H,L, or LL    group_Howardite  \n",
       " Min.   :0.000000   Min.   :0.0000   Min.   :0.0000000   Min.   :0.00000  \n",
       " 1st Qu.:0.000000   1st Qu.:0.0000   1st Qu.:0.0000000   1st Qu.:0.00000  \n",
       " Median :0.000000   Median :0.0000   Median :0.0000000   Median :0.00000  \n",
       " Mean   :0.005173   Mean   :0.3209   Mean   :0.0001437   Mean   :0.00273  \n",
       " 3rd Qu.:0.000000   3rd Qu.:1.0000   3rd Qu.:0.0000000   3rd Qu.:0.00000  \n",
       " Max.   :1.000000   Max.   :1.0000   Max.   :1.0000000   Max.   :1.00000  \n",
       "                                                                          \n",
       "   group_Iron      group_Iron IAB    group_Iron IC      group_Iron IIAB  \n",
       " Min.   :0.00000   Min.   :0.00000   Min.   :0.000000   Min.   :0.00000  \n",
       " 1st Qu.:0.00000   1st Qu.:0.00000   1st Qu.:0.000000   1st Qu.:0.00000  \n",
       " Median :0.00000   Median :0.00000   Median :0.000000   Median :0.00000  \n",
       " Mean   :0.06193   Mean   :0.05144   Mean   :0.001724   Mean   :0.02256  \n",
       " 3rd Qu.:0.00000   3rd Qu.:0.00000   3rd Qu.:0.000000   3rd Qu.:0.00000  \n",
       " Max.   :1.00000   Max.   :1.00000   Max.   :1.000000   Max.   :1.00000  \n",
       "                                                                         \n",
       " group_Iron IIC     group_Iron IID     group_Iron IIE    group_Iron IIF     \n",
       " Min.   :0.000000   Min.   :0.000000   Min.   :0.00000   Min.   :0.0000000  \n",
       " 1st Qu.:0.000000   1st Qu.:0.000000   1st Qu.:0.00000   1st Qu.:0.0000000  \n",
       " Median :0.000000   Median :0.000000   Median :0.00000   Median :0.0000000  \n",
       " Mean   :0.001437   Mean   :0.002299   Mean   :0.01221   Mean   :0.0007185  \n",
       " 3rd Qu.:0.000000   3rd Qu.:0.000000   3rd Qu.:0.00000   3rd Qu.:0.0000000  \n",
       " Max.   :1.000000   Max.   :1.000000   Max.   :1.00000   Max.   :1.0000000  \n",
       "                                                                            \n",
       " group_Iron IIG     group_Iron IIIAB  group_Iron IIIE    group_Iron IIIF    \n",
       " Min.   :0.000000   Min.   :0.00000   Min.   :0.000000   Min.   :0.0000000  \n",
       " 1st Qu.:0.000000   1st Qu.:0.00000   1st Qu.:0.000000   1st Qu.:0.0000000  \n",
       " Median :0.000000   Median :0.00000   Median :0.000000   Median :0.0000000  \n",
       " Mean   :0.001006   Mean   :0.04268   Mean   :0.001868   Mean   :0.0008622  \n",
       " 3rd Qu.:0.000000   3rd Qu.:0.00000   3rd Qu.:0.000000   3rd Qu.:0.0000000  \n",
       " Max.   :1.000000   Max.   :1.00000   Max.   :1.000000   Max.   :1.0000000  \n",
       "                                                                            \n",
       " group_Iron IVA    group_Iron IVB     group_Kakangari        group_L      \n",
       " Min.   :0.00000   Min.   :0.000000   Min.   :0.0000000   Min.   :0.0000  \n",
       " 1st Qu.:0.00000   1st Qu.:0.000000   1st Qu.:0.0000000   1st Qu.:0.0000  \n",
       " Median :0.00000   Median :0.000000   Median :0.0000000   Median :0.0000  \n",
       " Mean   :0.01207   Mean   :0.005892   Mean   :0.0004311   Mean   :0.2824  \n",
       " 3rd Qu.:0.00000   3rd Qu.:0.000000   3rd Qu.:0.0000000   3rd Qu.:1.0000  \n",
       " Max.   :1.00000   Max.   :1.000000   Max.   :1.0000000   Max.   :1.0000  \n",
       "                                                                          \n",
       "    group_LL        group_Lunar       group_Main Group  group_Mesosiderite\n",
       " Min.   :0.00000   Min.   :0.000000   Min.   :0.00000   Min.   :0.00000   \n",
       " 1st Qu.:0.00000   1st Qu.:0.000000   1st Qu.:0.00000   1st Qu.:0.00000   \n",
       " Median :0.00000   Median :0.000000   Median :0.00000   Median :0.00000   \n",
       " Mean   :0.05029   Mean   :0.001006   Mean   :0.01121   Mean   :0.01135   \n",
       " 3rd Qu.:0.00000   3rd Qu.:0.000000   3rd Qu.:0.00000   3rd Qu.:0.00000   \n",
       " Max.   :1.00000   Max.   :1.000000   Max.   :1.00000   Max.   :1.00000   \n",
       "                                                                          \n",
       " group_Nakhilite     group_Rumuruti      group_Shergottite    group_Stony    \n",
       " Min.   :0.0000000   Min.   :0.0000000   Min.   :0.0000000   Min.   :0.0000  \n",
       " 1st Qu.:0.0000000   1st Qu.:0.0000000   1st Qu.:0.0000000   1st Qu.:0.0000  \n",
       " Median :0.0000000   Median :0.0000000   Median :0.0000000   Median :0.0000  \n",
       " Mean   :0.0007185   Mean   :0.0007185   Mean   :0.0004311   Mean   :0.0138  \n",
       " 3rd Qu.:0.0000000   3rd Qu.:0.0000000   3rd Qu.:0.0000000   3rd Qu.:0.0000  \n",
       " Max.   :1.0000000   Max.   :1.0000000   Max.   :1.0000000   Max.   :1.0000  \n",
       "                                                                             \n",
       " group_Ungrouped     group_Unknown      group_Ureilite     group_Winonaite    \n",
       " Min.   :0.0000000   Min.   :0.000000   Min.   :0.000000   Min.   :0.0000000  \n",
       " 1st Qu.:0.0000000   1st Qu.:0.000000   1st Qu.:0.000000   1st Qu.:0.0000000  \n",
       " Median :0.0000000   Median :0.000000   Median :0.000000   Median :0.0000000  \n",
       " Mean   :0.0005748   Mean   :0.001006   Mean   :0.007185   Mean   :0.0008622  \n",
       " 3rd Qu.:0.0000000   3rd Qu.:0.000000   3rd Qu.:0.000000   3rd Qu.:0.0000000  \n",
       " Max.   :1.0000000   Max.   :1.000000   Max.   :1.000000   Max.   :1.0000000  \n",
       "                                                                              \n",
       " chondrite_Achondrite chondrite_Chondrite  chondrite_NA      type_Iron     \n",
       " Min.   :0.0000       Min.   :0.0000      Min.   :0.0000   Min.   :0.0000  \n",
       " 1st Qu.:0.0000       1st Qu.:0.0000      1st Qu.:0.0000   1st Qu.:0.0000  \n",
       " Median :0.0000       Median :1.0000      Median :0.0000   Median :0.0000  \n",
       " Mean   :0.2799       Mean   :0.7201      Mean   :0.0148   Mean   :0.2189  \n",
       " 3rd Qu.:1.0000       3rd Qu.:1.0000      3rd Qu.:0.0000   3rd Qu.:0.0000  \n",
       " Max.   :1.0000       Max.   :1.0000      Max.   :1.0000   Max.   :1.0000  \n",
       " NA's   :103          NA's   :103                          NA's   :7       \n",
       "   type_Stony     type_Stony-Iron      type_NA          lc_sample_0    \n",
       " Min.   :0.0000   Min.   :0.00000   Min.   :0.000000   Min.   :0.0000  \n",
       " 1st Qu.:1.0000   1st Qu.:0.00000   1st Qu.:0.000000   1st Qu.:0.0000  \n",
       " Median :1.0000   Median :0.00000   Median :0.000000   Median :0.0000  \n",
       " Mean   :0.7527   Mean   :0.02834   Mean   :0.001006   Mean   :0.4527  \n",
       " 3rd Qu.:1.0000   3rd Qu.:0.00000   3rd Qu.:0.000000   3rd Qu.:1.0000  \n",
       " Max.   :1.0000   Max.   :1.00000   Max.   :1.000000   Max.   :1.0000  \n",
       " NA's   :7        NA's   :7                                            \n",
       "  lc_sample_1      lc_sample_2     lc_sample_6         lc_sample_7       \n",
       " Min.   :0.0000   Min.   :0.000   Min.   :0.0000000   Min.   :0.0000000  \n",
       " 1st Qu.:0.0000   1st Qu.:0.000   1st Qu.:0.0000000   1st Qu.:0.0000000  \n",
       " Median :0.0000   Median :0.000   Median :0.0000000   Median :0.0000000  \n",
       " Mean   :0.1174   Mean   :0.317   Mean   :0.0008622   Mean   :0.0002874  \n",
       " 3rd Qu.:0.0000   3rd Qu.:1.000   3rd Qu.:0.0000000   3rd Qu.:0.0000000  \n",
       " Max.   :1.0000   Max.   :1.000   Max.   :1.0000000   Max.   :1.0000000  \n",
       "                                                                         \n",
       "  lc_sample_8       lc_sample_9         lc_sample_10       lc_sample_12      \n",
       " Min.   :0.00000   Min.   :0.0000000   Min.   :0.000000   Min.   :0.0000000  \n",
       " 1st Qu.:0.00000   1st Qu.:0.0000000   1st Qu.:0.000000   1st Qu.:0.0000000  \n",
       " Median :0.00000   Median :0.0000000   Median :0.000000   Median :0.0000000  \n",
       " Mean   :0.01365   Mean   :0.0002874   Mean   :0.001724   Mean   :0.0001437  \n",
       " 3rd Qu.:0.00000   3rd Qu.:0.0000000   3rd Qu.:0.000000   3rd Qu.:0.0000000  \n",
       " Max.   :1.00000   Max.   :1.0000000   Max.   :1.000000   Max.   :1.0000000  \n",
       "                                                                             \n",
       "  lc_sample_13      lc_sample_14      lc_sample_15        lc_sample_16     \n",
       " Min.   :0.00000   Min.   :0.00000   Min.   :0.0000000   Min.   :0.000000  \n",
       " 1st Qu.:0.00000   1st Qu.:0.00000   1st Qu.:0.0000000   1st Qu.:0.000000  \n",
       " Median :0.00000   Median :0.00000   Median :0.0000000   Median :0.000000  \n",
       " Mean   :0.02759   Mean   :0.06251   Mean   :0.0001437   Mean   :0.004311  \n",
       " 3rd Qu.:0.00000   3rd Qu.:0.00000   3rd Qu.:0.0000000   3rd Qu.:0.000000  \n",
       " Max.   :1.00000   Max.   :1.00000   Max.   :1.0000000   Max.   :1.000000  \n",
       "                                                                           \n",
       "  lc_sample_17        lc_sample_18      \n",
       " Min.   :0.0000000   Min.   :0.0000000  \n",
       " 1st Qu.:0.0000000   1st Qu.:0.0000000  \n",
       " Median :0.0000000   Median :0.0000000  \n",
       " Mean   :0.0008622   Mean   :0.0005748  \n",
       " 3rd Qu.:0.0000000   3rd Qu.:0.0000000  \n",
       " Max.   :1.0000000   Max.   :1.0000000  \n",
       "                                        "
      ]
     },
     "metadata": {},
     "output_type": "display_data"
    }
   ],
   "source": [
    "head(meteorite_train_data)\n",
    "summary(meteorite_train_data)"
   ]
  },
  {
   "cell_type": "code",
   "execution_count": 64,
   "metadata": {},
   "outputs": [
    {
     "data": {
      "text/html": [
       "<style>\n",
       ".list-inline {list-style: none; margin:0; padding: 0}\n",
       ".list-inline>li {display: inline-block}\n",
       ".list-inline>li:not(:last-child)::after {content: \"\\00b7\"; padding: 0 .5ex}\n",
       "</style>\n",
       "<ol class=list-inline><li>6959</li><li>76</li></ol>\n"
      ],
      "text/latex": [
       "\\begin{enumerate*}\n",
       "\\item 6959\n",
       "\\item 76\n",
       "\\end{enumerate*}\n"
      ],
      "text/markdown": [
       "1. 6959\n",
       "2. 76\n",
       "\n",
       "\n"
      ],
      "text/plain": [
       "[1] 6959   76"
      ]
     },
     "metadata": {},
     "output_type": "display_data"
    },
    {
     "data": {
      "text/html": [
       "<table class=\"dataframe\">\n",
       "<caption>A data.frame: 6 × 76</caption>\n",
       "<thead>\n",
       "\t<tr><th></th><th scope=col>mass</th><th scope=col>latitude</th><th scope=col>longitude</th><th scope=col>fell_found_Fell</th><th scope=col>fell_found_Found</th><th scope=col>group_Acapulcoite</th><th scope=col>group_Achondrite</th><th scope=col>group_Angrite</th><th scope=col>group_Aubrite</th><th scope=col>group_Brachinite</th><th scope=col>⋯</th><th scope=col>lc_sample_8</th><th scope=col>lc_sample_9</th><th scope=col>lc_sample_10</th><th scope=col>lc_sample_12</th><th scope=col>lc_sample_13</th><th scope=col>lc_sample_14</th><th scope=col>lc_sample_15</th><th scope=col>lc_sample_16</th><th scope=col>lc_sample_17</th><th scope=col>lc_sample_18</th></tr>\n",
       "\t<tr><th></th><th scope=col>&lt;dbl&gt;</th><th scope=col>&lt;dbl&gt;</th><th scope=col>&lt;dbl&gt;</th><th scope=col>&lt;dbl&gt;</th><th scope=col>&lt;dbl&gt;</th><th scope=col>&lt;dbl&gt;</th><th scope=col>&lt;dbl&gt;</th><th scope=col>&lt;dbl&gt;</th><th scope=col>&lt;dbl&gt;</th><th scope=col>&lt;dbl&gt;</th><th scope=col>⋯</th><th scope=col>&lt;dbl&gt;</th><th scope=col>&lt;dbl&gt;</th><th scope=col>&lt;dbl&gt;</th><th scope=col>&lt;dbl&gt;</th><th scope=col>&lt;dbl&gt;</th><th scope=col>&lt;dbl&gt;</th><th scope=col>&lt;dbl&gt;</th><th scope=col>&lt;dbl&gt;</th><th scope=col>&lt;dbl&gt;</th><th scope=col>&lt;dbl&gt;</th></tr>\n",
       "</thead>\n",
       "<tbody>\n",
       "\t<tr><th scope=row>1</th><td>-0.05857765</td><td>-1.2150641</td><td> 0.33415945</td><td>-0.8050949</td><td> 0.8050949</td><td>-0.07697868</td><td>-0.02076585</td><td>-0.02937368</td><td>-0.04800154</td><td>-0.01198744</td><td>⋯</td><td>-0.1176365</td><td>-0.01695402</td><td>-0.04155859</td><td>-0.01198744</td><td>-0.1684307</td><td>-0.2582001</td><td>-0.01198744</td><td>-0.06579519</td><td>-0.02937368</td><td>-0.02398006</td></tr>\n",
       "\t<tr><th scope=row>3</th><td>-0.05430107</td><td> 0.8611406</td><td> 0.13859745</td><td> 1.2419111</td><td>-1.2419111</td><td>-0.07697868</td><td>-0.02076585</td><td>-0.02937368</td><td>-0.04800154</td><td>-0.01198744</td><td>⋯</td><td>-0.1176365</td><td>-0.01695402</td><td>-0.04155859</td><td>-0.01198744</td><td>-0.1684307</td><td>-0.2582001</td><td>-0.01198744</td><td>-0.06579519</td><td>-0.02937368</td><td>-0.02398006</td></tr>\n",
       "\t<tr><th scope=row>4</th><td>-0.05263304</td><td>-1.9997622</td><td> 1.54653469</td><td>-0.8050949</td><td> 0.8050949</td><td>-0.07697868</td><td>-0.02076585</td><td>-0.02937368</td><td>-0.04800154</td><td>-0.01198744</td><td>⋯</td><td>-0.1176365</td><td>-0.01695402</td><td>-0.04155859</td><td>-0.01198744</td><td>-0.1684307</td><td>-0.2582001</td><td>-0.01198744</td><td>-0.06579519</td><td>-0.02937368</td><td>-0.02398006</td></tr>\n",
       "\t<tr><th scope=row>5</th><td>-0.04275316</td><td> 1.0793529</td><td>-0.04259661</td><td> 1.2419111</td><td>-1.2419111</td><td>-0.07697868</td><td>-0.02076585</td><td>-0.02937368</td><td>-0.04800154</td><td>-0.01198744</td><td>⋯</td><td>-0.1176365</td><td>-0.01695402</td><td>-0.04155859</td><td>-0.01198744</td><td>-0.1684307</td><td>-0.2582001</td><td>-0.01198744</td><td>-0.06579519</td><td>-0.02937368</td><td>-0.02398006</td></tr>\n",
       "\t<tr><th scope=row>7</th><td>-0.05874632</td><td> 0.3941938</td><td>-1.16466512</td><td>-0.8050949</td><td> 0.8050949</td><td>-0.07697868</td><td>-0.02076585</td><td>-0.02937368</td><td>-0.04800154</td><td>-0.01198744</td><td>⋯</td><td>-0.1176365</td><td>-0.01695402</td><td>-0.04155859</td><td>-0.01198744</td><td>-0.1684307</td><td>-0.2582001</td><td>-0.01198744</td><td>-0.06579519</td><td>-0.02937368</td><td>-0.02398006</td></tr>\n",
       "\t<tr><th scope=row>8</th><td>-0.05834605</td><td> 0.4158330</td><td> 1.46163395</td><td> 1.2419111</td><td>-1.2419111</td><td>-0.07697868</td><td>-0.02076585</td><td>-0.02937368</td><td>-0.04800154</td><td>-0.01198744</td><td>⋯</td><td>-0.1176365</td><td>-0.01695402</td><td>-0.04155859</td><td>-0.01198744</td><td>-0.1684307</td><td>-0.2582001</td><td>-0.01198744</td><td>-0.06579519</td><td>-0.02937368</td><td>-0.02398006</td></tr>\n",
       "</tbody>\n",
       "</table>\n"
      ],
      "text/latex": [
       "A data.frame: 6 × 76\n",
       "\\begin{tabular}{r|lllllllllllllllllllll}\n",
       "  & mass & latitude & longitude & fell\\_found\\_Fell & fell\\_found\\_Found & group\\_Acapulcoite & group\\_Achondrite & group\\_Angrite & group\\_Aubrite & group\\_Brachinite & ⋯ & lc\\_sample\\_8 & lc\\_sample\\_9 & lc\\_sample\\_10 & lc\\_sample\\_12 & lc\\_sample\\_13 & lc\\_sample\\_14 & lc\\_sample\\_15 & lc\\_sample\\_16 & lc\\_sample\\_17 & lc\\_sample\\_18\\\\\n",
       "  & <dbl> & <dbl> & <dbl> & <dbl> & <dbl> & <dbl> & <dbl> & <dbl> & <dbl> & <dbl> & ⋯ & <dbl> & <dbl> & <dbl> & <dbl> & <dbl> & <dbl> & <dbl> & <dbl> & <dbl> & <dbl>\\\\\n",
       "\\hline\n",
       "\t1 & -0.05857765 & -1.2150641 &  0.33415945 & -0.8050949 &  0.8050949 & -0.07697868 & -0.02076585 & -0.02937368 & -0.04800154 & -0.01198744 & ⋯ & -0.1176365 & -0.01695402 & -0.04155859 & -0.01198744 & -0.1684307 & -0.2582001 & -0.01198744 & -0.06579519 & -0.02937368 & -0.02398006\\\\\n",
       "\t3 & -0.05430107 &  0.8611406 &  0.13859745 &  1.2419111 & -1.2419111 & -0.07697868 & -0.02076585 & -0.02937368 & -0.04800154 & -0.01198744 & ⋯ & -0.1176365 & -0.01695402 & -0.04155859 & -0.01198744 & -0.1684307 & -0.2582001 & -0.01198744 & -0.06579519 & -0.02937368 & -0.02398006\\\\\n",
       "\t4 & -0.05263304 & -1.9997622 &  1.54653469 & -0.8050949 &  0.8050949 & -0.07697868 & -0.02076585 & -0.02937368 & -0.04800154 & -0.01198744 & ⋯ & -0.1176365 & -0.01695402 & -0.04155859 & -0.01198744 & -0.1684307 & -0.2582001 & -0.01198744 & -0.06579519 & -0.02937368 & -0.02398006\\\\\n",
       "\t5 & -0.04275316 &  1.0793529 & -0.04259661 &  1.2419111 & -1.2419111 & -0.07697868 & -0.02076585 & -0.02937368 & -0.04800154 & -0.01198744 & ⋯ & -0.1176365 & -0.01695402 & -0.04155859 & -0.01198744 & -0.1684307 & -0.2582001 & -0.01198744 & -0.06579519 & -0.02937368 & -0.02398006\\\\\n",
       "\t7 & -0.05874632 &  0.3941938 & -1.16466512 & -0.8050949 &  0.8050949 & -0.07697868 & -0.02076585 & -0.02937368 & -0.04800154 & -0.01198744 & ⋯ & -0.1176365 & -0.01695402 & -0.04155859 & -0.01198744 & -0.1684307 & -0.2582001 & -0.01198744 & -0.06579519 & -0.02937368 & -0.02398006\\\\\n",
       "\t8 & -0.05834605 &  0.4158330 &  1.46163395 &  1.2419111 & -1.2419111 & -0.07697868 & -0.02076585 & -0.02937368 & -0.04800154 & -0.01198744 & ⋯ & -0.1176365 & -0.01695402 & -0.04155859 & -0.01198744 & -0.1684307 & -0.2582001 & -0.01198744 & -0.06579519 & -0.02937368 & -0.02398006\\\\\n",
       "\\end{tabular}\n"
      ],
      "text/markdown": [
       "\n",
       "A data.frame: 6 × 76\n",
       "\n",
       "| <!--/--> | mass &lt;dbl&gt; | latitude &lt;dbl&gt; | longitude &lt;dbl&gt; | fell_found_Fell &lt;dbl&gt; | fell_found_Found &lt;dbl&gt; | group_Acapulcoite &lt;dbl&gt; | group_Achondrite &lt;dbl&gt; | group_Angrite &lt;dbl&gt; | group_Aubrite &lt;dbl&gt; | group_Brachinite &lt;dbl&gt; | ⋯ ⋯ | lc_sample_8 &lt;dbl&gt; | lc_sample_9 &lt;dbl&gt; | lc_sample_10 &lt;dbl&gt; | lc_sample_12 &lt;dbl&gt; | lc_sample_13 &lt;dbl&gt; | lc_sample_14 &lt;dbl&gt; | lc_sample_15 &lt;dbl&gt; | lc_sample_16 &lt;dbl&gt; | lc_sample_17 &lt;dbl&gt; | lc_sample_18 &lt;dbl&gt; |\n",
       "|---|---|---|---|---|---|---|---|---|---|---|---|---|---|---|---|---|---|---|---|---|---|\n",
       "| 1 | -0.05857765 | -1.2150641 |  0.33415945 | -0.8050949 |  0.8050949 | -0.07697868 | -0.02076585 | -0.02937368 | -0.04800154 | -0.01198744 | ⋯ | -0.1176365 | -0.01695402 | -0.04155859 | -0.01198744 | -0.1684307 | -0.2582001 | -0.01198744 | -0.06579519 | -0.02937368 | -0.02398006 |\n",
       "| 3 | -0.05430107 |  0.8611406 |  0.13859745 |  1.2419111 | -1.2419111 | -0.07697868 | -0.02076585 | -0.02937368 | -0.04800154 | -0.01198744 | ⋯ | -0.1176365 | -0.01695402 | -0.04155859 | -0.01198744 | -0.1684307 | -0.2582001 | -0.01198744 | -0.06579519 | -0.02937368 | -0.02398006 |\n",
       "| 4 | -0.05263304 | -1.9997622 |  1.54653469 | -0.8050949 |  0.8050949 | -0.07697868 | -0.02076585 | -0.02937368 | -0.04800154 | -0.01198744 | ⋯ | -0.1176365 | -0.01695402 | -0.04155859 | -0.01198744 | -0.1684307 | -0.2582001 | -0.01198744 | -0.06579519 | -0.02937368 | -0.02398006 |\n",
       "| 5 | -0.04275316 |  1.0793529 | -0.04259661 |  1.2419111 | -1.2419111 | -0.07697868 | -0.02076585 | -0.02937368 | -0.04800154 | -0.01198744 | ⋯ | -0.1176365 | -0.01695402 | -0.04155859 | -0.01198744 | -0.1684307 | -0.2582001 | -0.01198744 | -0.06579519 | -0.02937368 | -0.02398006 |\n",
       "| 7 | -0.05874632 |  0.3941938 | -1.16466512 | -0.8050949 |  0.8050949 | -0.07697868 | -0.02076585 | -0.02937368 | -0.04800154 | -0.01198744 | ⋯ | -0.1176365 | -0.01695402 | -0.04155859 | -0.01198744 | -0.1684307 | -0.2582001 | -0.01198744 | -0.06579519 | -0.02937368 | -0.02398006 |\n",
       "| 8 | -0.05834605 |  0.4158330 |  1.46163395 |  1.2419111 | -1.2419111 | -0.07697868 | -0.02076585 | -0.02937368 | -0.04800154 | -0.01198744 | ⋯ | -0.1176365 | -0.01695402 | -0.04155859 | -0.01198744 | -0.1684307 | -0.2582001 | -0.01198744 | -0.06579519 | -0.02937368 | -0.02398006 |\n",
       "\n"
      ],
      "text/plain": [
       "  mass        latitude   longitude   fell_found_Fell fell_found_Found\n",
       "1 -0.05857765 -1.2150641  0.33415945 -0.8050949       0.8050949      \n",
       "3 -0.05430107  0.8611406  0.13859745  1.2419111      -1.2419111      \n",
       "4 -0.05263304 -1.9997622  1.54653469 -0.8050949       0.8050949      \n",
       "5 -0.04275316  1.0793529 -0.04259661  1.2419111      -1.2419111      \n",
       "7 -0.05874632  0.3941938 -1.16466512 -0.8050949       0.8050949      \n",
       "8 -0.05834605  0.4158330  1.46163395  1.2419111      -1.2419111      \n",
       "  group_Acapulcoite group_Achondrite group_Angrite group_Aubrite\n",
       "1 -0.07697868       -0.02076585      -0.02937368   -0.04800154  \n",
       "3 -0.07697868       -0.02076585      -0.02937368   -0.04800154  \n",
       "4 -0.07697868       -0.02076585      -0.02937368   -0.04800154  \n",
       "5 -0.07697868       -0.02076585      -0.02937368   -0.04800154  \n",
       "7 -0.07697868       -0.02076585      -0.02937368   -0.04800154  \n",
       "8 -0.07697868       -0.02076585      -0.02937368   -0.04800154  \n",
       "  group_Brachinite ⋯ lc_sample_8 lc_sample_9 lc_sample_10 lc_sample_12\n",
       "1 -0.01198744      ⋯ -0.1176365  -0.01695402 -0.04155859  -0.01198744 \n",
       "3 -0.01198744      ⋯ -0.1176365  -0.01695402 -0.04155859  -0.01198744 \n",
       "4 -0.01198744      ⋯ -0.1176365  -0.01695402 -0.04155859  -0.01198744 \n",
       "5 -0.01198744      ⋯ -0.1176365  -0.01695402 -0.04155859  -0.01198744 \n",
       "7 -0.01198744      ⋯ -0.1176365  -0.01695402 -0.04155859  -0.01198744 \n",
       "8 -0.01198744      ⋯ -0.1176365  -0.01695402 -0.04155859  -0.01198744 \n",
       "  lc_sample_13 lc_sample_14 lc_sample_15 lc_sample_16 lc_sample_17 lc_sample_18\n",
       "1 -0.1684307   -0.2582001   -0.01198744  -0.06579519  -0.02937368  -0.02398006 \n",
       "3 -0.1684307   -0.2582001   -0.01198744  -0.06579519  -0.02937368  -0.02398006 \n",
       "4 -0.1684307   -0.2582001   -0.01198744  -0.06579519  -0.02937368  -0.02398006 \n",
       "5 -0.1684307   -0.2582001   -0.01198744  -0.06579519  -0.02937368  -0.02398006 \n",
       "7 -0.1684307   -0.2582001   -0.01198744  -0.06579519  -0.02937368  -0.02398006 \n",
       "8 -0.1684307   -0.2582001   -0.01198744  -0.06579519  -0.02937368  -0.02398006 "
      ]
     },
     "metadata": {},
     "output_type": "display_data"
    }
   ],
   "source": [
    "standard_vars <- as.data.frame(scale(meteorite_train_data[!sapply(meteorite_train_data,class) %in% c('factor')]))\n",
    "\n",
    "dim(standard_vars)\n",
    "head(standard_vars)"
   ]
  },
  {
   "cell_type": "code",
   "execution_count": 66,
   "metadata": {},
   "outputs": [
    {
     "ename": "ERROR",
     "evalue": "Error in prcomp.default(na.omit(standard_vars), center = TRUE, scale = TRUE): cannot rescale a constant/zero column to unit variance\n",
     "output_type": "error",
     "traceback": [
      "Error in prcomp.default(na.omit(standard_vars), center = TRUE, scale = TRUE): cannot rescale a constant/zero column to unit variance\nTraceback:\n",
      "1. prcomp(na.omit(standard_vars), center = TRUE, scale = TRUE)",
      "2. prcomp.default(na.omit(standard_vars), center = TRUE, scale = TRUE)",
      "3. stop(\"cannot rescale a constant/zero column to unit variance\")"
     ]
    }
   ],
   "source": [
    "prcomp(na.omit(standard_vars), center = TRUE, scale = TRUE)\n"
   ]
  },
  {
   "cell_type": "code",
   "execution_count": 67,
   "metadata": {},
   "outputs": [
    {
     "data": {
      "text/html": [
       "<style>\n",
       ".dl-inline {width: auto; margin:0; padding: 0}\n",
       ".dl-inline>dt, .dl-inline>dd {float: none; width: auto; display: inline-block}\n",
       ".dl-inline>dt::after {content: \":\\0020\"; padding-right: .5ex}\n",
       ".dl-inline>dt:not(:first-of-type) {padding-left: .5ex}\n",
       "</style><dl class=dl-inline><dt>group_Stony</dt><dd>50</dd><dt>group_Unknown</dt><dd>52</dd><dt>chondrite_NA</dt><dd>57</dd><dt>type_NA</dt><dd>61</dd></dl>\n"
      ],
      "text/latex": [
       "\\begin{description*}\n",
       "\\item[group\\textbackslash{}\\_Stony] 50\n",
       "\\item[group\\textbackslash{}\\_Unknown] 52\n",
       "\\item[chondrite\\textbackslash{}\\_NA] 57\n",
       "\\item[type\\textbackslash{}\\_NA] 61\n",
       "\\end{description*}\n"
      ],
      "text/markdown": [
       "group_Stony\n",
       ":   50group_Unknown\n",
       ":   52chondrite_NA\n",
       ":   57type_NA\n",
       ":   61\n",
       "\n"
      ],
      "text/plain": [
       "  group_Stony group_Unknown  chondrite_NA       type_NA \n",
       "           50            52            57            61 "
      ]
     },
     "metadata": {},
     "output_type": "display_data"
    }
   ],
   "source": [
    "which(apply(na.omit(standard_vars), 2, var)==0)\n"
   ]
  },
  {
   "cell_type": "code",
   "execution_count": 68,
   "metadata": {},
   "outputs": [],
   "source": [
    "meteorite_train_data <- subset(meteorite_train_data, select = -c(group_Stony,group_Unknown,chondrite_NA,type_NA))\n",
    "\n"
   ]
  },
  {
   "cell_type": "code",
   "execution_count": 92,
   "metadata": {},
   "outputs": [
    {
     "data": {
      "text/html": [
       "<table class=\"dataframe\">\n",
       "<caption>A data.frame: 6 × 72</caption>\n",
       "<thead>\n",
       "\t<tr><th></th><th scope=col>mass</th><th scope=col>latitude</th><th scope=col>longitude</th><th scope=col>fell_found_Fell</th><th scope=col>fell_found_Found</th><th scope=col>group_Acapulcoite</th><th scope=col>group_Achondrite</th><th scope=col>group_Angrite</th><th scope=col>group_Aubrite</th><th scope=col>group_Brachinite</th><th scope=col>⋯</th><th scope=col>lc_sample_8</th><th scope=col>lc_sample_9</th><th scope=col>lc_sample_10</th><th scope=col>lc_sample_12</th><th scope=col>lc_sample_13</th><th scope=col>lc_sample_14</th><th scope=col>lc_sample_15</th><th scope=col>lc_sample_16</th><th scope=col>lc_sample_17</th><th scope=col>lc_sample_18</th></tr>\n",
       "\t<tr><th></th><th scope=col>&lt;dbl&gt;</th><th scope=col>&lt;dbl&gt;</th><th scope=col>&lt;dbl&gt;</th><th scope=col>&lt;int&gt;</th><th scope=col>&lt;int&gt;</th><th scope=col>&lt;int&gt;</th><th scope=col>&lt;int&gt;</th><th scope=col>&lt;int&gt;</th><th scope=col>&lt;int&gt;</th><th scope=col>&lt;int&gt;</th><th scope=col>⋯</th><th scope=col>&lt;int&gt;</th><th scope=col>&lt;int&gt;</th><th scope=col>&lt;int&gt;</th><th scope=col>&lt;int&gt;</th><th scope=col>&lt;int&gt;</th><th scope=col>&lt;int&gt;</th><th scope=col>&lt;int&gt;</th><th scope=col>&lt;int&gt;</th><th scope=col>&lt;int&gt;</th><th scope=col>&lt;int&gt;</th></tr>\n",
       "</thead>\n",
       "<tbody>\n",
       "\t<tr><th scope=row>1</th><td>  334.0</td><td>-13.01667</td><td>  34.20000</td><td>0</td><td>1</td><td>0</td><td>0</td><td>0</td><td>0</td><td>0</td><td>⋯</td><td>0</td><td>0</td><td>0</td><td>0</td><td>0</td><td>0</td><td>0</td><td>0</td><td>0</td><td>0</td></tr>\n",
       "\t<tr><th scope=row>3</th><td> 7000.0</td><td> 47.75000</td><td>  16.23333</td><td>1</td><td>0</td><td>0</td><td>0</td><td>0</td><td>0</td><td>0</td><td>⋯</td><td>0</td><td>0</td><td>0</td><td>0</td><td>0</td><td>0</td><td>0</td><td>0</td><td>0</td><td>0</td></tr>\n",
       "\t<tr><th scope=row>4</th><td> 9600.0</td><td>-35.98333</td><td> 145.58333</td><td>0</td><td>1</td><td>0</td><td>0</td><td>0</td><td>0</td><td>0</td><td>⋯</td><td>0</td><td>0</td><td>0</td><td>0</td><td>0</td><td>0</td><td>0</td><td>0</td><td>0</td><td>0</td></tr>\n",
       "\t<tr><th scope=row>5</th><td>25000.0</td><td> 54.13667</td><td>  -0.41333</td><td>1</td><td>0</td><td>0</td><td>0</td><td>0</td><td>0</td><td>0</td><td>⋯</td><td>0</td><td>0</td><td>0</td><td>0</td><td>0</td><td>0</td><td>0</td><td>0</td><td>0</td><td>0</td></tr>\n",
       "\t<tr><th scope=row>7</th><td>   71.1</td><td> 34.08333</td><td>-103.50000</td><td>0</td><td>1</td><td>0</td><td>0</td><td>0</td><td>0</td><td>0</td><td>⋯</td><td>0</td><td>0</td><td>0</td><td>0</td><td>0</td><td>0</td><td>0</td><td>0</td><td>0</td><td>0</td></tr>\n",
       "\t<tr><th scope=row>8</th><td>  695.0</td><td> 34.71667</td><td> 137.78333</td><td>1</td><td>0</td><td>0</td><td>0</td><td>0</td><td>0</td><td>0</td><td>⋯</td><td>0</td><td>0</td><td>0</td><td>0</td><td>0</td><td>0</td><td>0</td><td>0</td><td>0</td><td>0</td></tr>\n",
       "</tbody>\n",
       "</table>\n"
      ],
      "text/latex": [
       "A data.frame: 6 × 72\n",
       "\\begin{tabular}{r|lllllllllllllllllllll}\n",
       "  & mass & latitude & longitude & fell\\_found\\_Fell & fell\\_found\\_Found & group\\_Acapulcoite & group\\_Achondrite & group\\_Angrite & group\\_Aubrite & group\\_Brachinite & ⋯ & lc\\_sample\\_8 & lc\\_sample\\_9 & lc\\_sample\\_10 & lc\\_sample\\_12 & lc\\_sample\\_13 & lc\\_sample\\_14 & lc\\_sample\\_15 & lc\\_sample\\_16 & lc\\_sample\\_17 & lc\\_sample\\_18\\\\\n",
       "  & <dbl> & <dbl> & <dbl> & <int> & <int> & <int> & <int> & <int> & <int> & <int> & ⋯ & <int> & <int> & <int> & <int> & <int> & <int> & <int> & <int> & <int> & <int>\\\\\n",
       "\\hline\n",
       "\t1 &   334.0 & -13.01667 &   34.20000 & 0 & 1 & 0 & 0 & 0 & 0 & 0 & ⋯ & 0 & 0 & 0 & 0 & 0 & 0 & 0 & 0 & 0 & 0\\\\\n",
       "\t3 &  7000.0 &  47.75000 &   16.23333 & 1 & 0 & 0 & 0 & 0 & 0 & 0 & ⋯ & 0 & 0 & 0 & 0 & 0 & 0 & 0 & 0 & 0 & 0\\\\\n",
       "\t4 &  9600.0 & -35.98333 &  145.58333 & 0 & 1 & 0 & 0 & 0 & 0 & 0 & ⋯ & 0 & 0 & 0 & 0 & 0 & 0 & 0 & 0 & 0 & 0\\\\\n",
       "\t5 & 25000.0 &  54.13667 &   -0.41333 & 1 & 0 & 0 & 0 & 0 & 0 & 0 & ⋯ & 0 & 0 & 0 & 0 & 0 & 0 & 0 & 0 & 0 & 0\\\\\n",
       "\t7 &    71.1 &  34.08333 & -103.50000 & 0 & 1 & 0 & 0 & 0 & 0 & 0 & ⋯ & 0 & 0 & 0 & 0 & 0 & 0 & 0 & 0 & 0 & 0\\\\\n",
       "\t8 &   695.0 &  34.71667 &  137.78333 & 1 & 0 & 0 & 0 & 0 & 0 & 0 & ⋯ & 0 & 0 & 0 & 0 & 0 & 0 & 0 & 0 & 0 & 0\\\\\n",
       "\\end{tabular}\n"
      ],
      "text/markdown": [
       "\n",
       "A data.frame: 6 × 72\n",
       "\n",
       "| <!--/--> | mass &lt;dbl&gt; | latitude &lt;dbl&gt; | longitude &lt;dbl&gt; | fell_found_Fell &lt;int&gt; | fell_found_Found &lt;int&gt; | group_Acapulcoite &lt;int&gt; | group_Achondrite &lt;int&gt; | group_Angrite &lt;int&gt; | group_Aubrite &lt;int&gt; | group_Brachinite &lt;int&gt; | ⋯ ⋯ | lc_sample_8 &lt;int&gt; | lc_sample_9 &lt;int&gt; | lc_sample_10 &lt;int&gt; | lc_sample_12 &lt;int&gt; | lc_sample_13 &lt;int&gt; | lc_sample_14 &lt;int&gt; | lc_sample_15 &lt;int&gt; | lc_sample_16 &lt;int&gt; | lc_sample_17 &lt;int&gt; | lc_sample_18 &lt;int&gt; |\n",
       "|---|---|---|---|---|---|---|---|---|---|---|---|---|---|---|---|---|---|---|---|---|---|\n",
       "| 1 |   334.0 | -13.01667 |   34.20000 | 0 | 1 | 0 | 0 | 0 | 0 | 0 | ⋯ | 0 | 0 | 0 | 0 | 0 | 0 | 0 | 0 | 0 | 0 |\n",
       "| 3 |  7000.0 |  47.75000 |   16.23333 | 1 | 0 | 0 | 0 | 0 | 0 | 0 | ⋯ | 0 | 0 | 0 | 0 | 0 | 0 | 0 | 0 | 0 | 0 |\n",
       "| 4 |  9600.0 | -35.98333 |  145.58333 | 0 | 1 | 0 | 0 | 0 | 0 | 0 | ⋯ | 0 | 0 | 0 | 0 | 0 | 0 | 0 | 0 | 0 | 0 |\n",
       "| 5 | 25000.0 |  54.13667 |   -0.41333 | 1 | 0 | 0 | 0 | 0 | 0 | 0 | ⋯ | 0 | 0 | 0 | 0 | 0 | 0 | 0 | 0 | 0 | 0 |\n",
       "| 7 |    71.1 |  34.08333 | -103.50000 | 0 | 1 | 0 | 0 | 0 | 0 | 0 | ⋯ | 0 | 0 | 0 | 0 | 0 | 0 | 0 | 0 | 0 | 0 |\n",
       "| 8 |   695.0 |  34.71667 |  137.78333 | 1 | 0 | 0 | 0 | 0 | 0 | 0 | ⋯ | 0 | 0 | 0 | 0 | 0 | 0 | 0 | 0 | 0 | 0 |\n",
       "\n"
      ],
      "text/plain": [
       "  mass    latitude  longitude  fell_found_Fell fell_found_Found\n",
       "1   334.0 -13.01667   34.20000 0               1               \n",
       "3  7000.0  47.75000   16.23333 1               0               \n",
       "4  9600.0 -35.98333  145.58333 0               1               \n",
       "5 25000.0  54.13667   -0.41333 1               0               \n",
       "7    71.1  34.08333 -103.50000 0               1               \n",
       "8   695.0  34.71667  137.78333 1               0               \n",
       "  group_Acapulcoite group_Achondrite group_Angrite group_Aubrite\n",
       "1 0                 0                0             0            \n",
       "3 0                 0                0             0            \n",
       "4 0                 0                0             0            \n",
       "5 0                 0                0             0            \n",
       "7 0                 0                0             0            \n",
       "8 0                 0                0             0            \n",
       "  group_Brachinite ⋯ lc_sample_8 lc_sample_9 lc_sample_10 lc_sample_12\n",
       "1 0                ⋯ 0           0           0            0           \n",
       "3 0                ⋯ 0           0           0            0           \n",
       "4 0                ⋯ 0           0           0            0           \n",
       "5 0                ⋯ 0           0           0            0           \n",
       "7 0                ⋯ 0           0           0            0           \n",
       "8 0                ⋯ 0           0           0            0           \n",
       "  lc_sample_13 lc_sample_14 lc_sample_15 lc_sample_16 lc_sample_17 lc_sample_18\n",
       "1 0            0            0            0            0            0           \n",
       "3 0            0            0            0            0            0           \n",
       "4 0            0            0            0            0            0           \n",
       "5 0            0            0            0            0            0           \n",
       "7 0            0            0            0            0            0           \n",
       "8 0            0            0            0            0            0           "
      ]
     },
     "metadata": {},
     "output_type": "display_data"
    },
    {
     "data": {
      "text/html": [
       "<style>\n",
       ".list-inline {list-style: none; margin:0; padding: 0}\n",
       ".list-inline>li {display: inline-block}\n",
       ".list-inline>li:not(:last-child)::after {content: \"\\00b7\"; padding: 0 .5ex}\n",
       "</style>\n",
       "<ol class=list-inline><li>6959</li><li>72</li></ol>\n"
      ],
      "text/latex": [
       "\\begin{enumerate*}\n",
       "\\item 6959\n",
       "\\item 72\n",
       "\\end{enumerate*}\n"
      ],
      "text/markdown": [
       "1. 6959\n",
       "2. 72\n",
       "\n",
       "\n"
      ],
      "text/plain": [
       "[1] 6959   72"
      ]
     },
     "metadata": {},
     "output_type": "display_data"
    }
   ],
   "source": [
    "head(meteorite_train_data)\n",
    "dim(meteorite_train_data)"
   ]
  },
  {
   "cell_type": "code",
   "execution_count": 70,
   "metadata": {},
   "outputs": [
    {
     "data": {
      "text/html": [
       "<style>\n",
       ".list-inline {list-style: none; margin:0; padding: 0}\n",
       ".list-inline>li {display: inline-block}\n",
       ".list-inline>li:not(:last-child)::after {content: \"\\00b7\"; padding: 0 .5ex}\n",
       "</style>\n",
       "<ol class=list-inline><li>6959</li><li>72</li></ol>\n"
      ],
      "text/latex": [
       "\\begin{enumerate*}\n",
       "\\item 6959\n",
       "\\item 72\n",
       "\\end{enumerate*}\n"
      ],
      "text/markdown": [
       "1. 6959\n",
       "2. 72\n",
       "\n",
       "\n"
      ],
      "text/plain": [
       "[1] 6959   72"
      ]
     },
     "metadata": {},
     "output_type": "display_data"
    },
    {
     "data": {
      "text/html": [
       "<table class=\"dataframe\">\n",
       "<caption>A data.frame: 6 × 72</caption>\n",
       "<thead>\n",
       "\t<tr><th></th><th scope=col>mass</th><th scope=col>latitude</th><th scope=col>longitude</th><th scope=col>fell_found_Fell</th><th scope=col>fell_found_Found</th><th scope=col>group_Acapulcoite</th><th scope=col>group_Achondrite</th><th scope=col>group_Angrite</th><th scope=col>group_Aubrite</th><th scope=col>group_Brachinite</th><th scope=col>⋯</th><th scope=col>lc_sample_8</th><th scope=col>lc_sample_9</th><th scope=col>lc_sample_10</th><th scope=col>lc_sample_12</th><th scope=col>lc_sample_13</th><th scope=col>lc_sample_14</th><th scope=col>lc_sample_15</th><th scope=col>lc_sample_16</th><th scope=col>lc_sample_17</th><th scope=col>lc_sample_18</th></tr>\n",
       "\t<tr><th></th><th scope=col>&lt;dbl&gt;</th><th scope=col>&lt;dbl&gt;</th><th scope=col>&lt;dbl&gt;</th><th scope=col>&lt;dbl&gt;</th><th scope=col>&lt;dbl&gt;</th><th scope=col>&lt;dbl&gt;</th><th scope=col>&lt;dbl&gt;</th><th scope=col>&lt;dbl&gt;</th><th scope=col>&lt;dbl&gt;</th><th scope=col>&lt;dbl&gt;</th><th scope=col>⋯</th><th scope=col>&lt;dbl&gt;</th><th scope=col>&lt;dbl&gt;</th><th scope=col>&lt;dbl&gt;</th><th scope=col>&lt;dbl&gt;</th><th scope=col>&lt;dbl&gt;</th><th scope=col>&lt;dbl&gt;</th><th scope=col>&lt;dbl&gt;</th><th scope=col>&lt;dbl&gt;</th><th scope=col>&lt;dbl&gt;</th><th scope=col>&lt;dbl&gt;</th></tr>\n",
       "</thead>\n",
       "<tbody>\n",
       "\t<tr><th scope=row>1</th><td>-0.05857765</td><td>-1.2150641</td><td> 0.33415945</td><td>-0.8050949</td><td> 0.8050949</td><td>-0.07697868</td><td>-0.02076585</td><td>-0.02937368</td><td>-0.04800154</td><td>-0.01198744</td><td>⋯</td><td>-0.1176365</td><td>-0.01695402</td><td>-0.04155859</td><td>-0.01198744</td><td>-0.1684307</td><td>-0.2582001</td><td>-0.01198744</td><td>-0.06579519</td><td>-0.02937368</td><td>-0.02398006</td></tr>\n",
       "\t<tr><th scope=row>3</th><td>-0.05430107</td><td> 0.8611406</td><td> 0.13859745</td><td> 1.2419111</td><td>-1.2419111</td><td>-0.07697868</td><td>-0.02076585</td><td>-0.02937368</td><td>-0.04800154</td><td>-0.01198744</td><td>⋯</td><td>-0.1176365</td><td>-0.01695402</td><td>-0.04155859</td><td>-0.01198744</td><td>-0.1684307</td><td>-0.2582001</td><td>-0.01198744</td><td>-0.06579519</td><td>-0.02937368</td><td>-0.02398006</td></tr>\n",
       "\t<tr><th scope=row>4</th><td>-0.05263304</td><td>-1.9997622</td><td> 1.54653469</td><td>-0.8050949</td><td> 0.8050949</td><td>-0.07697868</td><td>-0.02076585</td><td>-0.02937368</td><td>-0.04800154</td><td>-0.01198744</td><td>⋯</td><td>-0.1176365</td><td>-0.01695402</td><td>-0.04155859</td><td>-0.01198744</td><td>-0.1684307</td><td>-0.2582001</td><td>-0.01198744</td><td>-0.06579519</td><td>-0.02937368</td><td>-0.02398006</td></tr>\n",
       "\t<tr><th scope=row>5</th><td>-0.04275316</td><td> 1.0793529</td><td>-0.04259661</td><td> 1.2419111</td><td>-1.2419111</td><td>-0.07697868</td><td>-0.02076585</td><td>-0.02937368</td><td>-0.04800154</td><td>-0.01198744</td><td>⋯</td><td>-0.1176365</td><td>-0.01695402</td><td>-0.04155859</td><td>-0.01198744</td><td>-0.1684307</td><td>-0.2582001</td><td>-0.01198744</td><td>-0.06579519</td><td>-0.02937368</td><td>-0.02398006</td></tr>\n",
       "\t<tr><th scope=row>7</th><td>-0.05874632</td><td> 0.3941938</td><td>-1.16466512</td><td>-0.8050949</td><td> 0.8050949</td><td>-0.07697868</td><td>-0.02076585</td><td>-0.02937368</td><td>-0.04800154</td><td>-0.01198744</td><td>⋯</td><td>-0.1176365</td><td>-0.01695402</td><td>-0.04155859</td><td>-0.01198744</td><td>-0.1684307</td><td>-0.2582001</td><td>-0.01198744</td><td>-0.06579519</td><td>-0.02937368</td><td>-0.02398006</td></tr>\n",
       "\t<tr><th scope=row>8</th><td>-0.05834605</td><td> 0.4158330</td><td> 1.46163395</td><td> 1.2419111</td><td>-1.2419111</td><td>-0.07697868</td><td>-0.02076585</td><td>-0.02937368</td><td>-0.04800154</td><td>-0.01198744</td><td>⋯</td><td>-0.1176365</td><td>-0.01695402</td><td>-0.04155859</td><td>-0.01198744</td><td>-0.1684307</td><td>-0.2582001</td><td>-0.01198744</td><td>-0.06579519</td><td>-0.02937368</td><td>-0.02398006</td></tr>\n",
       "</tbody>\n",
       "</table>\n"
      ],
      "text/latex": [
       "A data.frame: 6 × 72\n",
       "\\begin{tabular}{r|lllllllllllllllllllll}\n",
       "  & mass & latitude & longitude & fell\\_found\\_Fell & fell\\_found\\_Found & group\\_Acapulcoite & group\\_Achondrite & group\\_Angrite & group\\_Aubrite & group\\_Brachinite & ⋯ & lc\\_sample\\_8 & lc\\_sample\\_9 & lc\\_sample\\_10 & lc\\_sample\\_12 & lc\\_sample\\_13 & lc\\_sample\\_14 & lc\\_sample\\_15 & lc\\_sample\\_16 & lc\\_sample\\_17 & lc\\_sample\\_18\\\\\n",
       "  & <dbl> & <dbl> & <dbl> & <dbl> & <dbl> & <dbl> & <dbl> & <dbl> & <dbl> & <dbl> & ⋯ & <dbl> & <dbl> & <dbl> & <dbl> & <dbl> & <dbl> & <dbl> & <dbl> & <dbl> & <dbl>\\\\\n",
       "\\hline\n",
       "\t1 & -0.05857765 & -1.2150641 &  0.33415945 & -0.8050949 &  0.8050949 & -0.07697868 & -0.02076585 & -0.02937368 & -0.04800154 & -0.01198744 & ⋯ & -0.1176365 & -0.01695402 & -0.04155859 & -0.01198744 & -0.1684307 & -0.2582001 & -0.01198744 & -0.06579519 & -0.02937368 & -0.02398006\\\\\n",
       "\t3 & -0.05430107 &  0.8611406 &  0.13859745 &  1.2419111 & -1.2419111 & -0.07697868 & -0.02076585 & -0.02937368 & -0.04800154 & -0.01198744 & ⋯ & -0.1176365 & -0.01695402 & -0.04155859 & -0.01198744 & -0.1684307 & -0.2582001 & -0.01198744 & -0.06579519 & -0.02937368 & -0.02398006\\\\\n",
       "\t4 & -0.05263304 & -1.9997622 &  1.54653469 & -0.8050949 &  0.8050949 & -0.07697868 & -0.02076585 & -0.02937368 & -0.04800154 & -0.01198744 & ⋯ & -0.1176365 & -0.01695402 & -0.04155859 & -0.01198744 & -0.1684307 & -0.2582001 & -0.01198744 & -0.06579519 & -0.02937368 & -0.02398006\\\\\n",
       "\t5 & -0.04275316 &  1.0793529 & -0.04259661 &  1.2419111 & -1.2419111 & -0.07697868 & -0.02076585 & -0.02937368 & -0.04800154 & -0.01198744 & ⋯ & -0.1176365 & -0.01695402 & -0.04155859 & -0.01198744 & -0.1684307 & -0.2582001 & -0.01198744 & -0.06579519 & -0.02937368 & -0.02398006\\\\\n",
       "\t7 & -0.05874632 &  0.3941938 & -1.16466512 & -0.8050949 &  0.8050949 & -0.07697868 & -0.02076585 & -0.02937368 & -0.04800154 & -0.01198744 & ⋯ & -0.1176365 & -0.01695402 & -0.04155859 & -0.01198744 & -0.1684307 & -0.2582001 & -0.01198744 & -0.06579519 & -0.02937368 & -0.02398006\\\\\n",
       "\t8 & -0.05834605 &  0.4158330 &  1.46163395 &  1.2419111 & -1.2419111 & -0.07697868 & -0.02076585 & -0.02937368 & -0.04800154 & -0.01198744 & ⋯ & -0.1176365 & -0.01695402 & -0.04155859 & -0.01198744 & -0.1684307 & -0.2582001 & -0.01198744 & -0.06579519 & -0.02937368 & -0.02398006\\\\\n",
       "\\end{tabular}\n"
      ],
      "text/markdown": [
       "\n",
       "A data.frame: 6 × 72\n",
       "\n",
       "| <!--/--> | mass &lt;dbl&gt; | latitude &lt;dbl&gt; | longitude &lt;dbl&gt; | fell_found_Fell &lt;dbl&gt; | fell_found_Found &lt;dbl&gt; | group_Acapulcoite &lt;dbl&gt; | group_Achondrite &lt;dbl&gt; | group_Angrite &lt;dbl&gt; | group_Aubrite &lt;dbl&gt; | group_Brachinite &lt;dbl&gt; | ⋯ ⋯ | lc_sample_8 &lt;dbl&gt; | lc_sample_9 &lt;dbl&gt; | lc_sample_10 &lt;dbl&gt; | lc_sample_12 &lt;dbl&gt; | lc_sample_13 &lt;dbl&gt; | lc_sample_14 &lt;dbl&gt; | lc_sample_15 &lt;dbl&gt; | lc_sample_16 &lt;dbl&gt; | lc_sample_17 &lt;dbl&gt; | lc_sample_18 &lt;dbl&gt; |\n",
       "|---|---|---|---|---|---|---|---|---|---|---|---|---|---|---|---|---|---|---|---|---|---|\n",
       "| 1 | -0.05857765 | -1.2150641 |  0.33415945 | -0.8050949 |  0.8050949 | -0.07697868 | -0.02076585 | -0.02937368 | -0.04800154 | -0.01198744 | ⋯ | -0.1176365 | -0.01695402 | -0.04155859 | -0.01198744 | -0.1684307 | -0.2582001 | -0.01198744 | -0.06579519 | -0.02937368 | -0.02398006 |\n",
       "| 3 | -0.05430107 |  0.8611406 |  0.13859745 |  1.2419111 | -1.2419111 | -0.07697868 | -0.02076585 | -0.02937368 | -0.04800154 | -0.01198744 | ⋯ | -0.1176365 | -0.01695402 | -0.04155859 | -0.01198744 | -0.1684307 | -0.2582001 | -0.01198744 | -0.06579519 | -0.02937368 | -0.02398006 |\n",
       "| 4 | -0.05263304 | -1.9997622 |  1.54653469 | -0.8050949 |  0.8050949 | -0.07697868 | -0.02076585 | -0.02937368 | -0.04800154 | -0.01198744 | ⋯ | -0.1176365 | -0.01695402 | -0.04155859 | -0.01198744 | -0.1684307 | -0.2582001 | -0.01198744 | -0.06579519 | -0.02937368 | -0.02398006 |\n",
       "| 5 | -0.04275316 |  1.0793529 | -0.04259661 |  1.2419111 | -1.2419111 | -0.07697868 | -0.02076585 | -0.02937368 | -0.04800154 | -0.01198744 | ⋯ | -0.1176365 | -0.01695402 | -0.04155859 | -0.01198744 | -0.1684307 | -0.2582001 | -0.01198744 | -0.06579519 | -0.02937368 | -0.02398006 |\n",
       "| 7 | -0.05874632 |  0.3941938 | -1.16466512 | -0.8050949 |  0.8050949 | -0.07697868 | -0.02076585 | -0.02937368 | -0.04800154 | -0.01198744 | ⋯ | -0.1176365 | -0.01695402 | -0.04155859 | -0.01198744 | -0.1684307 | -0.2582001 | -0.01198744 | -0.06579519 | -0.02937368 | -0.02398006 |\n",
       "| 8 | -0.05834605 |  0.4158330 |  1.46163395 |  1.2419111 | -1.2419111 | -0.07697868 | -0.02076585 | -0.02937368 | -0.04800154 | -0.01198744 | ⋯ | -0.1176365 | -0.01695402 | -0.04155859 | -0.01198744 | -0.1684307 | -0.2582001 | -0.01198744 | -0.06579519 | -0.02937368 | -0.02398006 |\n",
       "\n"
      ],
      "text/plain": [
       "  mass        latitude   longitude   fell_found_Fell fell_found_Found\n",
       "1 -0.05857765 -1.2150641  0.33415945 -0.8050949       0.8050949      \n",
       "3 -0.05430107  0.8611406  0.13859745  1.2419111      -1.2419111      \n",
       "4 -0.05263304 -1.9997622  1.54653469 -0.8050949       0.8050949      \n",
       "5 -0.04275316  1.0793529 -0.04259661  1.2419111      -1.2419111      \n",
       "7 -0.05874632  0.3941938 -1.16466512 -0.8050949       0.8050949      \n",
       "8 -0.05834605  0.4158330  1.46163395  1.2419111      -1.2419111      \n",
       "  group_Acapulcoite group_Achondrite group_Angrite group_Aubrite\n",
       "1 -0.07697868       -0.02076585      -0.02937368   -0.04800154  \n",
       "3 -0.07697868       -0.02076585      -0.02937368   -0.04800154  \n",
       "4 -0.07697868       -0.02076585      -0.02937368   -0.04800154  \n",
       "5 -0.07697868       -0.02076585      -0.02937368   -0.04800154  \n",
       "7 -0.07697868       -0.02076585      -0.02937368   -0.04800154  \n",
       "8 -0.07697868       -0.02076585      -0.02937368   -0.04800154  \n",
       "  group_Brachinite ⋯ lc_sample_8 lc_sample_9 lc_sample_10 lc_sample_12\n",
       "1 -0.01198744      ⋯ -0.1176365  -0.01695402 -0.04155859  -0.01198744 \n",
       "3 -0.01198744      ⋯ -0.1176365  -0.01695402 -0.04155859  -0.01198744 \n",
       "4 -0.01198744      ⋯ -0.1176365  -0.01695402 -0.04155859  -0.01198744 \n",
       "5 -0.01198744      ⋯ -0.1176365  -0.01695402 -0.04155859  -0.01198744 \n",
       "7 -0.01198744      ⋯ -0.1176365  -0.01695402 -0.04155859  -0.01198744 \n",
       "8 -0.01198744      ⋯ -0.1176365  -0.01695402 -0.04155859  -0.01198744 \n",
       "  lc_sample_13 lc_sample_14 lc_sample_15 lc_sample_16 lc_sample_17 lc_sample_18\n",
       "1 -0.1684307   -0.2582001   -0.01198744  -0.06579519  -0.02937368  -0.02398006 \n",
       "3 -0.1684307   -0.2582001   -0.01198744  -0.06579519  -0.02937368  -0.02398006 \n",
       "4 -0.1684307   -0.2582001   -0.01198744  -0.06579519  -0.02937368  -0.02398006 \n",
       "5 -0.1684307   -0.2582001   -0.01198744  -0.06579519  -0.02937368  -0.02398006 \n",
       "7 -0.1684307   -0.2582001   -0.01198744  -0.06579519  -0.02937368  -0.02398006 \n",
       "8 -0.1684307   -0.2582001   -0.01198744  -0.06579519  -0.02937368  -0.02398006 "
      ]
     },
     "metadata": {},
     "output_type": "display_data"
    }
   ],
   "source": [
    "standard_vars <- as.data.frame(scale(meteorite_train_data[!sapply(meteorite_train_data,class) %in% c('factor')]))\n",
    "\n",
    "dim(standard_vars)\n",
    "head(standard_vars)"
   ]
  },
  {
   "cell_type": "code",
   "execution_count": 71,
   "metadata": {},
   "outputs": [
    {
     "data": {
      "text/plain": [
       "Importance of components:\n",
       "                          PC1     PC2     PC3     PC4     PC5     PC6     PC7\n",
       "Standard deviation     2.3036 1.59853 1.40162 1.32925 1.21453 1.20557 1.15301\n",
       "Proportion of Variance 0.0737 0.03549 0.02729 0.02454 0.02049 0.02019 0.01846\n",
       "Cumulative Proportion  0.0737 0.10919 0.13648 0.16102 0.18150 0.20169 0.22015\n",
       "                          PC8     PC9    PC10    PC11    PC12    PC13   PC14\n",
       "Standard deviation     1.1386 1.12647 1.10428 1.09370 1.09019 1.07032 1.0597\n",
       "Proportion of Variance 0.0180 0.01762 0.01694 0.01661 0.01651 0.01591 0.0156\n",
       "Cumulative Proportion  0.2382 0.25578 0.27272 0.28933 0.30584 0.32175 0.3373\n",
       "                          PC15    PC16    PC17    PC18    PC19    PC20    PC21\n",
       "Standard deviation     1.05371 1.04425 1.03949 1.03282 1.02826 1.02688 1.01275\n",
       "Proportion of Variance 0.01542 0.01515 0.01501 0.01482 0.01468 0.01465 0.01425\n",
       "Cumulative Proportion  0.35277 0.36791 0.38292 0.39774 0.41242 0.42707 0.44131\n",
       "                          PC22    PC23    PC24    PC25    PC26    PC27    PC28\n",
       "Standard deviation     1.01033 1.00921 1.00515 1.00356 1.00302 1.00218 1.00136\n",
       "Proportion of Variance 0.01418 0.01415 0.01403 0.01399 0.01397 0.01395 0.01393\n",
       "Cumulative Proportion  0.45549 0.46964 0.48367 0.49766 0.51163 0.52558 0.53950\n",
       "                          PC29    PC30    PC31    PC32    PC33    PC34    PC35\n",
       "Standard deviation     1.00125 1.00109 1.00097 1.00082 1.00073 1.00072 1.00062\n",
       "Proportion of Variance 0.01392 0.01392 0.01392 0.01391 0.01391 0.01391 0.01391\n",
       "Cumulative Proportion  0.55343 0.56735 0.58126 0.59517 0.60908 0.62299 0.63690\n",
       "                          PC36   PC37   PC38   PC39   PC40   PC41   PC42   PC43\n",
       "Standard deviation     1.00058 1.0005 1.0005 1.0004 1.0004 1.0004 1.0003 1.0003\n",
       "Proportion of Variance 0.01391 0.0139 0.0139 0.0139 0.0139 0.0139 0.0139 0.0139\n",
       "Cumulative Proportion  0.65080 0.6647 0.6786 0.6925 0.7064 0.7203 0.7342 0.7481\n",
       "                         PC44    PC45    PC46    PC47    PC48    PC49    PC50\n",
       "Standard deviation     1.0002 1.00011 1.00010 0.99965 0.99932 0.99459 0.98925\n",
       "Proportion of Variance 0.0139 0.01389 0.01389 0.01388 0.01387 0.01374 0.01359\n",
       "Cumulative Proportion  0.7620 0.77589 0.78978 0.80366 0.81753 0.83127 0.84486\n",
       "                          PC51    PC52   PC53    PC54    PC55    PC56    PC57\n",
       "Standard deviation     0.97885 0.97318 0.9636 0.95533 0.95116 0.93567 0.92533\n",
       "Proportion of Variance 0.01331 0.01315 0.0129 0.01268 0.01257 0.01216 0.01189\n",
       "Cumulative Proportion  0.85817 0.87132 0.8842 0.89690 0.90946 0.92162 0.93351\n",
       "                          PC58    PC59    PC60    PC61    PC62    PC63    PC64\n",
       "Standard deviation     0.89895 0.89080 0.87620 0.86349 0.83960 0.80081 0.57084\n",
       "Proportion of Variance 0.01122 0.01102 0.01066 0.01036 0.00979 0.00891 0.00453\n",
       "Cumulative Proportion  0.94474 0.95576 0.96642 0.97678 0.98657 0.99547 1.00000\n",
       "                            PC65      PC66     PC67      PC68     PC69     PC70\n",
       "Standard deviation     8.339e-15 7.472e-15 5.44e-15 5.226e-15 4.77e-15 4.67e-15\n",
       "Proportion of Variance 0.000e+00 0.000e+00 0.00e+00 0.000e+00 0.00e+00 0.00e+00\n",
       "Cumulative Proportion  1.000e+00 1.000e+00 1.00e+00 1.000e+00 1.00e+00 1.00e+00\n",
       "                            PC71      PC72\n",
       "Standard deviation     1.578e-15 4.566e-16\n",
       "Proportion of Variance 0.000e+00 0.000e+00\n",
       "Cumulative Proportion  1.000e+00 1.000e+00"
      ]
     },
     "metadata": {},
     "output_type": "display_data"
    }
   ],
   "source": [
    "meteorite_train_data_pca <- prcomp(na.omit(standard_vars), center = TRUE, scale = TRUE)\n",
    "\n",
    "summary(meteorite_train_data_pca)"
   ]
  },
  {
   "cell_type": "code",
   "execution_count": 72,
   "metadata": {},
   "outputs": [
    {
     "data": {
      "image/png": "[encoded data removed]",
      "text/plain": [
       "Plot with title “meteorite_train_data_pca”"
      ]
     },
     "metadata": {
      "image/png": {
       "height": 420,
       "width": 420
      }
     },
     "output_type": "display_data"
    }
   ],
   "source": [
    "screeplot(meteorite_train_data_pca, type=\"lines\")"
   ]
  },
  {
   "cell_type": "code",
   "execution_count": 73,
   "metadata": {
    "scrolled": false
   },
   "outputs": [
    {
     "data": {
      "image/png": "[encoded data removed]",
      "text/plain": [
       "plot without title"
      ]
     },
     "metadata": {
      "image/png": {
       "height": 420,
       "width": 420
      }
     },
     "output_type": "display_data"
    }
   ],
   "source": [
    "#first 4.\n",
    "\n",
    "biplot(meteorite_train_data_pca, scale=0)"
   ]
  },
  {
   "cell_type": "code",
   "execution_count": 83,
   "metadata": {},
   "outputs": [
    {
     "data": {
      "text/html": [
       "<style>\n",
       ".list-inline {list-style: none; margin:0; padding: 0}\n",
       ".list-inline>li {display: inline-block}\n",
       ".list-inline>li:not(:last-child)::after {content: \"\\00b7\"; padding: 0 .5ex}\n",
       "</style>\n",
       "<ol class=list-inline><li>6856</li><li>72</li></ol>\n"
      ],
      "text/latex": [
       "\\begin{enumerate*}\n",
       "\\item 6856\n",
       "\\item 72\n",
       "\\end{enumerate*}\n"
      ],
      "text/markdown": [
       "1. 6856\n",
       "2. 72\n",
       "\n",
       "\n"
      ],
      "text/plain": [
       "[1] 6856   72"
      ]
     },
     "metadata": {},
     "output_type": "display_data"
    }
   ],
   "source": [
    "dim(meteorite_train_data_pca$x)"
   ]
  },
  {
   "cell_type": "code",
   "execution_count": 118,
   "metadata": {},
   "outputs": [],
   "source": [
    "# PCA analysis..."
   ]
  },
  {
   "cell_type": "code",
   "execution_count": 107,
   "metadata": {},
   "outputs": [
    {
     "data": {
      "text/plain": [
       "\n",
       "Call:\n",
       "lm(formula = meteorite_train_data$latitude[1:6856] + meteorite_train_data$longitude[1:6856] ~ \n",
       "    meteorite_train_data_pca$x[, 1] + meteorite_train_data_pca$x[, \n",
       "        2] + meteorite_train_data_pca$x[, 3] + meteorite_train_data_pca$x[, \n",
       "        4])\n",
       "\n",
       "Residuals:\n",
       "    Min      1Q  Median      3Q     Max \n",
       "-177.01  -87.43   20.43   68.44  191.39 \n",
       "\n",
       "Coefficients:\n",
       "                                Estimate Std. Error t value Pr(>|t|)    \n",
       "(Intercept)                      25.9251     1.0051  25.795   <2e-16 ***\n",
       "meteorite_train_data_pca$x[, 1]   0.1218     0.4363   0.279    0.780    \n",
       "meteorite_train_data_pca$x[, 2]   0.2282     0.6288   0.363    0.717    \n",
       "meteorite_train_data_pca$x[, 3]   0.7033     0.7171   0.981    0.327    \n",
       "meteorite_train_data_pca$x[, 4]   0.9128     0.7562   1.207    0.227    \n",
       "---\n",
       "Signif. codes:  0 ‘***’ 0.001 ‘**’ 0.01 ‘*’ 0.05 ‘.’ 0.1 ‘ ’ 1\n",
       "\n",
       "Residual standard error: 83.22 on 6851 degrees of freedom\n",
       "Multiple R-squared:  0.0003836,\tAdjusted R-squared:  -0.0002001 \n",
       "F-statistic: 0.6572 on 4 and 6851 DF,  p-value: 0.6218\n"
      ]
     },
     "metadata": {},
     "output_type": "display_data"
    }
   ],
   "source": [
    "fit = lm(meteorite_train_data$latitude[1:6856] + meteorite_train_data$longitude[1:6856]  ~ meteorite_train_data_pca$x[,1] + meteorite_train_data_pca$x[,2] + meteorite_train_data_pca$x[,3] + meteorite_train_data_pca$x[,4])\n",
    "summary(fit)"
   ]
  },
  {
   "cell_type": "code",
   "execution_count": 108,
   "metadata": {},
   "outputs": [
    {
     "data": {
      "text/plain": [
       "\n",
       "Call:\n",
       "lm(formula = meteorite_train_data$mass[1:6856] ~ meteorite_train_data_pca$x[, \n",
       "    1] + meteorite_train_data_pca$x[, 2] + meteorite_train_data_pca$x[, \n",
       "    3] + meteorite_train_data_pca$x[, 4])\n",
       "\n",
       "Residuals:\n",
       "     Min       1Q   Median       3Q      Max \n",
       " -240482  -107589   -85330   -45608 59912477 \n",
       "\n",
       "Coefficients:\n",
       "                                Estimate Std. Error t value Pr(>|t|)    \n",
       "(Intercept)                        92206      18963   4.862 1.19e-06 ***\n",
       "meteorite_train_data_pca$x[, 1]    -8024       8233  -0.975    0.330    \n",
       "meteorite_train_data_pca$x[, 2]     2628      11864   0.221    0.825    \n",
       "meteorite_train_data_pca$x[, 3]    21704      13530   1.604    0.109    \n",
       "meteorite_train_data_pca$x[, 4]     7122      14267   0.499    0.618    \n",
       "---\n",
       "Signif. codes:  0 ‘***’ 0.001 ‘**’ 0.01 ‘*’ 0.05 ‘.’ 0.1 ‘ ’ 1\n",
       "\n",
       "Residual standard error: 1570000 on 6851 degrees of freedom\n",
       "Multiple R-squared:  0.0005575,\tAdjusted R-squared:  -2.605e-05 \n",
       "F-statistic: 0.9554 on 4 and 6851 DF,  p-value: 0.4308\n"
      ]
     },
     "metadata": {},
     "output_type": "display_data"
    }
   ],
   "source": [
    "fit = lm(meteorite_train_data$mass[1:6856] ~ meteorite_train_data_pca$x[,1] + meteorite_train_data_pca$x[,2] + meteorite_train_data_pca$x[,3] + meteorite_train_data_pca$x[,4])\n",
    "summary(fit)"
   ]
  },
  {
   "cell_type": "code",
   "execution_count": 119,
   "metadata": {},
   "outputs": [],
   "source": [
    "#no correlation.  Let's just try individual factors against mass and lat/long"
   ]
  },
  {
   "cell_type": "code",
   "execution_count": 120,
   "metadata": {},
   "outputs": [
    {
     "data": {
      "text/plain": [
       "\n",
       "Call:\n",
       "lm(formula = meteorite_train_data$longitude + meteorite_train_data$latitude ~ \n",
       "    meteorite_train_data$fell_found_Found)\n",
       "\n",
       "Residuals:\n",
       "     Min       1Q   Median       3Q      Max \n",
       "-193.855  -69.940   -3.538   70.530  209.541 \n",
       "\n",
       "Coefficients:\n",
       "                                      Estimate Std. Error t value Pr(>|t|)    \n",
       "(Intercept)                             57.288      1.515   37.82   <2e-16 ***\n",
       "meteorite_train_data$fell_found_Found  -51.496      1.945  -26.48   <2e-16 ***\n",
       "---\n",
       "Signif. codes:  0 ‘***’ 0.001 ‘**’ 0.01 ‘*’ 0.05 ‘.’ 0.1 ‘ ’ 1\n",
       "\n",
       "Residual standard error: 79.25 on 6957 degrees of freedom\n",
       "Multiple R-squared:  0.09155,\tAdjusted R-squared:  0.09141 \n",
       "F-statistic: 701.1 on 1 and 6957 DF,  p-value: < 2.2e-16\n"
      ]
     },
     "metadata": {},
     "output_type": "display_data"
    }
   ],
   "source": [
    "fit = lm(meteorite_train_data$longitude + meteorite_train_data$latitude ~ meteorite_train_data$fell_found_Found)\n",
    "summary(fit)"
   ]
  },
  {
   "cell_type": "code",
   "execution_count": 121,
   "metadata": {},
   "outputs": [
    {
     "data": {
      "text/plain": [
       "\n",
       "Call:\n",
       "lm(formula = meteorite_train_data$longitude + meteorite_train_data$latitude ~ \n",
       "    meteorite_train_data$chondrite_Chondrite)\n",
       "\n",
       "Residuals:\n",
       "    Min      1Q  Median      3Q     Max \n",
       "-164.82  -87.24   17.60   68.00  199.75 \n",
       "\n",
       "Coefficients:\n",
       "                                         Estimate Std. Error t value Pr(>|t|)\n",
       "(Intercept)                                15.587      1.885   8.268  < 2e-16\n",
       "meteorite_train_data$chondrite_Chondrite   12.671      2.221   5.704 1.22e-08\n",
       "                                            \n",
       "(Intercept)                              ***\n",
       "meteorite_train_data$chondrite_Chondrite ***\n",
       "---\n",
       "Signif. codes:  0 ‘***’ 0.001 ‘**’ 0.01 ‘*’ 0.05 ‘.’ 0.1 ‘ ’ 1\n",
       "\n",
       "Residual standard error: 82.58 on 6854 degrees of freedom\n",
       "  (103 observations deleted due to missingness)\n",
       "Multiple R-squared:  0.004724,\tAdjusted R-squared:  0.004579 \n",
       "F-statistic: 32.54 on 1 and 6854 DF,  p-value: 1.219e-08\n"
      ]
     },
     "metadata": {},
     "output_type": "display_data"
    }
   ],
   "source": [
    "fit = lm(meteorite_train_data$longitude + meteorite_train_data$latitude ~ meteorite_train_data$chondrite_Chondrite)\n",
    "summary(fit)"
   ]
  },
  {
   "cell_type": "code",
   "execution_count": 123,
   "metadata": {},
   "outputs": [
    {
     "data": {
      "text/html": [
       "<style>\n",
       ".list-inline {list-style: none; margin:0; padding: 0}\n",
       ".list-inline>li {display: inline-block}\n",
       ".list-inline>li:not(:last-child)::after {content: \"\\00b7\"; padding: 0 .5ex}\n",
       "</style>\n",
       "<ol class=list-inline><li>'mass'</li><li>'latitude'</li><li>'longitude'</li><li>'fell_found_Fell'</li><li>'fell_found_Found'</li><li>'group_Acapulcoite'</li><li>'group_Achondrite'</li><li>'group_Angrite'</li><li>'group_Aubrite'</li><li>'group_Brachinite'</li><li>'group_CB'</li><li>'group_Chondrite'</li><li>'group_CI'</li><li>'group_CK'</li><li>'group_CM'</li><li>'group_CO'</li><li>'group_CR'</li><li>'group_CV'</li><li>'group_Diogenite'</li><li>'group_Eagle Station Group'</li><li>'group_EH'</li><li>'group_EL'</li><li>'group_Eucrite'</li><li>'group_H'</li><li>'group_H,L, or LL'</li><li>'group_Howardite'</li><li>'group_Iron'</li><li>'group_Iron IAB'</li><li>'group_Iron IC'</li><li>'group_Iron IIAB'</li><li>'group_Iron IIC'</li><li>'group_Iron IID'</li><li>'group_Iron IIE'</li><li>'group_Iron IIF'</li><li>'group_Iron IIG'</li><li>'group_Iron IIIAB'</li><li>'group_Iron IIIE'</li><li>'group_Iron IIIF'</li><li>'group_Iron IVA'</li><li>'group_Iron IVB'</li><li>'group_Kakangari'</li><li>'group_L'</li><li>'group_LL'</li><li>'group_Lunar'</li><li>'group_Main Group'</li><li>'group_Mesosiderite'</li><li>'group_Nakhilite'</li><li>'group_Rumuruti'</li><li>'group_Shergottite'</li><li>'group_Ungrouped'</li><li>'group_Ureilite'</li><li>'group_Winonaite'</li><li>'chondrite_Achondrite'</li><li>'chondrite_Chondrite'</li><li>'type_Iron'</li><li>'type_Stony'</li><li>'type_Stony-Iron'</li><li>'lc_sample_0'</li><li>'lc_sample_1'</li><li>'lc_sample_2'</li><li>'lc_sample_6'</li><li>'lc_sample_7'</li><li>'lc_sample_8'</li><li>'lc_sample_9'</li><li>'lc_sample_10'</li><li>'lc_sample_12'</li><li>'lc_sample_13'</li><li>'lc_sample_14'</li><li>'lc_sample_15'</li><li>'lc_sample_16'</li><li>'lc_sample_17'</li><li>'lc_sample_18'</li></ol>\n"
      ],
      "text/latex": [
       "\\begin{enumerate*}\n",
       "\\item 'mass'\n",
       "\\item 'latitude'\n",
       "\\item 'longitude'\n",
       "\\item 'fell\\_found\\_Fell'\n",
       "\\item 'fell\\_found\\_Found'\n",
       "\\item 'group\\_Acapulcoite'\n",
       "\\item 'group\\_Achondrite'\n",
       "\\item 'group\\_Angrite'\n",
       "\\item 'group\\_Aubrite'\n",
       "\\item 'group\\_Brachinite'\n",
       "\\item 'group\\_CB'\n",
       "\\item 'group\\_Chondrite'\n",
       "\\item 'group\\_CI'\n",
       "\\item 'group\\_CK'\n",
       "\\item 'group\\_CM'\n",
       "\\item 'group\\_CO'\n",
       "\\item 'group\\_CR'\n",
       "\\item 'group\\_CV'\n",
       "\\item 'group\\_Diogenite'\n",
       "\\item 'group\\_Eagle Station Group'\n",
       "\\item 'group\\_EH'\n",
       "\\item 'group\\_EL'\n",
       "\\item 'group\\_Eucrite'\n",
       "\\item 'group\\_H'\n",
       "\\item 'group\\_H,L, or LL'\n",
       "\\item 'group\\_Howardite'\n",
       "\\item 'group\\_Iron'\n",
       "\\item 'group\\_Iron IAB'\n",
       "\\item 'group\\_Iron IC'\n",
       "\\item 'group\\_Iron IIAB'\n",
       "\\item 'group\\_Iron IIC'\n",
       "\\item 'group\\_Iron IID'\n",
       "\\item 'group\\_Iron IIE'\n",
       "\\item 'group\\_Iron IIF'\n",
       "\\item 'group\\_Iron IIG'\n",
       "\\item 'group\\_Iron IIIAB'\n",
       "\\item 'group\\_Iron IIIE'\n",
       "\\item 'group\\_Iron IIIF'\n",
       "\\item 'group\\_Iron IVA'\n",
       "\\item 'group\\_Iron IVB'\n",
       "\\item 'group\\_Kakangari'\n",
       "\\item 'group\\_L'\n",
       "\\item 'group\\_LL'\n",
       "\\item 'group\\_Lunar'\n",
       "\\item 'group\\_Main Group'\n",
       "\\item 'group\\_Mesosiderite'\n",
       "\\item 'group\\_Nakhilite'\n",
       "\\item 'group\\_Rumuruti'\n",
       "\\item 'group\\_Shergottite'\n",
       "\\item 'group\\_Ungrouped'\n",
       "\\item 'group\\_Ureilite'\n",
       "\\item 'group\\_Winonaite'\n",
       "\\item 'chondrite\\_Achondrite'\n",
       "\\item 'chondrite\\_Chondrite'\n",
       "\\item 'type\\_Iron'\n",
       "\\item 'type\\_Stony'\n",
       "\\item 'type\\_Stony-Iron'\n",
       "\\item 'lc\\_sample\\_0'\n",
       "\\item 'lc\\_sample\\_1'\n",
       "\\item 'lc\\_sample\\_2'\n",
       "\\item 'lc\\_sample\\_6'\n",
       "\\item 'lc\\_sample\\_7'\n",
       "\\item 'lc\\_sample\\_8'\n",
       "\\item 'lc\\_sample\\_9'\n",
       "\\item 'lc\\_sample\\_10'\n",
       "\\item 'lc\\_sample\\_12'\n",
       "\\item 'lc\\_sample\\_13'\n",
       "\\item 'lc\\_sample\\_14'\n",
       "\\item 'lc\\_sample\\_15'\n",
       "\\item 'lc\\_sample\\_16'\n",
       "\\item 'lc\\_sample\\_17'\n",
       "\\item 'lc\\_sample\\_18'\n",
       "\\end{enumerate*}\n"
      ],
      "text/markdown": [
       "1. 'mass'\n",
       "2. 'latitude'\n",
       "3. 'longitude'\n",
       "4. 'fell_found_Fell'\n",
       "5. 'fell_found_Found'\n",
       "6. 'group_Acapulcoite'\n",
       "7. 'group_Achondrite'\n",
       "8. 'group_Angrite'\n",
       "9. 'group_Aubrite'\n",
       "10. 'group_Brachinite'\n",
       "11. 'group_CB'\n",
       "12. 'group_Chondrite'\n",
       "13. 'group_CI'\n",
       "14. 'group_CK'\n",
       "15. 'group_CM'\n",
       "16. 'group_CO'\n",
       "17. 'group_CR'\n",
       "18. 'group_CV'\n",
       "19. 'group_Diogenite'\n",
       "20. 'group_Eagle Station Group'\n",
       "21. 'group_EH'\n",
       "22. 'group_EL'\n",
       "23. 'group_Eucrite'\n",
       "24. 'group_H'\n",
       "25. 'group_H,L, or LL'\n",
       "26. 'group_Howardite'\n",
       "27. 'group_Iron'\n",
       "28. 'group_Iron IAB'\n",
       "29. 'group_Iron IC'\n",
       "30. 'group_Iron IIAB'\n",
       "31. 'group_Iron IIC'\n",
       "32. 'group_Iron IID'\n",
       "33. 'group_Iron IIE'\n",
       "34. 'group_Iron IIF'\n",
       "35. 'group_Iron IIG'\n",
       "36. 'group_Iron IIIAB'\n",
       "37. 'group_Iron IIIE'\n",
       "38. 'group_Iron IIIF'\n",
       "39. 'group_Iron IVA'\n",
       "40. 'group_Iron IVB'\n",
       "41. 'group_Kakangari'\n",
       "42. 'group_L'\n",
       "43. 'group_LL'\n",
       "44. 'group_Lunar'\n",
       "45. 'group_Main Group'\n",
       "46. 'group_Mesosiderite'\n",
       "47. 'group_Nakhilite'\n",
       "48. 'group_Rumuruti'\n",
       "49. 'group_Shergottite'\n",
       "50. 'group_Ungrouped'\n",
       "51. 'group_Ureilite'\n",
       "52. 'group_Winonaite'\n",
       "53. 'chondrite_Achondrite'\n",
       "54. 'chondrite_Chondrite'\n",
       "55. 'type_Iron'\n",
       "56. 'type_Stony'\n",
       "57. 'type_Stony-Iron'\n",
       "58. 'lc_sample_0'\n",
       "59. 'lc_sample_1'\n",
       "60. 'lc_sample_2'\n",
       "61. 'lc_sample_6'\n",
       "62. 'lc_sample_7'\n",
       "63. 'lc_sample_8'\n",
       "64. 'lc_sample_9'\n",
       "65. 'lc_sample_10'\n",
       "66. 'lc_sample_12'\n",
       "67. 'lc_sample_13'\n",
       "68. 'lc_sample_14'\n",
       "69. 'lc_sample_15'\n",
       "70. 'lc_sample_16'\n",
       "71. 'lc_sample_17'\n",
       "72. 'lc_sample_18'\n",
       "\n",
       "\n"
      ],
      "text/plain": [
       " [1] \"mass\"                      \"latitude\"                 \n",
       " [3] \"longitude\"                 \"fell_found_Fell\"          \n",
       " [5] \"fell_found_Found\"          \"group_Acapulcoite\"        \n",
       " [7] \"group_Achondrite\"          \"group_Angrite\"            \n",
       " [9] \"group_Aubrite\"             \"group_Brachinite\"         \n",
       "[11] \"group_CB\"                  \"group_Chondrite\"          \n",
       "[13] \"group_CI\"                  \"group_CK\"                 \n",
       "[15] \"group_CM\"                  \"group_CO\"                 \n",
       "[17] \"group_CR\"                  \"group_CV\"                 \n",
       "[19] \"group_Diogenite\"           \"group_Eagle Station Group\"\n",
       "[21] \"group_EH\"                  \"group_EL\"                 \n",
       "[23] \"group_Eucrite\"             \"group_H\"                  \n",
       "[25] \"group_H,L, or LL\"          \"group_Howardite\"          \n",
       "[27] \"group_Iron\"                \"group_Iron IAB\"           \n",
       "[29] \"group_Iron IC\"             \"group_Iron IIAB\"          \n",
       "[31] \"group_Iron IIC\"            \"group_Iron IID\"           \n",
       "[33] \"group_Iron IIE\"            \"group_Iron IIF\"           \n",
       "[35] \"group_Iron IIG\"            \"group_Iron IIIAB\"         \n",
       "[37] \"group_Iron IIIE\"           \"group_Iron IIIF\"          \n",
       "[39] \"group_Iron IVA\"            \"group_Iron IVB\"           \n",
       "[41] \"group_Kakangari\"           \"group_L\"                  \n",
       "[43] \"group_LL\"                  \"group_Lunar\"              \n",
       "[45] \"group_Main Group\"          \"group_Mesosiderite\"       \n",
       "[47] \"group_Nakhilite\"           \"group_Rumuruti\"           \n",
       "[49] \"group_Shergottite\"         \"group_Ungrouped\"          \n",
       "[51] \"group_Ureilite\"            \"group_Winonaite\"          \n",
       "[53] \"chondrite_Achondrite\"      \"chondrite_Chondrite\"      \n",
       "[55] \"type_Iron\"                 \"type_Stony\"               \n",
       "[57] \"type_Stony-Iron\"           \"lc_sample_0\"              \n",
       "[59] \"lc_sample_1\"               \"lc_sample_2\"              \n",
       "[61] \"lc_sample_6\"               \"lc_sample_7\"              \n",
       "[63] \"lc_sample_8\"               \"lc_sample_9\"              \n",
       "[65] \"lc_sample_10\"              \"lc_sample_12\"             \n",
       "[67] \"lc_sample_13\"              \"lc_sample_14\"             \n",
       "[69] \"lc_sample_15\"              \"lc_sample_16\"             \n",
       "[71] \"lc_sample_17\"              \"lc_sample_18\"             "
      ]
     },
     "metadata": {},
     "output_type": "display_data"
    }
   ],
   "source": [
    "#There is a significant correlation between geolocation (lat + long) and if a meteorite was found or seen falling."
   ]
  },
  {
   "cell_type": "code",
   "execution_count": 125,
   "metadata": {},
   "outputs": [
    {
     "data": {
      "text/plain": [
       "\n",
       "Call:\n",
       "lm(formula = meteorite_train_data$mass ~ meteorite_train_data$lc_sample_0)\n",
       "\n",
       "Residuals:\n",
       "     Min       1Q   Median       3Q      Max \n",
       " -154630  -152542   -60430   -13541 59845370 \n",
       "\n",
       "Coefficients:\n",
       "                                 Estimate Std. Error t value Pr(>|t|)    \n",
       "(Intercept)                        154630      25233   6.128 9.38e-10 ***\n",
       "meteorite_train_data$lc_sample_0  -139157      37504  -3.710 0.000209 ***\n",
       "---\n",
       "Signif. codes:  0 ‘***’ 0.001 ‘**’ 0.01 ‘*’ 0.05 ‘.’ 0.1 ‘ ’ 1\n",
       "\n",
       "Residual standard error: 1557000 on 6957 degrees of freedom\n",
       "Multiple R-squared:  0.001975,\tAdjusted R-squared:  0.001832 \n",
       "F-statistic: 13.77 on 1 and 6957 DF,  p-value: 0.0002085\n"
      ]
     },
     "metadata": {},
     "output_type": "display_data"
    }
   ],
   "source": [
    "fit = lm(meteorite_train_data$mass ~ meteorite_train_data$lc_sample_0)\n",
    "summary(fit)"
   ]
  },
  {
   "cell_type": "code",
   "execution_count": 126,
   "metadata": {},
   "outputs": [
    {
     "data": {
      "text/plain": [
       "\n",
       "Call:\n",
       "lm(formula = meteorite_train_data$mass ~ meteorite_train_data$lc_sample_1)\n",
       "\n",
       "Residuals:\n",
       "     Min       1Q   Median       3Q      Max \n",
       "  -96488   -96113   -93688   -69488 59903512 \n",
       "\n",
       "Coefficients:\n",
       "                                 Estimate Std. Error t value Pr(>|t|)    \n",
       "(Intercept)                         96488      19890   4.851 1.25e-06 ***\n",
       "meteorite_train_data$lc_sample_1   -41294      58049  -0.711    0.477    \n",
       "---\n",
       "Signif. codes:  0 ‘***’ 0.001 ‘**’ 0.01 ‘*’ 0.05 ‘.’ 0.1 ‘ ’ 1\n",
       "\n",
       "Residual standard error: 1559000 on 6957 degrees of freedom\n",
       "Multiple R-squared:  7.273e-05,\tAdjusted R-squared:  -7.1e-05 \n",
       "F-statistic: 0.506 on 1 and 6957 DF,  p-value: 0.4769\n"
      ]
     },
     "metadata": {},
     "output_type": "display_data"
    }
   ],
   "source": [
    "fit = lm(meteorite_train_data$mass ~ meteorite_train_data$lc_sample_1)\n",
    "summary(fit)"
   ]
  },
  {
   "cell_type": "code",
   "execution_count": 127,
   "metadata": {},
   "outputs": [
    {
     "data": {
      "text/plain": [
       "\n",
       "Call:\n",
       "lm(formula = meteorite_train_data$mass ~ meteorite_train_data$lc_sample_2)\n",
       "\n",
       "Residuals:\n",
       "     Min       1Q   Median       3Q      Max \n",
       " -215521  -190221   -33777   -29889 59784479 \n",
       "\n",
       "Coefficients:\n",
       "                                 Estimate Std. Error t value Pr(>|t|)    \n",
       "(Intercept)                         34144      22578   1.512    0.131    \n",
       "meteorite_train_data$lc_sample_2   181377      40100   4.523  6.2e-06 ***\n",
       "---\n",
       "Signif. codes:  0 ‘***’ 0.001 ‘**’ 0.01 ‘*’ 0.05 ‘.’ 0.1 ‘ ’ 1\n",
       "\n",
       "Residual standard error: 1557000 on 6957 degrees of freedom\n",
       "Multiple R-squared:  0.002932,\tAdjusted R-squared:  0.002789 \n",
       "F-statistic: 20.46 on 1 and 6957 DF,  p-value: 6.196e-06\n"
      ]
     },
     "metadata": {},
     "output_type": "display_data"
    }
   ],
   "source": [
    "fit = lm(meteorite_train_data$mass ~ meteorite_train_data$lc_sample_2)\n",
    "summary(fit)"
   ]
  },
  {
   "cell_type": "code",
   "execution_count": 128,
   "metadata": {},
   "outputs": [
    {
     "data": {
      "text/plain": [
       "\n",
       "Call:\n",
       "lm(formula = meteorite_train_data$mass ~ meteorite_train_data$lc_sample_6)\n",
       "\n",
       "Residuals:\n",
       "     Min       1Q   Median       3Q      Max \n",
       "  -91698   -91331   -89428   -80857 59908302 \n",
       "\n",
       "Coefficients:\n",
       "                                 Estimate Std. Error t value Pr(>|t|)    \n",
       "(Intercept)                         91698      18694   4.905 9.55e-07 ***\n",
       "meteorite_train_data$lc_sample_6   -67394     636666  -0.106    0.916    \n",
       "---\n",
       "Signif. codes:  0 ‘***’ 0.001 ‘**’ 0.01 ‘*’ 0.05 ‘.’ 0.1 ‘ ’ 1\n",
       "\n",
       "Residual standard error: 1559000 on 6957 degrees of freedom\n",
       "Multiple R-squared:  1.611e-06,\tAdjusted R-squared:  -0.0001421 \n",
       "F-statistic: 0.01121 on 1 and 6957 DF,  p-value: 0.9157\n"
      ]
     },
     "metadata": {},
     "output_type": "display_data"
    }
   ],
   "source": [
    "fit = lm(meteorite_train_data$mass ~ meteorite_train_data$lc_sample_6)\n",
    "summary(fit)"
   ]
  },
  {
   "cell_type": "code",
   "execution_count": 129,
   "metadata": {},
   "outputs": [
    {
     "data": {
      "text/plain": [
       "\n",
       "Call:\n",
       "lm(formula = meteorite_train_data$mass ~ meteorite_train_data$lc_sample_7)\n",
       "\n",
       "Residuals:\n",
       "     Min       1Q   Median       3Q      Max \n",
       "  -91661   -91294   -89391   -80841 59908339 \n",
       "\n",
       "Coefficients:\n",
       "                                 Estimate Std. Error t value Pr(>|t|)    \n",
       "(Intercept)                         91661      18689   4.905 9.58e-07 ***\n",
       "meteorite_train_data$lc_sample_7   -72528    1102421  -0.066    0.948    \n",
       "---\n",
       "Signif. codes:  0 ‘***’ 0.001 ‘**’ 0.01 ‘*’ 0.05 ‘.’ 0.1 ‘ ’ 1\n",
       "\n",
       "Residual standard error: 1559000 on 6957 degrees of freedom\n",
       "Multiple R-squared:  6.221e-07,\tAdjusted R-squared:  -0.0001431 \n",
       "F-statistic: 0.004328 on 1 and 6957 DF,  p-value: 0.9475\n"
      ]
     },
     "metadata": {},
     "output_type": "display_data"
    }
   ],
   "source": [
    "fit = lm(meteorite_train_data$mass ~ meteorite_train_data$lc_sample_7)\n",
    "summary(fit)"
   ]
  },
  {
   "cell_type": "code",
   "execution_count": 130,
   "metadata": {},
   "outputs": [
    {
     "data": {
      "text/plain": [
       "\n",
       "Call:\n",
       "lm(formula = meteorite_train_data$mass ~ meteorite_train_data$lc_sample_8)\n",
       "\n",
       "Residuals:\n",
       "     Min       1Q   Median       3Q      Max \n",
       "  -92295   -91928   -89890   -80495 59907705 \n",
       "\n",
       "Coefficients:\n",
       "                                 Estimate Std. Error t value Pr(>|t|)    \n",
       "(Intercept)                         92295      18815   4.905 9.54e-07 ***\n",
       "meteorite_train_data$lc_sample_8   -47930     161035  -0.298    0.766    \n",
       "---\n",
       "Signif. codes:  0 ‘***’ 0.001 ‘**’ 0.01 ‘*’ 0.05 ‘.’ 0.1 ‘ ’ 1\n",
       "\n",
       "Residual standard error: 1559000 on 6957 degrees of freedom\n",
       "Multiple R-squared:  1.273e-05,\tAdjusted R-squared:  -0.000131 \n",
       "F-statistic: 0.08859 on 1 and 6957 DF,  p-value: 0.766\n"
      ]
     },
     "metadata": {},
     "output_type": "display_data"
    }
   ],
   "source": [
    "fit = lm(meteorite_train_data$mass ~ meteorite_train_data$lc_sample_8)\n",
    "summary(fit)"
   ]
  },
  {
   "cell_type": "code",
   "execution_count": 131,
   "metadata": {},
   "outputs": [
    {
     "data": {
      "text/plain": [
       "\n",
       "Call:\n",
       "lm(formula = meteorite_train_data$mass ~ meteorite_train_data$lc_sample_9)\n",
       "\n",
       "Residuals:\n",
       "     Min       1Q   Median       3Q      Max \n",
       "  -91659   -91292   -89389   -80818 59908341 \n",
       "\n",
       "Coefficients:\n",
       "                                 Estimate Std. Error t value Pr(>|t|)    \n",
       "(Intercept)                         91659      18689   4.904 9.58e-07 ***\n",
       "meteorite_train_data$lc_sample_9   -65009    1102421  -0.059    0.953    \n",
       "---\n",
       "Signif. codes:  0 ‘***’ 0.001 ‘**’ 0.01 ‘*’ 0.05 ‘.’ 0.1 ‘ ’ 1\n",
       "\n",
       "Residual standard error: 1559000 on 6957 degrees of freedom\n",
       "Multiple R-squared:  4.998e-07,\tAdjusted R-squared:  -0.0001432 \n",
       "F-statistic: 0.003477 on 1 and 6957 DF,  p-value: 0.953\n"
      ]
     },
     "metadata": {},
     "output_type": "display_data"
    }
   ],
   "source": [
    "fit = lm(meteorite_train_data$mass ~ meteorite_train_data$lc_sample_9)\n",
    "summary(fit)"
   ]
  },
  {
   "cell_type": "code",
   "execution_count": 132,
   "metadata": {},
   "outputs": [
    {
     "data": {
      "text/plain": [
       "\n",
       "Call:\n",
       "lm(formula = meteorite_train_data$mass ~ meteorite_train_data$lc_sample_10)\n",
       "\n",
       "Residuals:\n",
       "     Min       1Q   Median       3Q      Max \n",
       "  -91667   -91300   -89391   -80622 59908333 \n",
       "\n",
       "Coefficients:\n",
       "                                  Estimate Std. Error t value Pr(>|t|)    \n",
       "(Intercept)                          91667      18703   4.901 9.74e-07 ***\n",
       "meteorite_train_data$lc_sample_10   -15572     450385  -0.035    0.972    \n",
       "---\n",
       "Signif. codes:  0 ‘***’ 0.001 ‘**’ 0.01 ‘*’ 0.05 ‘.’ 0.1 ‘ ’ 1\n",
       "\n",
       "Residual standard error: 1559000 on 6957 degrees of freedom\n",
       "Multiple R-squared:  1.718e-07,\tAdjusted R-squared:  -0.0001436 \n",
       "F-statistic: 0.001195 on 1 and 6957 DF,  p-value: 0.9724\n"
      ]
     },
     "metadata": {},
     "output_type": "display_data"
    }
   ],
   "source": [
    "fit = lm(meteorite_train_data$mass ~ meteorite_train_data$lc_sample_10)\n",
    "summary(fit)"
   ]
  },
  {
   "cell_type": "code",
   "execution_count": 133,
   "metadata": {},
   "outputs": [
    {
     "data": {
      "text/plain": [
       "\n",
       "Call:\n",
       "lm(formula = meteorite_train_data$mass ~ meteorite_train_data$lc_sample_12)\n",
       "\n",
       "Residuals:\n",
       "     Min       1Q   Median       3Q      Max \n",
       "  -91653   -91286   -89383   -80812 59908347 \n",
       "\n",
       "Coefficients:\n",
       "                                  Estimate Std. Error t value Pr(>|t|)    \n",
       "(Intercept)                          91654      18688   4.904 9.58e-07 ***\n",
       "meteorite_train_data$lc_sample_12   -91560    1558946  -0.059    0.953    \n",
       "---\n",
       "Signif. codes:  0 ‘***’ 0.001 ‘**’ 0.01 ‘*’ 0.05 ‘.’ 0.1 ‘ ’ 1\n",
       "\n",
       "Residual standard error: 1559000 on 6957 degrees of freedom\n",
       "Multiple R-squared:  4.958e-07,\tAdjusted R-squared:  -0.0001432 \n",
       "F-statistic: 0.003449 on 1 and 6957 DF,  p-value: 0.9532\n"
      ]
     },
     "metadata": {},
     "output_type": "display_data"
    }
   ],
   "source": [
    "fit = lm(meteorite_train_data$mass ~ meteorite_train_data$lc_sample_12)\n",
    "summary(fit)"
   ]
  },
  {
   "cell_type": "code",
   "execution_count": 134,
   "metadata": {},
   "outputs": [
    {
     "data": {
      "text/plain": [
       "\n",
       "Call:\n",
       "lm(formula = meteorite_train_data$mass ~ meteorite_train_data$lc_sample_13)\n",
       "\n",
       "Residuals:\n",
       "     Min       1Q   Median       3Q      Max \n",
       " -101255   -91027   -89250   -80567 59908633 \n",
       "\n",
       "Coefficients:\n",
       "                                  Estimate Std. Error t value Pr(>|t|)    \n",
       "(Intercept)                          91367      18950   4.822 1.45e-06 ***\n",
       "meteorite_train_data$lc_sample_13     9890     114084   0.087    0.931    \n",
       "---\n",
       "Signif. codes:  0 ‘***’ 0.001 ‘**’ 0.01 ‘*’ 0.05 ‘.’ 0.1 ‘ ’ 1\n",
       "\n",
       "Residual standard error: 1559000 on 6957 degrees of freedom\n",
       "Multiple R-squared:  1.08e-06,\tAdjusted R-squared:  -0.0001427 \n",
       "F-statistic: 0.007516 on 1 and 6957 DF,  p-value: 0.9309\n"
      ]
     },
     "metadata": {},
     "output_type": "display_data"
    }
   ],
   "source": [
    "fit = lm(meteorite_train_data$mass ~ meteorite_train_data$lc_sample_13)\n",
    "summary(fit)"
   ]
  },
  {
   "cell_type": "code",
   "execution_count": 135,
   "metadata": {},
   "outputs": [
    {
     "data": {
      "text/plain": [
       "\n",
       "Call:\n",
       "lm(formula = meteorite_train_data$mass ~ meteorite_train_data$lc_sample_14)\n",
       "\n",
       "Residuals:\n",
       "     Min       1Q   Median       3Q      Max \n",
       "  -99076   -90824   -89027   -80344 59908856 \n",
       "\n",
       "Coefficients:\n",
       "                                  Estimate Std. Error t value Pr(>|t|)    \n",
       "(Intercept)                          91144      19299   4.723 2.37e-06 ***\n",
       "meteorite_train_data$lc_sample_14     7934      77192   0.103    0.918    \n",
       "---\n",
       "Signif. codes:  0 ‘***’ 0.001 ‘**’ 0.01 ‘*’ 0.05 ‘.’ 0.1 ‘ ’ 1\n",
       "\n",
       "Residual standard error: 1559000 on 6957 degrees of freedom\n",
       "Multiple R-squared:  1.519e-06,\tAdjusted R-squared:  -0.0001422 \n",
       "F-statistic: 0.01057 on 1 and 6957 DF,  p-value: 0.9181\n"
      ]
     },
     "metadata": {},
     "output_type": "display_data"
    }
   ],
   "source": [
    "fit = lm(meteorite_train_data$mass ~ meteorite_train_data$lc_sample_14)\n",
    "summary(fit)"
   ]
  },
  {
   "cell_type": "code",
   "execution_count": 136,
   "metadata": {},
   "outputs": [
    {
     "data": {
      "text/plain": [
       "\n",
       "Call:\n",
       "lm(formula = meteorite_train_data$mass ~ meteorite_train_data$lc_sample_15)\n",
       "\n",
       "Residuals:\n",
       "     Min       1Q   Median       3Q      Max \n",
       "  -91653   -91286   -89383   -80812 59908347 \n",
       "\n",
       "Coefficients:\n",
       "                                  Estimate Std. Error t value Pr(>|t|)    \n",
       "(Intercept)                          91654      18688   4.904 9.58e-07 ***\n",
       "meteorite_train_data$lc_sample_15   -91532    1558946  -0.059    0.953    \n",
       "---\n",
       "Signif. codes:  0 ‘***’ 0.001 ‘**’ 0.01 ‘*’ 0.05 ‘.’ 0.1 ‘ ’ 1\n",
       "\n",
       "Residual standard error: 1559000 on 6957 degrees of freedom\n",
       "Multiple R-squared:  4.955e-07,\tAdjusted R-squared:  -0.0001432 \n",
       "F-statistic: 0.003447 on 1 and 6957 DF,  p-value: 0.9532\n"
      ]
     },
     "metadata": {},
     "output_type": "display_data"
    }
   ],
   "source": [
    "fit = lm(meteorite_train_data$mass ~ meteorite_train_data$lc_sample_15)\n",
    "summary(fit)"
   ]
  },
  {
   "cell_type": "code",
   "execution_count": 137,
   "metadata": {},
   "outputs": [
    {
     "data": {
      "text/plain": [
       "\n",
       "Call:\n",
       "lm(formula = meteorite_train_data$mass ~ meteorite_train_data$lc_sample_16)\n",
       "\n",
       "Residuals:\n",
       "     Min       1Q   Median       3Q      Max \n",
       "  -91971   -91604   -89671   -80671 59908029 \n",
       "\n",
       "Coefficients:\n",
       "                                  Estimate Std. Error t value Pr(>|t|)    \n",
       "(Intercept)                          91971      18727   4.911 9.26e-07 ***\n",
       "meteorite_train_data$lc_sample_16   -76776     285217  -0.269    0.788    \n",
       "---\n",
       "Signif. codes:  0 ‘***’ 0.001 ‘**’ 0.01 ‘*’ 0.05 ‘.’ 0.1 ‘ ’ 1\n",
       "\n",
       "Residual standard error: 1559000 on 6957 degrees of freedom\n",
       "Multiple R-squared:  1.042e-05,\tAdjusted R-squared:  -0.0001333 \n",
       "F-statistic: 0.07246 on 1 and 6957 DF,  p-value: 0.7878\n"
      ]
     },
     "metadata": {},
     "output_type": "display_data"
    }
   ],
   "source": [
    "fit = lm(meteorite_train_data$mass ~ meteorite_train_data$lc_sample_16)\n",
    "summary(fit)"
   ]
  },
  {
   "cell_type": "code",
   "execution_count": 138,
   "metadata": {},
   "outputs": [
    {
     "data": {
      "text/plain": [
       "\n",
       "Call:\n",
       "lm(formula = meteorite_train_data$mass ~ meteorite_train_data$lc_sample_17)\n",
       "\n",
       "Residuals:\n",
       "     Min       1Q   Median       3Q      Max \n",
       "  -91715   -91348   -89445   -80715 59908285 \n",
       "\n",
       "Coefficients:\n",
       "                                  Estimate Std. Error t value Pr(>|t|)    \n",
       "(Intercept)                          91715      18694   4.906 9.51e-07 ***\n",
       "meteorite_train_data$lc_sample_17   -86793     636665  -0.136    0.892    \n",
       "---\n",
       "Signif. codes:  0 ‘***’ 0.001 ‘**’ 0.01 ‘*’ 0.05 ‘.’ 0.1 ‘ ’ 1\n",
       "\n",
       "Residual standard error: 1559000 on 6957 degrees of freedom\n",
       "Multiple R-squared:  2.671e-06,\tAdjusted R-squared:  -0.0001411 \n",
       "F-statistic: 0.01858 on 1 and 6957 DF,  p-value: 0.8916\n"
      ]
     },
     "metadata": {},
     "output_type": "display_data"
    }
   ],
   "source": [
    "fit = lm(meteorite_train_data$mass ~ meteorite_train_data$lc_sample_17)\n",
    "summary(fit)"
   ]
  },
  {
   "cell_type": "code",
   "execution_count": 139,
   "metadata": {},
   "outputs": [
    {
     "data": {
      "text/plain": [
       "\n",
       "Call:\n",
       "lm(formula = meteorite_train_data$mass ~ meteorite_train_data$lc_sample_18)\n",
       "\n",
       "Residuals:\n",
       "     Min       1Q   Median       3Q      Max \n",
       "  -91684   -91317   -89414   -80843 59908316 \n",
       "\n",
       "Coefficients:\n",
       "                                  Estimate Std. Error t value Pr(>|t|)    \n",
       "(Intercept)                          91684      18692   4.905 9.55e-07 ***\n",
       "meteorite_train_data$lc_sample_18   -76501     779641  -0.098    0.922    \n",
       "---\n",
       "Signif. codes:  0 ‘***’ 0.001 ‘**’ 0.01 ‘*’ 0.05 ‘.’ 0.1 ‘ ’ 1\n",
       "\n",
       "Residual standard error: 1559000 on 6957 degrees of freedom\n",
       "Multiple R-squared:  1.384e-06,\tAdjusted R-squared:  -0.0001424 \n",
       "F-statistic: 0.009628 on 1 and 6957 DF,  p-value: 0.9218\n"
      ]
     },
     "metadata": {},
     "output_type": "display_data"
    }
   ],
   "source": [
    "fit = lm(meteorite_train_data$mass ~ meteorite_train_data$lc_sample_18)\n",
    "summary(fit)"
   ]
  },
  {
   "cell_type": "code",
   "execution_count": null,
   "metadata": {},
   "outputs": [],
   "source": [
    "# Interestingly, there was a significant correlation between mass and if a meteorite was found \n",
    "# in landcovers 0 or 2, but no others.  0 = water bodies. 2 = pastureland."
   ]
  }
 ],
 "metadata": {
  "kernelspec": {
   "display_name": "R",
   "language": "R",
   "name": "ir"
  },
  "language_info": {
   "codemirror_mode": "r",
   "file_extension": ".r",
   "mimetype": "text/x-r-source",
   "name": "R",
   "pygments_lexer": "r",
   "version": "3.4.0"
  }
 },
 "nbformat": 4,
 "nbformat_minor": 5
}
