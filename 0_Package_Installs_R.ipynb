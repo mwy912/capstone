{
 "cells": [
  {
   "cell_type": "raw",
   "id": "administrative-share",
   "metadata": {},
   "source": [
    "Installing R packages"
   ]
  },
  {
   "cell_type": "code",
   "execution_count": 1,
   "id": "known-torture",
   "metadata": {},
   "outputs": [
    {
     "name": "stderr",
     "output_type": "stream",
     "text": [
      "Installing package into ‘/Volumes/Marble/Users/mwy/Library/R/4.0/library’\n",
      "(as ‘lib’ is unspecified)\n",
      "\n",
      "also installing the dependencies ‘data.table’, ‘ids’, ‘broom’, ‘cli’, ‘dbplyr’, ‘dtplyr’, ‘googledrive’, ‘googlesheets4’, ‘hms’, ‘magrittr’, ‘pillar’, ‘reprex’, ‘rstudioapi’, ‘tibble’\n",
      "\n",
      "\n"
     ]
    },
    {
     "name": "stdout",
     "output_type": "stream",
     "text": [
      "\n",
      "  There is a binary version available but the source version is later:\n",
      "          binary source needs_compilation\n",
      "tidyverse  1.3.0  1.3.1             FALSE\n",
      "\n",
      "\n",
      "The downloaded binary packages are in\n",
      "\t/var/folders/h5/kr39x19d7qq0zt0p7796y40w0000gn/T//RtmpgIGdkg/downloaded_packages\n"
     ]
    },
    {
     "name": "stderr",
     "output_type": "stream",
     "text": [
      "installing the source package ‘tidyverse’\n",
      "\n",
      "\n"
     ]
    }
   ],
   "source": [
    "install.packages(\"tidyverse\")"
   ]
  },
  {
   "cell_type": "code",
   "execution_count": 2,
   "id": "martial-springfield",
   "metadata": {},
   "outputs": [
    {
     "name": "stderr",
     "output_type": "stream",
     "text": [
      "Installing packages into ‘/Volumes/Marble/Users/mwy/Library/R/4.0/library’\n",
      "(as ‘lib’ is unspecified)\n",
      "\n",
      "Warning message:\n",
      "“package ‘libwgeom’ is not available for this version of R\n",
      "\n",
      "A version of this package for your version of R might be available elsewhere,\n",
      "see the ideas at\n",
      "https://cran.r-project.org/doc/manuals/r-patched/R-admin.html#Installing-packages”\n"
     ]
    },
    {
     "name": "stdout",
     "output_type": "stream",
     "text": [
      "\n",
      "The downloaded binary packages are in\n",
      "\t/var/folders/h5/kr39x19d7qq0zt0p7796y40w0000gn/T//RtmpgIGdkg/downloaded_packages\n"
     ]
    }
   ],
   "source": [
    "install.packages(c(\"cowplot\",\n",
    "                   \"googleway\",\n",
    "                   \"ggplot2\", \n",
    "                   \"ggrepel\", \n",
    "                   \"ggspatial\", \n",
    "                   \"libwgeom\", \n",
    "                   \"sf\", \n",
    "                   \"rnaturalearth\", \n",
    "                   \"rnaturalearthdata\"))"
   ]
  },
  {
   "cell_type": "code",
   "execution_count": 3,
   "id": "legitimate-charleston",
   "metadata": {},
   "outputs": [
    {
     "name": "stderr",
     "output_type": "stream",
     "text": [
      "Installing package into ‘/Volumes/Marble/Users/mwy/Library/R/4.0/library’\n",
      "(as ‘lib’ is unspecified)\n",
      "\n"
     ]
    },
    {
     "name": "stdout",
     "output_type": "stream",
     "text": [
      "\n",
      "The downloaded binary packages are in\n",
      "\t/var/folders/h5/kr39x19d7qq0zt0p7796y40w0000gn/T//RtmpgIGdkg/downloaded_packages\n"
     ]
    }
   ],
   "source": [
    "install.packages('sp')"
   ]
  },
  {
   "cell_type": "code",
   "execution_count": 4,
   "id": "numerical-detroit",
   "metadata": {},
   "outputs": [
    {
     "name": "stderr",
     "output_type": "stream",
     "text": [
      "Installing package into ‘/Volumes/Marble/Users/mwy/Library/R/4.0/library’\n",
      "(as ‘lib’ is unspecified)\n",
      "\n"
     ]
    },
    {
     "name": "stdout",
     "output_type": "stream",
     "text": [
      "\n",
      "The downloaded binary packages are in\n",
      "\t/var/folders/h5/kr39x19d7qq0zt0p7796y40w0000gn/T//RtmpgIGdkg/downloaded_packages\n"
     ]
    }
   ],
   "source": [
    "install.packages('rgeos')"
   ]
  },
  {
   "cell_type": "code",
   "execution_count": 5,
   "id": "outdoor-milan",
   "metadata": {},
   "outputs": [
    {
     "name": "stderr",
     "output_type": "stream",
     "text": [
      "Installing package into ‘/Volumes/Marble/Users/mwy/Library/R/4.0/library’\n",
      "(as ‘lib’ is unspecified)\n",
      "\n"
     ]
    },
    {
     "name": "stdout",
     "output_type": "stream",
     "text": [
      "\n",
      "The downloaded binary packages are in\n",
      "\t/var/folders/h5/kr39x19d7qq0zt0p7796y40w0000gn/T//RtmpgIGdkg/downloaded_packages\n"
     ]
    }
   ],
   "source": [
    "install.packages('rsvg')"
   ]
  },
  {
   "cell_type": "code",
   "execution_count": null,
   "id": "incoming-church",
   "metadata": {},
   "outputs": [],
   "source": []
  }
 ],
 "metadata": {
  "kernelspec": {
   "display_name": "R",
   "language": "R",
   "name": "ir"
  },
  "language_info": {
   "codemirror_mode": "r",
   "file_extension": ".r",
   "mimetype": "text/x-r-source",
   "name": "R",
   "pygments_lexer": "r",
   "version": "4.0.4"
  }
 },
 "nbformat": 4,
 "nbformat_minor": 5
}
